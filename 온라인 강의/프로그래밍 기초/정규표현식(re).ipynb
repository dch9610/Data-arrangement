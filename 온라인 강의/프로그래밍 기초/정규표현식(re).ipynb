{
 "cells": [
  {
   "cell_type": "markdown",
   "id": "640e980b-9bb7-4eea-bc53-c70cc62d59a8",
   "metadata": {},
   "source": [
    "## 정규표현식\n",
    "- 특정한 패턴과 일치하는 문자열을 '검색', '치환', '제거' 하는 기능을 지원\n",
    "- ex) 이메일 형식 판별, 전화번호 형식 판별, 숫자로만 이루어진 문자열 등"
   ]
  },
  {
   "cell_type": "markdown",
   "id": "4b83e38d-b3ec-4140-824c-02c5d08d61a8",
   "metadata": {},
   "source": [
    "- raw string\n",
    "    - 문자열 앞에 r이 붙으면 해당 문자열이 구성된 그대로 문자열로 변환"
   ]
  },
  {
   "cell_type": "code",
   "execution_count": 1,
   "id": "03568da0-907c-4b51-93fa-345463479163",
   "metadata": {},
   "outputs": [
    {
     "name": "stdout",
     "output_type": "stream",
     "text": [
      "abcdef\n",
      "\n",
      "abcedf\\n\n"
     ]
    }
   ],
   "source": [
    "a = 'abcdef\\n'\n",
    "print(a)\n",
    "\n",
    "b = r'abcedf\\n'\n",
    "print(b)"
   ]
  },
  {
   "cell_type": "markdown",
   "id": "3b55d307-a7e2-46e2-b83a-5237d7f6cbfa",
   "metadata": {},
   "source": [
    "### 기본패턴\n",
    "- a, X, 9 등 문자 하나하나의 character들은 정확히 해당 문자와 일치\n",
    "- 몇몇 문자들에 대해서는 예외가 존재하는데, 이들은 특별한 의미로 사용됨\n",
    "    - . ^ $ * + ? {} [] \\ | ()\n",
    "    \n",
    "- . (마침표) : 어떤 한개의 character와 일치 (newline(엔터)제외) <br>\n",
    "- \\w : 문자 character와 일치 [a-zA-Z0-9]\n",
    "- \\s : 공백 문자와 일치\n",
    "- \\t, \\n, \\r : tab, newline, return\n",
    "- \\d : 숫자 character와 일치 [0-9]\n",
    "- ^ : 시작, $ : 끝 (각각 문자열의 시작과 끝을 의미)\n",
    "- \\가 붙으면 스페셜한 의미가 없어짐. 예를 들면 \\.는 .자체를 의미 \\\\는 \\를 의미"
   ]
  },
  {
   "cell_type": "markdown",
   "id": "aa650a6d-38e1-4f2d-aa57-0ef07a977556",
   "metadata": {},
   "source": [
    "### search method\n",
    "- 첫번째로 패턴을 찾으면 match 객체를 반환\n",
    "- 패턴을 찾지 못하면 None 반환"
   ]
  },
  {
   "cell_type": "code",
   "execution_count": 2,
   "id": "5b9bea08-2282-4193-9265-3b01a8964c54",
   "metadata": {},
   "outputs": [],
   "source": [
    "import re"
   ]
  },
  {
   "cell_type": "code",
   "execution_count": 7,
   "id": "89204563-144e-4d72-83cf-14ddc3602e04",
   "metadata": {},
   "outputs": [
    {
     "name": "stdout",
     "output_type": "stream",
     "text": [
      "3\n",
      "6\n",
      "abc\n"
     ]
    }
   ],
   "source": [
    "# r'abc' : 뒤에 나오는 문자열에 abc가 포함되는지 확인\n",
    "m = re.search(r'abc', '123abcdef')\n",
    "print(m.start()) # 포함이 시작된 인덱스 값\n",
    "print(m.end()) # 포함이 끝나는 인덱스 값\n",
    "print(m.group())"
   ]
  },
  {
   "cell_type": "code",
   "execution_count": 12,
   "id": "25e1b051-1173-4419-b75a-35378a01bd44",
   "metadata": {},
   "outputs": [
    {
     "name": "stdout",
     "output_type": "stream",
     "text": [
      "<re.Match object; span=(0, 4), match='112a'>\n"
     ]
    }
   ],
   "source": [
    "# 가장 먼저 나오는 숫자를 개수만큼 출력 (\\d)\n",
    "# 가장 먼저 나오는 문자를 개수만큼 출력 (\\w)\n",
    "d = re.search(r'\\d\\d\\d\\w','112abcdef119')\n",
    "print(d)"
   ]
  },
  {
   "cell_type": "code",
   "execution_count": 13,
   "id": "db60328b-fca5-475c-a744-18b07401acf9",
   "metadata": {},
   "outputs": [
    {
     "name": "stdout",
     "output_type": "stream",
     "text": [
      "<re.Match object; span=(1, 5), match='#$AB'>\n"
     ]
    }
   ],
   "source": [
    "# 어떠한 문자든지 개수만큼 출력 (.)\n",
    "n = re.search(r'..\\w\\w', '@#$ABCDabcd')\n",
    "print(n)"
   ]
  },
  {
   "cell_type": "markdown",
   "id": "7d29563d-7375-4fb3-b0d8-5a3517e59549",
   "metadata": {},
   "source": [
    "### metacharacters (메타 캐릭터)\n",
    "\n",
    "#### [] 문자들의 범위를 나타내기 위해 사용\n",
    "- [] 내부의 메타 캐릭터는 캐릭터 자체를 나타냄\n",
    "- [abck] : a or b or c or k\n",
    "- [abc.^] : a or b or c or . or ^\n",
    "- [a-d] : -와 함께 사용되면 해당 문자 사이의 범위에 속하는 문자 중 하나\n",
    "- [0-9] : 모든 숫자\n",
    "- [A-Z] : 모든 대문자\n",
    "- [a-z] : 모든 소문자\n",
    "- [a-zA-Z0-9] : 모든 알파벳 문자 및 숫자\n",
    "- [^0-9] : ^가 맨 앞에 사용되는 경우 해당 문자 패턴이 아닌것과 매칭"
   ]
  },
  {
   "cell_type": "code",
   "execution_count": 14,
   "id": "7199144b-a554-4742-9a87-455433ead11e",
   "metadata": {},
   "outputs": [
    {
     "name": "stdout",
     "output_type": "stream",
     "text": [
      "<re.Match object; span=(0, 3), match='cat'>\n"
     ]
    }
   ],
   "source": [
    "a = re.search(r'[cbm]at', 'cat') # cbm중 하나 ([]는 or이라고 생각하면 됨)\n",
    "print(a)"
   ]
  },
  {
   "cell_type": "code",
   "execution_count": 17,
   "id": "2e12b92f-443e-45ea-b58b-da5897560507",
   "metadata": {},
   "outputs": [
    {
     "data": {
      "text/plain": [
       "<re.Match object; span=(0, 5), match='6hhhh'>"
      ]
     },
     "execution_count": 17,
     "metadata": {},
     "output_type": "execute_result"
    }
   ],
   "source": [
    "re.search(r'[0-6]hhhh','6hhhh')"
   ]
  },
  {
   "cell_type": "code",
   "execution_count": 20,
   "id": "8fa981c5-7702-466b-87ad-98fa41209072",
   "metadata": {},
   "outputs": [
    {
     "data": {
      "text/plain": [
       "<re.Match object; span=(0, 5), match='^aron'>"
      ]
     },
     "execution_count": 20,
     "metadata": {},
     "output_type": "execute_result"
    }
   ],
   "source": [
    "re.search(r'[abc.^]aron','^aron')"
   ]
  },
  {
   "cell_type": "code",
   "execution_count": 23,
   "id": "081cc4a6-960a-45d4-bd2f-54c2454ee4b4",
   "metadata": {},
   "outputs": [],
   "source": [
    "re.search(r'[^abc]aron','baron') # [^]는 부정을 의미"
   ]
  },
  {
   "cell_type": "markdown",
   "id": "a7c1084c-a2c5-4e9b-92a7-561c5d0350cd",
   "metadata": {},
   "source": [
    "### \\\n",
    "1. 다른 문자와 함께 사용되어 특수한 의미를 지님\n",
    "    - \\d : 숫자를 [0-9]와 동일\n",
    "    - \\D : 숫자가 아닌 문자 [^0-9]와 동일\n",
    "    - \\s : 공백 문자 (띄어쓰기, 탭, 엔터 등)\n",
    "    - \\S : 공백이 아닌 문자\n",
    "    - \\w : 알파벳 대소문자, 숫자[0-9a-zA-Z]\n",
    "    - \\W : non alpha-numeric 문자 [^0-9a-zA-Z]와 동일\n",
    "2. 메타 캐릭터가 캐릭터 자체를 표현하도록 할 경우 사용\n",
    "    - \\\\ , \\\\\\"
   ]
  },
  {
   "cell_type": "code",
   "execution_count": 24,
   "id": "80b49850-7a15-4287-8dae-baf1aab6b5ab",
   "metadata": {},
   "outputs": [
    {
     "data": {
      "text/plain": [
       "<re.Match object; span=(5, 9), match=' and'>"
      ]
     },
     "execution_count": 24,
     "metadata": {},
     "output_type": "execute_result"
    }
   ],
   "source": [
    "re.search(r'\\sand','apple and banana') # \\s 공백 문자 출력"
   ]
  },
  {
   "cell_type": "code",
   "execution_count": 27,
   "id": "b6923999-66b4-4f5a-8542-aa245d4592cf",
   "metadata": {},
   "outputs": [
    {
     "data": {
      "text/plain": [
       "<re.Match object; span=(6, 10), match=',and'>"
      ]
     },
     "execution_count": 27,
     "metadata": {},
     "output_type": "execute_result"
    }
   ],
   "source": [
    "re.search(r'\\Sand','apple ,and banana') # \\S 공백이 아닌 문자 출력"
   ]
  },
  {
   "cell_type": "code",
   "execution_count": 28,
   "id": "a38f37b1-64b5-44f0-ba8b-493679a650f5",
   "metadata": {},
   "outputs": [
    {
     "data": {
      "text/plain": [
       "<re.Match object; span=(0, 4), match='.and'>"
      ]
     },
     "execution_count": 28,
     "metadata": {},
     "output_type": "execute_result"
    }
   ],
   "source": [
    "re.search(r'\\.and','.and') # \\를 사용하는 경우 . 자체를 표현하도록 함"
   ]
  },
  {
   "cell_type": "markdown",
   "id": "c4e3a393-115a-476f-8548-5c215b2ff9ea",
   "metadata": {},
   "source": [
    "### .\n",
    "- 모든 문자를 의미"
   ]
  },
  {
   "cell_type": "code",
   "execution_count": 29,
   "id": "8f56d605-6525-428b-a9c7-27f06fb2069c",
   "metadata": {},
   "outputs": [
    {
     "data": {
      "text/plain": [
       "<re.Match object; span=(0, 3), match='pig'>"
      ]
     },
     "execution_count": 29,
     "metadata": {},
     "output_type": "execute_result"
    }
   ],
   "source": [
    "re.search(r'p.g','pig')"
   ]
  },
  {
   "cell_type": "markdown",
   "id": "5a582d48-2147-4396-b68a-61694965ad15",
   "metadata": {},
   "source": [
    "### 반복 패턴\n",
    "- 패턴 뒤에 위치하는 *, +, ?는 해당 패턴이 반복적으로 존재하는지 검사\n",
    "    - '+' : 1번 이상의 패턴이 발생\n",
    "    - '*' : 0번 이상의 패턴이 발생\n",
    "    - '?' : 0 혹은 1번의 패턴이 발생\n",
    "- 반복 패턴의 경우 greedy하게 검색함, 즉 가능한 많은 부분이 매칭되도록 함\n",
    "    - ex) a[bcd]*b 패턴을 abcbdccb에서 검색하는 경우\n",
    "        - ab,abcb,abcbdccb 전부 가능하지만 최대한 많은 부분이 매칭된 abcbdccb가 검색된 패턴"
   ]
  },
  {
   "cell_type": "code",
   "execution_count": 30,
   "id": "1ae85dda-6d91-46e1-8a35-3320f28d6715",
   "metadata": {},
   "outputs": [
    {
     "data": {
      "text/plain": [
       "<re.Match object; span=(0, 8), match='abcbdccb'>"
      ]
     },
     "execution_count": 30,
     "metadata": {},
     "output_type": "execute_result"
    }
   ],
   "source": [
    "re.search(r'a[bcd]*b', 'abcbdccb')"
   ]
  },
  {
   "cell_type": "code",
   "execution_count": 31,
   "id": "0975c185-3ea3-483d-ab7a-891461a5610e",
   "metadata": {},
   "outputs": [
    {
     "data": {
      "text/plain": [
       "<re.Match object; span=(0, 6), match='banana'>"
      ]
     },
     "execution_count": 31,
     "metadata": {},
     "output_type": "execute_result"
    }
   ],
   "source": [
    "re.search(r'b\\w+a','banana')"
   ]
  },
  {
   "cell_type": "code",
   "execution_count": 32,
   "id": "4f910fd9-9539-4b15-8af7-77b66c103c3a",
   "metadata": {},
   "outputs": [
    {
     "data": {
      "text/plain": [
       "<re.Match object; span=(1, 3), match='ii'>"
      ]
     },
     "execution_count": 32,
     "metadata": {},
     "output_type": "execute_result"
    }
   ],
   "source": [
    "re.search(r'i+','piigiii')"
   ]
  },
  {
   "cell_type": "code",
   "execution_count": 36,
   "id": "7395b9b5-adc4-4698-be6e-6d2a67f02ed2",
   "metadata": {},
   "outputs": [],
   "source": [
    "re.search(r'pi+g','pg') # i가 한번 이상 안나왔기 때문에 검출 X"
   ]
  },
  {
   "cell_type": "code",
   "execution_count": 35,
   "id": "95004300-425f-47ff-b9e8-6641df48dcb4",
   "metadata": {},
   "outputs": [
    {
     "data": {
      "text/plain": [
       "<re.Match object; span=(0, 3), match='pig'>"
      ]
     },
     "execution_count": 35,
     "metadata": {},
     "output_type": "execute_result"
    }
   ],
   "source": [
    "re.search(r'pi*g','pig')"
   ]
  },
  {
   "cell_type": "code",
   "execution_count": 37,
   "id": "d16f7f6c-a4e5-4c69-86f0-dfba0e1267eb",
   "metadata": {},
   "outputs": [
    {
     "data": {
      "text/plain": [
       "<re.Match object; span=(0, 4), match='http'>"
      ]
     },
     "execution_count": 37,
     "metadata": {},
     "output_type": "execute_result"
    }
   ],
   "source": [
    "re.search(r'http?','http:://www.naver.com')"
   ]
  },
  {
   "cell_type": "markdown",
   "id": "6013adf1-f5b6-4313-a1a6-2fdbb6669fb4",
   "metadata": {},
   "source": [
    "### ^*, *$\n",
    "\n",
    "- ^ 문자열의 맨 앞부터 일치하는 경우 검색\n",
    "- $ 문자열의 맨 뒤부터 일치하는 경우 검색"
   ]
  },
  {
   "cell_type": "code",
   "execution_count": 38,
   "id": "758bc6c6-bdc2-467c-b782-3c4680e56c6c",
   "metadata": {},
   "outputs": [
    {
     "data": {
      "text/plain": [
       "<re.Match object; span=(2, 6), match='bana'>"
      ]
     },
     "execution_count": 38,
     "metadata": {},
     "output_type": "execute_result"
    }
   ],
   "source": [
    "re.search(r'b\\w+a', 'cabana') # b로 시작해서 어떠한 문자가 나오고 마지막은 1번이상 a가 나오는 경우"
   ]
  },
  {
   "cell_type": "code",
   "execution_count": 39,
   "id": "33625c67-e4ec-4605-9a25-0c6820541189",
   "metadata": {},
   "outputs": [],
   "source": [
    "re.search(r'^b\\w+a', 'cabana') # 제일 시작점이 b로 시작해야함"
   ]
  },
  {
   "cell_type": "code",
   "execution_count": 40,
   "id": "1bb4d8d9-13d1-4bce-b4d0-ffbdefa50c83",
   "metadata": {},
   "outputs": [
    {
     "data": {
      "text/plain": [
       "<re.Match object; span=(0, 5), match='bbana'>"
      ]
     },
     "execution_count": 40,
     "metadata": {},
     "output_type": "execute_result"
    }
   ],
   "source": [
    "re.search(r'^b\\w+a', 'bbana')"
   ]
  },
  {
   "cell_type": "code",
   "execution_count": 43,
   "id": "fd658dc8-19be-4aea-a15b-0b121889f19b",
   "metadata": {},
   "outputs": [],
   "source": [
    "re.search(r'b\\w+a$','cabanap') # 문자열 끝이 a로 끝나야함"
   ]
  },
  {
   "cell_type": "code",
   "execution_count": 44,
   "id": "26a1bff6-690c-4132-9832-89c4b70f5d87",
   "metadata": {},
   "outputs": [
    {
     "data": {
      "text/plain": [
       "<re.Match object; span=(2, 6), match='bana'>"
      ]
     },
     "execution_count": 44,
     "metadata": {},
     "output_type": "execute_result"
    }
   ],
   "source": [
    "re.search(r'b\\w+a$','cabana')"
   ]
  },
  {
   "cell_type": "markdown",
   "id": "50c0001a-ead6-47d9-9d47-c7f7b3d1b8a9",
   "metadata": {},
   "source": [
    "### grouping\n",
    "- ()을 사용하여 그루핑\n",
    "- 매칭 결과를 각 그룹별로 분리 가능\n",
    "- 패턴 명시 할 때, 각 그룹을 괄호()안에 넣어 분리하여 사용"
   ]
  },
  {
   "cell_type": "code",
   "execution_count": 49,
   "id": "3dfd2e07-d874-4ccf-b326-c4669b89cc2a",
   "metadata": {},
   "outputs": [
    {
     "data": {
      "text/plain": [
       "'test'"
      ]
     },
     "execution_count": 49,
     "metadata": {},
     "output_type": "execute_result"
    }
   ],
   "source": [
    "m = re.search(r'(\\w+)@(.+)','test@gmail.com') # ()로 그룹핑할 수 있음\n",
    "m.group(1) # 1번 번호부터 시작"
   ]
  },
  {
   "cell_type": "markdown",
   "id": "27e1f174-470e-4b23-ab00-125ee66d1cec",
   "metadata": {},
   "source": [
    "### {}\n",
    "- *, +, ?를 사용하여 반복적인 패턴을 찾는 것이 가능하나, 반복의 횟수 제한은 불가\n",
    "- 패턴 뒤에 위치하는 중괄호{}에 숫자를 명시하면 해당 숫자만큼의 반복인 경우에만 매칭\n",
    "- {4} : 4번 반복\n",
    "- {3,4} : 3~4번 반복"
   ]
  },
  {
   "cell_type": "code",
   "execution_count": 51,
   "id": "9b5966ec-18f0-4db8-ab20-604ffe3f023c",
   "metadata": {},
   "outputs": [
    {
     "data": {
      "text/plain": [
       "<re.Match object; span=(0, 5), match='piiig'>"
      ]
     },
     "execution_count": 51,
     "metadata": {},
     "output_type": "execute_result"
    }
   ],
   "source": [
    "re.search(r'pi{3,5}g', 'piiig')"
   ]
  },
  {
   "cell_type": "markdown",
   "id": "8859697d-2094-493a-94d3-e9d96f5355ca",
   "metadata": {},
   "source": [
    "### 미니멈 매칭 (non-greedy way)\n",
    "- 기본적으로 *, +,?를 사용하면 greedy(맥시멈 매칭)하게 동작함\n",
    "- *?. +?을 이용하여 해당 기능을 구현"
   ]
  },
  {
   "cell_type": "code",
   "execution_count": 52,
   "id": "60b30cdd-bfaa-4167-89ff-d617f5aad33f",
   "metadata": {},
   "outputs": [
    {
     "data": {
      "text/plain": [
       "<re.Match object; span=(0, 17), match='<html>haha</html>'>"
      ]
     },
     "execution_count": 52,
     "metadata": {},
     "output_type": "execute_result"
    }
   ],
   "source": [
    "re.search(r'<.+>','<html>haha</html>')"
   ]
  },
  {
   "cell_type": "code",
   "execution_count": 53,
   "id": "713c9ed3-195f-4cc5-a26c-3216437fc66b",
   "metadata": {},
   "outputs": [
    {
     "data": {
      "text/plain": [
       "<re.Match object; span=(0, 6), match='<html>'>"
      ]
     },
     "execution_count": 53,
     "metadata": {},
     "output_type": "execute_result"
    }
   ],
   "source": [
    "re.search(r'<.+?>','<html>haha</html>') # 최소한 매칭 되는것을 찾음"
   ]
  },
  {
   "cell_type": "markdown",
   "id": "a0129883-6c06-4245-aeb6-ae3ebfa6a181",
   "metadata": {},
   "source": [
    "### {}?\n",
    "- {m,n}의 경우 m번에서 n번 반복하나 greedy하게 동작\n",
    "- {m,n}?로 사용하면 non-greedy하게 동작. 즉 최소 m번만 매칭하면 만족"
   ]
  },
  {
   "cell_type": "code",
   "execution_count": 56,
   "id": "69390dd2-edd4-4e94-9993-0ec8e6eef92b",
   "metadata": {},
   "outputs": [
    {
     "data": {
      "text/plain": [
       "<re.Match object; span=(0, 5), match='aaaaa'>"
      ]
     },
     "execution_count": 56,
     "metadata": {},
     "output_type": "execute_result"
    }
   ],
   "source": [
    "re.search(r'a{3,5}','aaaaa')"
   ]
  },
  {
   "cell_type": "code",
   "execution_count": 58,
   "id": "8d1b8776-3906-4d6f-a18f-9758c678dffa",
   "metadata": {},
   "outputs": [
    {
     "data": {
      "text/plain": [
       "<re.Match object; span=(0, 3), match='aaa'>"
      ]
     },
     "execution_count": 58,
     "metadata": {},
     "output_type": "execute_result"
    }
   ],
   "source": [
    "re.search(r'a{3,5}?','aaaaa')"
   ]
  },
  {
   "cell_type": "markdown",
   "id": "fa1dccdc-7896-4e67-8bfa-434a704ff393",
   "metadata": {},
   "source": [
    "### match\n",
    "- search와 유사하나, 주어진 문자열의 시작부터 비교하여 패턴이 있는지 확인\n",
    "- 시작부터 해당 패턴이 존재하지 않다면 None 반환"
   ]
  },
  {
   "cell_type": "code",
   "execution_count": 59,
   "id": "380c8734-a8c8-4555-9fb4-a1d1e95a6926",
   "metadata": {},
   "outputs": [],
   "source": [
    "re.match(r'\\d\\d\\d','my number is 123') # 문자열 시작부터 패턴이 맞지않아 출력하지 않음"
   ]
  },
  {
   "cell_type": "code",
   "execution_count": 60,
   "id": "d92d15ba-6f96-41a7-9cf9-240536c252c4",
   "metadata": {},
   "outputs": [
    {
     "data": {
      "text/plain": [
       "<re.Match object; span=(0, 3), match='123'>"
      ]
     },
     "execution_count": 60,
     "metadata": {},
     "output_type": "execute_result"
    }
   ],
   "source": [
    "re.match(r'\\d\\d\\d','123 my number is')"
   ]
  },
  {
   "cell_type": "code",
   "execution_count": 61,
   "id": "9302b9fc-6e44-4d2e-bc1c-bf39be6035e0",
   "metadata": {},
   "outputs": [
    {
     "data": {
      "text/plain": [
       "<re.Match object; span=(0, 3), match='123'>"
      ]
     },
     "execution_count": 61,
     "metadata": {},
     "output_type": "execute_result"
    }
   ],
   "source": [
    "re.search(r'^\\d\\d\\d','123 is my number')"
   ]
  },
  {
   "cell_type": "markdown",
   "id": "381d42d8-b127-4eca-9042-86578e05ce49",
   "metadata": {},
   "source": [
    "### findall\n",
    "- search가 최초로 매칭되는 패턴만 반환한다면, findall은 매칭되는 전체의 패턴을 반환\n",
    "- 매칭되는 모든 결과를 리스트 형태로 전환"
   ]
  },
  {
   "cell_type": "code",
   "execution_count": 62,
   "id": "5dd46a52-9407-4ffc-8098-5e758f3e7e96",
   "metadata": {},
   "outputs": [
    {
     "data": {
      "text/plain": [
       "['test@gmail.com', 'test2@gmail.com']"
      ]
     },
     "execution_count": 62,
     "metadata": {},
     "output_type": "execute_result"
    }
   ],
   "source": [
    "re.findall(r'[\\w-]+@[\\w.]+','test@gmail.com haha test2@gmail.com nice test test')"
   ]
  },
  {
   "cell_type": "markdown",
   "id": "782c7e6c-5182-45ab-a96d-5be3acbaf360",
   "metadata": {},
   "source": [
    "### sub \n",
    "- 주어진 문자열에서 일치하는 모드 패턴을 replace\n",
    "- 그 결과를 문자열로 다시 반환함\n",
    "- 두번째 인자는 특정 문자열이 될 수도 있고, 함수가 될 수도 있음\n",
    "- count가 0인 경우는 전체를, 1 이상이면 해당 숫자만큼 치환됨"
   ]
  },
  {
   "cell_type": "code",
   "execution_count": 81,
   "id": "497f8005-2ff1-4200-bc3c-43831146f9a8",
   "metadata": {},
   "outputs": [
    {
     "data": {
      "text/plain": [
       "'great haha test2@gmail.com nice test test'"
      ]
     },
     "execution_count": 81,
     "metadata": {},
     "output_type": "execute_result"
    }
   ],
   "source": [
    "# 지정한 패턴을 2번째 인자로 바꾸어 출력\n",
    "re.sub(r'[\\w-]+@[\\w.]+', 'great', 'test@gmail.com haha test2@gmail.com nice test test', count=1) # count는 해당 숫자만큼만 바꾸게됨"
   ]
  },
  {
   "cell_type": "markdown",
   "id": "fc9939c0-70c1-4a05-8201-2dfbdef90132",
   "metadata": {},
   "source": [
    "### compile\n",
    "- 동일한 정규표현식을 매번 다시 쓰기 번거러움을 해결\n",
    "- compile로 해당 표현식을 re.RegexObject 객체로 저장하여 사용가능"
   ]
  },
  {
   "cell_type": "code",
   "execution_count": 68,
   "id": "0cae8594-a0ac-477e-a696-332b3142bb67",
   "metadata": {},
   "outputs": [
    {
     "data": {
      "text/plain": [
       "<re.Match object; span=(0, 10), match='test@gmail'>"
      ]
     },
     "execution_count": 68,
     "metadata": {},
     "output_type": "execute_result"
    }
   ],
   "source": [
    "email_reg = re.compile(r'[\\w-]+@[\\w]+')\n",
    "email_reg.search('test@gmail.com haha good')"
   ]
  },
  {
   "cell_type": "markdown",
   "id": "49d8e4aa-468c-4385-95b7-fe85be09f234",
   "metadata": {},
   "source": [
    "### 연습문제\n",
    "- 아래 뉴스에서 이메일 주소를 추출해 보세요\n",
    "- 다음 중 올바른(http, https) 웹페이지만 찾으시오"
   ]
  },
  {
   "cell_type": "code",
   "execution_count": 70,
   "id": "e8292eb1-d7fb-45d0-aaa6-171a85fa106d",
   "metadata": {},
   "outputs": [
    {
     "name": "stdout",
     "output_type": "stream",
     "text": [
      "(로스앤젤레스=연합뉴스) 옥철 특파원 = 팀 쿡 애플 최고경영자(CEO)가 16일(현지시간) 실리콘밸리 앞마당 격인 미국 서부 명문 스탠퍼드대학 학위수여식에서 테크기업들을 향해 쓴소리를 쏟아냈다.쿡은 이날 연설에서 실리콘밸리 테크기업들은 자신들이 만든 혼란에 대한 책임을 질 필요가 있다고 경고했다.근래 IT 업계의 가장 큰 이슈인 개인정보 침해, 사생활 보호 문제를 콕 집어 라이벌인 구글, 페이스북 등 IT 공룡을 겨냥한 발언이라는 해석이 나왔다.쿡은 \"최근 실리콘밸리 산업은 고귀한 혁신과는 점점 더 거리가 멀어지는 것으로 알려져 있다. 책임을 받아들이지 않고도 신뢰를 얻을 수 있다는 그런 믿음 말이다\"라고 꼬집었다.개인정보 유출 사건으로 미 의회 청문회에 줄줄이 불려 나간 경쟁사 CEO들을 향해 일침을 가한 것으로 보인다.그는 또 실리콘밸리에서 희대의 사기극을 연출한 바이오벤처 스타트업 테라노스(Theranos)를 직격했다.쿡은 \"피 한 방울로 거짓된 기적을 만들 수 있다고 믿었느냐\"면서 \"이런 식으로 혼돈의 공장을 만든다면 그 책임에서 절대 벗어날 수 없다\"라고 비난했다.테라노스는 손가락 끝을 찔러 극미량의 혈액 샘플만 있으면 각종 의학정보 분석은 물론 거의 모든 질병 진단이 가능한 바이오헬스 기술을 개발했다고 속여 월가 큰손들로부터 거액의 투자를 유치했다가 해당 기술이 사기인 것으로 드러나 청산한 기업이다.쿡은 애플의 경우 프라이버시(사생활) 보호에 초점을 맞춘 새로운 제품 기능들로 경쟁사들에 맞서고 있다며 자사의 데이터 보호 정책을 은근히 홍보하기도 했다.oakchul@yna.co.kr저작권자(c)연합뉴스. 무단전재-재배포금지\n"
     ]
    }
   ],
   "source": [
    "import requests\n",
    "from bs4 import BeautifulSoup\n",
    "\n",
    "def get_news_content(url):\n",
    "    response = requests.get(url)\n",
    "    content = response.text\n",
    "    \n",
    "    soup = BeautifulSoup(content, 'html5lib')\n",
    "    \n",
    "    div = soup.find('div', attrs = {'id' : 'harmonyContainer'})\n",
    "    \n",
    "    content = ''\n",
    "    for paragraph in div.find_all('p'):\n",
    "        content += paragraph.get_text()\n",
    "        \n",
    "    return content\n",
    "\n",
    "new1 = get_news_content('https://news.v.daum.net/v/20190617073049838')\n",
    "print(new1)"
   ]
  },
  {
   "cell_type": "code",
   "execution_count": 102,
   "id": "1ccda612-666d-43a4-bad1-8896c4e4fd0b",
   "metadata": {},
   "outputs": [
    {
     "data": {
      "text/plain": [
       "<re.Match object; span=(774, 791), match='oakchul@yna.co.kr'>"
      ]
     },
     "execution_count": 102,
     "metadata": {},
     "output_type": "execute_result"
    }
   ],
   "source": [
    "email_reg = re.compile(r'(\\w+)@(.+r)')\n",
    "email_reg.search(new1)"
   ]
  },
  {
   "cell_type": "code",
   "execution_count": 111,
   "id": "aa71b2a8-fc3e-4594-b668-3bb0869f2e36",
   "metadata": {},
   "outputs": [
    {
     "data": {
      "text/plain": [
       "<re.Match object; span=(774, 791), match='oakchul@yna.co.kr'>"
      ]
     },
     "execution_count": 111,
     "metadata": {},
     "output_type": "execute_result"
    }
   ],
   "source": [
    "# 풀이\n",
    "email_reg = re.compile(r'[\\w-]+@[\\w.]+\\w+r')\n",
    "email_reg.search(new1)"
   ]
  },
  {
   "cell_type": "code",
   "execution_count": 115,
   "id": "2ac7664d-e0e1-4c31-9ddd-2cea6017df12",
   "metadata": {},
   "outputs": [],
   "source": [
    "webs = ['http://www.test.co.kr',\n",
    "        'https://www.test1.co.kr',\n",
    "        'ftp://www.test.co.kr',\n",
    "        'http:://www.test.co.kr',\n",
    "        'htp://www.test.co.kr',\n",
    "        'http://www.google.com',\n",
    "        'https://www.homepage.com.']"
   ]
  },
  {
   "cell_type": "code",
   "execution_count": 116,
   "id": "212d12dd-64f6-4b1a-b1fa-2cdba6588d29",
   "metadata": {},
   "outputs": [
    {
     "data": {
      "text/plain": [
       "[True, True, False, False, False, True, False]"
      ]
     },
     "execution_count": 116,
     "metadata": {},
     "output_type": "execute_result"
    }
   ],
   "source": [
    "# http로 시작되고 s는 포함하거나 안하거나 :// 문자로 시작하고 반복 .으로 끝날수 있으니 \\w+$문자로 반복하여 끝나게함\n",
    "web_reg = re.compile(r'https?://[\\w.]+\\w+$')\n",
    "\n",
    "list(map(lambda w:web_reg.search(w) != None, webs))"
   ]
  }
 ],
 "metadata": {
  "kernelspec": {
   "display_name": "Python 3",
   "language": "python",
   "name": "python3"
  },
  "language_info": {
   "codemirror_mode": {
    "name": "ipython",
    "version": 3
   },
   "file_extension": ".py",
   "mimetype": "text/x-python",
   "name": "python",
   "nbconvert_exporter": "python",
   "pygments_lexer": "ipython3",
   "version": "3.8.8"
  }
 },
 "nbformat": 4,
 "nbformat_minor": 5
}
