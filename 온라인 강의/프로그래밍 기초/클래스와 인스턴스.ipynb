{
 "cells": [
  {
   "cell_type": "markdown",
   "id": "07abc1ad-4c94-4bd3-9106-1f9947fb160d",
   "metadata": {},
   "source": [
    "## Class란?"
   ]
  },
  {
   "cell_type": "markdown",
   "id": "e59f2939-0aec-4164-8854-253eaf330d10",
   "metadata": {},
   "source": [
    "- 실세계의 것을 모델링하여 속성과 동작을 갖는 데이터 타입\n",
    "- 다루고자 하는 데이터(변수)와 데이터를 다루는 연산(함수)를 하나로 캡슐화하여 클래스로 표현\n",
    "- 모델링에서 중요시 하는 속성에 따라 클래스의 속성과 행동이 달라짐"
   ]
  },
  {
   "cell_type": "code",
   "execution_count": 2,
   "id": "52bfcf3a-e32a-4731-a436-b861ef1d41dd",
   "metadata": {},
   "outputs": [
    {
     "data": {
      "text/plain": [
       "[1, 2, 3, 4, 5]"
      ]
     },
     "execution_count": 2,
     "metadata": {},
     "output_type": "execute_result"
    }
   ],
   "source": [
    "a = [1,2,3,4]\n",
    "a.append(5)\n",
    "a"
   ]
  },
  {
   "cell_type": "markdown",
   "id": "76a846ef-2531-41a5-b424-c6bfaa1031ee",
   "metadata": {},
   "source": [
    "### class 선언하기\n",
    "- 객체를 생성하기 위해선 객체의 모체가 되는 class를 미리 선언해야 함"
   ]
  },
  {
   "cell_type": "code",
   "execution_count": 4,
   "id": "f7286b28-0bdb-4940-b353-c73abb87e634",
   "metadata": {},
   "outputs": [],
   "source": [
    "# pass 사용시 문법적 오류를 발생하지 않고 만들수 있음\n",
    "def test():\n",
    "    pass\n",
    "\n",
    "def test2():\n",
    "    pass"
   ]
  },
  {
   "cell_type": "code",
   "execution_count": 5,
   "id": "ace8a4f4-9d5e-442b-96ce-dce74fa31cc7",
   "metadata": {},
   "outputs": [],
   "source": [
    "class Person:\n",
    "    pass"
   ]
  },
  {
   "cell_type": "code",
   "execution_count": 6,
   "id": "477fa2b6-2548-4c64-8f30-4f2fec302204",
   "metadata": {},
   "outputs": [
    {
     "name": "stdout",
     "output_type": "stream",
     "text": [
      "<class '__main__.Person'> <class '__main__.Person'>\n",
      "<class 'list'> <class 'list'>\n"
     ]
    }
   ],
   "source": [
    "# 클래스 호출\n",
    "bob = Person()\n",
    "cathy = Person()\n",
    "\n",
    "a=list()\n",
    "b=list()\n",
    "\n",
    "print(type(bob),type(cathy))\n",
    "print(type(a),type(b))"
   ]
  },
  {
   "cell_type": "markdown",
   "id": "475d4e6e-fcdf-478a-87b3-ac753daf6087",
   "metadata": {},
   "source": [
    "### __init__(self)\n",
    "- 생성자, 클래스 인스턴스가 생성될떄 호출됨\n",
    "- self인자는 항상 첫번째에 오며 자기자신을 가리킴\n",
    "- 생성자에서는 해당 클래스가 다루는 데이터를 정의\n",
    "    - 이 데이터를 멤버 변수또는 속성이라고 함"
   ]
  },
  {
   "cell_type": "code",
   "execution_count": 12,
   "id": "958dd903-e478-4e37-823a-7a5c372a7ac2",
   "metadata": {},
   "outputs": [
    {
     "name": "stdout",
     "output_type": "stream",
     "text": [
      "<__main__.Person object at 0x000001FF3D669B80> is generated\n",
      "<__main__.Person object at 0x000001FF3D6695E0> is generated\n",
      "aaron Kate\n"
     ]
    }
   ],
   "source": [
    "class Person:\n",
    "    def __init__(self):\n",
    "        print(self, 'is generated')\n",
    "        self.name = 'Kate'\n",
    "        self.age = 10\n",
    "        \n",
    "p1 = Person()\n",
    "p2 = Person()\n",
    "\n",
    "# name 속성 변경가능\n",
    "p1.name = 'aaron'\n",
    "\n",
    "print(p1.name, p2.name)"
   ]
  },
  {
   "cell_type": "code",
   "execution_count": 20,
   "id": "2ef9681b-0e53-4356-bcfb-4741fe6dc453",
   "metadata": {},
   "outputs": [
    {
     "name": "stdout",
     "output_type": "stream",
     "text": [
      "Bob 30\n",
      "Kate 20\n",
      "CHG 10\n"
     ]
    }
   ],
   "source": [
    "# 동적으로 생성\n",
    "class Person:\n",
    "    def __init__(self,name,age=10):\n",
    "#        print(self, 'is generated')\n",
    "        self.name = name\n",
    "        self.age = age\n",
    "        \n",
    "p1 = Person('Bob',30)\n",
    "p2 = Person('Kate',20)\n",
    "p3 = Person('CHG')\n",
    "\n",
    "print(p1.name, p1.age)\n",
    "print(p2.name, p2.age)\n",
    "print(p3.name, p3.age)"
   ]
  },
  {
   "cell_type": "markdown",
   "id": "bf9b16cb-ce23-408e-8873-98719eb37349",
   "metadata": {},
   "source": [
    "### self\n",
    "- self는 현재 해당 메소드가 호출되는 객체 자신을 가리킴\n",
    "- C++/C#, Java의 this에 해당"
   ]
  },
  {
   "cell_type": "code",
   "execution_count": 29,
   "id": "4fe25605-3a1a-4c37-92be-2f2109388f4d",
   "metadata": {},
   "outputs": [
    {
     "name": "stdout",
     "output_type": "stream",
     "text": [
      "self: <__main__.Person object at 0x000001FF3D669E80>\n",
      "self: <__main__.Person object at 0x000001FF3D669BE0>\n",
      "<__main__.Person object at 0x000001FF3D669E80>\n",
      "<__main__.Person object at 0x000001FF3D669BE0>\n",
      "self: <__main__.Person object at 0x000001FF3D669E80>\n",
      "Bob 은 잠을 잡니다.\n",
      "self: <__main__.Person object at 0x000001FF3D669BE0>\n",
      "Kate 은 잠을 잡니다.\n"
     ]
    }
   ],
   "source": [
    "class Person:\n",
    "    def __init__(self,name,age=10):\n",
    "        print('self:',self)\n",
    "        self.name = name\n",
    "        self.age = age\n",
    "        \n",
    "    def sleep(self):\n",
    "        print('self:',self)\n",
    "        print(self.name, '은 잠을 잡니다.')\n",
    "    \n",
    "    \n",
    "p1 = Person('Bob',30)\n",
    "p2 = Person('Kate',20)\n",
    "\n",
    "print(p1)\n",
    "print(p2)\n",
    "\n",
    "p1.sleep()\n",
    "p2.sleep()"
   ]
  },
  {
   "cell_type": "markdown",
   "id": "dff9d507-fea1-4d27-b3db-c2c3b97201c4",
   "metadata": {},
   "source": [
    "### method 정의\n",
    "- 멤버함수라고도 하며, 해당 클래스의 object에서만 호출가능\n",
    "- 메소드는 객체 레벨에서 호출되며, 해당 객체의 속성에 대한 연산을 행함"
   ]
  },
  {
   "cell_type": "code",
   "execution_count": 36,
   "id": "20e828d9-8419-4f53-bb83-db377ecaf44d",
   "metadata": {},
   "outputs": [
    {
     "name": "stdout",
     "output_type": "stream",
     "text": [
      "현재값은: 0\n",
      "현재값은: 3\n",
      "현재값은: 0\n"
     ]
    }
   ],
   "source": [
    "# 1. 숫자를 하나씩 증가\n",
    "# 2. 숫자를 0으로 초기화\n",
    "\n",
    "class Counter:\n",
    "    def __init__(self):\n",
    "        self.num = 0\n",
    "        \n",
    "    def increment(self):\n",
    "        self.num += 1 # 1씩증가\n",
    "        \n",
    "    def reset(self):\n",
    "        self.num = 0 # 0으로 초기화\n",
    "        \n",
    "    def print_current_value(self):\n",
    "        print('현재값은:',self.num)\n",
    "    \n",
    "c1 = Counter()\n",
    "c1.print_current_value()\n",
    "c1.increment()\n",
    "c1.increment()\n",
    "c1.increment()\n",
    "c1.print_current_value()\n",
    "\n",
    "c1.reset()\n",
    "c1.print_current_value()"
   ]
  },
  {
   "cell_type": "markdown",
   "id": "cb5951ea-2f62-4edd-84ab-6a9a2a05dc37",
   "metadata": {},
   "source": [
    "### method type\n",
    "- instance method - 객체로 호출\n",
    "    - 메소드는 객체 레벨로 호출되기 때문에, 해당 메소드를 호출한 객체에만 영향을 미침\n",
    "    \n",
    "- class method(static method) : class로 호출\n",
    "    - 클래스 메소드의 경우, 클래스 레벨로 호출되기 때문에, 클래스 멤버 변수만 변경가능"
   ]
  },
  {
   "cell_type": "code",
   "execution_count": 37,
   "id": "08a28e40-7b65-455c-9529-d2c6a7d22e08",
   "metadata": {},
   "outputs": [
    {
     "data": {
      "text/plain": [
       "200"
      ]
     },
     "execution_count": 37,
     "metadata": {},
     "output_type": "execute_result"
    }
   ],
   "source": [
    "class Math:\n",
    "    # 전달된 데이터만 처리하는 경우 Static 메소드\n",
    "    @staticmethod\n",
    "    def add(a,b):\n",
    "        return a+b\n",
    "    \n",
    "    @staticmethod\n",
    "    def multiply(a,b):\n",
    "        return a*b\n",
    "\n",
    "    \n",
    "    \n",
    "# m = Method()\n",
    "# m.add(10,20) \n",
    "# m.multiply(10,20)\n",
    "\n",
    "Math.add(10,20)\n",
    "Math.multiply(10,20)"
   ]
  },
  {
   "cell_type": "markdown",
   "id": "eb9288ae-e6fb-4425-8301-29d734f6c167",
   "metadata": {},
   "source": [
    "### Class Inheritance(상속)\n",
    "- 기존의 정의해둔 클래스의 기능을 그대로 물려받을 수 있다.\n",
    "- 기존 클래스에 기능 일부를 추가하거나, 변경하여 새로운 클래스를 정의한다.\n",
    "- 코드를 재사용할 수 있게 된다."
   ]
  },
  {
   "cell_type": "code",
   "execution_count": 50,
   "id": "42c2c2be-d97b-4183-9cd1-f7278f2a7524",
   "metadata": {},
   "outputs": [
    {
     "name": "stdout",
     "output_type": "stream",
     "text": [
      "Bob은 BBQ를 먹습니다.\n",
      "Bob은 30초 동안 잡니다\n",
      "Bob은 20초 동안 일합니다.\n"
     ]
    }
   ],
   "source": [
    "# Person(부모 클래스)\n",
    "class Person:\n",
    "    def __init__(self, name, age):\n",
    "        self.name = name\n",
    "        self.age = age\n",
    "        \n",
    "    def eat(self,food):\n",
    "        print(f'{self.name}은 {food}를 먹습니다.')\n",
    "    \n",
    "    def sleep(self, minute):\n",
    "        print(f'{self.name}은 {minute}초 동안 잡니다')\n",
    "    \n",
    "    def work(self, minute):\n",
    "        print(f'{self.name}은 {minute}초 동안 일합니다.')\n",
    "\n",
    "# Person 클래스를 상속\n",
    "class Student(Person):\n",
    "    def __init__(self, name, age):\n",
    "        self.name = name\n",
    "        self.age = age\n",
    "        \n",
    "        \n",
    "class Employee(Person):\n",
    "    def __init__(self, name, age):\n",
    "        self.name = name\n",
    "        self.age = age\n",
    "\n",
    "bob = Employee('Bob',25)\n",
    "bob.eat('BBQ')\n",
    "bob.sleep(30)\n",
    "bob.work(20)\n"
   ]
  },
  {
   "cell_type": "markdown",
   "id": "e15d6fd6-de9a-4bc4-a57f-6c6ef46e878e",
   "metadata": {},
   "source": [
    "### method override\n",
    "- 부모 클래스의 method를 재정의(override)\n",
    "- 하위 클래스(자식클래스)의 인스턴스로 호출시, 재정의된 메소드가 호출됨"
   ]
  },
  {
   "cell_type": "code",
   "execution_count": 56,
   "id": "3de8b0f7-6761-4d56-bd2d-74908b206851",
   "metadata": {},
   "outputs": [
    {
     "name": "stdout",
     "output_type": "stream",
     "text": [
      "Bob은 BBQ를 먹습니다.\n",
      "Bob은 30분 동안 잡니다\n",
      "Bob은 20분 동안 업무를 합니다.\n"
     ]
    }
   ],
   "source": [
    "# Person(부모 클래스)\n",
    "class Person:\n",
    "    def __init__(self, name, age):\n",
    "        self.name = name\n",
    "        self.age = age\n",
    "        \n",
    "    def eat(self,food):\n",
    "        print(f'{self.name}은 {food}를 먹습니다.')\n",
    "    \n",
    "    def sleep(self, minute):\n",
    "        print(f'{self.name}은 {minute}분 동안 잡니다')\n",
    "        \n",
    "    def work(self, minute):\n",
    "        print(f'{self.name}은 {minute}분 동안 공부합니다.')    \n",
    "\n",
    "\n",
    "# Person 클래스를 상속\n",
    "class Student(Person):\n",
    "    def __init__(self, name, age):\n",
    "        self.name = name\n",
    "        self.age = age\n",
    "    \n",
    "    # 오버라이딩\n",
    "    def work(self, minute):\n",
    "        print(f'{self.name}은 {minute}분 동안 공부합니다.')\n",
    "        \n",
    "class Employee(Person):\n",
    "    def __init__(self, name, age):\n",
    "        self.name = name\n",
    "        self.age = age\n",
    "\n",
    "    def work(self, minute):\n",
    "        print(f'{self.name}은 {minute}분 동안 업무를 합니다.')\n",
    "        \n",
    "        \n",
    "bob = Employee('Bob',25)\n",
    "bob.eat('BBQ')\n",
    "bob.sleep(30)\n",
    "bob.work(20)"
   ]
  },
  {
   "cell_type": "markdown",
   "id": "c00d9c0e-1d49-4fbe-82fd-950f5532fc35",
   "metadata": {},
   "source": [
    "### super\n",
    "- 하위클래스에서 부모클래스의 method를 호출할 때 사용"
   ]
  },
  {
   "cell_type": "code",
   "execution_count": 57,
   "id": "c0f60738-e312-46fe-82a8-572f91ac974f",
   "metadata": {},
   "outputs": [
    {
     "name": "stdout",
     "output_type": "stream",
     "text": [
      "Bob은 BBQ를 먹습니다.\n",
      "Bob은 30분 동안 잡니다\n",
      "Bob은 20분 동안 준비를 합니다.\n",
      "Bob은 20분 동안 업무를 합니다.\n"
     ]
    }
   ],
   "source": [
    "# Person(부모 클래스)\n",
    "class Person:\n",
    "    def __init__(self, name, age):\n",
    "        self.name = name\n",
    "        self.age = age\n",
    "        \n",
    "    def eat(self,food):\n",
    "        print(f'{self.name}은 {food}를 먹습니다.')\n",
    "    \n",
    "    def sleep(self, minute):\n",
    "        print(f'{self.name}은 {minute}분 동안 잡니다')\n",
    "        \n",
    "    def work(self, minute):\n",
    "        print(f'{self.name}은 {minute}분 동안 준비를 합니다.')    \n",
    "\n",
    "\n",
    "# Person 클래스를 상속\n",
    "class Student(Person):\n",
    "    def __init__(self, name, age):\n",
    "        self.name = name\n",
    "        self.age = age\n",
    "    \n",
    "    # 오버라이딩\n",
    "    def work(self, minute):\n",
    "        # 부모클래스의 함수를 다시 부름\n",
    "        super().work(minute)\n",
    "        print(f'{self.name}은 {minute}분 동안 공부합니다.')\n",
    "        \n",
    "class Employee(Person):\n",
    "    def __init__(self, name, age):\n",
    "        self.name = name\n",
    "        self.age = age\n",
    "\n",
    "    def work(self, minute):\n",
    "        # 부모클래스의 함수를 다시 부름\n",
    "        super().work(minute)\n",
    "        print(f'{self.name}은 {minute}분 동안 업무를 합니다.')\n",
    "        \n",
    "bob = Employee('Bob',25)\n",
    "bob.eat('BBQ')\n",
    "bob.sleep(30)\n",
    "bob.work(20)"
   ]
  },
  {
   "cell_type": "markdown",
   "id": "b33cefba-33b9-4d69-8ab5-fc7de1be48a4",
   "metadata": {},
   "source": [
    "### special method\n",
    "- __로 시작 __로 끝나는 특수함수\n",
    "- 해당 메소드들을 구현하면, 커스텀 객체에 여러가지 파이썬 내장 함수나 연산자를 적용가능\n",
    "- 오버라이딩 가능한 함수 목록\n",
    "    - http://docs.python.org/3/reference/datamodel.html\n",
    "    - http://docs.python.org/3/reference/datamodel.html#object.__add__"
   ]
  },
  {
   "cell_type": "code",
   "execution_count": 89,
   "id": "bff0e975-6ce1-444b-8f8a-a9e3b52376fb",
   "metadata": {},
   "outputs": [],
   "source": [
    "# Point\n",
    "# 2차원 좌표평면 각 점 (x,y)\n",
    "# 연산\n",
    "# 두점의 덧셈, 뺄셈\n",
    "# 한점과 숫자의 곱셈\n",
    "# 그 점의 길이 (0,0)부터의 거리\n",
    "# x,y 값 가져오기"
   ]
  },
  {
   "cell_type": "code",
   "execution_count": 88,
   "id": "4d2e57c5-0cdd-45e0-8f00-cf95ccd26e99",
   "metadata": {},
   "outputs": [
    {
     "name": "stdout",
     "output_type": "stream",
     "text": [
      "(5,11)\n",
      "(1,-3)\n",
      "(9,12)\n",
      "25\n",
      "4\n"
     ]
    }
   ],
   "source": [
    "class Point:\n",
    "    def __init__(self, x, y):\n",
    "        self.x = x\n",
    "        self.y = y\n",
    "    \n",
    "    # 덧셈함수 오버라이딩\n",
    "    def __add__(self, pt):\n",
    "        new_x = self.x + pt.x \n",
    "        new_y = self.y + pt.y\n",
    "        return Point(new_x, new_y)\n",
    "    \n",
    "    # 뺄셈함수 오버라이딩\n",
    "    def __sub__(self, pt):\n",
    "        new_x = self.x - pt.x \n",
    "        new_y = self.y - pt.y\n",
    "        return Point(new_x, new_y)     \n",
    "    \n",
    "    # 곱셈함수 오버라이딩\n",
    "    def __mul__(self, factor):\n",
    "        new_x = self.x * factor \n",
    "        new_y = self.y * factor\n",
    "        return Point(new_x, new_y)  \n",
    "    \n",
    "    # 인덱싱값을 불러오는 함수 오버라이딩\n",
    "    def __getitem__(self, index):\n",
    "        if index == 0:\n",
    "            return self.x\n",
    "        elif index == 1:\n",
    "            return self.y\n",
    "        else:\n",
    "            return -1\n",
    "    \n",
    "    # 제곱의 합\n",
    "    def __len__(self):\n",
    "        return self.x ** 2 + self.y **2\n",
    "        \n",
    "    # 출력함수 오버라이딩\n",
    "    def __str__(self):\n",
    "        return f'({self.x},{self.y})'\n",
    "    \n",
    "p1 = Point(3, 4)\n",
    "p2 = Point(2, 7)\n",
    "p3 = p1+p2\n",
    "p4 = p1-p2\n",
    "p5 = p1*3\n",
    "\n",
    "# p3 = p1+p2\n",
    "\n",
    "\n",
    "\n",
    "# p1.print_pt()\n",
    "# p2.print_pt()\n",
    "\n",
    "print(p3)\n",
    "print(p4)\n",
    "print(p5)\n",
    "print(len(p1))\n",
    "print(p1[1]) \n"
   ]
  },
  {
   "cell_type": "markdown",
   "id": "45f3316f-5d8f-464c-9616-ecd4b86a59df",
   "metadata": {},
   "source": [
    "---"
   ]
  },
  {
   "cell_type": "markdown",
   "id": "2c386450-67e3-4fff-82d8-38f9ef8af9ae",
   "metadata": {},
   "source": [
    "### 연습문제)\n",
    "- 복소수 클래스를 정의\n",
    "- 덧셈, 뺄셈, 곱셈 연산자 지원\n",
    "- 길이 (복소수의 크기) 지원\n",
    "- 복소수 출력 '1+4j'와 같이 표현\n",
    "- 비교 연산 ==, != 지원\n",
    "    - =, <=, <, > 연산 지원\n",
    "- 절댓값 지원"
   ]
  },
  {
   "cell_type": "code",
   "execution_count": null,
   "id": "27976436-172f-4b77-85b3-297ea071f7e5",
   "metadata": {},
   "outputs": [],
   "source": []
  }
 ],
 "metadata": {
  "kernelspec": {
   "display_name": "Python 3",
   "language": "python",
   "name": "python3"
  },
  "language_info": {
   "codemirror_mode": {
    "name": "ipython",
    "version": 3
   },
   "file_extension": ".py",
   "mimetype": "text/x-python",
   "name": "python",
   "nbconvert_exporter": "python",
   "pygments_lexer": "ipython3",
   "version": "3.8.8"
  }
 },
 "nbformat": 4,
 "nbformat_minor": 5
}
