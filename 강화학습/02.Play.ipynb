{
 "cells": [
  {
   "cell_type": "code",
   "execution_count": 1,
   "metadata": {},
   "outputs": [],
   "source": [
    "# 만든 .py 파일\n",
    "\n",
    "from IPython import display\n",
    "import matplotlib.patches as patches\n",
    "import pylab as pl\n",
    "import time\n",
    "import tensorflow.compat.v1 as tf\n",
    "import os\n",
    "\n",
    "tf.compat.v1.disable_eager_execution()"
   ]
  },
  {
   "cell_type": "code",
   "execution_count": 3,
   "metadata": {},
   "outputs": [],
   "source": [
    "# 설정값을 정의한다.\n",
    "gridSize = 10\n",
    "maxGames = 100\n",
    "# env = CatchEnvironment(gridSize)\n",
    "winCount = 0\n",
    "lossCount = 0\n",
    "numberOfGames = 0"
   ]
  },
  {
   "cell_type": "code",
   "execution_count": 12,
   "metadata": {},
   "outputs": [
    {
     "data": {
      "image/png": "[encoded data removed]",
      "text/plain": [
       "<Figure size 864x864 with 1 Axes>"
      ]
     },
     "metadata": {
      "needs_background": "light"
     },
     "output_type": "display_data"
    }
   ],
   "source": [
    "# 그래프 관련 설정\n",
    "ground = 1\n",
    "plot = pl.figure(figsize = (12,12))\n",
    "axis = plot.add_subplot(111, aspect='equal')\n",
    "axis.set_xlim([-1,12])\n",
    "axis.set_ylim([0, 12])\n",
    "\n",
    "# 파라미터를 불러오기 위한 Saver 선언\n",
    "#saver = tf.train.Saver()\n",
    "\n",
    "# 현재 상태를 그리기 위한 drawState 함수를 정의한다.\n",
    "def drawState(fruitRow, fruitColumn, basket, gridSize):\n",
    "    # 과일의 세로축을 담겠다.\n",
    "    fruitX = fruitColumn\n",
    "    # 과일의 가로축을 계산해서 담는다.\n",
    "    fruitY = (gridSize - fruitRow + 1)\n",
    "    # 승리 횟수, 패배 회수, 전체 게임 횟수를 화면 상단에 출력한다.\n",
    "    statusTitle = f'Wins\"{winCount}, Losses : {lossCount}, TotalGames:{numberOfGames}'\n",
    "    axis.set_title(statusTitle)\n",
    "    \n",
    "    # 배경, 과일, 바구니를 그린다.\n",
    "    for p in [\n",
    "        # 배경설정\n",
    "        patches.Rectangle(((ground - 1), (ground)), 11, 10, facecolor = '#000000'),\n",
    "        # 바구니 설정\n",
    "        patches.Rectangle((basket - 1, ground), 2, 0.5, facecolor = '#FF0000'),\n",
    "        # 과일 설정\n",
    "        patches.Rectangle((fruitX - 0.5, fruitY - 0.5), 1,1, facecolor = '#0000FF')\n",
    "        \n",
    "    ]: axis.add_patch(p)\n",
    "        \n",
    "    # 화면 청소\n",
    "    display.clear_output(wait=True)\n",
    "    \n",
    "    # 새로 그리기\n",
    "    display.display(pl.gcf())\n",
    "    \n",
    "    \n",
    "# 행동을 예측하여 그림을 그린다.\n",
    "with tf.Session() as sess:\n",
    "    # 저장된 파라미터를 불러온다.\n",
    "    saver.restore(sess, 'model.ckpt')\n",
    "    print('저장된 파라미터를 불러왔습니다.')\n",
    "    \n",
    "    # 지정된 횟수만큼 게임을 반복한다.\n",
    "    while numberOfGames < maxGames:\n",
    "        # 진행 게임수를 증가한다.\n",
    "        numberOfGames = numberOfGames + 1\n",
    "        \n",
    "        # 최초 게임 상태를 설정한다.\n",
    "        isGameOver = False\n",
    "        fruitRow, fruitColumn, basket = env.reset()\n",
    "        currentState = env.observe()\n",
    "        drawState(fruitRow, fruitColumn, basket, gridSize)\n",
    "        \n",
    "        # 한판이 종료될때까지 반복한다.\n",
    "        while isGameOver != True:\n",
    "            # 현재 상태에서 q값이 가장 큰 행위를 가져온다.\n",
    "            q = sess.run(y_pred, feed_dict={x:currentState})\n",
    "            action = q.argmax()\n",
    "            \n",
    "            # 행동을 수행하고 다음 상태로 넘어간다.\n",
    "            nextState, reward, gameOver, stateinfo = env.act(action)\n",
    "            fruitRow = stateInfo[0]\n",
    "            fruitColumn = stateInfo[1]\n",
    "            basket = stateInfo[2]\n",
    "            \n",
    "            # 과일을 받아내면 winCount를 1 증가한다.\n",
    "            if reward == 1:\n",
    "                winCount = winCount + 1\n",
    "            \n",
    "            # 과일을 받아내지 못했담녀 lossCount를 1 증가한다.\n",
    "            elif reward == -1:\n",
    "                lossCount = lossCount + 1\n",
    "                \n",
    "            # 다음 판으로 넘어가기 위한 셋팅\n",
    "            currentState = nextState\n",
    "            isGameOver = gameOver\n",
    "            # 그린다.\n",
    "            drawState(fruitRow, fruitColumn, basket, gridSize)\n",
    "            # 딜레이를 준다.\n",
    "            time.sleep(0.05)\n",
    "\n",
    "            \n",
    "            "
   ]
  },
  {
   "cell_type": "code",
   "execution_count": null,
   "metadata": {},
   "outputs": [],
   "source": []
  }
 ],
 "metadata": {
  "kernelspec": {
   "display_name": "Python 3",
   "language": "python",
   "name": "python3"
  },
  "language_info": {
   "codemirror_mode": {
    "name": "ipython",
    "version": 3
   },
   "file_extension": ".py",
   "mimetype": "text/x-python",
   "name": "python",
   "nbconvert_exporter": "python",
   "pygments_lexer": "ipython3",
   "version": "3.8.5"
  }
 },
 "nbformat": 4,
 "nbformat_minor": 4
}
