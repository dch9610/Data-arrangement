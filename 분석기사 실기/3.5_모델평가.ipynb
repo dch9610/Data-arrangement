{
 "cells": [
  {
   "cell_type": "markdown",
   "id": "7cf86d6e-51ae-4d3f-8aa8-1086f87db1b4",
   "metadata": {},
   "source": [
    "## 7. 모델평가"
   ]
  },
  {
   "cell_type": "markdown",
   "id": "d3182f71-6f17-4475-b5e5-6d17521e27ea",
   "metadata": {},
   "source": [
    "### 7-1 데이터 불러오기 및 데이터셋 분할"
   ]
  },
  {
   "cell_type": "code",
   "execution_count": 1,
   "id": "f473cc57-30ad-4902-a616-4d772bf12ca5",
   "metadata": {},
   "outputs": [],
   "source": [
    "import pandas as pd\n",
    "\n",
    "# 경고 메시지가 안나오게 하기\n",
    "import warnings\n",
    "warnings.filterwarnings('ignore')"
   ]
  },
  {
   "cell_type": "code",
   "execution_count": 2,
   "id": "f7160cd6-a9b0-48f9-a3ed-7258db37b958",
   "metadata": {},
   "outputs": [
    {
     "data": {
      "text/html": [
       "<div>\n",
       "<style scoped>\n",
       "    .dataframe tbody tr th:only-of-type {\n",
       "        vertical-align: middle;\n",
       "    }\n",
       "\n",
       "    .dataframe tbody tr th {\n",
       "        vertical-align: top;\n",
       "    }\n",
       "\n",
       "    .dataframe thead th {\n",
       "        text-align: right;\n",
       "    }\n",
       "</style>\n",
       "<table border=\"1\" class=\"dataframe\">\n",
       "  <thead>\n",
       "    <tr style=\"text-align: right;\">\n",
       "      <th></th>\n",
       "      <th>gender_female</th>\n",
       "      <th>gender_male</th>\n",
       "      <th>region_Chungcheung</th>\n",
       "      <th>region_Honam</th>\n",
       "      <th>region_Others</th>\n",
       "      <th>region_Sudo</th>\n",
       "      <th>region_Youngnam</th>\n",
       "      <th>edu</th>\n",
       "      <th>income</th>\n",
       "      <th>age</th>\n",
       "      <th>score_gov</th>\n",
       "      <th>score_progress</th>\n",
       "      <th>score_intention</th>\n",
       "      <th>vote</th>\n",
       "      <th>parties</th>\n",
       "    </tr>\n",
       "  </thead>\n",
       "  <tbody>\n",
       "    <tr>\n",
       "      <th>0</th>\n",
       "      <td>0</td>\n",
       "      <td>1</td>\n",
       "      <td>0</td>\n",
       "      <td>0</td>\n",
       "      <td>0</td>\n",
       "      <td>0</td>\n",
       "      <td>1</td>\n",
       "      <td>3</td>\n",
       "      <td>3</td>\n",
       "      <td>3</td>\n",
       "      <td>2</td>\n",
       "      <td>2</td>\n",
       "      <td>4.0</td>\n",
       "      <td>1</td>\n",
       "      <td>2</td>\n",
       "    </tr>\n",
       "    <tr>\n",
       "      <th>1</th>\n",
       "      <td>0</td>\n",
       "      <td>1</td>\n",
       "      <td>0</td>\n",
       "      <td>0</td>\n",
       "      <td>1</td>\n",
       "      <td>0</td>\n",
       "      <td>0</td>\n",
       "      <td>2</td>\n",
       "      <td>3</td>\n",
       "      <td>3</td>\n",
       "      <td>2</td>\n",
       "      <td>4</td>\n",
       "      <td>3.0</td>\n",
       "      <td>0</td>\n",
       "      <td>3</td>\n",
       "    </tr>\n",
       "    <tr>\n",
       "      <th>2</th>\n",
       "      <td>0</td>\n",
       "      <td>1</td>\n",
       "      <td>0</td>\n",
       "      <td>1</td>\n",
       "      <td>0</td>\n",
       "      <td>0</td>\n",
       "      <td>0</td>\n",
       "      <td>1</td>\n",
       "      <td>2</td>\n",
       "      <td>4</td>\n",
       "      <td>1</td>\n",
       "      <td>3</td>\n",
       "      <td>2.8</td>\n",
       "      <td>1</td>\n",
       "      <td>4</td>\n",
       "    </tr>\n",
       "    <tr>\n",
       "      <th>3</th>\n",
       "      <td>1</td>\n",
       "      <td>0</td>\n",
       "      <td>0</td>\n",
       "      <td>0</td>\n",
       "      <td>0</td>\n",
       "      <td>1</td>\n",
       "      <td>0</td>\n",
       "      <td>2</td>\n",
       "      <td>1</td>\n",
       "      <td>3</td>\n",
       "      <td>5</td>\n",
       "      <td>4</td>\n",
       "      <td>2.6</td>\n",
       "      <td>1</td>\n",
       "      <td>1</td>\n",
       "    </tr>\n",
       "    <tr>\n",
       "      <th>4</th>\n",
       "      <td>0</td>\n",
       "      <td>1</td>\n",
       "      <td>0</td>\n",
       "      <td>0</td>\n",
       "      <td>0</td>\n",
       "      <td>1</td>\n",
       "      <td>0</td>\n",
       "      <td>1</td>\n",
       "      <td>2</td>\n",
       "      <td>4</td>\n",
       "      <td>4</td>\n",
       "      <td>3</td>\n",
       "      <td>2.4</td>\n",
       "      <td>1</td>\n",
       "      <td>1</td>\n",
       "    </tr>\n",
       "  </tbody>\n",
       "</table>\n",
       "</div>"
      ],
      "text/plain": [
       "   gender_female  gender_male  region_Chungcheung  region_Honam  \\\n",
       "0              0            1                   0             0   \n",
       "1              0            1                   0             0   \n",
       "2              0            1                   0             1   \n",
       "3              1            0                   0             0   \n",
       "4              0            1                   0             0   \n",
       "\n",
       "   region_Others  region_Sudo  region_Youngnam  edu  income  age  score_gov  \\\n",
       "0              0            0                1    3       3    3          2   \n",
       "1              1            0                0    2       3    3          2   \n",
       "2              0            0                0    1       2    4          1   \n",
       "3              0            1                0    2       1    3          5   \n",
       "4              0            1                0    1       2    4          4   \n",
       "\n",
       "   score_progress  score_intention  vote  parties  \n",
       "0               2              4.0     1        2  \n",
       "1               4              3.0     0        3  \n",
       "2               3              2.8     1        4  \n",
       "3               4              2.6     1        1  \n",
       "4               3              2.4     1        1  "
      ]
     },
     "execution_count": 2,
     "metadata": {},
     "output_type": "execute_result"
    }
   ],
   "source": [
    "# 데이터 불러오기\n",
    "data = pd.read_csv('Fvote.csv')\n",
    "data.head()"
   ]
  },
  {
   "cell_type": "code",
   "execution_count": 3,
   "id": "39c5e5b0-5496-454b-bb3e-60a325b7d1a5",
   "metadata": {},
   "outputs": [],
   "source": [
    "# 특성치와 레이블 데이터 셋 구분\n",
    "X = data[data.columns[:13]]\n",
    "y = data[['vote']]"
   ]
  },
  {
   "cell_type": "code",
   "execution_count": 4,
   "id": "57661f76-c958-4467-ba4b-ef3fdc7d6147",
   "metadata": {},
   "outputs": [],
   "source": [
    "# 데이터셋 분할\n",
    "from sklearn.model_selection import train_test_split\n",
    "X_train, X_test, y_train, y_test = train_test_split(X, y, stratify = y, random_state=42)"
   ]
  },
  {
   "cell_type": "markdown",
   "id": "b57e297d-6a5f-47f1-ad37-92d4f743c501",
   "metadata": {},
   "source": [
    "---"
   ]
  },
  {
   "cell_type": "markdown",
   "id": "500a31aa-15a7-4c04-9652-e3c4921a3dff",
   "metadata": {},
   "source": [
    "### 7-2. Grid Search"
   ]
  },
  {
   "cell_type": "code",
   "execution_count": 5,
   "id": "da7e192c-6377-4c40-a901-6b44cd4caa34",
   "metadata": {},
   "outputs": [],
   "source": [
    "# 그리드 서치를 위한 라이브러리\n",
    "from sklearn.model_selection import GridSearchCV"
   ]
  },
  {
   "cell_type": "code",
   "execution_count": 6,
   "id": "6878192e-c9f1-4e3f-ac91-ad1da88ee931",
   "metadata": {},
   "outputs": [],
   "source": [
    "# LogisticRegression 알고리즘 적용\n",
    "from sklearn.linear_model import LogisticRegression\n",
    "logi = LogisticRegression()"
   ]
  },
  {
   "cell_type": "code",
   "execution_count": 7,
   "id": "9115b997-921f-409c-940d-676e28a7295a",
   "metadata": {},
   "outputs": [],
   "source": [
    "param = {'C':[0.001,0.01,0.1,1,10,100]}"
   ]
  },
  {
   "cell_type": "code",
   "execution_count": 8,
   "id": "8c7545e1-e472-4311-9eb2-8f95ce0ad575",
   "metadata": {},
   "outputs": [
    {
     "data": {
      "text/plain": [
       "GridSearchCV(cv=5, estimator=LogisticRegression(),\n",
       "             param_grid={'C': [0.001, 0.01, 0.1, 1, 10, 100]},\n",
       "             return_train_score=True)"
      ]
     },
     "execution_count": 8,
     "metadata": {},
     "output_type": "execute_result"
    }
   ],
   "source": [
    "# 그리드서치를 로지스틱 모델에 적용\n",
    "grid_search = GridSearchCV(logi, param, cv=5, return_train_score = True)\n",
    "grid_search.fit(X_train, y_train)"
   ]
  },
  {
   "cell_type": "code",
   "execution_count": 9,
   "id": "210764ba-2749-42da-a30b-346f57f27859",
   "metadata": {},
   "outputs": [
    {
     "name": "stdout",
     "output_type": "stream",
     "text": [
      "Best Parameter: {'C': 10}\n",
      "Best Cross-validity Score: 0.73\n"
     ]
    }
   ],
   "source": [
    "# 정확도가 가장 높은 하이퍼파라미터 및 정확도 제시\n",
    "print(f\"Best Parameter: {grid_search.best_params_}\")\n",
    "print(f\"Best Cross-validity Score: {round(grid_search.best_score_,2)}\")"
   ]
  },
  {
   "cell_type": "code",
   "execution_count": 10,
   "id": "a4ef92ea-0213-45ec-a79e-1e221903b2d8",
   "metadata": {},
   "outputs": [
    {
     "name": "stdout",
     "output_type": "stream",
     "text": [
      "Best Cross-validity Score: 0.68\n"
     ]
    }
   ],
   "source": [
    "print(f\"Best Cross-validity Score: {round(grid_search.score(X_test, y_test),2)}\")"
   ]
  },
  {
   "cell_type": "code",
   "execution_count": 11,
   "id": "ef45cc1f-a326-4768-87a5-7aa6f79b75b3",
   "metadata": {},
   "outputs": [
    {
     "data": {
      "text/html": [
       "<div>\n",
       "<style scoped>\n",
       "    .dataframe tbody tr th:only-of-type {\n",
       "        vertical-align: middle;\n",
       "    }\n",
       "\n",
       "    .dataframe tbody tr th {\n",
       "        vertical-align: top;\n",
       "    }\n",
       "\n",
       "    .dataframe thead th {\n",
       "        text-align: right;\n",
       "    }\n",
       "</style>\n",
       "<table border=\"1\" class=\"dataframe\">\n",
       "  <thead>\n",
       "    <tr style=\"text-align: right;\">\n",
       "      <th></th>\n",
       "      <th>mean_fit_time</th>\n",
       "      <th>std_fit_time</th>\n",
       "      <th>mean_score_time</th>\n",
       "      <th>std_score_time</th>\n",
       "      <th>param_C</th>\n",
       "      <th>params</th>\n",
       "      <th>split0_test_score</th>\n",
       "      <th>split1_test_score</th>\n",
       "      <th>split2_test_score</th>\n",
       "      <th>split3_test_score</th>\n",
       "      <th>...</th>\n",
       "      <th>mean_test_score</th>\n",
       "      <th>std_test_score</th>\n",
       "      <th>rank_test_score</th>\n",
       "      <th>split0_train_score</th>\n",
       "      <th>split1_train_score</th>\n",
       "      <th>split2_train_score</th>\n",
       "      <th>split3_train_score</th>\n",
       "      <th>split4_train_score</th>\n",
       "      <th>mean_train_score</th>\n",
       "      <th>std_train_score</th>\n",
       "    </tr>\n",
       "  </thead>\n",
       "  <tbody>\n",
       "    <tr>\n",
       "      <th>0</th>\n",
       "      <td>0.003986</td>\n",
       "      <td>0.000628</td>\n",
       "      <td>0.001197</td>\n",
       "      <td>0.000400</td>\n",
       "      <td>0.001</td>\n",
       "      <td>{'C': 0.001}</td>\n",
       "      <td>0.68750</td>\n",
       "      <td>0.71875</td>\n",
       "      <td>0.71875</td>\n",
       "      <td>0.709677</td>\n",
       "      <td>...</td>\n",
       "      <td>0.708871</td>\n",
       "      <td>0.011430</td>\n",
       "      <td>5</td>\n",
       "      <td>0.714286</td>\n",
       "      <td>0.706349</td>\n",
       "      <td>0.706349</td>\n",
       "      <td>0.708661</td>\n",
       "      <td>0.708661</td>\n",
       "      <td>0.708861</td>\n",
       "      <td>0.002903</td>\n",
       "    </tr>\n",
       "    <tr>\n",
       "      <th>1</th>\n",
       "      <td>0.003593</td>\n",
       "      <td>0.000495</td>\n",
       "      <td>0.001006</td>\n",
       "      <td>0.000010</td>\n",
       "      <td>0.01</td>\n",
       "      <td>{'C': 0.01}</td>\n",
       "      <td>0.68750</td>\n",
       "      <td>0.71875</td>\n",
       "      <td>0.71875</td>\n",
       "      <td>0.709677</td>\n",
       "      <td>...</td>\n",
       "      <td>0.708871</td>\n",
       "      <td>0.011430</td>\n",
       "      <td>5</td>\n",
       "      <td>0.714286</td>\n",
       "      <td>0.706349</td>\n",
       "      <td>0.706349</td>\n",
       "      <td>0.708661</td>\n",
       "      <td>0.708661</td>\n",
       "      <td>0.708861</td>\n",
       "      <td>0.002903</td>\n",
       "    </tr>\n",
       "    <tr>\n",
       "      <th>2</th>\n",
       "      <td>0.000797</td>\n",
       "      <td>0.001594</td>\n",
       "      <td>0.000235</td>\n",
       "      <td>0.000470</td>\n",
       "      <td>0.1</td>\n",
       "      <td>{'C': 0.1}</td>\n",
       "      <td>0.71875</td>\n",
       "      <td>0.71875</td>\n",
       "      <td>0.71875</td>\n",
       "      <td>0.677419</td>\n",
       "      <td>...</td>\n",
       "      <td>0.721573</td>\n",
       "      <td>0.030797</td>\n",
       "      <td>3</td>\n",
       "      <td>0.730159</td>\n",
       "      <td>0.738095</td>\n",
       "      <td>0.738095</td>\n",
       "      <td>0.740157</td>\n",
       "      <td>0.708661</td>\n",
       "      <td>0.731034</td>\n",
       "      <td>0.011698</td>\n",
       "    </tr>\n",
       "    <tr>\n",
       "      <th>3</th>\n",
       "      <td>0.007643</td>\n",
       "      <td>0.006994</td>\n",
       "      <td>0.004081</td>\n",
       "      <td>0.005935</td>\n",
       "      <td>1</td>\n",
       "      <td>{'C': 1}</td>\n",
       "      <td>0.71875</td>\n",
       "      <td>0.68750</td>\n",
       "      <td>0.81250</td>\n",
       "      <td>0.580645</td>\n",
       "      <td>...</td>\n",
       "      <td>0.721169</td>\n",
       "      <td>0.085441</td>\n",
       "      <td>4</td>\n",
       "      <td>0.738095</td>\n",
       "      <td>0.785714</td>\n",
       "      <td>0.730159</td>\n",
       "      <td>0.763780</td>\n",
       "      <td>0.724409</td>\n",
       "      <td>0.748431</td>\n",
       "      <td>0.022993</td>\n",
       "    </tr>\n",
       "    <tr>\n",
       "      <th>4</th>\n",
       "      <td>0.009936</td>\n",
       "      <td>0.005804</td>\n",
       "      <td>0.000200</td>\n",
       "      <td>0.000400</td>\n",
       "      <td>10</td>\n",
       "      <td>{'C': 10}</td>\n",
       "      <td>0.75000</td>\n",
       "      <td>0.68750</td>\n",
       "      <td>0.81250</td>\n",
       "      <td>0.580645</td>\n",
       "      <td>...</td>\n",
       "      <td>0.727419</td>\n",
       "      <td>0.086175</td>\n",
       "      <td>1</td>\n",
       "      <td>0.746032</td>\n",
       "      <td>0.769841</td>\n",
       "      <td>0.730159</td>\n",
       "      <td>0.779528</td>\n",
       "      <td>0.724409</td>\n",
       "      <td>0.749994</td>\n",
       "      <td>0.021586</td>\n",
       "    </tr>\n",
       "    <tr>\n",
       "      <th>5</th>\n",
       "      <td>0.012543</td>\n",
       "      <td>0.006272</td>\n",
       "      <td>0.000115</td>\n",
       "      <td>0.000230</td>\n",
       "      <td>100</td>\n",
       "      <td>{'C': 100}</td>\n",
       "      <td>0.75000</td>\n",
       "      <td>0.68750</td>\n",
       "      <td>0.81250</td>\n",
       "      <td>0.580645</td>\n",
       "      <td>...</td>\n",
       "      <td>0.727419</td>\n",
       "      <td>0.086175</td>\n",
       "      <td>1</td>\n",
       "      <td>0.746032</td>\n",
       "      <td>0.769841</td>\n",
       "      <td>0.730159</td>\n",
       "      <td>0.771654</td>\n",
       "      <td>0.724409</td>\n",
       "      <td>0.748419</td>\n",
       "      <td>0.019567</td>\n",
       "    </tr>\n",
       "  </tbody>\n",
       "</table>\n",
       "<p>6 rows × 21 columns</p>\n",
       "</div>"
      ],
      "text/plain": [
       "   mean_fit_time  std_fit_time  mean_score_time  std_score_time param_C  \\\n",
       "0       0.003986      0.000628         0.001197        0.000400   0.001   \n",
       "1       0.003593      0.000495         0.001006        0.000010    0.01   \n",
       "2       0.000797      0.001594         0.000235        0.000470     0.1   \n",
       "3       0.007643      0.006994         0.004081        0.005935       1   \n",
       "4       0.009936      0.005804         0.000200        0.000400      10   \n",
       "5       0.012543      0.006272         0.000115        0.000230     100   \n",
       "\n",
       "         params  split0_test_score  split1_test_score  split2_test_score  \\\n",
       "0  {'C': 0.001}            0.68750            0.71875            0.71875   \n",
       "1   {'C': 0.01}            0.68750            0.71875            0.71875   \n",
       "2    {'C': 0.1}            0.71875            0.71875            0.71875   \n",
       "3      {'C': 1}            0.71875            0.68750            0.81250   \n",
       "4     {'C': 10}            0.75000            0.68750            0.81250   \n",
       "5    {'C': 100}            0.75000            0.68750            0.81250   \n",
       "\n",
       "   split3_test_score  ...  mean_test_score  std_test_score  rank_test_score  \\\n",
       "0           0.709677  ...         0.708871        0.011430                5   \n",
       "1           0.709677  ...         0.708871        0.011430                5   \n",
       "2           0.677419  ...         0.721573        0.030797                3   \n",
       "3           0.580645  ...         0.721169        0.085441                4   \n",
       "4           0.580645  ...         0.727419        0.086175                1   \n",
       "5           0.580645  ...         0.727419        0.086175                1   \n",
       "\n",
       "   split0_train_score  split1_train_score  split2_train_score  \\\n",
       "0            0.714286            0.706349            0.706349   \n",
       "1            0.714286            0.706349            0.706349   \n",
       "2            0.730159            0.738095            0.738095   \n",
       "3            0.738095            0.785714            0.730159   \n",
       "4            0.746032            0.769841            0.730159   \n",
       "5            0.746032            0.769841            0.730159   \n",
       "\n",
       "   split3_train_score  split4_train_score  mean_train_score  std_train_score  \n",
       "0            0.708661            0.708661          0.708861         0.002903  \n",
       "1            0.708661            0.708661          0.708861         0.002903  \n",
       "2            0.740157            0.708661          0.731034         0.011698  \n",
       "3            0.763780            0.724409          0.748431         0.022993  \n",
       "4            0.779528            0.724409          0.749994         0.021586  \n",
       "5            0.771654            0.724409          0.748419         0.019567  \n",
       "\n",
       "[6 rows x 21 columns]"
      ]
     },
     "execution_count": 11,
     "metadata": {},
     "output_type": "execute_result"
    }
   ],
   "source": [
    "# 그리드 서치 하이퍼 파라미터 상세 결과값\n",
    "result_grid = pd.DataFrame(grid_search.cv_results_)\n",
    "result_grid"
   ]
  },
  {
   "cell_type": "code",
   "execution_count": 12,
   "id": "5b2562bd-1199-40a8-8f3e-424d151ca714",
   "metadata": {},
   "outputs": [
    {
     "data": {
      "text/plain": [
       "<matplotlib.legend.Legend at 0x167811510a0>"
      ]
     },
     "execution_count": 12,
     "metadata": {},
     "output_type": "execute_result"
    },
    {
     "data": {
      "image/png": "[encoded data removed]",
      "text/plain": [
       "<Figure size 432x288 with 1 Axes>"
      ]
     },
     "metadata": {
      "needs_background": "light"
     },
     "output_type": "display_data"
    }
   ],
   "source": [
    "# 하이퍼파라미터에 따른 훈련 데이터와 테스트데이터의 정확도 그래프\n",
    "import matplotlib.pyplot as plt\n",
    "plt.plot(result_grid['param_C'], result_grid['mean_train_score'], label='Train')\n",
    "plt.plot(result_grid['param_C'], result_grid['mean_test_score'], label='Test')\n",
    "plt.legend()"
   ]
  },
  {
   "cell_type": "markdown",
   "id": "c1f83c60-1212-4d43-ba61-9939175f3a05",
   "metadata": {},
   "source": [
    "---"
   ]
  },
  {
   "cell_type": "markdown",
   "id": "6d21f698-47b4-487f-a7c9-24b8d09a750f",
   "metadata": {},
   "source": [
    "### 7-3. Random Search"
   ]
  },
  {
   "cell_type": "code",
   "execution_count": 13,
   "id": "8da0d4ec-efb3-42ec-af45-97aaae05554a",
   "metadata": {},
   "outputs": [],
   "source": [
    "# 랜덤서치를 위한 라이브러리\n",
    "from sklearn.model_selection import RandomizedSearchCV\n",
    "from scipy.stats import randint"
   ]
  },
  {
   "cell_type": "code",
   "execution_count": 14,
   "id": "398c8127-e995-4460-8e9d-5620d9e96c25",
   "metadata": {},
   "outputs": [],
   "source": [
    "# 로지스틱 적용\n",
    "from sklearn.linear_model import LogisticRegression\n",
    "logi = LogisticRegression()"
   ]
  },
  {
   "cell_type": "code",
   "execution_count": 15,
   "id": "3abc29a5-3bf0-45d4-b8bd-56dc40480841",
   "metadata": {},
   "outputs": [],
   "source": [
    "# 하이퍼 파라미터 설정\n",
    "param_distribs = {'C' : randint(low=0.001, high=100)}"
   ]
  },
  {
   "cell_type": "code",
   "execution_count": 16,
   "id": "f9c0ecd8-6d87-4345-8b03-3ad09bfba665",
   "metadata": {},
   "outputs": [
    {
     "data": {
      "text/plain": [
       "RandomizedSearchCV(cv=5, estimator=LogisticRegression(),\n",
       "                   param_distributions={'C': <scipy.stats._distn_infrastructure.rv_frozen object at 0x00000167818BE100>},\n",
       "                   return_train_score=True)"
      ]
     },
     "execution_count": 16,
     "metadata": {},
     "output_type": "execute_result"
    }
   ],
   "source": [
    "# 랜덤서치를 로지스틱 모델에 적용\n",
    "#  # n_iter=100, 랜덤횟수 디폴트=10\n",
    "random_search = RandomizedSearchCV(logi, param_distribs, cv=5, return_train_score = True)\n",
    "random_search.fit(X_train, y_train)"
   ]
  },
  {
   "cell_type": "code",
   "execution_count": 17,
   "id": "034b01fa-c9ab-4588-a458-811608c6d865",
   "metadata": {},
   "outputs": [
    {
     "name": "stdout",
     "output_type": "stream",
     "text": [
      "Best Parameter: {'C': 99}\n",
      "Best Cross-validity Score: 0.727\n"
     ]
    }
   ],
   "source": [
    "# 정확도가 높은 하이퍼파라미터 출력\n",
    "print(f\"Best Parameter: {random_search.best_params_}\")\n",
    "print(f\"Best Cross-validity Score: {round(random_search.best_score_,3)}\")"
   ]
  },
  {
   "cell_type": "code",
   "execution_count": 18,
   "id": "242b5b89-7a7e-4d23-810c-1f7c68b85b7b",
   "metadata": {},
   "outputs": [
    {
     "name": "stdout",
     "output_type": "stream",
     "text": [
      "Best Cross-validity Score Test: 0.679\n"
     ]
    }
   ],
   "source": [
    "# 테스트 데이터에 최적 탐색 하이퍼 파라미터 적용 정확도\n",
    "print(f\"Best Cross-validity Score Test: {round(random_search.score(X_test, y_test),3)}\")"
   ]
  },
  {
   "cell_type": "code",
   "execution_count": 19,
   "id": "d10a035d-a037-4417-ae03-6e911efa4519",
   "metadata": {},
   "outputs": [
    {
     "data": {
      "text/html": [
       "<div>\n",
       "<style scoped>\n",
       "    .dataframe tbody tr th:only-of-type {\n",
       "        vertical-align: middle;\n",
       "    }\n",
       "\n",
       "    .dataframe tbody tr th {\n",
       "        vertical-align: top;\n",
       "    }\n",
       "\n",
       "    .dataframe thead th {\n",
       "        text-align: right;\n",
       "    }\n",
       "</style>\n",
       "<table border=\"1\" class=\"dataframe\">\n",
       "  <thead>\n",
       "    <tr style=\"text-align: right;\">\n",
       "      <th></th>\n",
       "      <th>mean_fit_time</th>\n",
       "      <th>std_fit_time</th>\n",
       "      <th>mean_score_time</th>\n",
       "      <th>std_score_time</th>\n",
       "      <th>param_C</th>\n",
       "      <th>params</th>\n",
       "      <th>split0_test_score</th>\n",
       "      <th>split1_test_score</th>\n",
       "      <th>split2_test_score</th>\n",
       "      <th>split3_test_score</th>\n",
       "      <th>...</th>\n",
       "      <th>mean_test_score</th>\n",
       "      <th>std_test_score</th>\n",
       "      <th>rank_test_score</th>\n",
       "      <th>split0_train_score</th>\n",
       "      <th>split1_train_score</th>\n",
       "      <th>split2_train_score</th>\n",
       "      <th>split3_train_score</th>\n",
       "      <th>split4_train_score</th>\n",
       "      <th>mean_train_score</th>\n",
       "      <th>std_train_score</th>\n",
       "    </tr>\n",
       "  </thead>\n",
       "  <tbody>\n",
       "    <tr>\n",
       "      <th>0</th>\n",
       "      <td>0.012171</td>\n",
       "      <td>0.001924</td>\n",
       "      <td>0.000998</td>\n",
       "      <td>0.000004</td>\n",
       "      <td>99</td>\n",
       "      <td>{'C': 99}</td>\n",
       "      <td>0.75</td>\n",
       "      <td>0.6875</td>\n",
       "      <td>0.8125</td>\n",
       "      <td>0.580645</td>\n",
       "      <td>...</td>\n",
       "      <td>0.727419</td>\n",
       "      <td>0.086175</td>\n",
       "      <td>1</td>\n",
       "      <td>0.746032</td>\n",
       "      <td>0.769841</td>\n",
       "      <td>0.730159</td>\n",
       "      <td>0.771654</td>\n",
       "      <td>0.724409</td>\n",
       "      <td>0.748419</td>\n",
       "      <td>0.019567</td>\n",
       "    </tr>\n",
       "    <tr>\n",
       "      <th>1</th>\n",
       "      <td>0.005365</td>\n",
       "      <td>0.006125</td>\n",
       "      <td>0.003327</td>\n",
       "      <td>0.006162</td>\n",
       "      <td>61</td>\n",
       "      <td>{'C': 61}</td>\n",
       "      <td>0.75</td>\n",
       "      <td>0.6875</td>\n",
       "      <td>0.8125</td>\n",
       "      <td>0.580645</td>\n",
       "      <td>...</td>\n",
       "      <td>0.727419</td>\n",
       "      <td>0.086175</td>\n",
       "      <td>1</td>\n",
       "      <td>0.746032</td>\n",
       "      <td>0.769841</td>\n",
       "      <td>0.730159</td>\n",
       "      <td>0.771654</td>\n",
       "      <td>0.724409</td>\n",
       "      <td>0.748419</td>\n",
       "      <td>0.019567</td>\n",
       "    </tr>\n",
       "    <tr>\n",
       "      <th>2</th>\n",
       "      <td>0.013173</td>\n",
       "      <td>0.003013</td>\n",
       "      <td>0.000402</td>\n",
       "      <td>0.000492</td>\n",
       "      <td>33</td>\n",
       "      <td>{'C': 33}</td>\n",
       "      <td>0.75</td>\n",
       "      <td>0.6875</td>\n",
       "      <td>0.8125</td>\n",
       "      <td>0.580645</td>\n",
       "      <td>...</td>\n",
       "      <td>0.727419</td>\n",
       "      <td>0.086175</td>\n",
       "      <td>1</td>\n",
       "      <td>0.746032</td>\n",
       "      <td>0.769841</td>\n",
       "      <td>0.730159</td>\n",
       "      <td>0.771654</td>\n",
       "      <td>0.724409</td>\n",
       "      <td>0.748419</td>\n",
       "      <td>0.019567</td>\n",
       "    </tr>\n",
       "    <tr>\n",
       "      <th>3</th>\n",
       "      <td>0.008429</td>\n",
       "      <td>0.007239</td>\n",
       "      <td>0.000228</td>\n",
       "      <td>0.000455</td>\n",
       "      <td>78</td>\n",
       "      <td>{'C': 78}</td>\n",
       "      <td>0.75</td>\n",
       "      <td>0.6875</td>\n",
       "      <td>0.8125</td>\n",
       "      <td>0.580645</td>\n",
       "      <td>...</td>\n",
       "      <td>0.727419</td>\n",
       "      <td>0.086175</td>\n",
       "      <td>1</td>\n",
       "      <td>0.746032</td>\n",
       "      <td>0.769841</td>\n",
       "      <td>0.730159</td>\n",
       "      <td>0.771654</td>\n",
       "      <td>0.724409</td>\n",
       "      <td>0.748419</td>\n",
       "      <td>0.019567</td>\n",
       "    </tr>\n",
       "    <tr>\n",
       "      <th>4</th>\n",
       "      <td>0.009373</td>\n",
       "      <td>0.007653</td>\n",
       "      <td>0.000000</td>\n",
       "      <td>0.000000</td>\n",
       "      <td>65</td>\n",
       "      <td>{'C': 65}</td>\n",
       "      <td>0.75</td>\n",
       "      <td>0.6875</td>\n",
       "      <td>0.8125</td>\n",
       "      <td>0.580645</td>\n",
       "      <td>...</td>\n",
       "      <td>0.727419</td>\n",
       "      <td>0.086175</td>\n",
       "      <td>1</td>\n",
       "      <td>0.746032</td>\n",
       "      <td>0.769841</td>\n",
       "      <td>0.730159</td>\n",
       "      <td>0.771654</td>\n",
       "      <td>0.724409</td>\n",
       "      <td>0.748419</td>\n",
       "      <td>0.019567</td>\n",
       "    </tr>\n",
       "    <tr>\n",
       "      <th>5</th>\n",
       "      <td>0.009660</td>\n",
       "      <td>0.007427</td>\n",
       "      <td>0.003427</td>\n",
       "      <td>0.006128</td>\n",
       "      <td>17</td>\n",
       "      <td>{'C': 17}</td>\n",
       "      <td>0.75</td>\n",
       "      <td>0.6875</td>\n",
       "      <td>0.8125</td>\n",
       "      <td>0.580645</td>\n",
       "      <td>...</td>\n",
       "      <td>0.727419</td>\n",
       "      <td>0.086175</td>\n",
       "      <td>1</td>\n",
       "      <td>0.746032</td>\n",
       "      <td>0.769841</td>\n",
       "      <td>0.730159</td>\n",
       "      <td>0.779528</td>\n",
       "      <td>0.724409</td>\n",
       "      <td>0.749994</td>\n",
       "      <td>0.021586</td>\n",
       "    </tr>\n",
       "    <tr>\n",
       "      <th>6</th>\n",
       "      <td>0.009373</td>\n",
       "      <td>0.007653</td>\n",
       "      <td>0.000000</td>\n",
       "      <td>0.000000</td>\n",
       "      <td>35</td>\n",
       "      <td>{'C': 35}</td>\n",
       "      <td>0.75</td>\n",
       "      <td>0.6875</td>\n",
       "      <td>0.8125</td>\n",
       "      <td>0.580645</td>\n",
       "      <td>...</td>\n",
       "      <td>0.727419</td>\n",
       "      <td>0.086175</td>\n",
       "      <td>1</td>\n",
       "      <td>0.746032</td>\n",
       "      <td>0.769841</td>\n",
       "      <td>0.730159</td>\n",
       "      <td>0.771654</td>\n",
       "      <td>0.724409</td>\n",
       "      <td>0.748419</td>\n",
       "      <td>0.019567</td>\n",
       "    </tr>\n",
       "    <tr>\n",
       "      <th>7</th>\n",
       "      <td>0.012499</td>\n",
       "      <td>0.006249</td>\n",
       "      <td>0.000000</td>\n",
       "      <td>0.000000</td>\n",
       "      <td>18</td>\n",
       "      <td>{'C': 18}</td>\n",
       "      <td>0.75</td>\n",
       "      <td>0.6875</td>\n",
       "      <td>0.8125</td>\n",
       "      <td>0.580645</td>\n",
       "      <td>...</td>\n",
       "      <td>0.727419</td>\n",
       "      <td>0.086175</td>\n",
       "      <td>1</td>\n",
       "      <td>0.746032</td>\n",
       "      <td>0.769841</td>\n",
       "      <td>0.730159</td>\n",
       "      <td>0.779528</td>\n",
       "      <td>0.724409</td>\n",
       "      <td>0.749994</td>\n",
       "      <td>0.021586</td>\n",
       "    </tr>\n",
       "    <tr>\n",
       "      <th>8</th>\n",
       "      <td>0.009513</td>\n",
       "      <td>0.007772</td>\n",
       "      <td>0.000000</td>\n",
       "      <td>0.000000</td>\n",
       "      <td>81</td>\n",
       "      <td>{'C': 81}</td>\n",
       "      <td>0.75</td>\n",
       "      <td>0.6875</td>\n",
       "      <td>0.8125</td>\n",
       "      <td>0.580645</td>\n",
       "      <td>...</td>\n",
       "      <td>0.727419</td>\n",
       "      <td>0.086175</td>\n",
       "      <td>1</td>\n",
       "      <td>0.746032</td>\n",
       "      <td>0.769841</td>\n",
       "      <td>0.730159</td>\n",
       "      <td>0.771654</td>\n",
       "      <td>0.724409</td>\n",
       "      <td>0.748419</td>\n",
       "      <td>0.019567</td>\n",
       "    </tr>\n",
       "    <tr>\n",
       "      <th>9</th>\n",
       "      <td>0.009391</td>\n",
       "      <td>0.007668</td>\n",
       "      <td>0.003126</td>\n",
       "      <td>0.006253</td>\n",
       "      <td>71</td>\n",
       "      <td>{'C': 71}</td>\n",
       "      <td>0.75</td>\n",
       "      <td>0.6875</td>\n",
       "      <td>0.8125</td>\n",
       "      <td>0.580645</td>\n",
       "      <td>...</td>\n",
       "      <td>0.727419</td>\n",
       "      <td>0.086175</td>\n",
       "      <td>1</td>\n",
       "      <td>0.746032</td>\n",
       "      <td>0.769841</td>\n",
       "      <td>0.730159</td>\n",
       "      <td>0.771654</td>\n",
       "      <td>0.724409</td>\n",
       "      <td>0.748419</td>\n",
       "      <td>0.019567</td>\n",
       "    </tr>\n",
       "  </tbody>\n",
       "</table>\n",
       "<p>10 rows × 21 columns</p>\n",
       "</div>"
      ],
      "text/plain": [
       "   mean_fit_time  std_fit_time  mean_score_time  std_score_time param_C  \\\n",
       "0       0.012171      0.001924         0.000998        0.000004      99   \n",
       "1       0.005365      0.006125         0.003327        0.006162      61   \n",
       "2       0.013173      0.003013         0.000402        0.000492      33   \n",
       "3       0.008429      0.007239         0.000228        0.000455      78   \n",
       "4       0.009373      0.007653         0.000000        0.000000      65   \n",
       "5       0.009660      0.007427         0.003427        0.006128      17   \n",
       "6       0.009373      0.007653         0.000000        0.000000      35   \n",
       "7       0.012499      0.006249         0.000000        0.000000      18   \n",
       "8       0.009513      0.007772         0.000000        0.000000      81   \n",
       "9       0.009391      0.007668         0.003126        0.006253      71   \n",
       "\n",
       "      params  split0_test_score  split1_test_score  split2_test_score  \\\n",
       "0  {'C': 99}               0.75             0.6875             0.8125   \n",
       "1  {'C': 61}               0.75             0.6875             0.8125   \n",
       "2  {'C': 33}               0.75             0.6875             0.8125   \n",
       "3  {'C': 78}               0.75             0.6875             0.8125   \n",
       "4  {'C': 65}               0.75             0.6875             0.8125   \n",
       "5  {'C': 17}               0.75             0.6875             0.8125   \n",
       "6  {'C': 35}               0.75             0.6875             0.8125   \n",
       "7  {'C': 18}               0.75             0.6875             0.8125   \n",
       "8  {'C': 81}               0.75             0.6875             0.8125   \n",
       "9  {'C': 71}               0.75             0.6875             0.8125   \n",
       "\n",
       "   split3_test_score  ...  mean_test_score  std_test_score  rank_test_score  \\\n",
       "0           0.580645  ...         0.727419        0.086175                1   \n",
       "1           0.580645  ...         0.727419        0.086175                1   \n",
       "2           0.580645  ...         0.727419        0.086175                1   \n",
       "3           0.580645  ...         0.727419        0.086175                1   \n",
       "4           0.580645  ...         0.727419        0.086175                1   \n",
       "5           0.580645  ...         0.727419        0.086175                1   \n",
       "6           0.580645  ...         0.727419        0.086175                1   \n",
       "7           0.580645  ...         0.727419        0.086175                1   \n",
       "8           0.580645  ...         0.727419        0.086175                1   \n",
       "9           0.580645  ...         0.727419        0.086175                1   \n",
       "\n",
       "   split0_train_score  split1_train_score  split2_train_score  \\\n",
       "0            0.746032            0.769841            0.730159   \n",
       "1            0.746032            0.769841            0.730159   \n",
       "2            0.746032            0.769841            0.730159   \n",
       "3            0.746032            0.769841            0.730159   \n",
       "4            0.746032            0.769841            0.730159   \n",
       "5            0.746032            0.769841            0.730159   \n",
       "6            0.746032            0.769841            0.730159   \n",
       "7            0.746032            0.769841            0.730159   \n",
       "8            0.746032            0.769841            0.730159   \n",
       "9            0.746032            0.769841            0.730159   \n",
       "\n",
       "   split3_train_score  split4_train_score  mean_train_score  std_train_score  \n",
       "0            0.771654            0.724409          0.748419         0.019567  \n",
       "1            0.771654            0.724409          0.748419         0.019567  \n",
       "2            0.771654            0.724409          0.748419         0.019567  \n",
       "3            0.771654            0.724409          0.748419         0.019567  \n",
       "4            0.771654            0.724409          0.748419         0.019567  \n",
       "5            0.779528            0.724409          0.749994         0.021586  \n",
       "6            0.771654            0.724409          0.748419         0.019567  \n",
       "7            0.779528            0.724409          0.749994         0.021586  \n",
       "8            0.771654            0.724409          0.748419         0.019567  \n",
       "9            0.771654            0.724409          0.748419         0.019567  \n",
       "\n",
       "[10 rows x 21 columns]"
      ]
     },
     "execution_count": 19,
     "metadata": {},
     "output_type": "execute_result"
    }
   ],
   "source": [
    "# 랜덤서치 하이퍼파라미터별 상세 결과값\n",
    "result_random = random_search.cv_results_\n",
    "pd.DataFrame(result_random)"
   ]
  },
  {
   "cell_type": "code",
   "execution_count": 20,
   "id": "ab41fd7b-ae61-43f9-ab4c-fc20dfedee2f",
   "metadata": {},
   "outputs": [
    {
     "data": {
      "text/plain": [
       "<matplotlib.legend.Legend at 0x1678190bee0>"
      ]
     },
     "execution_count": 20,
     "metadata": {},
     "output_type": "execute_result"
    },
    {
     "data": {
      "image/png": "[encoded data removed]",
      "text/plain": [
       "<Figure size 432x288 with 1 Axes>"
      ]
     },
     "metadata": {
      "needs_background": "light"
     },
     "output_type": "display_data"
    }
   ],
   "source": [
    "# 하이퍼파리미터(C)값에 따른 훈련데이터와 테스트데이터의 정확도(accuracy) 그래프\n",
    "import matplotlib.pyplot as plt\n",
    "plt.plot(result_random['param_C'], result_random['mean_train_score'], label=\"Train\")\n",
    "plt.plot(result_random['param_C'], result_random['mean_test_score'], label=\"Test\")\n",
    "plt.legend()"
   ]
  },
  {
   "cell_type": "markdown",
   "id": "622a5c8a-3336-4785-a3a4-396c900f47a5",
   "metadata": {},
   "source": [
    "---"
   ]
  },
  {
   "cell_type": "markdown",
   "id": "10fa3a08-05f3-4d1f-b1fb-568fa1c8f723",
   "metadata": {},
   "source": [
    "\n",
    "\n",
    "### 7-4 모델평가"
   ]
  },
  {
   "cell_type": "code",
   "execution_count": 21,
   "id": "daeb1a63-dfc8-4509-acdf-b25cdf471dc9",
   "metadata": {},
   "outputs": [
    {
     "data": {
      "text/plain": [
       "10"
      ]
     },
     "execution_count": 21,
     "metadata": {},
     "output_type": "execute_result"
    }
   ],
   "source": [
    "grid_search.best_params_['C']"
   ]
  },
  {
   "cell_type": "code",
   "execution_count": 22,
   "id": "01081ec6-ea78-41a3-a1c2-dc63d005af5c",
   "metadata": {},
   "outputs": [
    {
     "data": {
      "text/plain": [
       "LogisticRegression(C=10)"
      ]
     },
     "execution_count": 22,
     "metadata": {},
     "output_type": "execute_result"
    }
   ],
   "source": [
    "# 모델 탐색 결과, 최적의 하이퍼파라미터 결정 및 적용\n",
    "Final_model = LogisticRegression(C=grid_search.best_params_['C'])\n",
    "Final_model.fit(X_train, y_train)"
   ]
  },
  {
   "cell_type": "code",
   "execution_count": 23,
   "id": "722bff97-7efa-4a0e-ab1c-ae018228da7e",
   "metadata": {},
   "outputs": [
    {
     "data": {
      "text/plain": [
       "0.740506329113924"
      ]
     },
     "execution_count": 23,
     "metadata": {},
     "output_type": "execute_result"
    }
   ],
   "source": [
    "# 훈련데이터의 정확도 결과\n",
    "pred_train = Final_model.predict(X_train)\n",
    "Final_model.score(X_train, y_train)"
   ]
  },
  {
   "cell_type": "code",
   "execution_count": 24,
   "id": "f96c8191-cee6-4797-ac7b-2670862f873d",
   "metadata": {},
   "outputs": [
    {
     "data": {
      "text/plain": [
       "0.6792452830188679"
      ]
     },
     "execution_count": 24,
     "metadata": {},
     "output_type": "execute_result"
    }
   ],
   "source": [
    "# 테스트데이터의 정확도 결과\n",
    "pred_test = Final_model.predict(X_test)\n",
    "Final_model.score(X_test, y_test)"
   ]
  },
  {
   "cell_type": "code",
   "execution_count": 25,
   "id": "a11bf04a-c6f6-4bee-9c81-efc5d1fb0dea",
   "metadata": {},
   "outputs": [
    {
     "name": "stdout",
     "output_type": "stream",
     "text": [
      "훈련데이터 오차행렬\n",
      " [[ 12  34]\n",
      " [  7 105]]\n"
     ]
    }
   ],
   "source": [
    "# 훈련데이터의 혼동행렬\n",
    "from sklearn.metrics import confusion_matrix\n",
    "\n",
    "confusion_train = confusion_matrix(y_train, pred_train)\n",
    "print('훈련데이터 오차행렬\\n',confusion_train)"
   ]
  },
  {
   "cell_type": "code",
   "execution_count": 26,
   "id": "ca35c8f2-b245-49f5-86d2-fa72e780a7bc",
   "metadata": {},
   "outputs": [
    {
     "name": "stdout",
     "output_type": "stream",
     "text": [
      "분류예측 레포트:\n",
      "               precision    recall  f1-score   support\n",
      "\n",
      "           0       0.63      0.26      0.37        46\n",
      "           1       0.76      0.94      0.84       112\n",
      "\n",
      "    accuracy                           0.74       158\n",
      "   macro avg       0.69      0.60      0.60       158\n",
      "weighted avg       0.72      0.74      0.70       158\n",
      "\n"
     ]
    }
   ],
   "source": [
    "# 훈련데이터의 분류 모델 평가 결과\n",
    "from sklearn.metrics import classification_report\n",
    "cfreport_train = classification_report(y_train, pred_train)\n",
    "print('분류예측 레포트:\\n', cfreport_train)"
   ]
  },
  {
   "cell_type": "code",
   "execution_count": 27,
   "id": "038e9676-f8f6-4356-a9d9-65d554d33636",
   "metadata": {},
   "outputs": [
    {
     "name": "stdout",
     "output_type": "stream",
     "text": [
      "테스트데이터의 오차행렬\n",
      " [[ 3 12]\n",
      " [ 5 33]]\n"
     ]
    }
   ],
   "source": [
    "# 테스트데이터의 정확도 결과\n",
    "confusion_test = confusion_matrix(y_test, pred_test)\n",
    "print('테스트데이터의 오차행렬\\n', confusion_test)"
   ]
  },
  {
   "cell_type": "code",
   "execution_count": 28,
   "id": "0aaf1309-6897-4f57-a6c1-c74a9e0336a2",
   "metadata": {},
   "outputs": [
    {
     "name": "stdout",
     "output_type": "stream",
     "text": [
      "분류예측 레포트: \n",
      "               precision    recall  f1-score   support\n",
      "\n",
      "           0       0.38      0.20      0.26        15\n",
      "           1       0.73      0.87      0.80        38\n",
      "\n",
      "    accuracy                           0.68        53\n",
      "   macro avg       0.55      0.53      0.53        53\n",
      "weighted avg       0.63      0.68      0.64        53\n",
      "\n"
     ]
    }
   ],
   "source": [
    "# 테스트데이터의 분류 모델 평가\n",
    "from sklearn.metrics import classification_report\n",
    "cfreport_test = classification_report(y_test, pred_test)\n",
    "print('분류예측 레포트: \\n', cfreport_test)"
   ]
  },
  {
   "cell_type": "code",
   "execution_count": 31,
   "id": "29b2e83e-0bc7-4ae0-9b13-609a9f06737a",
   "metadata": {},
   "outputs": [
    {
     "data": {
      "text/plain": [
       "0.6350877192982456"
      ]
     },
     "execution_count": 31,
     "metadata": {},
     "output_type": "execute_result"
    }
   ],
   "source": [
    "# ROC 계산을 위한 라이브러리 및 산출식\n",
    "from sklearn.metrics import roc_curve, auc\n",
    "from sklearn import metrics\n",
    "\n",
    "false_positive_rate, true_positive_rate, thresholds = roc_curve(y_test, Final_model.decision_function(X_test))\n",
    "roc_auc = metrics.roc_auc_score(y_test, Final_model.decision_function(X_test))\n",
    "roc_auc"
   ]
  },
  {
   "cell_type": "code",
   "execution_count": 37,
   "id": "ad57dbed-8be1-4276-8b70-2563a6ce11be",
   "metadata": {},
   "outputs": [
    {
     "data": {
      "image/png": "[encoded data removed]",
      "text/plain": [
       "<Figure size 432x288 with 1 Axes>"
      ]
     },
     "metadata": {
      "needs_background": "light"
     },
     "output_type": "display_data"
    }
   ],
   "source": [
    "# ROC Curve 작성\n",
    "import matplotlib.pyplot as plt\n",
    "plt.title('Receiver Operating Characteristic')\n",
    "plt.xlabel('False Positive Rate(1 - Specificity)')\n",
    "plt.ylabel('True Positive Rate(Sensitivity)')\n",
    "\n",
    "plt.plot(false_positive_rate, true_positive_rate,'b', label='Model (AUC = %0.2f)'% roc_auc)\n",
    "plt.plot([0,1],[1,1],'g--')\n",
    "plt.plot([0,1],[0,1],'r--')\n",
    "\n",
    "plt.legend(loc = 'lower right')\n",
    "plt.show()"
   ]
  }
 ],
 "metadata": {
  "kernelspec": {
   "display_name": "Python 3",
   "language": "python",
   "name": "python3"
  },
  "language_info": {
   "codemirror_mode": {
    "name": "ipython",
    "version": 3
   },
   "file_extension": ".py",
   "mimetype": "text/x-python",
   "name": "python",
   "nbconvert_exporter": "python",
   "pygments_lexer": "ipython3",
   "version": "3.8.8"
  }
 },
 "nbformat": 4,
 "nbformat_minor": 5
}
