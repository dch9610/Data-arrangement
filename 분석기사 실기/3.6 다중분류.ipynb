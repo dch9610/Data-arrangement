{
 "cells": [
  {
   "cell_type": "markdown",
   "id": "4aad925a-90c5-4ff8-97eb-1fa4908e098c",
   "metadata": {},
   "source": [
    "## 8. 다중분류"
   ]
  },
  {
   "cell_type": "markdown",
   "id": "1c347417-aa73-4072-96bc-e341728f8d7b",
   "metadata": {},
   "source": [
    "### 8-1 데이터 불러오기 및 데이터셋 분할"
   ]
  },
  {
   "cell_type": "code",
   "execution_count": 3,
   "id": "5725adf5-8511-4ae1-8ce9-ad61d924bf11",
   "metadata": {},
   "outputs": [],
   "source": [
    "import pandas as pd\n",
    "import warnings\n",
    "warnings.filterwarnings('ignore')"
   ]
  },
  {
   "cell_type": "code",
   "execution_count": 7,
   "id": "6c9f7014-3631-4dab-b9fe-0b94b1074afc",
   "metadata": {},
   "outputs": [
    {
     "data": {
      "text/html": [
       "<div>\n",
       "<style scoped>\n",
       "    .dataframe tbody tr th:only-of-type {\n",
       "        vertical-align: middle;\n",
       "    }\n",
       "\n",
       "    .dataframe tbody tr th {\n",
       "        vertical-align: top;\n",
       "    }\n",
       "\n",
       "    .dataframe thead th {\n",
       "        text-align: right;\n",
       "    }\n",
       "</style>\n",
       "<table border=\"1\" class=\"dataframe\">\n",
       "  <thead>\n",
       "    <tr style=\"text-align: right;\">\n",
       "      <th></th>\n",
       "      <th>gender_female</th>\n",
       "      <th>gender_male</th>\n",
       "      <th>region_Chungcheung</th>\n",
       "      <th>region_Honam</th>\n",
       "      <th>region_Others</th>\n",
       "      <th>region_Sudo</th>\n",
       "      <th>region_Youngnam</th>\n",
       "      <th>edu</th>\n",
       "      <th>income</th>\n",
       "      <th>age</th>\n",
       "      <th>score_gov</th>\n",
       "      <th>score_progress</th>\n",
       "      <th>score_intention</th>\n",
       "      <th>vote</th>\n",
       "      <th>parties</th>\n",
       "    </tr>\n",
       "  </thead>\n",
       "  <tbody>\n",
       "    <tr>\n",
       "      <th>0</th>\n",
       "      <td>0</td>\n",
       "      <td>1</td>\n",
       "      <td>0</td>\n",
       "      <td>0</td>\n",
       "      <td>0</td>\n",
       "      <td>0</td>\n",
       "      <td>1</td>\n",
       "      <td>3</td>\n",
       "      <td>3</td>\n",
       "      <td>3</td>\n",
       "      <td>2</td>\n",
       "      <td>2</td>\n",
       "      <td>4.0</td>\n",
       "      <td>1</td>\n",
       "      <td>2</td>\n",
       "    </tr>\n",
       "    <tr>\n",
       "      <th>1</th>\n",
       "      <td>0</td>\n",
       "      <td>1</td>\n",
       "      <td>0</td>\n",
       "      <td>0</td>\n",
       "      <td>1</td>\n",
       "      <td>0</td>\n",
       "      <td>0</td>\n",
       "      <td>2</td>\n",
       "      <td>3</td>\n",
       "      <td>3</td>\n",
       "      <td>2</td>\n",
       "      <td>4</td>\n",
       "      <td>3.0</td>\n",
       "      <td>0</td>\n",
       "      <td>3</td>\n",
       "    </tr>\n",
       "    <tr>\n",
       "      <th>2</th>\n",
       "      <td>0</td>\n",
       "      <td>1</td>\n",
       "      <td>0</td>\n",
       "      <td>1</td>\n",
       "      <td>0</td>\n",
       "      <td>0</td>\n",
       "      <td>0</td>\n",
       "      <td>1</td>\n",
       "      <td>2</td>\n",
       "      <td>4</td>\n",
       "      <td>1</td>\n",
       "      <td>3</td>\n",
       "      <td>2.8</td>\n",
       "      <td>1</td>\n",
       "      <td>4</td>\n",
       "    </tr>\n",
       "    <tr>\n",
       "      <th>3</th>\n",
       "      <td>1</td>\n",
       "      <td>0</td>\n",
       "      <td>0</td>\n",
       "      <td>0</td>\n",
       "      <td>0</td>\n",
       "      <td>1</td>\n",
       "      <td>0</td>\n",
       "      <td>2</td>\n",
       "      <td>1</td>\n",
       "      <td>3</td>\n",
       "      <td>5</td>\n",
       "      <td>4</td>\n",
       "      <td>2.6</td>\n",
       "      <td>1</td>\n",
       "      <td>1</td>\n",
       "    </tr>\n",
       "    <tr>\n",
       "      <th>4</th>\n",
       "      <td>0</td>\n",
       "      <td>1</td>\n",
       "      <td>0</td>\n",
       "      <td>0</td>\n",
       "      <td>0</td>\n",
       "      <td>1</td>\n",
       "      <td>0</td>\n",
       "      <td>1</td>\n",
       "      <td>2</td>\n",
       "      <td>4</td>\n",
       "      <td>4</td>\n",
       "      <td>3</td>\n",
       "      <td>2.4</td>\n",
       "      <td>1</td>\n",
       "      <td>1</td>\n",
       "    </tr>\n",
       "  </tbody>\n",
       "</table>\n",
       "</div>"
      ],
      "text/plain": [
       "   gender_female  gender_male  region_Chungcheung  region_Honam  \\\n",
       "0              0            1                   0             0   \n",
       "1              0            1                   0             0   \n",
       "2              0            1                   0             1   \n",
       "3              1            0                   0             0   \n",
       "4              0            1                   0             0   \n",
       "\n",
       "   region_Others  region_Sudo  region_Youngnam  edu  income  age  score_gov  \\\n",
       "0              0            0                1    3       3    3          2   \n",
       "1              1            0                0    2       3    3          2   \n",
       "2              0            0                0    1       2    4          1   \n",
       "3              0            1                0    2       1    3          5   \n",
       "4              0            1                0    1       2    4          4   \n",
       "\n",
       "   score_progress  score_intention  vote  parties  \n",
       "0               2              4.0     1        2  \n",
       "1               4              3.0     0        3  \n",
       "2               3              2.8     1        4  \n",
       "3               4              2.6     1        1  \n",
       "4               3              2.4     1        1  "
      ]
     },
     "execution_count": 7,
     "metadata": {},
     "output_type": "execute_result"
    }
   ],
   "source": [
    "data = pd.read_csv('Fvote.csv')\n",
    "data.head()"
   ]
  },
  {
   "cell_type": "code",
   "execution_count": 19,
   "id": "e8e02e15-e7a4-414e-bb86-51d32acfeb9e",
   "metadata": {},
   "outputs": [],
   "source": [
    "# 특성치와 레이블 데이터셋 구분\n",
    "X = data[data.columns[:13]]\n",
    "y = data[['parties']]"
   ]
  },
  {
   "cell_type": "code",
   "execution_count": 20,
   "id": "eba8f70c-ac00-4374-a335-f1816d8acf36",
   "metadata": {},
   "outputs": [],
   "source": [
    "# 훈련데이터, 테스트 데이터 분할\n",
    "from sklearn.model_selection import train_test_split\n",
    "X_train, X_test, y_train, y_test = train_test_split(X,y,stratify = y, random_state=42)"
   ]
  },
  {
   "cell_type": "markdown",
   "id": "4170f874-a7b3-4d40-ad4c-1d38fdb2907e",
   "metadata": {},
   "source": [
    "---"
   ]
  },
  {
   "cell_type": "markdown",
   "id": "3900b13a-5466-4c41-9338-09628d9b66c4",
   "metadata": {},
   "source": [
    "### 8-2. 기본모델 학습\n"
   ]
  },
  {
   "cell_type": "code",
   "execution_count": 21,
   "id": "64646b57-736c-4c09-89f2-70a81115d9dd",
   "metadata": {},
   "outputs": [],
   "source": [
    "from sklearn.linear_model import LogisticRegression"
   ]
  },
  {
   "cell_type": "code",
   "execution_count": 22,
   "id": "b15fce83-14b7-4e3a-8d24-5b9e6c89e99a",
   "metadata": {},
   "outputs": [
    {
     "data": {
      "text/plain": [
       "LogisticRegression()"
      ]
     },
     "execution_count": 22,
     "metadata": {},
     "output_type": "execute_result"
    }
   ],
   "source": [
    "# 모델에 학습데이터 적용\n",
    "model = LogisticRegression()\n",
    "model.fit(X_train, y_train)"
   ]
  },
  {
   "cell_type": "code",
   "execution_count": 23,
   "id": "68ed8ea4-0fb3-4f9f-9bbc-bb700e1d116c",
   "metadata": {},
   "outputs": [
    {
     "data": {
      "text/plain": [
       "0.6265822784810127"
      ]
     },
     "execution_count": 23,
     "metadata": {},
     "output_type": "execute_result"
    }
   ],
   "source": [
    "# 예측 결과를 pred_train에 저장, 정확도 확인\n",
    "pred_train = model.predict(X_train)\n",
    "model.score(X_train, y_train)"
   ]
  },
  {
   "cell_type": "code",
   "execution_count": 24,
   "id": "cceca6d9-9925-434b-a756-6c29bac4c9a6",
   "metadata": {},
   "outputs": [
    {
     "data": {
      "text/plain": [
       "0.5471698113207547"
      ]
     },
     "execution_count": 24,
     "metadata": {},
     "output_type": "execute_result"
    }
   ],
   "source": [
    "# test데이터 예측결과 저장\n",
    "pred_test = model.predict(X_test)\n",
    "model.score(X_test, y_test)"
   ]
  },
  {
   "cell_type": "code",
   "execution_count": 25,
   "id": "63090fec-866c-4529-8655-4adae73084ff",
   "metadata": {},
   "outputs": [
    {
     "name": "stdout",
     "output_type": "stream",
     "text": [
      "훈련데이터 오차행렬:\n",
      " [[21  2  3 11]\n",
      " [ 1 26  2 11]\n",
      " [ 6  2  5  6]\n",
      " [ 7  7  1 47]]\n"
     ]
    }
   ],
   "source": [
    "# 학습데이터 혼동행렬보기\n",
    "from sklearn.metrics import confusion_matrix\n",
    "confusion_train = confusion_matrix(y_train, pred_train)\n",
    "print('훈련데이터 오차행렬:\\n', confusion_train)"
   ]
  },
  {
   "cell_type": "code",
   "execution_count": 26,
   "id": "a7f11132-e441-415d-aba8-9774ae4cca2f",
   "metadata": {},
   "outputs": [
    {
     "name": "stdout",
     "output_type": "stream",
     "text": [
      "테스트데이터 오차행렬:\n",
      " [[ 7  2  1  3]\n",
      " [ 1  9  1  2]\n",
      " [ 1  2  1  2]\n",
      " [ 2  5  2 12]]\n"
     ]
    }
   ],
   "source": [
    "# 테스트데이터의 혼동행렬 보기(정분류, 오분류 교차표)\n",
    "confusion_test=confusion_matrix(y_test, pred_test)\n",
    "print(\"테스트데이터 오차행렬:\\n\", confusion_test)"
   ]
  },
  {
   "cell_type": "markdown",
   "id": "0a4fd623-70ce-4b2d-8ee7-f73b358baa52",
   "metadata": {},
   "source": [
    "---"
   ]
  },
  {
   "cell_type": "markdown",
   "id": "75b9a24a-f849-45e9-947e-498c07dee667",
   "metadata": {},
   "source": [
    "### 8-3. Grid Search"
   ]
  },
  {
   "cell_type": "code",
   "execution_count": 28,
   "id": "ecac1bc1-c6ef-4863-a40f-1544cac854c5",
   "metadata": {},
   "outputs": [],
   "source": [
    "# 그리드서치를 위한 라이브러리\n",
    "from sklearn.model_selection import GridSearchCV"
   ]
  },
  {
   "cell_type": "code",
   "execution_count": 29,
   "id": "bbadba70-30e1-403d-b2eb-6141b59bb143",
   "metadata": {},
   "outputs": [],
   "source": [
    "param = {'C' : [0.001,0.01, 0.1, 1, 10, 100]}"
   ]
  },
  {
   "cell_type": "code",
   "execution_count": 30,
   "id": "f42932b2-40f0-4b84-85ad-b52a9455add6",
   "metadata": {},
   "outputs": [
    {
     "data": {
      "text/plain": [
       "GridSearchCV(cv=5, estimator=LogisticRegression(),\n",
       "             param_grid={'C': [0.001, 0.01, 0.1, 1, 10, 100]},\n",
       "             return_train_score=True)"
      ]
     },
     "execution_count": 30,
     "metadata": {},
     "output_type": "execute_result"
    }
   ],
   "source": [
    "# 로지스틱 모델에 적용\n",
    "grid_search = GridSearchCV(LogisticRegression(), param, cv=5, return_train_score=True)\n",
    "grid_search.fit(X_train, y_train)"
   ]
  },
  {
   "cell_type": "code",
   "execution_count": 33,
   "id": "8f8e6195-fa8a-4443-ae15-d35e11a9d862",
   "metadata": {},
   "outputs": [
    {
     "name": "stdout",
     "output_type": "stream",
     "text": [
      "Best param: {'C': 0.1}\n",
      "Best Cross-validity Score : 0.556\n"
     ]
    }
   ],
   "source": [
    "# 정확도가 가장 높은 하이퍼 파라미터 및 정확도 제시\n",
    "print(f'Best param: {grid_search.best_params_}')\n",
    "print(f'Best Cross-validity Score : {round(grid_search.best_score_,3)}')"
   ]
  },
  {
   "cell_type": "code",
   "execution_count": 34,
   "id": "ba33f122-8274-45f8-a733-f9feeb5c2618",
   "metadata": {},
   "outputs": [
    {
     "name": "stdout",
     "output_type": "stream",
     "text": [
      "Test set Score: 0.556\n"
     ]
    }
   ],
   "source": [
    "# 테스트 데이터 적용, 정확도 결과\n",
    "print(f'Test set Score: {round(grid_search.best_score_,3)}')"
   ]
  },
  {
   "cell_type": "markdown",
   "id": "7de75a9c-33f1-41d7-b99f-00df90f8077b",
   "metadata": {},
   "source": [
    "---"
   ]
  },
  {
   "cell_type": "markdown",
   "id": "143207a1-b6e6-4a88-9e89-4c6e14277fbc",
   "metadata": {},
   "source": [
    "### 8-4. Random Search"
   ]
  },
  {
   "cell_type": "code",
   "execution_count": 36,
   "id": "362c1a88-d2b1-4440-a606-d20f28731460",
   "metadata": {},
   "outputs": [],
   "source": [
    "# 랜덤서치를 위한 라이브러리\n",
    "from sklearn.model_selection import RandomizedSearchCV\n",
    "from scipy.stats import randint"
   ]
  },
  {
   "cell_type": "code",
   "execution_count": 37,
   "id": "ac70bfe6-5122-4910-bad0-f98b5c331954",
   "metadata": {},
   "outputs": [],
   "source": [
    "param = {'C' : randint(low=0.001, high=100)}"
   ]
  },
  {
   "cell_type": "code",
   "execution_count": 40,
   "id": "eb208b4e-83af-4f0a-81c4-04f641b89e23",
   "metadata": {},
   "outputs": [
    {
     "data": {
      "text/plain": [
       "RandomizedSearchCV(cv=5, estimator=LogisticRegression(), n_iter=1000,\n",
       "                   param_distributions={'C': <scipy.stats._distn_infrastructure.rv_frozen object at 0x00000187D1B45CD0>},\n",
       "                   return_train_score=True)"
      ]
     },
     "execution_count": 40,
     "metadata": {},
     "output_type": "execute_result"
    }
   ],
   "source": [
    "random_search = RandomizedSearchCV(LogisticRegression(), param, cv=5,\n",
    "                                   n_iter = 1000,\n",
    "                                   return_train_score=True)\n",
    "random_search.fit(X_train, y_train)"
   ]
  },
  {
   "cell_type": "code",
   "execution_count": 43,
   "id": "f2a61ab8-2aba-4297-8f10-e7021a934221",
   "metadata": {},
   "outputs": [
    {
     "name": "stdout",
     "output_type": "stream",
     "text": [
      "Best Parameter: {'C': 2}\n",
      "Best Cross-validity Score: 0.544\n"
     ]
    }
   ],
   "source": [
    "# 정확도가 가장 높은 하이퍼파라미터 및 정확도 제시\n",
    "print(f\"Best Parameter: {random_search.best_params_}\")\n",
    "print(f\"Best Cross-validity Score: {round(random_search.best_score_,3)}\")"
   ]
  },
  {
   "cell_type": "code",
   "execution_count": 44,
   "id": "998f0917-8f48-4dbf-9e94-73b8d665d245",
   "metadata": {},
   "outputs": [
    {
     "name": "stdout",
     "output_type": "stream",
     "text": [
      "Test set Score: 0.528\n"
     ]
    }
   ],
   "source": [
    "# 테스트 데이터에 최적 텀색 하이퍼 파라미터 적용 정확도 결과\n",
    "print(\"Test set Score: {:.3f}\".format(random_search.score(X_test, y_test)))"
   ]
  }
 ],
 "metadata": {
  "kernelspec": {
   "display_name": "Python 3",
   "language": "python",
   "name": "python3"
  },
  "language_info": {
   "codemirror_mode": {
    "name": "ipython",
    "version": 3
   },
   "file_extension": ".py",
   "mimetype": "text/x-python",
   "name": "python",
   "nbconvert_exporter": "python",
   "pygments_lexer": "ipython3",
   "version": "3.8.8"
  }
 },
 "nbformat": 4,
 "nbformat_minor": 5
}
