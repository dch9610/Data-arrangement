{
 "cells": [
  {
   "cell_type": "markdown",
   "metadata": {},
   "source": [
    "# 선형회귀모델"
   ]
  },
  {
   "cell_type": "markdown",
   "metadata": {},
   "source": [
    "---"
   ]
  },
  {
   "cell_type": "markdown",
   "metadata": {},
   "source": [
    "## 1. 분석 데이터 준비"
   ]
  },
  {
   "cell_type": "code",
   "execution_count": 1,
   "metadata": {},
   "outputs": [],
   "source": [
    "import warnings\n",
    "warnings.filterwarnings(\"ignore\")\n",
    "import pandas as pd"
   ]
  },
  {
   "cell_type": "code",
   "execution_count": 2,
   "metadata": {},
   "outputs": [
    {
     "data": {
      "text/html": [
       "<div>\n",
       "<style scoped>\n",
       "    .dataframe tbody tr th:only-of-type {\n",
       "        vertical-align: middle;\n",
       "    }\n",
       "\n",
       "    .dataframe tbody tr th {\n",
       "        vertical-align: top;\n",
       "    }\n",
       "\n",
       "    .dataframe thead th {\n",
       "        text-align: right;\n",
       "    }\n",
       "</style>\n",
       "<table border=\"1\" class=\"dataframe\">\n",
       "  <thead>\n",
       "    <tr style=\"text-align: right;\">\n",
       "      <th></th>\n",
       "      <th>housing_age</th>\n",
       "      <th>income</th>\n",
       "      <th>bedrooms</th>\n",
       "      <th>households</th>\n",
       "      <th>rooms</th>\n",
       "      <th>house_value</th>\n",
       "    </tr>\n",
       "  </thead>\n",
       "  <tbody>\n",
       "    <tr>\n",
       "      <th>0</th>\n",
       "      <td>23</td>\n",
       "      <td>6.7770</td>\n",
       "      <td>0.141112</td>\n",
       "      <td>2.442244</td>\n",
       "      <td>8.103960</td>\n",
       "      <td>500000</td>\n",
       "    </tr>\n",
       "    <tr>\n",
       "      <th>1</th>\n",
       "      <td>49</td>\n",
       "      <td>6.0199</td>\n",
       "      <td>0.160984</td>\n",
       "      <td>2.726688</td>\n",
       "      <td>5.752412</td>\n",
       "      <td>500000</td>\n",
       "    </tr>\n",
       "    <tr>\n",
       "      <th>2</th>\n",
       "      <td>35</td>\n",
       "      <td>5.1155</td>\n",
       "      <td>0.249061</td>\n",
       "      <td>1.902676</td>\n",
       "      <td>3.888078</td>\n",
       "      <td>500000</td>\n",
       "    </tr>\n",
       "    <tr>\n",
       "      <th>3</th>\n",
       "      <td>32</td>\n",
       "      <td>4.7109</td>\n",
       "      <td>0.231383</td>\n",
       "      <td>1.913669</td>\n",
       "      <td>4.508393</td>\n",
       "      <td>500000</td>\n",
       "    </tr>\n",
       "    <tr>\n",
       "      <th>4</th>\n",
       "      <td>21</td>\n",
       "      <td>4.5625</td>\n",
       "      <td>0.255583</td>\n",
       "      <td>3.092664</td>\n",
       "      <td>4.667954</td>\n",
       "      <td>500000</td>\n",
       "    </tr>\n",
       "  </tbody>\n",
       "</table>\n",
       "</div>"
      ],
      "text/plain": [
       "   housing_age  income  bedrooms  households     rooms  house_value\n",
       "0           23  6.7770  0.141112    2.442244  8.103960       500000\n",
       "1           49  6.0199  0.160984    2.726688  5.752412       500000\n",
       "2           35  5.1155  0.249061    1.902676  3.888078       500000\n",
       "3           32  4.7109  0.231383    1.913669  4.508393       500000\n",
       "4           21  4.5625  0.255583    3.092664  4.667954       500000"
      ]
     },
     "execution_count": 2,
     "metadata": {},
     "output_type": "execute_result"
    }
   ],
   "source": [
    "data = pd.read_csv('data/house_price.csv')\n",
    "data.head()"
   ]
  },
  {
   "cell_type": "code",
   "execution_count": 3,
   "metadata": {},
   "outputs": [],
   "source": [
    "# 특성데이터 분류\n",
    "X=data[data.columns[1:5]]\n",
    "y=data[[\"house_value\"]]"
   ]
  },
  {
   "cell_type": "code",
   "execution_count": 4,
   "metadata": {},
   "outputs": [],
   "source": [
    "# 학습, 테스트 데이터 분류\n",
    "from sklearn.model_selection import train_test_split\n",
    "X_train, X_test, y_train, y_test=train_test_split(X, y, random_state=42)"
   ]
  },
  {
   "cell_type": "code",
   "execution_count": 5,
   "metadata": {},
   "outputs": [],
   "source": [
    "# 정규화\n",
    "from sklearn.preprocessing import MinMaxScaler\n",
    "scaler=MinMaxScaler()\n",
    "scaler.fit(X_train)\n",
    "X_scaled_train=scaler.transform(X_train)\n",
    "X_scaled_test=scaler.transform(X_test)"
   ]
  },
  {
   "cell_type": "markdown",
   "metadata": {},
   "source": [
    "## 2. Statmodel 적용\n",
    "- 통계분석을 위한 Python 패키지"
   ]
  },
  {
   "cell_type": "code",
   "execution_count": 7,
   "metadata": {},
   "outputs": [
    {
     "data": {
      "text/html": [
       "<div>\n",
       "<style scoped>\n",
       "    .dataframe tbody tr th:only-of-type {\n",
       "        vertical-align: middle;\n",
       "    }\n",
       "\n",
       "    .dataframe tbody tr th {\n",
       "        vertical-align: top;\n",
       "    }\n",
       "\n",
       "    .dataframe thead th {\n",
       "        text-align: right;\n",
       "    }\n",
       "</style>\n",
       "<table border=\"1\" class=\"dataframe\">\n",
       "  <thead>\n",
       "    <tr style=\"text-align: right;\">\n",
       "      <th></th>\n",
       "      <th>const</th>\n",
       "      <th>income</th>\n",
       "      <th>bedrooms</th>\n",
       "      <th>households</th>\n",
       "      <th>rooms</th>\n",
       "    </tr>\n",
       "  </thead>\n",
       "  <tbody>\n",
       "    <tr>\n",
       "      <th>17235</th>\n",
       "      <td>1.0</td>\n",
       "      <td>2.0577</td>\n",
       "      <td>0.185449</td>\n",
       "      <td>3.945455</td>\n",
       "      <td>6.372727</td>\n",
       "    </tr>\n",
       "    <tr>\n",
       "      <th>14220</th>\n",
       "      <td>1.0</td>\n",
       "      <td>4.0000</td>\n",
       "      <td>0.171566</td>\n",
       "      <td>2.741497</td>\n",
       "      <td>6.363946</td>\n",
       "    </tr>\n",
       "    <tr>\n",
       "      <th>3280</th>\n",
       "      <td>1.0</td>\n",
       "      <td>5.8904</td>\n",
       "      <td>0.154485</td>\n",
       "      <td>2.969325</td>\n",
       "      <td>6.651840</td>\n",
       "    </tr>\n",
       "    <tr>\n",
       "      <th>15279</th>\n",
       "      <td>1.0</td>\n",
       "      <td>0.9393</td>\n",
       "      <td>0.241460</td>\n",
       "      <td>3.257256</td>\n",
       "      <td>4.518470</td>\n",
       "    </tr>\n",
       "    <tr>\n",
       "      <th>14727</th>\n",
       "      <td>1.0</td>\n",
       "      <td>2.7143</td>\n",
       "      <td>0.194977</td>\n",
       "      <td>2.679287</td>\n",
       "      <td>6.385301</td>\n",
       "    </tr>\n",
       "  </tbody>\n",
       "</table>\n",
       "</div>"
      ],
      "text/plain": [
       "       const  income  bedrooms  households     rooms\n",
       "17235    1.0  2.0577  0.185449    3.945455  6.372727\n",
       "14220    1.0  4.0000  0.171566    2.741497  6.363946\n",
       "3280     1.0  5.8904  0.154485    2.969325  6.651840\n",
       "15279    1.0  0.9393  0.241460    3.257256  4.518470\n",
       "14727    1.0  2.7143  0.194977    2.679287  6.385301"
      ]
     },
     "execution_count": 7,
     "metadata": {},
     "output_type": "execute_result"
    }
   ],
   "source": [
    "import statsmodels.api as sm\n",
    "x_train_new = sm.add_constant(X_train)\n",
    "x_test_new = sm.add_constant(X_test)\n",
    "x_train_new.head()"
   ]
  },
  {
   "cell_type": "code",
   "execution_count": 8,
   "metadata": {},
   "outputs": [
    {
     "name": "stdout",
     "output_type": "stream",
     "text": [
      "                            OLS Regression Results                            \n",
      "==============================================================================\n",
      "Dep. Variable:            house_value   R-squared:                       0.546\n",
      "Model:                            OLS   Adj. R-squared:                  0.545\n",
      "Method:                 Least Squares   F-statistic:                     3980.\n",
      "Date:                Mon, 29 Nov 2021   Prob (F-statistic):               0.00\n",
      "Time:                        14:52:02   Log-Likelihood:            -1.6570e+05\n",
      "No. Observations:               13266   AIC:                         3.314e+05\n",
      "Df Residuals:                   13261   BIC:                         3.315e+05\n",
      "Df Model:                           4                                         \n",
      "Covariance Type:            nonrobust                                         \n",
      "==============================================================================\n",
      "                 coef    std err          t      P>|t|      [0.025      0.975]\n",
      "------------------------------------------------------------------------------\n",
      "const      -2.849e+04   8884.093     -3.206      0.001   -4.59e+04   -1.11e+04\n",
      "income      5.588e+04    500.997    111.538      0.000    5.49e+04    5.69e+04\n",
      "bedrooms    5.586e+05   2.02e+04     27.637      0.000    5.19e+05    5.98e+05\n",
      "households -2.586e+04    775.128    -33.356      0.000   -2.74e+04   -2.43e+04\n",
      "rooms      -5810.6069    834.780     -6.961      0.000   -7446.896   -4174.318\n",
      "==============================================================================\n",
      "Omnibus:                     1975.541   Durbin-Watson:                   2.016\n",
      "Prob(Omnibus):                  0.000   Jarque-Bera (JB):             4568.878\n",
      "Skew:                           0.866   Prob(JB):                         0.00\n",
      "Kurtosis:                       5.294   Cond. No.                         284.\n",
      "==============================================================================\n",
      "\n",
      "Notes:\n",
      "[1] Standard Errors assume that the covariance matrix of the errors is correctly specified.\n"
     ]
    }
   ],
   "source": [
    "multi_model = sm.OLS(y_train, x_train_new).fit()\n",
    "print(multi_model.summary())"
   ]
  },
  {
   "cell_type": "markdown",
   "metadata": {},
   "source": [
    "## 3. Scikit-learn 적용"
   ]
  },
  {
   "cell_type": "code",
   "execution_count": 9,
   "metadata": {},
   "outputs": [
    {
     "data": {
      "text/plain": [
       "0.5455724996358273"
      ]
     },
     "execution_count": 9,
     "metadata": {},
     "output_type": "execute_result"
    }
   ],
   "source": [
    "from sklearn.linear_model import LinearRegression\n",
    "model=LinearRegression()\n",
    "model.fit(X_scaled_train, y_train)\n",
    "pred_train=model.predict(X_scaled_train)\n",
    "model.score(X_scaled_train, y_train)"
   ]
  },
  {
   "cell_type": "code",
   "execution_count": 10,
   "metadata": {},
   "outputs": [
    {
     "data": {
      "text/plain": [
       "0.562684388358716"
      ]
     },
     "execution_count": 10,
     "metadata": {},
     "output_type": "execute_result"
    }
   ],
   "source": [
    "pred_test=model.predict(X_scaled_test)\n",
    "model.score(X_scaled_test, y_test)"
   ]
  },
  {
   "cell_type": "code",
   "execution_count": 11,
   "metadata": {},
   "outputs": [
    {
     "name": "stdout",
     "output_type": "stream",
     "text": [
      "훈련   데이터 RMSE: 64340.33927728243\n",
      "테스트 데이터 RMSE: 63220.79672157402\n"
     ]
    }
   ],
   "source": [
    "# RMSE (Root Mean Squared Error)\n",
    "import numpy as np\n",
    "from sklearn.metrics import mean_squared_error \n",
    "MSE_train = mean_squared_error(y_train, pred_train)\n",
    "MSE_test = mean_squared_error(y_test, pred_test)\n",
    "print(\"훈련   데이터 RMSE:\", np.sqrt(MSE_train))\n",
    "print(\"테스트 데이터 RMSE:\", np.sqrt(MSE_test))"
   ]
  },
  {
   "cell_type": "code",
   "execution_count": 12,
   "metadata": {},
   "outputs": [
    {
     "data": {
      "text/plain": [
       "47230.874701637375"
      ]
     },
     "execution_count": 12,
     "metadata": {},
     "output_type": "execute_result"
    }
   ],
   "source": [
    "# 기타 선형 모델평가지표 : MAE (Mean Absolute Error)\n",
    "from sklearn.metrics import mean_absolute_error\n",
    "mean_absolute_error(y_test, pred_test)"
   ]
  },
  {
   "cell_type": "code",
   "execution_count": 13,
   "metadata": {},
   "outputs": [
    {
     "data": {
      "text/plain": [
       "house_value    30.571439\n",
       "dtype: float64"
      ]
     },
     "execution_count": 13,
     "metadata": {},
     "output_type": "execute_result"
    }
   ],
   "source": [
    "# 기타 선형 모델평가지표 : MAPE (Mean Absolute Percentage Error)\n",
    "def MAPE(y_test, y_pred):\n",
    "    return np.mean(np.abs((y_test - pred_test) / y_test)) * 100\n",
    "MAPE(y_test, pred_test)"
   ]
  },
  {
   "cell_type": "code",
   "execution_count": 14,
   "metadata": {},
   "outputs": [
    {
     "data": {
      "text/plain": [
       "house_value   -12.37266\n",
       "dtype: float64"
      ]
     },
     "execution_count": 14,
     "metadata": {},
     "output_type": "execute_result"
    }
   ],
   "source": [
    "# 기타 선형 모델평가지표 : MPE (Mean Percentage Error)\n",
    "def MAE(y_test, y_pred):\n",
    "    return np.mean((y_test - pred_test) / y_test) * 100\n",
    "MAE(y_test, pred_test)"
   ]
  }
 ],
 "metadata": {
  "kernelspec": {
   "display_name": "Python 3",
   "language": "python",
   "name": "python3"
  },
  "language_info": {
   "codemirror_mode": {
    "name": "ipython",
    "version": 3
   },
   "file_extension": ".py",
   "mimetype": "text/x-python",
   "name": "python",
   "nbconvert_exporter": "python",
   "pygments_lexer": "ipython3",
   "version": "3.8.5"
  }
 },
 "nbformat": 4,
 "nbformat_minor": 4
}
