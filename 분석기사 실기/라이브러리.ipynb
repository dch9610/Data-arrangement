{
 "cells": [
  {
   "cell_type": "markdown",
   "id": "debeb3ef-8401-473d-ac81-ae36e836db34",
   "metadata": {},
   "source": [
    "## 기본"
   ]
  },
  {
   "cell_type": "code",
   "execution_count": null,
   "id": "fb329886-a1b4-4c17-aae0-33f6af4a1b9b",
   "metadata": {},
   "outputs": [],
   "source": [
    "import pandas as pd\n",
    "import numpy as np\n",
    "import matplotlib.pyplot as plt\n",
    "import seaborn as sns\n",
    "plt.style.use('seaborn-whitegrid') # sns에 흰색 그리드 유지\n",
    "import missingno # 결측치 시각화\n",
    "\n",
    "# 경고 메시지가 안나오게 하기\n",
    "import warnings\n",
    "warnings.filterwarnings('ignore')"
   ]
  },
  {
   "cell_type": "markdown",
   "id": "3e24b9ba-5cf9-48f1-8066-e543c5565f79",
   "metadata": {},
   "source": [
    "### 그래프"
   ]
  },
  {
   "cell_type": "code",
   "execution_count": null,
   "id": "6fd0378b-669d-45fb-bc1b-71d769b4b1d2",
   "metadata": {},
   "outputs": [],
   "source": [
    "# plt.rcParams['font.family'] = 'Malgun Gothic'   # 윈도우용\n",
    "plt.rcParams['font.family'] = 'AppleGothic'   # 맥용\n",
    "plt.rcParams['font.size'] = 10                 # 폰트 크기\n",
    "plt.rcParams['figure.figsize'] = 10,8          # 그래프 크기\n",
    "plt.rcParams['axes.unicode_minus'] = False     # - 기호 깨짐 방지"
   ]
  },
  {
   "cell_type": "markdown",
   "id": "e4bcf325-7144-4741-94c9-d452daef873b",
   "metadata": {},
   "source": [
    "## 교차 검증 및 정규화"
   ]
  },
  {
   "cell_type": "code",
   "execution_count": null,
   "id": "de6f6d4f-e8d5-453a-9987-03a8838c1df5",
   "metadata": {},
   "outputs": [],
   "source": [
    "# KFold (교차 검증을 사용하기 위해)\n",
    "from sklearn.model_selection import KFold\n",
    "from sklearn.model_selection import StratifiedKFold\n",
    "\n",
    "# 교차검증 함수\n",
    "from sklearn.model_selection import cross_val_score\n",
    "from sklearn.model_selection import cross_validate\n",
    "\n",
    "# 학습 데이터와 검증 데이터로 나누는 함수\n",
    "from sklearn.model_selection import train_test_split\n",
    "\n",
    "# 데이터 전처리\n",
    "from sklearn.preprocessing import LabelEncoder\n",
    "from sklearn.preprocessing import StandardScaler\n",
    "\n",
    "# 하이퍼 파라미터 튜닝\n",
    "from sklearn.model_selection import GridSearchCV\n",
    "\n",
    "# 평가 함수\n",
    "from sklearn.metrics import accuracy_score\n",
    "\n",
    "# 저장\n",
    "import pickle\n",
    "\n",
    "# 시간 모듈\n",
    "import time"
   ]
  },
  {
   "cell_type": "markdown",
   "id": "309d7ea6-4579-44e1-bffd-a0630057ecaa",
   "metadata": {},
   "source": [
    "## 머신러닝 알고리즘 - 분류"
   ]
  },
  {
   "cell_type": "code",
   "execution_count": null,
   "id": "b284c3e7-a9be-44d3-9a08-36dd3c6bceea",
   "metadata": {},
   "outputs": [],
   "source": [
    "from sklearn.neighbors import KNeighborsClassifier\n",
    "from sklearn.linear_model import LogisticRegression\n",
    "from sklearn.svm import SVC\n",
    "from sklearn.tree import DecisionTreeClassifier\n",
    "from sklearn.ensemble import RandomForestClassifier\n",
    "from sklearn.ensemble import GradientBoostingClassifier\n",
    "from sklearn.ensemble import ExtraTreesClassifier\n",
    "from sklearn.ensemble import AdaBoostClassifier\n",
    "from sklearn.gaussian_process import GaussianProcessClassifier\n",
    "from sklearn.naive_bayes import GaussianNB\n",
    "from sklearn.ensemble import BaggingClassifier\n",
    "from sklearn.ensemble import VotingClassifier\n",
    "from xgboost import XGBClassifier"
   ]
  },
  {
   "cell_type": "markdown",
   "id": "7b677bdc-53d4-42ff-bef2-99842b61605f",
   "metadata": {},
   "source": [
    "## 머신러닝 알고리즘 - 회귀"
   ]
  },
  {
   "cell_type": "code",
   "execution_count": null,
   "id": "9b5b6441-eff0-449f-9125-9b5d2310b6db",
   "metadata": {},
   "outputs": [],
   "source": [
    "from sklearn.neighbors import KNeighborsRegressor\n",
    "from sklearn.linear_model import LinearRegression\n",
    "from sklearn.linear_model import Ridge\n",
    "from sklearn.linear_model import Lasso\n",
    "from sklearn.linear_model import ElasticNet\n",
    "from sklearn.svm import SVR\n",
    "from sklearn.tree import DecisionTreeRegressor\n",
    "from sklearn.ensemble import RandomForestRegressor\n",
    "from sklearn.ensemble import GradientBoostingRegressor\n",
    "from xgboost import  XGBRegressor"
   ]
  },
  {
   "cell_type": "markdown",
   "id": "23265f14-6c70-40ad-946c-ed11648227bc",
   "metadata": {},
   "source": [
    "## 머신러닝 알고리즘 - 군집"
   ]
  },
  {
   "cell_type": "code",
   "execution_count": null,
   "id": "ff5e2b50-3084-407e-9fb4-3a49a9a8de60",
   "metadata": {},
   "outputs": [],
   "source": [
    "from sklearn.cluster import KMeans\n",
    "from sklearn.cluster import MeanShift"
   ]
  },
  {
   "cell_type": "markdown",
   "id": "d5b7f5e3-4bc4-42d4-bf00-c7532d5333b6",
   "metadata": {},
   "source": [
    "## 머신러닝 알고리즘 - 차원축소"
   ]
  },
  {
   "cell_type": "code",
   "execution_count": null,
   "id": "bf74351a-cb55-4237-9264-c5ec56b43235",
   "metadata": {
    "tags": []
   },
   "outputs": [],
   "source": [
    "from sklearn.decomposition import PCA\n",
    "from sklearn.discriminant_analysis import LinearDiscriminantAnalysis"
   ]
  },
  {
   "cell_type": "markdown",
   "id": "61de5c64-c979-42d7-b044-4a8dc569f3a5",
   "metadata": {},
   "source": [
    "## 딥러닝 알고리즘"
   ]
  },
  {
   "cell_type": "code",
   "execution_count": null,
   "id": "a8bc5859-0c42-421d-8369-7fc19caa4069",
   "metadata": {},
   "outputs": [],
   "source": [
    "from keras.models import Sequential\n",
    "from keras.layers import Dense\n",
    "import tensorflow as tf\n",
    "\n",
    "# 다중분류를 위한 원핫 인코더\n",
    "from keras.utils import to_categorical\n",
    "\n",
    "# 학습 자동 중단\n",
    "from keras.callbacks import EarlyStopping\n",
    "\n",
    "# 모델 저장\n",
    "from keras.callbacks import ModelCheckpoint\n",
    "\n",
    "# 저장된 딥러닝 모델 불러오기\n",
    "from keras.models import load_model"
   ]
  }
 ],
 "metadata": {
  "kernelspec": {
   "display_name": "Python 3",
   "language": "python",
   "name": "python3"
  },
  "language_info": {
   "codemirror_mode": {
    "name": "ipython",
    "version": 3
   },
   "file_extension": ".py",
   "mimetype": "text/x-python",
   "name": "python",
   "nbconvert_exporter": "python",
   "pygments_lexer": "ipython3",
   "version": "3.8.8"
  }
 },
 "nbformat": 4,
 "nbformat_minor": 5
}
