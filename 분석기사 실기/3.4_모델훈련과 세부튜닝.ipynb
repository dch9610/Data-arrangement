{
 "cells": [
  {
   "cell_type": "markdown",
   "id": "82cb023e-c3e1-4342-b027-7bd08e52b9ed",
   "metadata": {},
   "source": [
    "## 6. 모델훈련과 세부튜닝"
   ]
  },
  {
   "cell_type": "markdown",
   "id": "e6e6746e-9f13-4c98-ab33-e496baf943fd",
   "metadata": {},
   "source": [
    "### 6-1 데이터 불러오기 및 데이터셋 분할"
   ]
  },
  {
   "cell_type": "code",
   "execution_count": 1,
   "id": "437e22f9-0bd8-477c-9a6f-5a1da998b64e",
   "metadata": {},
   "outputs": [],
   "source": [
    "import pandas as pd\n",
    "import warnings\n",
    "warnings.filterwarnings('ignore')"
   ]
  },
  {
   "cell_type": "code",
   "execution_count": 2,
   "id": "3bc7fb7e-1905-46ef-a584-8e6bb43415a6",
   "metadata": {},
   "outputs": [],
   "source": [
    "data = pd.read_csv('Fvote.csv')"
   ]
  },
  {
   "cell_type": "code",
   "execution_count": 3,
   "id": "5d6c6a84-7faf-44a5-ab20-12395f62d758",
   "metadata": {},
   "outputs": [],
   "source": [
    "# 특성치와 레이블 데이터셋 구분\n",
    "X = data[data.columns[:13]]\n",
    "y = data[['vote']]"
   ]
  },
  {
   "cell_type": "markdown",
   "id": "28f0473c-ceb5-4c8e-af89-ebbadeab3ce5",
   "metadata": {},
   "source": [
    "### 6-2 데이터 분할하기"
   ]
  },
  {
   "cell_type": "code",
   "execution_count": 7,
   "id": "90e936a7-f288-4890-b8b6-3f8d1613d588",
   "metadata": {},
   "outputs": [],
   "source": [
    "# 종속이 범주형일때 stratify =\n",
    "from sklearn.model_selection import train_test_split\n",
    "X_train, X_test, y_train, y_test = train_test_split(X,y,stratify= y ,random_state=42)"
   ]
  },
  {
   "cell_type": "markdown",
   "id": "0b785929-380a-4445-b50c-7a29024bd55c",
   "metadata": {},
   "source": [
    "### 6-3. Grid Search"
   ]
  },
  {
   "cell_type": "code",
   "execution_count": 8,
   "id": "56dd1ea0-de38-4c75-b9d1-c2ba77001007",
   "metadata": {},
   "outputs": [],
   "source": [
    "from sklearn.model_selection import GridSearchCV\n",
    "param_grid = {'C' : [0.001, 0.01, 0.1, 1, 10, 100]}"
   ]
  },
  {
   "cell_type": "code",
   "execution_count": 10,
   "id": "4a0ae115-024d-4b5e-bebe-e63eede96a7b",
   "metadata": {},
   "outputs": [],
   "source": [
    "# 로지스틱 알고리즘 적용\n",
    "from sklearn.linear_model import LogisticRegression\n",
    "logi = LogisticRegression()"
   ]
  },
  {
   "cell_type": "code",
   "execution_count": 12,
   "id": "3744da58-da46-4be6-814a-80eb775c063b",
   "metadata": {},
   "outputs": [
    {
     "data": {
      "text/plain": [
       "GridSearchCV(cv=5, estimator=LogisticRegression(),\n",
       "             param_grid={'C': [0.001, 0.01, 0.1, 1, 10, 100]},\n",
       "             return_train_score=True)"
      ]
     },
     "execution_count": 12,
     "metadata": {},
     "output_type": "execute_result"
    }
   ],
   "source": [
    "# 그리드 서치를 모델에 적용\n",
    "# 교차검증 5 설정, 훈련데이터 정확도 결과 제시하기(True)\n",
    "grid_search = GridSearchCV(logi, param_grid, cv=5, return_train_score=True)\n",
    "grid_search.fit(X_train, y_train)"
   ]
  },
  {
   "cell_type": "code",
   "execution_count": 19,
   "id": "8fca5680-098d-4c19-97ac-b45dff4b2dc3",
   "metadata": {},
   "outputs": [
    {
     "name": "stdout",
     "output_type": "stream",
     "text": [
      "Best Parameter: {'C': 10}\n",
      "Best Cross_validity Score: 0.727\n"
     ]
    }
   ],
   "source": [
    "# 정확도가 가장 높은 하이퍼 파라미터 및 정확도 제시\n",
    "print(f'Best Parameter: {grid_search.best_params_}')\n",
    "print(f'Best Cross_validity Score: {round(grid_search.best_score_,3)}')"
   ]
  },
  {
   "cell_type": "code",
   "execution_count": 21,
   "id": "e7fa6628-6aed-4401-b85d-45e878eb3e90",
   "metadata": {},
   "outputs": [
    {
     "name": "stdout",
     "output_type": "stream",
     "text": [
      "Test set Score: 0.679\n"
     ]
    }
   ],
   "source": [
    "# 테스트 데이터에 정확도 결과\n",
    "print(f'Test set Score: {round(grid_search.score(X_test, y_test),3)}')"
   ]
  },
  {
   "cell_type": "code",
   "execution_count": 22,
   "id": "77b74a99-8ad5-45ae-abd7-53a7b4ea0326",
   "metadata": {},
   "outputs": [
    {
     "data": {
      "text/html": [
       "<div>\n",
       "<style scoped>\n",
       "    .dataframe tbody tr th:only-of-type {\n",
       "        vertical-align: middle;\n",
       "    }\n",
       "\n",
       "    .dataframe tbody tr th {\n",
       "        vertical-align: top;\n",
       "    }\n",
       "\n",
       "    .dataframe thead th {\n",
       "        text-align: right;\n",
       "    }\n",
       "</style>\n",
       "<table border=\"1\" class=\"dataframe\">\n",
       "  <thead>\n",
       "    <tr style=\"text-align: right;\">\n",
       "      <th></th>\n",
       "      <th>mean_fit_time</th>\n",
       "      <th>std_fit_time</th>\n",
       "      <th>mean_score_time</th>\n",
       "      <th>std_score_time</th>\n",
       "      <th>param_C</th>\n",
       "      <th>params</th>\n",
       "      <th>split0_test_score</th>\n",
       "      <th>split1_test_score</th>\n",
       "      <th>split2_test_score</th>\n",
       "      <th>split3_test_score</th>\n",
       "      <th>...</th>\n",
       "      <th>mean_test_score</th>\n",
       "      <th>std_test_score</th>\n",
       "      <th>rank_test_score</th>\n",
       "      <th>split0_train_score</th>\n",
       "      <th>split1_train_score</th>\n",
       "      <th>split2_train_score</th>\n",
       "      <th>split3_train_score</th>\n",
       "      <th>split4_train_score</th>\n",
       "      <th>mean_train_score</th>\n",
       "      <th>std_train_score</th>\n",
       "    </tr>\n",
       "  </thead>\n",
       "  <tbody>\n",
       "    <tr>\n",
       "      <th>0</th>\n",
       "      <td>0.003965</td>\n",
       "      <td>0.000598</td>\n",
       "      <td>0.001407</td>\n",
       "      <td>0.000475</td>\n",
       "      <td>0.001</td>\n",
       "      <td>{'C': 0.001}</td>\n",
       "      <td>0.68750</td>\n",
       "      <td>0.71875</td>\n",
       "      <td>0.71875</td>\n",
       "      <td>0.709677</td>\n",
       "      <td>...</td>\n",
       "      <td>0.708871</td>\n",
       "      <td>0.011430</td>\n",
       "      <td>5</td>\n",
       "      <td>0.714286</td>\n",
       "      <td>0.706349</td>\n",
       "      <td>0.706349</td>\n",
       "      <td>0.708661</td>\n",
       "      <td>0.708661</td>\n",
       "      <td>0.708861</td>\n",
       "      <td>0.002903</td>\n",
       "    </tr>\n",
       "    <tr>\n",
       "      <th>1</th>\n",
       "      <td>0.004216</td>\n",
       "      <td>0.000421</td>\n",
       "      <td>0.001178</td>\n",
       "      <td>0.000367</td>\n",
       "      <td>0.01</td>\n",
       "      <td>{'C': 0.01}</td>\n",
       "      <td>0.68750</td>\n",
       "      <td>0.71875</td>\n",
       "      <td>0.71875</td>\n",
       "      <td>0.709677</td>\n",
       "      <td>...</td>\n",
       "      <td>0.708871</td>\n",
       "      <td>0.011430</td>\n",
       "      <td>5</td>\n",
       "      <td>0.714286</td>\n",
       "      <td>0.706349</td>\n",
       "      <td>0.706349</td>\n",
       "      <td>0.708661</td>\n",
       "      <td>0.708661</td>\n",
       "      <td>0.708861</td>\n",
       "      <td>0.002903</td>\n",
       "    </tr>\n",
       "    <tr>\n",
       "      <th>2</th>\n",
       "      <td>0.003986</td>\n",
       "      <td>0.002090</td>\n",
       "      <td>0.000799</td>\n",
       "      <td>0.000399</td>\n",
       "      <td>0.1</td>\n",
       "      <td>{'C': 0.1}</td>\n",
       "      <td>0.71875</td>\n",
       "      <td>0.71875</td>\n",
       "      <td>0.71875</td>\n",
       "      <td>0.677419</td>\n",
       "      <td>...</td>\n",
       "      <td>0.721573</td>\n",
       "      <td>0.030797</td>\n",
       "      <td>3</td>\n",
       "      <td>0.730159</td>\n",
       "      <td>0.738095</td>\n",
       "      <td>0.738095</td>\n",
       "      <td>0.740157</td>\n",
       "      <td>0.708661</td>\n",
       "      <td>0.731034</td>\n",
       "      <td>0.011698</td>\n",
       "    </tr>\n",
       "    <tr>\n",
       "      <th>3</th>\n",
       "      <td>0.009390</td>\n",
       "      <td>0.007667</td>\n",
       "      <td>0.000000</td>\n",
       "      <td>0.000000</td>\n",
       "      <td>1</td>\n",
       "      <td>{'C': 1}</td>\n",
       "      <td>0.71875</td>\n",
       "      <td>0.68750</td>\n",
       "      <td>0.81250</td>\n",
       "      <td>0.580645</td>\n",
       "      <td>...</td>\n",
       "      <td>0.721169</td>\n",
       "      <td>0.085441</td>\n",
       "      <td>4</td>\n",
       "      <td>0.738095</td>\n",
       "      <td>0.785714</td>\n",
       "      <td>0.730159</td>\n",
       "      <td>0.763780</td>\n",
       "      <td>0.724409</td>\n",
       "      <td>0.748431</td>\n",
       "      <td>0.022993</td>\n",
       "    </tr>\n",
       "    <tr>\n",
       "      <th>4</th>\n",
       "      <td>0.009376</td>\n",
       "      <td>0.007655</td>\n",
       "      <td>0.000000</td>\n",
       "      <td>0.000000</td>\n",
       "      <td>10</td>\n",
       "      <td>{'C': 10}</td>\n",
       "      <td>0.75000</td>\n",
       "      <td>0.68750</td>\n",
       "      <td>0.81250</td>\n",
       "      <td>0.580645</td>\n",
       "      <td>...</td>\n",
       "      <td>0.727419</td>\n",
       "      <td>0.086175</td>\n",
       "      <td>1</td>\n",
       "      <td>0.746032</td>\n",
       "      <td>0.769841</td>\n",
       "      <td>0.730159</td>\n",
       "      <td>0.779528</td>\n",
       "      <td>0.724409</td>\n",
       "      <td>0.749994</td>\n",
       "      <td>0.021586</td>\n",
       "    </tr>\n",
       "    <tr>\n",
       "      <th>5</th>\n",
       "      <td>0.007426</td>\n",
       "      <td>0.006173</td>\n",
       "      <td>0.002094</td>\n",
       "      <td>0.003220</td>\n",
       "      <td>100</td>\n",
       "      <td>{'C': 100}</td>\n",
       "      <td>0.75000</td>\n",
       "      <td>0.68750</td>\n",
       "      <td>0.81250</td>\n",
       "      <td>0.580645</td>\n",
       "      <td>...</td>\n",
       "      <td>0.727419</td>\n",
       "      <td>0.086175</td>\n",
       "      <td>1</td>\n",
       "      <td>0.746032</td>\n",
       "      <td>0.769841</td>\n",
       "      <td>0.730159</td>\n",
       "      <td>0.771654</td>\n",
       "      <td>0.724409</td>\n",
       "      <td>0.748419</td>\n",
       "      <td>0.019567</td>\n",
       "    </tr>\n",
       "  </tbody>\n",
       "</table>\n",
       "<p>6 rows × 21 columns</p>\n",
       "</div>"
      ],
      "text/plain": [
       "   mean_fit_time  std_fit_time  mean_score_time  std_score_time param_C  \\\n",
       "0       0.003965      0.000598         0.001407        0.000475   0.001   \n",
       "1       0.004216      0.000421         0.001178        0.000367    0.01   \n",
       "2       0.003986      0.002090         0.000799        0.000399     0.1   \n",
       "3       0.009390      0.007667         0.000000        0.000000       1   \n",
       "4       0.009376      0.007655         0.000000        0.000000      10   \n",
       "5       0.007426      0.006173         0.002094        0.003220     100   \n",
       "\n",
       "         params  split0_test_score  split1_test_score  split2_test_score  \\\n",
       "0  {'C': 0.001}            0.68750            0.71875            0.71875   \n",
       "1   {'C': 0.01}            0.68750            0.71875            0.71875   \n",
       "2    {'C': 0.1}            0.71875            0.71875            0.71875   \n",
       "3      {'C': 1}            0.71875            0.68750            0.81250   \n",
       "4     {'C': 10}            0.75000            0.68750            0.81250   \n",
       "5    {'C': 100}            0.75000            0.68750            0.81250   \n",
       "\n",
       "   split3_test_score  ...  mean_test_score  std_test_score  rank_test_score  \\\n",
       "0           0.709677  ...         0.708871        0.011430                5   \n",
       "1           0.709677  ...         0.708871        0.011430                5   \n",
       "2           0.677419  ...         0.721573        0.030797                3   \n",
       "3           0.580645  ...         0.721169        0.085441                4   \n",
       "4           0.580645  ...         0.727419        0.086175                1   \n",
       "5           0.580645  ...         0.727419        0.086175                1   \n",
       "\n",
       "   split0_train_score  split1_train_score  split2_train_score  \\\n",
       "0            0.714286            0.706349            0.706349   \n",
       "1            0.714286            0.706349            0.706349   \n",
       "2            0.730159            0.738095            0.738095   \n",
       "3            0.738095            0.785714            0.730159   \n",
       "4            0.746032            0.769841            0.730159   \n",
       "5            0.746032            0.769841            0.730159   \n",
       "\n",
       "   split3_train_score  split4_train_score  mean_train_score  std_train_score  \n",
       "0            0.708661            0.708661          0.708861         0.002903  \n",
       "1            0.708661            0.708661          0.708861         0.002903  \n",
       "2            0.740157            0.708661          0.731034         0.011698  \n",
       "3            0.763780            0.724409          0.748431         0.022993  \n",
       "4            0.779528            0.724409          0.749994         0.021586  \n",
       "5            0.771654            0.724409          0.748419         0.019567  \n",
       "\n",
       "[6 rows x 21 columns]"
      ]
     },
     "execution_count": 22,
     "metadata": {},
     "output_type": "execute_result"
    }
   ],
   "source": [
    "# 그리드서치 하이퍼파라미터별 상세 결과값\n",
    "result_grid = pd.DataFrame(grid_search.cv_results_)\n",
    "result_grid"
   ]
  },
  {
   "cell_type": "code",
   "execution_count": 31,
   "id": "c2a94d39-1637-45b1-a299-42d1f38a4e6c",
   "metadata": {},
   "outputs": [
    {
     "data": {
      "text/plain": [
       "<matplotlib.legend.Legend at 0x2ab87ff2d90>"
      ]
     },
     "execution_count": 31,
     "metadata": {},
     "output_type": "execute_result"
    },
    {
     "data": {
      "image/png": "[encoded data removed]",
      "text/plain": [
       "<Figure size 432x288 with 1 Axes>"
      ]
     },
     "metadata": {
      "needs_background": "light"
     },
     "output_type": "display_data"
    }
   ],
   "source": [
    "import matplotlib.pyplot as plt\n",
    "plt.plot(result_grid['param_C'], result_grid['mean_train_score'], label='Train')\n",
    "plt.plot(result_grid['param_C'], result_grid['mean_test_score'], label='Test')\n",
    "plt.legend()"
   ]
  }
 ],
 "metadata": {
  "kernelspec": {
   "display_name": "Python 3",
   "language": "python",
   "name": "python3"
  },
  "language_info": {
   "codemirror_mode": {
    "name": "ipython",
    "version": 3
   },
   "file_extension": ".py",
   "mimetype": "text/x-python",
   "name": "python",
   "nbconvert_exporter": "python",
   "pygments_lexer": "ipython3",
   "version": "3.8.8"
  }
 },
 "nbformat": 4,
 "nbformat_minor": 5
}
