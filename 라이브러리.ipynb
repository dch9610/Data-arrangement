{
 "cells": [
  {
   "cell_type": "markdown",
   "id": "b0e9680a-87a0-4022-a4cd-c2aa379a43c0",
   "metadata": {},
   "source": [
    "### 기본"
   ]
  },
  {
   "cell_type": "code",
   "execution_count": null,
   "id": "16badcda",
   "metadata": {},
   "outputs": [],
   "source": [
    "import pandas as pd\n",
    "import numpy as np\n",
    "import matplotlib.pyplot as plt\n",
    "import seaborn as sns\n",
    "import missingno # 결측치 시각화"
   ]
  },
  {
   "cell_type": "markdown",
   "id": "7132e07b-d20d-4ff8-a1dc-1ba482d690f7",
   "metadata": {},
   "source": [
    "### 그래프 설정"
   ]
  },
  {
   "cell_type": "code",
   "execution_count": null,
   "id": "d874b83a-614e-4d3b-a6c4-825083c85a96",
   "metadata": {},
   "outputs": [],
   "source": [
    "# 그래프 설정\n",
    "# plt.rcParams['font.family'] = 'Malgun Gothic'   # 윈도우용\n",
    "plt.rcParams['font.family'] = 'AppleGothic'   # 맥용\n",
    "plt.rcParams['font.size'] = 10                 # 폰트 크기\n",
    "plt.rcParams['figure.figsize'] = 10,8          # 그래프 크기\n",
    "plt.rcParams['axes.unicode_minus'] = False     # - 기호 깨짐 방지\n",
    "\n",
    "\n",
    "# 경고 메시지가 안나오게 하기\n",
    "import warnings\n",
    "warnings.filterwarnings('ignore')"
   ]
  },
  {
   "cell_type": "markdown",
   "id": "7a68eddd-6177-4e86-b7bb-f904dd0048b7",
   "metadata": {},
   "source": [
    "### 데이터 전처리 및 평가 함수"
   ]
  },
  {
   "cell_type": "code",
   "execution_count": null,
   "id": "52fe5d8b",
   "metadata": {},
   "outputs": [],
   "source": [
    "# KFold (교차 검증을 사용하기 위해)\n",
    "from sklearn.model_selection import KFold\n",
    "from sklearn.model_selection import StratifiedKFold\n",
    "\n",
    "# 교차검증 함수\n",
    "from sklearn.model_selection import cross_val_score\n",
    "from sklearn.model_selection import cross_validate\n",
    "\n",
    "# 학습 데이터와 검증 데이터로 나누는 함수\n",
    "from sklearn.model_selection import train_test_split\n",
    "\n",
    "# 데이터 전처리\n",
    "from sklearn.preprocessing import LabelEncoder\n",
    "from sklearn.preprocessing import StandardScaler\n",
    "\n",
    "# 하이퍼 파라미터 튜닝\n",
    "from sklearn.model_selection import GridSearchCV\n",
    "\n",
    "# 평가 함수\n",
    "from sklearn.metrics import accuracy_score\n",
    "\n",
    "# 저장\n",
    "import pickle\n",
    "\n",
    "# 시간 모듈\n",
    "import time\n",
    "\n",
    "# 다중분류를 위한 원핫 인코더\n",
    "from keras.utils import to_categorical\n",
    "\n",
    "# 학습 자동 중단\n",
    "from keras.callbacks import EarlyStopping\n",
    "\n",
    "# 모델 저장\n",
    "from keras.callbacks import ModelCheckpoint\n",
    "\n",
    "# 저장된 딥러닝 모델 불러오기\n",
    "from keras.models import load_model"
   ]
  },
  {
   "cell_type": "markdown",
   "id": "4278cdda-193e-4e29-8ccc-519822aca276",
   "metadata": {},
   "source": [
    "### 머신러닝 알고리즘 - 분류"
   ]
  },
  {
   "cell_type": "code",
   "execution_count": null,
   "id": "92891a02",
   "metadata": {},
   "outputs": [],
   "source": [
    "# 머신러닝 알고리즘 - 분류\n",
    "from sklearn.neighbors import KNeighborsClassifier\n",
    "from sklearn.linear_model import LogisticRegression\n",
    "from sklearn.svm import SVC\n",
    "from sklearn.tree import DecisionTreeClassifier\n",
    "from sklearn.ensemble import RandomForestClassifier\n",
    "from sklearn.ensemble import GradientBoostingClassifier\n",
    "from sklearn.ensemble import ExtraTreesClassifier\n",
    "from sklearn.ensemble import AdaBoostClassifier\n",
    "from sklearn.gaussian_process import GaussianProcessClassifier\n",
    "from sklearn.naive_bayes import GaussianNB\n",
    "from sklearn.ensemble import BaggingClassifier\n",
    "from sklearn.ensemble import VotingClassifier\n",
    "from xgboost import XGBClassifier"
   ]
  },
  {
   "cell_type": "markdown",
   "id": "d7395e7f-4027-452d-bd14-3678914c88d2",
   "metadata": {},
   "source": [
    "### 머신러닝 알고리즘 - 회귀"
   ]
  },
  {
   "cell_type": "code",
   "execution_count": null,
   "id": "2e3a4876-f00f-4954-8968-51af79462139",
   "metadata": {},
   "outputs": [],
   "source": [
    "# 머신러닝 알고리즘 - 회귀\n",
    "from sklearn.neighbors import KNeighborsRegressor\n",
    "from sklearn.linear_model import LinearRegression\n",
    "from sklearn.linear_model import Ridge\n",
    "from sklearn.linear_model import Lasso\n",
    "from sklearn.linear_model import ElasticNet\n",
    "from sklearn.svm import SVR\n",
    "from sklearn.tree import DecisionTreeRegressor\n",
    "from sklearn.ensemble import RandomForestRegressor\n",
    "from sklearn.ensemble import GradientBoostingRegressor\n",
    "from xgboost import  XGBRegressor"
   ]
  },
  {
   "cell_type": "markdown",
   "id": "31140f8e-4b91-451a-a7c5-5a7a401d25a1",
   "metadata": {},
   "source": [
    "### 머신러닝 알고리즘 - 군집"
   ]
  },
  {
   "cell_type": "code",
   "execution_count": null,
   "id": "c7caa02c-9c5a-4e3b-a98b-fa678f8f4878",
   "metadata": {},
   "outputs": [],
   "source": [
    "# 머신러닝 알고리즘 - 군집\n",
    "from sklearn.cluster import KMeans\n",
    "from sklearn.cluster import MeanShift"
   ]
  },
  {
   "cell_type": "markdown",
   "id": "ec819e37-a332-43a8-a603-ff9a1427476a",
   "metadata": {},
   "source": [
    "### 딥러닝 알고리즘"
   ]
  },
  {
   "cell_type": "code",
   "execution_count": null,
   "id": "8f971377-80a8-41e8-b28b-c44fc2a04639",
   "metadata": {},
   "outputs": [],
   "source": [
    "from keras.models import Sequential\n",
    "from keras.layers import Dense\n",
    "import tensorflow as tf"
   ]
  },
  {
   "cell_type": "markdown",
   "id": "aa9c9ad9-a91c-47f2-8e9c-7ba3ac221af3",
   "metadata": {},
   "source": [
    "### 머신러닝 알고리즘 - 차원축소"
   ]
  },
  {
   "cell_type": "code",
   "execution_count": null,
   "id": "2fc10273-6edf-4e1d-a58b-2ec5b067fe75",
   "metadata": {},
   "outputs": [],
   "source": [
    "from sklearn.decomposition import PCA\n",
    "from sklearn.discriminant_analysis import LinearDiscriminantAnalysis"
   ]
  }
 ],
 "metadata": {
  "kernelspec": {
   "display_name": "Python 3",
   "language": "python",
   "name": "python3"
  },
  "language_info": {
   "codemirror_mode": {
    "name": "ipython",
    "version": 3
   },
   "file_extension": ".py",
   "mimetype": "text/x-python",
   "name": "python",
   "nbconvert_exporter": "python",
   "pygments_lexer": "ipython3",
   "version": "3.8.8"
  }
 },
 "nbformat": 4,
 "nbformat_minor": 5
}
