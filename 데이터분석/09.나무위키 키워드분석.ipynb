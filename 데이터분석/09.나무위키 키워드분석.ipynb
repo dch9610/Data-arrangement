{
 "cells": [
  {
   "cell_type": "markdown",
   "metadata": {},
   "source": [
    "### 한국어 분석을 위한 환경 구성\n",
    "\n",
    "- Mac도 동일하게 진행\n",
    "\n",
    "[vs 2015설치, Xcode설치]\n",
    "   - 제공한 설치파일을 실행하고 사용자 지정을 선택하여 프로그래밍 언어에 있는 visual c++을 추가하여 설치\n",
    "   \n",
    "[jdk 설치]\n",
    "   - 기본설정으로 설치\n",
    "   \n",
    "[jdk 환경변수 설정]\n",
    "   - 내 PC 우클릭 속성 -> 환경변수를 클릭\n",
    "   - 새로만들기를 눌러 다음과 같이 작성한다.\n",
    "   - 변수 이름 : JAVA_HOME\n",
    "   - 변수 값 : jdk가 있는 경로\n",
    "   - 주피터를 완전히 종료하고 다시 실행한다.\n",
    " \n",
    "[필요 라이브러리 설치]\n",
    "- pip install konlpy==0.5.1\n",
    "- pip install jpype1\n",
    "- pip install jpype1-py3"
   ]
  },
  {
   "cell_type": "markdown",
   "metadata": {},
   "source": [
    "### 워드 클라우드를 사용하기 위한 설정\n",
    "- pip install pytagcloud\n",
    "- pip install pygame\n",
    "- pip install simplejson"
   ]
  },
  {
   "cell_type": "code",
   "execution_count": 1,
   "metadata": {},
   "outputs": [],
   "source": [
    "import pandas as pd\n",
    "import numpy as np\n",
    "import matplotlib.pyplot as plt\n",
    "import datetime\n",
    "import seaborn as sns\n",
    "\n",
    "import requests\n",
    "from bs4 import BeautifulSoup\n",
    "import re\n",
    "import time\n",
    "import os\n",
    "\n",
    "# 그래프 설정\n",
    "# plt.rcParams['font.family'] = 'Malgun Gothic'\n",
    "plt.rcParams['font.family'] = 'AppleGothic'\n",
    "plt.rcParams['font.size'] = 16\n",
    "plt.rcParams['figure.figsize'] = 20, 10\n",
    "plt.rcParams['axes.unicode_minus'] = False"
   ]
  },
  {
   "cell_type": "code",
   "execution_count": 2,
   "metadata": {},
   "outputs": [
    {
     "name": "stdout",
     "output_type": "stream",
     "text": [
      "pygame 2.0.1 (SDL 2.0.14, Python 3.8.5)\n",
      "Hello from the pygame community. https://www.pygame.org/contribute.html\n"
     ]
    }
   ],
   "source": [
    "from konlpy.tag import Okt\n",
    "from collections import Counter\n",
    "import pytagcloud\n",
    "from IPython.display import Image\n",
    "import re"
   ]
  },
  {
   "cell_type": "markdown",
   "metadata": {},
   "source": [
    "### 데이터를 읽어온다."
   ]
  },
  {
   "cell_type": "code",
   "execution_count": 3,
   "metadata": {},
   "outputs": [
    {
     "data": {
      "text/html": [
       "<div>\n",
       "<style scoped>\n",
       "    .dataframe tbody tr th:only-of-type {\n",
       "        vertical-align: middle;\n",
       "    }\n",
       "\n",
       "    .dataframe tbody tr th {\n",
       "        vertical-align: top;\n",
       "    }\n",
       "\n",
       "    .dataframe thead th {\n",
       "        text-align: right;\n",
       "    }\n",
       "</style>\n",
       "<table border=\"1\" class=\"dataframe\">\n",
       "  <thead>\n",
       "    <tr style=\"text-align: right;\">\n",
       "      <th></th>\n",
       "      <th>title</th>\n",
       "      <th>content</th>\n",
       "    </tr>\n",
       "  </thead>\n",
       "  <tbody>\n",
       "    <tr>\n",
       "      <th>0</th>\n",
       "      <td>대한건설기계안전관리원</td>\n",
       "      <td>대한민국의 공공기관 [ 펼치기 · 접기 ]시장형 공기업산업통상자원부강원랜드 | 한국...</td>\n",
       "    </tr>\n",
       "    <tr>\n",
       "      <th>1</th>\n",
       "      <td>틀:김천 상무</td>\n",
       "      <td>김천 상무 2021 시즌 스쿼드  [ 펼치기 · 접기 ]김천 상무 2021 시즌 스...</td>\n",
       "    </tr>\n",
       "    <tr>\n",
       "      <th>2</th>\n",
       "      <td>에이레네</td>\n",
       "      <td>은(는) 여기로 연결됩니다. 프린세스의 등장인물에 대한 내용은 에이레네 로디트 문서...</td>\n",
       "    </tr>\n",
       "    <tr>\n",
       "      <th>3</th>\n",
       "      <td>민영(브레이브걸스)</td>\n",
       "      <td>민영유정은지유나 [ 전 멤버 ]은영서아예진유진혜란하윤 [ 관련 문서 ]기수 1기 ｜...</td>\n",
       "    </tr>\n",
       "    <tr>\n",
       "      <th>4</th>\n",
       "      <td>베스카</td>\n",
       "      <td>제국제[1] 베스카 주괴What exquisite craftmanship. It i...</td>\n",
       "    </tr>\n",
       "  </tbody>\n",
       "</table>\n",
       "</div>"
      ],
      "text/plain": [
       "         title                                            content\n",
       "0  대한건설기계안전관리원  대한민국의 공공기관 [ 펼치기 · 접기 ]시장형 공기업산업통상자원부강원랜드 | 한국...\n",
       "1      틀:김천 상무  김천 상무 2021 시즌 스쿼드  [ 펼치기 · 접기 ]김천 상무 2021 시즌 스...\n",
       "2         에이레네  은(는) 여기로 연결됩니다. 프린세스의 등장인물에 대한 내용은 에이레네 로디트 문서...\n",
       "3   민영(브레이브걸스)  민영유정은지유나 [ 전 멤버 ]은영서아예진유진혜란하윤 [ 관련 문서 ]기수 1기 ｜...\n",
       "4          베스카  제국제[1] 베스카 주괴What exquisite craftmanship. It i..."
      ]
     },
     "execution_count": 3,
     "metadata": {},
     "output_type": "execute_result"
    }
   ],
   "source": [
    "df = pd.read_csv('wiki.csv')\n",
    "df.head()"
   ]
  },
  {
   "cell_type": "code",
   "execution_count": 4,
   "metadata": {},
   "outputs": [],
   "source": [
    "# 텍스트 정제 함수 : 한글 이외의 문자는 전부 제거한다.\n",
    "def text_cleaning(text):\n",
    "    # 한글 정규식 정의(띄어쓰기, ㄱ~ㅣ, 가 ~ 힣)에 해당하는 것만 가져온다\n",
    "    hangul = re.compile('[^ ㄱ-ㅣ 가-힣]+')\n",
    "    # 정제한다. (정규식에 해당하지 않는 글자는 길이가 0인 문자열로 변환한다.)\n",
    "    result = hangul.sub('',text)\n",
    "    return result"
   ]
  },
  {
   "cell_type": "code",
   "execution_count": 5,
   "metadata": {
    "scrolled": true
   },
   "outputs": [
    {
     "data": {
      "text/plain": [
       "title      0\n",
       "content    2\n",
       "dtype: int64"
      ]
     },
     "execution_count": 5,
     "metadata": {},
     "output_type": "execute_result"
    }
   ],
   "source": [
    "# 결측치 확인\n",
    "df.isna().sum()"
   ]
  },
  {
   "cell_type": "code",
   "execution_count": 6,
   "metadata": {},
   "outputs": [],
   "source": [
    "# 결측치 제거\n",
    "df.dropna(inplace=True)"
   ]
  },
  {
   "cell_type": "code",
   "execution_count": 7,
   "metadata": {},
   "outputs": [
    {
     "data": {
      "text/plain": [
       "title      0\n",
       "content    0\n",
       "dtype: int64"
      ]
     },
     "execution_count": 7,
     "metadata": {},
     "output_type": "execute_result"
    }
   ],
   "source": [
    "# 결측치 확인\n",
    "df.isna().sum()"
   ]
  },
  {
   "cell_type": "code",
   "execution_count": 8,
   "metadata": {},
   "outputs": [],
   "source": [
    "# 모든 특성에 대해 정제한다.\n",
    "df['title'] = df['title'].apply(lambda x : text_cleaning(x))\n",
    "df['content'] = df['content'].apply(lambda x : text_cleaning(x))"
   ]
  },
  {
   "cell_type": "code",
   "execution_count": 9,
   "metadata": {},
   "outputs": [
    {
     "data": {
      "text/html": [
       "<div>\n",
       "<style scoped>\n",
       "    .dataframe tbody tr th:only-of-type {\n",
       "        vertical-align: middle;\n",
       "    }\n",
       "\n",
       "    .dataframe tbody tr th {\n",
       "        vertical-align: top;\n",
       "    }\n",
       "\n",
       "    .dataframe thead th {\n",
       "        text-align: right;\n",
       "    }\n",
       "</style>\n",
       "<table border=\"1\" class=\"dataframe\">\n",
       "  <thead>\n",
       "    <tr style=\"text-align: right;\">\n",
       "      <th></th>\n",
       "      <th>title</th>\n",
       "      <th>content</th>\n",
       "    </tr>\n",
       "  </thead>\n",
       "  <tbody>\n",
       "    <tr>\n",
       "      <th>0</th>\n",
       "      <td>대한건설기계안전관리원</td>\n",
       "      <td>대한민국의 공공기관  펼치기  접기 시장형 공기업산업통상자원부강원랜드  한국가스공사...</td>\n",
       "    </tr>\n",
       "    <tr>\n",
       "      <th>1</th>\n",
       "      <td>틀김천 상무</td>\n",
       "      <td>김천 상무  시즌 스쿼드   펼치기  접기 김천 상무  시즌 스쿼드주의등번호국적포지...</td>\n",
       "    </tr>\n",
       "    <tr>\n",
       "      <th>2</th>\n",
       "      <td>에이레네</td>\n",
       "      <td>은는 여기로 연결됩니다 프린세스의 등장인물에 대한 내용은 에이레네 로디트 문서를의 ...</td>\n",
       "    </tr>\n",
       "    <tr>\n",
       "      <th>3</th>\n",
       "      <td>민영브레이브걸스</td>\n",
       "      <td>민영유정은지유나  전 멤버 은영서아예진유진혜란하윤  관련 문서 기수 기  팬덤 피어...</td>\n",
       "    </tr>\n",
       "    <tr>\n",
       "      <th>4</th>\n",
       "      <td>베스카</td>\n",
       "      <td>제국제 베스카 주괴                이 얼마나 정교한 솜씨인가 대를 이은...</td>\n",
       "    </tr>\n",
       "    <tr>\n",
       "      <th>...</th>\n",
       "      <td>...</td>\n",
       "      <td>...</td>\n",
       "    </tr>\n",
       "    <tr>\n",
       "      <th>91</th>\n",
       "      <td>반월동화성</td>\n",
       "      <td>경기도 화성시 행정구역 경기도 화성시 행정구역   펼치기  접기 읍봉담읍우정읍향남읍...</td>\n",
       "    </tr>\n",
       "    <tr>\n",
       "      <th>92</th>\n",
       "      <td>노돌리</td>\n",
       "      <td>멤버  펼치기  접기 원년 멤버우왁굳개복어노돌리노지로복레비레알마틴렘쨩무결조마문조매력...</td>\n",
       "    </tr>\n",
       "    <tr>\n",
       "      <th>93</th>\n",
       "      <td>브랜든 나이트야구</td>\n",
       "      <td>브랜든 나이트의 수상 경력  역대 등번호  펼치기  접기 일본시리즈 우승 반지   ...</td>\n",
       "    </tr>\n",
       "    <tr>\n",
       "      <th>94</th>\n",
       "      <td>년 미얀마 민주화 운동</td>\n",
       "      <td>이 문서는이 문단은 토론을 통해 경과 문단을 분리하지 않기으로 합의되었습니다 합의된...</td>\n",
       "    </tr>\n",
       "    <tr>\n",
       "      <th>95</th>\n",
       "      <td>지디펜드</td>\n",
       "      <td>지디펜드장르액션  작가모리모토 슈연재지동수사연재 기간년 단행본 권수 총 권동수사 총...</td>\n",
       "    </tr>\n",
       "  </tbody>\n",
       "</table>\n",
       "<p>94 rows × 2 columns</p>\n",
       "</div>"
      ],
      "text/plain": [
       "           title                                            content\n",
       "0    대한건설기계안전관리원  대한민국의 공공기관  펼치기  접기 시장형 공기업산업통상자원부강원랜드  한국가스공사...\n",
       "1         틀김천 상무  김천 상무  시즌 스쿼드   펼치기  접기 김천 상무  시즌 스쿼드주의등번호국적포지...\n",
       "2           에이레네  은는 여기로 연결됩니다 프린세스의 등장인물에 대한 내용은 에이레네 로디트 문서를의 ...\n",
       "3       민영브레이브걸스  민영유정은지유나  전 멤버 은영서아예진유진혜란하윤  관련 문서 기수 기  팬덤 피어...\n",
       "4            베스카  제국제 베스카 주괴                이 얼마나 정교한 솜씨인가 대를 이은...\n",
       "..           ...                                                ...\n",
       "91         반월동화성  경기도 화성시 행정구역 경기도 화성시 행정구역   펼치기  접기 읍봉담읍우정읍향남읍...\n",
       "92           노돌리  멤버  펼치기  접기 원년 멤버우왁굳개복어노돌리노지로복레비레알마틴렘쨩무결조마문조매력...\n",
       "93     브랜든 나이트야구  브랜든 나이트의 수상 경력  역대 등번호  펼치기  접기 일본시리즈 우승 반지   ...\n",
       "94  년 미얀마 민주화 운동  이 문서는이 문단은 토론을 통해 경과 문단을 분리하지 않기으로 합의되었습니다 합의된...\n",
       "95          지디펜드  지디펜드장르액션  작가모리모토 슈연재지동수사연재 기간년 단행본 권수 총 권동수사 총...\n",
       "\n",
       "[94 rows x 2 columns]"
      ]
     },
     "execution_count": 9,
     "metadata": {},
     "output_type": "execute_result"
    }
   ],
   "source": [
    "df"
   ]
  },
  {
   "cell_type": "code",
   "execution_count": 10,
   "metadata": {},
   "outputs": [],
   "source": [
    "# 말뭉치 생성 (각 컬럼의 문자열들을 하나로 합쳐준다.)\n",
    "# title을 리스트로 받아 길이가 0인 문자열과 합쳐준다.\n",
    "title_corpus = ''.join(df['title'].tolist())\n",
    "content_corpus = ''.join(df['content'].tolist())"
   ]
  },
  {
   "cell_type": "code",
   "execution_count": null,
   "metadata": {},
   "outputs": [],
   "source": [
    "# 형태소 분석\n",
    "tagger = Okt()\n",
    "title_nouns = tagger.nouns(title_corpus)\n",
    "content_nouns = tagger.nouns(content_corpus)\n",
    "\n",
    "print(title_nouns)\n",
    "print(content_nouns)"
   ]
  },
  {
   "cell_type": "code",
   "execution_count": null,
   "metadata": {},
   "outputs": [],
   "source": [
    "# 각 단어들의 빈도수를 구한다.\n",
    "title_count = Counter(title_nouns)\n",
    "content_count = Counter(content_nouns)\n",
    "\n",
    "print(title_count)\n",
    "print(content_count)"
   ]
  },
  {
   "cell_type": "markdown",
   "metadata": {},
   "source": [
    "### 키워드 다듬기"
   ]
  },
  {
   "cell_type": "code",
   "execution_count": null,
   "metadata": {},
   "outputs": [],
   "source": [
    " \n",
    "# 2글자 이상인 단어를 담을 딕셔너리\n",
    "title_dict = {}\n",
    "\n",
    "# 워드 클라우드는 두 글자 이상만 가능하므로 한글자는 제거한다.\n",
    "for key in title_count:\n",
    "    # 글자 길이가 1보다 크다면 딕셔너리에 담아준다.\n",
    "    if len(key) > 1:\n",
    "        title_dict[key] = title_count[key]\n",
    "\n",
    "# 2글자 이상인 단어를 담을 딕셔너리\n",
    "content_dict = {}\n",
    "\n",
    "# 워드 클라우드는 두 글자 이상만 가능하므로 한글자는 제거한다.\n",
    "for key in content_dict:\n",
    "    # 글자 길이가 1보다 크다면 딕셔너리에 담아준다.\n",
    "    if len(key) > 1:\n",
    "        content_dict[key] = content_count[key]\n",
    "\n",
    "# print(len(title_dict))\n",
    "# print(len(content_dict))\n",
    "\n",
    "remove_title_count = Counter(title_dict)\n",
    "remove_content_count = Counter(content_dict)\n",
    "\n",
    "# print(len(remove_title_count))\n",
    "# print(len(remove_content_count))"
   ]
  },
  {
   "cell_type": "code",
   "execution_count": null,
   "metadata": {},
   "outputs": [],
   "source": [
    "# 불용어 제거\n",
    "# 불용어 (stopwords) : 분석시 필요하지 않는 단어들을 의미\n",
    "# 불용어를 불러온다.\n",
    "with open('data10/korean_stopwords.txt', encoding='utf-8') as fp:\n",
    "    stopwords = fp.readlines()\n",
    "\n",
    "# \\n(공백) 제거\n",
    "stopwords = [x.strip() for x in stopwords]"
   ]
  },
  {
   "cell_type": "code",
   "execution_count": null,
   "metadata": {},
   "outputs": [],
   "source": [
    "# 불용어를 제외한 나머지를 새롭게 담아준다.\n",
    "content_dict = {}\n",
    "for key in remove_content_count:\n",
    "    # 현재 글자가 불용어에 포함되어 있지 않다면..\n",
    "    if key not in stopwords:\n",
    "        content_dict[key] - remove_content_count[key]\n",
    "\n",
    "title_dict = {}\n",
    "for key in remove_title_count:\n",
    "    # 현재 글자가 불용어에 포함되어 있지 않다면..\n",
    "    if key not in stopwords:\n",
    "        title_dict[key] - remove_title_count[key]\n",
    "        \n",
    "        \n",
    "# print(len(remove_title_count))\n",
    "# print(len(remove_content_count))"
   ]
  },
  {
   "cell_type": "markdown",
   "metadata": {},
   "source": [
    "### 워드클라우드로 시각화\n",
    "- 한글 폰트 설치\n",
    "- https://hangeul.naver.com/webfont/NanumGothic/NanumGothic.ttf 설치\n",
    "- 내려받은 폰트를 해당 경로에 넣어준다.\n",
    "    - c드라이브 -> 사용자 -> anaconda3 -> lib -> site-packages -> pytagcloud -> fonts\n",
    "    \n",
    "- font.json 파일에 폰트를 등록해준다.\n",
    "    <pre>\n",
    "    - {\n",
    "            \"name\" : \"NanumGothic\",\n",
    "            \"ttf\" : \"NanumGothic.ttf\",\n",
    "            \"web\" : \"http://fonts.googleapis.com/css?family=Nanum+Gothic\"\n",
    "      }\n",
    "    </pre>"
   ]
  },
  {
   "cell_type": "code",
   "execution_count": null,
   "metadata": {},
   "outputs": [],
   "source": [
    "# title에서 가장 많이 나온 단어 40개를 추출한다.\n",
    "ranked_title_tags = remove_title_count.most_common(40)\n",
    "b\n",
    "# 워드 클라우드를 위한 단어 사전을 생성한다.\n",
    "title_taglist = pytagcloud.make_tags(remove_title_count)\n",
    "\n",
    "# 워드 클라우드 이미지를 생성한다.\n",
    "pytagcloud.create_tag_image(title_taglist, 'title_word.jpg', size=(900,600),\n",
    "                            fontname'NanumGothic', rectangular=False)"
   ]
  },
  {
   "cell_type": "code",
   "execution_count": null,
   "metadata": {},
   "outputs": [],
   "source": [
    "# content에서 가장 많이 사용하는 단어 40개를 추출한다.\n",
    "ranked_content_tags = remove_content_count.most_common(40)\n",
    "\n",
    "# 워드 클라우드를 위한 단어 사전을 생성한다.\n",
    "content_taglist = pytagcloud.make_tags(ranked_content_tags)\n",
    "\n",
    "# 워드 클라우드 이미지를 생성한다.\n",
    "pytagcloud.create_tag_image(content_taglist, 'content_word.jpg'\n",
    "                            , size=(900, 600), fontname='NanumGothic'\n",
    "                            , rectangular=False)"
   ]
  },
  {
   "cell_type": "code",
   "execution_count": null,
   "metadata": {},
   "outputs": [],
   "source": [
    "print('title')\n",
    "Image(filename='title_word.jpg')"
   ]
  },
  {
   "cell_type": "code",
   "execution_count": null,
   "metadata": {},
   "outputs": [],
   "source": [
    "print('content')\n",
    "Image(filename='content_word.jpg')"
   ]
  }
 ],
 "metadata": {
  "kernelspec": {
   "display_name": "Python 3",
   "language": "python",
   "name": "python3"
  },
  "language_info": {
   "codemirror_mode": {
    "name": "ipython",
    "version": 3
   },
   "file_extension": ".py",
   "mimetype": "text/x-python",
   "name": "python",
   "nbconvert_exporter": "python",
   "pygments_lexer": "ipython3",
   "version": "3.8.5"
  }
 },
 "nbformat": 4,
 "nbformat_minor": 4
}
