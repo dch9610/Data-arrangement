{
 "cells": [
  {
   "cell_type": "markdown",
   "metadata": {},
   "source": [
    "### 네이버 개발자 센터"
   ]
  },
  {
   "cell_type": "code",
   "execution_count": 1,
   "metadata": {},
   "outputs": [],
   "source": [
    "import pandas as pd\n",
    "import numpy as np\n",
    "import matplotlib.pyplot as plt\n",
    "import datetime\n",
    "import seaborn as sns\n",
    "\n",
    "# 그래프 설정\n",
    "# plt.rcParams['font.family'] = 'Malgun Gothic'\n",
    "plt.rcParams['font.family'] = 'AppleGothic'\n",
    "plt.rcParams['font.size'] = 16\n",
    "plt.rcParams['figure.figsize'] = 20, 10\n",
    "plt.rcParams['axes.unicode_minus'] = False"
   ]
  },
  {
   "cell_type": "markdown",
   "metadata": {},
   "source": [
    "### 데이터 수집"
   ]
  },
  {
   "cell_type": "code",
   "execution_count": 2,
   "metadata": {},
   "outputs": [],
   "source": [
    "import requests\n",
    "from bs4 import BeautifulSoup\n",
    "import json\n",
    "import re\n",
    "import time\n",
    "import os"
   ]
  },
  {
   "cell_type": "code",
   "execution_count": 3,
   "metadata": {},
   "outputs": [],
   "source": [
    "# 요청주소\n",
    "site = 'https://openapi.naver.com/v1/search/news.json'\n",
    "\n",
    "# 요청 파라미터\n",
    "params = {\n",
    "    'query' : '손흥민',\n",
    "    'start' : 1,\n",
    "    'display' : 100,\n",
    "    'sort' : 'sim'\n",
    "    \n",
    "}\n",
    "\n",
    "# 요청 헤더\n",
    "headers = {\n",
    "    'X-Naver-Client-Id' : 'Eh76tPDSZFCxwXYZbsEp',\n",
    "    'X-Naver-Client-Secret' : 'yle00EaGpB'\n",
    "}"
   ]
  },
  {
   "cell_type": "code",
   "execution_count": 4,
   "metadata": {},
   "outputs": [
    {
     "name": "stdout",
     "output_type": "stream",
     "text": [
      "1 수집중\n",
      "101 수집중\n",
      "201 수집중\n",
      "301 수집중\n",
      "401 수집중\n",
      "501 수집중\n",
      "601 수집중\n",
      "701 수집중\n",
      "801 수집중\n",
      "901 수집중\n"
     ]
    }
   ],
   "source": [
    "while True:    \n",
    "    time.sleep(1)\n",
    "    \n",
    "    # 데이터를 담을 딕셔너리\n",
    "    data_dict ={\n",
    "        'title' : [],\n",
    "        'description' : []\n",
    "    }\n",
    "    \n",
    "    print(f'{params[\"start\"]} 수집중')\n",
    "    \n",
    "    # 요청한다.\n",
    "    res = requests.get(site, params=params, headers=headers)\n",
    "    # display(res.text)\n",
    "\n",
    "    # json 객체로 생성한다.\n",
    "    json_root = json.loads(res.text)\n",
    "    # display(json_root)\n",
    "    # display(json_root['lastBuildDate'])\n",
    "\n",
    "    # items를 추출한다.\n",
    "    items = json_root['items']\n",
    "    # display(items)\n",
    "\n",
    "    # items 수 만큼 반복한다.\n",
    "    for item in items:\n",
    "        # title 추출\n",
    "        title = item['title']\n",
    "        # description 추출\n",
    "        description = item['description']\n",
    "        \n",
    "        # 추출한 데이터를 딕셔너리에 담는다.\n",
    "        data_dict['title'].append(title)\n",
    "        data_dict['description'].append(description)\n",
    "\n",
    "#         print(title)\n",
    "#         print(description)\n",
    "#         print('-'*50)\n",
    "    \n",
    "    # 수집한 데이터를 저장한다.\n",
    "    df1 = pd.DataFrame(data_dict)\n",
    "    \n",
    "    if os.path.exists('son.csv') == False :\n",
    "        df1.to_csv('son.csv', encoding='utf-8-sig', index=False)\n",
    "    else :\n",
    "        df1.to_csv('son.csv', encoding='utf-8-sig', index=False,\n",
    "                   header=False, mode='a')\n",
    "    \n",
    "    # start 값 추출\n",
    "    start = json_root['start']\n",
    "    \n",
    "    # start에 100을 누적한다.\n",
    "    start = start + 100\n",
    "    \n",
    "    # start 값이 1000보다 작으면 100을 더해 파라미터로 셋팅한다.\n",
    "    if start < 1000:\n",
    "        params['start'] = start\n",
    "    # 그렇지 않으면 while문 중단\n",
    "    else: \n",
    "        break\n",
    "        "
   ]
  }
 ],
 "metadata": {
  "kernelspec": {
   "display_name": "Python 3",
   "language": "python",
   "name": "python3"
  },
  "language_info": {
   "codemirror_mode": {
    "name": "ipython",
    "version": 3
   },
   "file_extension": ".py",
   "mimetype": "text/x-python",
   "name": "python",
   "nbconvert_exporter": "python",
   "pygments_lexer": "ipython3",
   "version": "3.8.5"
  }
 },
 "nbformat": 4,
 "nbformat_minor": 4
}
