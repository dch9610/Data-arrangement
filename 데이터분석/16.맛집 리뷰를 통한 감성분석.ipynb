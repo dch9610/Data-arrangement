{
 "cells": [
  {
   "cell_type": "code",
   "execution_count": 1,
   "metadata": {},
   "outputs": [],
   "source": [
    "import pandas as pd\n",
    "import numpy as np\n",
    "import matplotlib.pyplot as plt\n",
    "import datetime\n",
    "import seaborn as sns\n",
    "\n",
    "import time\n",
    "import operator\n",
    "import re\n",
    "\n",
    "# 그래프 설정\n",
    "plt.rcParams['font.family'] = 'Malgun Gothic'\n",
    "# plt.rcParams['font.family'] = 'AppleGothic'\n",
    "plt.rcParams['font.size'] = 10\n",
    "plt.rcParams['figure.figsize'] = 10, 8\n",
    "plt.rcParams['axes.unicode_minus'] = False\n",
    "\n",
    "# 경고 무시\n",
    "import warnings\n",
    "warnings.filterwarnings('ignore')"
   ]
  },
  {
   "cell_type": "markdown",
   "metadata": {},
   "source": [
    "### 데이터를 읽어온다."
   ]
  },
  {
   "cell_type": "code",
   "execution_count": 2,
   "metadata": {},
   "outputs": [
    {
     "data": {
      "text/html": [
       "<div>\n",
       "<style scoped>\n",
       "    .dataframe tbody tr th:only-of-type {\n",
       "        vertical-align: middle;\n",
       "    }\n",
       "\n",
       "    .dataframe tbody tr th {\n",
       "        vertical-align: top;\n",
       "    }\n",
       "\n",
       "    .dataframe thead th {\n",
       "        text-align: right;\n",
       "    }\n",
       "</style>\n",
       "<table border=\"1\" class=\"dataframe\">\n",
       "  <thead>\n",
       "    <tr style=\"text-align: right;\">\n",
       "      <th></th>\n",
       "      <th>score</th>\n",
       "      <th>review</th>\n",
       "      <th>y</th>\n",
       "    </tr>\n",
       "  </thead>\n",
       "  <tbody>\n",
       "    <tr>\n",
       "      <th>0</th>\n",
       "      <td>5</td>\n",
       "      <td>친절하시고 깔끔하고 좋았습니다</td>\n",
       "      <td>1</td>\n",
       "    </tr>\n",
       "    <tr>\n",
       "      <th>1</th>\n",
       "      <td>5</td>\n",
       "      <td>조용하고 고기도 굿</td>\n",
       "      <td>1</td>\n",
       "    </tr>\n",
       "    <tr>\n",
       "      <th>2</th>\n",
       "      <td>4</td>\n",
       "      <td>갈비탕과 냉면, 육회비빔밥이 맛있습니다.</td>\n",
       "      <td>1</td>\n",
       "    </tr>\n",
       "    <tr>\n",
       "      <th>3</th>\n",
       "      <td>4</td>\n",
       "      <td>대체적으로 만족하나\\n와인의 구성이 살짝 아쉬움</td>\n",
       "      <td>1</td>\n",
       "    </tr>\n",
       "    <tr>\n",
       "      <th>4</th>\n",
       "      <td>5</td>\n",
       "      <td>고기도 맛있고 서비스는 더 최고입니다~</td>\n",
       "      <td>1</td>\n",
       "    </tr>\n",
       "  </tbody>\n",
       "</table>\n",
       "</div>"
      ],
      "text/plain": [
       "   score                      review  y\n",
       "0      5            친절하시고 깔끔하고 좋았습니다  1\n",
       "1      5                  조용하고 고기도 굿  1\n",
       "2      4      갈비탕과 냉면, 육회비빔밥이 맛있습니다.  1\n",
       "3      4  대체적으로 만족하나\\n와인의 구성이 살짝 아쉬움  1\n",
       "4      5       고기도 맛있고 서비스는 더 최고입니다~  1"
      ]
     },
     "execution_count": 2,
     "metadata": {},
     "output_type": "execute_result"
    }
   ],
   "source": [
    "df = pd.read_csv('data10/review_data.csv')\n",
    "df.head()"
   ]
  },
  {
   "cell_type": "markdown",
   "metadata": {},
   "source": [
    "### 한글 외의 모든 글자를 제거한다."
   ]
  },
  {
   "cell_type": "code",
   "execution_count": 3,
   "metadata": {},
   "outputs": [],
   "source": [
    "def text_cleaning(text):\n",
    "    # 한글 정규식\n",
    "    hangul = re.compile('[^ ㄱ-ㅣ가-힣]+')\n",
    "    \n",
    "    # 한글 정규식에 해당하지 않는 것은 길이가 0인 문자열로 변환한다.\n",
    "    result = hangul.sub('', text)\n",
    "    return result"
   ]
  },
  {
   "cell_type": "code",
   "execution_count": 4,
   "metadata": {},
   "outputs": [
    {
     "data": {
      "text/html": [
       "<div>\n",
       "<style scoped>\n",
       "    .dataframe tbody tr th:only-of-type {\n",
       "        vertical-align: middle;\n",
       "    }\n",
       "\n",
       "    .dataframe tbody tr th {\n",
       "        vertical-align: top;\n",
       "    }\n",
       "\n",
       "    .dataframe thead th {\n",
       "        text-align: right;\n",
       "    }\n",
       "</style>\n",
       "<table border=\"1\" class=\"dataframe\">\n",
       "  <thead>\n",
       "    <tr style=\"text-align: right;\">\n",
       "      <th></th>\n",
       "      <th>score</th>\n",
       "      <th>y</th>\n",
       "      <th>ko_text</th>\n",
       "    </tr>\n",
       "  </thead>\n",
       "  <tbody>\n",
       "    <tr>\n",
       "      <th>0</th>\n",
       "      <td>5</td>\n",
       "      <td>1</td>\n",
       "      <td>친절하시고 깔끔하고 좋았습니다</td>\n",
       "    </tr>\n",
       "    <tr>\n",
       "      <th>1</th>\n",
       "      <td>5</td>\n",
       "      <td>1</td>\n",
       "      <td>조용하고 고기도 굿</td>\n",
       "    </tr>\n",
       "    <tr>\n",
       "      <th>2</th>\n",
       "      <td>4</td>\n",
       "      <td>1</td>\n",
       "      <td>갈비탕과 냉면 육회비빔밥이 맛있습니다</td>\n",
       "    </tr>\n",
       "    <tr>\n",
       "      <th>3</th>\n",
       "      <td>4</td>\n",
       "      <td>1</td>\n",
       "      <td>대체적으로 만족하나와인의 구성이 살짝 아쉬움</td>\n",
       "    </tr>\n",
       "    <tr>\n",
       "      <th>4</th>\n",
       "      <td>5</td>\n",
       "      <td>1</td>\n",
       "      <td>고기도 맛있고 서비스는 더 최고입니다</td>\n",
       "    </tr>\n",
       "    <tr>\n",
       "      <th>...</th>\n",
       "      <td>...</td>\n",
       "      <td>...</td>\n",
       "      <td>...</td>\n",
       "    </tr>\n",
       "    <tr>\n",
       "      <th>540</th>\n",
       "      <td>3</td>\n",
       "      <td>0</td>\n",
       "      <td>추웟어요 고기 외에는 별로에요</td>\n",
       "    </tr>\n",
       "    <tr>\n",
       "      <th>541</th>\n",
       "      <td>1</td>\n",
       "      <td>0</td>\n",
       "      <td>고기질과 육전은 좋다다만 한우손님 돼지고기 손님을 차별한다돼지손님은 주차불가네이버예...</td>\n",
       "    </tr>\n",
       "    <tr>\n",
       "      <th>542</th>\n",
       "      <td>5</td>\n",
       "      <td>1</td>\n",
       "      <td>직접 구워주시고 진짜맛있음 반찬도 맛있음 직원분이 친절하게 잘해주시네요</td>\n",
       "    </tr>\n",
       "    <tr>\n",
       "      <th>543</th>\n",
       "      <td>4</td>\n",
       "      <td>1</td>\n",
       "      <td>친절하게 서빙해주시고 음식도 챙겨주셨어요 ㅎ</td>\n",
       "    </tr>\n",
       "    <tr>\n",
       "      <th>544</th>\n",
       "      <td>4</td>\n",
       "      <td>1</td>\n",
       "      <td>강남역 점례네 방문육회비빔밥은 맛있었당뼈삼겹도 맛있었다다만 부산본점이랑은 좀 틀림 ㅜㅜ</td>\n",
       "    </tr>\n",
       "  </tbody>\n",
       "</table>\n",
       "<p>545 rows × 3 columns</p>\n",
       "</div>"
      ],
      "text/plain": [
       "     score  y                                            ko_text\n",
       "0        5  1                                   친절하시고 깔끔하고 좋았습니다\n",
       "1        5  1                                         조용하고 고기도 굿\n",
       "2        4  1                               갈비탕과 냉면 육회비빔밥이 맛있습니다\n",
       "3        4  1                           대체적으로 만족하나와인의 구성이 살짝 아쉬움\n",
       "4        5  1                               고기도 맛있고 서비스는 더 최고입니다\n",
       "..     ... ..                                                ...\n",
       "540      3  0                                   추웟어요 고기 외에는 별로에요\n",
       "541      1  0  고기질과 육전은 좋다다만 한우손님 돼지고기 손님을 차별한다돼지손님은 주차불가네이버예...\n",
       "542      5  1            직접 구워주시고 진짜맛있음 반찬도 맛있음 직원분이 친절하게 잘해주시네요\n",
       "543      4  1                           친절하게 서빙해주시고 음식도 챙겨주셨어요 ㅎ\n",
       "544      4  1   강남역 점례네 방문육회비빔밥은 맛있었당뼈삼겹도 맛있었다다만 부산본점이랑은 좀 틀림 ㅜㅜ\n",
       "\n",
       "[545 rows x 3 columns]"
      ]
     },
     "execution_count": 4,
     "metadata": {},
     "output_type": "execute_result"
    }
   ],
   "source": [
    "# 리뷰 내용을 정제한다.\n",
    "df['ko_text'] = df['review'].apply(lambda x : text_cleaning(x))\n",
    "del df['review']\n",
    "\n",
    "df"
   ]
  },
  {
   "cell_type": "markdown",
   "metadata": {},
   "source": [
    "### 형태소 분석"
   ]
  },
  {
   "cell_type": "code",
   "execution_count": 5,
   "metadata": {},
   "outputs": [
    {
     "data": {
      "text/plain": [
       "['친절하시고/Adjective', '깔끔하고/Adjective', '좋았습니다/Adjective']"
      ]
     },
     "execution_count": 5,
     "metadata": {},
     "output_type": "execute_result"
    }
   ],
   "source": [
    "from konlpy.tag import Okt\n",
    "\n",
    "# konlpy 라이브러리 텍스트를 데이터에서 형태소를 추출한다.\n",
    "def get_pos(x):\n",
    "    tagger = Okt()\n",
    "    pos = tagger.pos(x)\n",
    "    # print(pos)\n",
    "    \n",
    "    result = []\n",
    "    \n",
    "    for a1 in pos:\n",
    "        result.append(f'{a1[0]}/{a1[1]}')\n",
    "        \n",
    "    return result\n",
    "\n",
    "get_pos(df['ko_text'][0])"
   ]
  },
  {
   "cell_type": "markdown",
   "metadata": {},
   "source": [
    "### 분류 모델의 학습 데이터로 변환하기"
   ]
  },
  {
   "cell_type": "code",
   "execution_count": 6,
   "metadata": {},
   "outputs": [
    {
     "data": {
      "text/plain": [
       "<545x3030 sparse matrix of type '<class 'numpy.int64'>'\n",
       "\twith 9692 stored elements in Compressed Sparse Row format>"
      ]
     },
     "execution_count": 6,
     "metadata": {},
     "output_type": "execute_result"
    }
   ],
   "source": [
    "# 단어 카운터 벡터를 만들어줌\n",
    "from sklearn.feature_extraction.text import CountVectorizer\n",
    "\n",
    "# 형태소를 벡터 형태의 학습 데이터셋으로 변환한다.\n",
    "index_vectorizer = CountVectorizer(tokenizer = lambda x : get_pos(x))\n",
    "X = index_vectorizer.fit_transform(df['ko_text'].tolist())\n",
    "X"
   ]
  },
  {
   "cell_type": "code",
   "execution_count": 7,
   "metadata": {},
   "outputs": [],
   "source": [
    "# 품사와 단어 개수를 확인\n",
    "# index_vectorizer.vocabulary_"
   ]
  },
  {
   "cell_type": "code",
   "execution_count": 8,
   "metadata": {},
   "outputs": [
    {
     "name": "stdout",
     "output_type": "stream",
     "text": [
      "맛있어요 양이 적지만 한우니까요 ㅋㅋ한우초밥도 맛있었습니다\n",
      "  (0, 721)\t1\n",
      "  (0, 2082)\t1\n",
      "  (0, 2)\t1\n",
      "  (0, 2884)\t2\n",
      "  (0, 1017)\t1\n",
      "  (0, 1810)\t1\n",
      "  (0, 2296)\t1\n",
      "  (0, 932)\t1\n",
      "  (0, 604)\t1\n",
      "  (0, 2019)\t1\n",
      "  (0, 2610)\t1\n",
      "  (0, 1029)\t1\n"
     ]
    }
   ],
   "source": [
    "num = 10\n",
    "print(df['ko_text'][num])\n",
    "print(X[num])"
   ]
  },
  {
   "cell_type": "markdown",
   "metadata": {},
   "source": [
    "### TF-IDF로 변환한다."
   ]
  },
  {
   "cell_type": "code",
   "execution_count": 9,
   "metadata": {},
   "outputs": [
    {
     "name": "stdout",
     "output_type": "stream",
     "text": [
      "  (0, 2647)\t0.5548708693511647\n",
      "  (0, 2403)\t0.48955631270748484\n",
      "  (0, 428)\t0.6726462183300624\n"
     ]
    }
   ],
   "source": [
    "# 위에서 만든 형태소 벡터를 학습 데이터 벡터로 생성한다.\n",
    "from sklearn.feature_extraction.text import TfidfTransformer\n",
    "\n",
    "tfidf_vectorizer = TfidfTransformer()\n",
    "X = tfidf_vectorizer.fit_transform(X)\n",
    "print(X[0])"
   ]
  },
  {
   "cell_type": "markdown",
   "metadata": {},
   "source": [
    "### 학습 데이터를 생성한다."
   ]
  },
  {
   "cell_type": "code",
   "execution_count": 10,
   "metadata": {},
   "outputs": [
    {
     "name": "stdout",
     "output_type": "stream",
     "text": [
      "(381, 3030)\n",
      "(164, 3030)\n"
     ]
    }
   ],
   "source": [
    "from sklearn.model_selection import train_test_split\n",
    "\n",
    "# 결과\n",
    "y = df['y']\n",
    "\n",
    "# 학습용과 검증용으로 나눈다.\n",
    "x_train, x_test, y_train, y_test = train_test_split(X,y,test_size=0.3)\n",
    "print(x_train.shape)\n",
    "print(x_test.shape)"
   ]
  },
  {
   "cell_type": "code",
   "execution_count": 11,
   "metadata": {},
   "outputs": [],
   "source": [
    "from sklearn.linear_model import LogisticRegression\n",
    "from sklearn.metrics import accuracy_score\n",
    "from sklearn.metrics import precision_score\n",
    "from sklearn.metrics import recall_score\n",
    "from sklearn.metrics import f1_score\n",
    "from sklearn.metrics import roc_auc_score"
   ]
  },
  {
   "cell_type": "code",
   "execution_count": 12,
   "metadata": {},
   "outputs": [
    {
     "data": {
      "text/plain": [
       "LogisticRegression(C=1.0, class_weight=None, dual=False, fit_intercept=True,\n",
       "                   intercept_scaling=1, l1_ratio=None, max_iter=100,\n",
       "                   multi_class='auto', n_jobs=None, penalty='l2',\n",
       "                   random_state=None, solver='lbfgs', tol=0.0001, verbose=0,\n",
       "                   warm_start=False)"
      ]
     },
     "execution_count": 12,
     "metadata": {},
     "output_type": "execute_result"
    }
   ],
   "source": [
    "# 로지스틱 회귀 모델을 생성한다.\n",
    "lr = LogisticRegression()\n",
    "\n",
    "# 학습\n",
    "lr.fit(x_train, y_train)"
   ]
  },
  {
   "cell_type": "code",
   "execution_count": 13,
   "metadata": {},
   "outputs": [],
   "source": [
    "# 테스트용 데이터를 통해 예측한다.\n",
    "y_pred = lr.predict(x_test)"
   ]
  },
  {
   "cell_type": "code",
   "execution_count": 14,
   "metadata": {},
   "outputs": [],
   "source": [
    "# 평가한다.\n",
    "r1 = accuracy_score(y_test, y_pred)\n",
    "r2 = precision_score(y_test, y_pred)\n",
    "r3 = recall_score(y_test, y_pred)\n",
    "r4 = f1_score(y_test, y_pred)\n",
    "r5 = roc_auc_score(y_test, y_pred)"
   ]
  },
  {
   "cell_type": "code",
   "execution_count": 15,
   "metadata": {},
   "outputs": [
    {
     "name": "stdout",
     "output_type": "stream",
     "text": [
      "accuracy : 0.8902439024390244\n",
      "precision : 0.8902439024390244\n",
      "recall : 1.0\n",
      "f1 : 0.9419354838709678\n",
      "roc_auc : 0.5\n"
     ]
    }
   ],
   "source": [
    "print(f'accuracy : {r1}')\n",
    "print(f'precision : {r2}')\n",
    "print(f'recall : {r3}')\n",
    "print(f'f1 : {r4}')\n",
    "print(f'roc_auc : {r5}')\n"
   ]
  },
  {
   "cell_type": "markdown",
   "metadata": {},
   "source": [
    "### 중요 피처 형태소"
   ]
  },
  {
   "cell_type": "code",
   "execution_count": 16,
   "metadata": {},
   "outputs": [],
   "source": [
    "# 인덱스를 설정하여 리스트형태로 만든다.\n",
    "list(enumerate(lr.coef_[0]))\n",
    "\n",
    "# 회귀 모델의 계수를 높은 순서대로 정렬한다.\n",
    "a1 = list(enumerate(lr.coef_[0]))\n",
    "\n",
    "# sorted 함수를 쓰면 첫번째 것을 기준으로 정렬하기 때문에\n",
    "# index, 계수 형태를 계수, index 형태로 바꿔준다.\n",
    "a2 = list(((value, index) for index, value in a1))\n",
    "\n",
    "# 정렬한다.\n",
    "coef_pos_index = sorted(a2, reverse=True)\n",
    "# coef_pos_index"
   ]
  },
  {
   "cell_type": "code",
   "execution_count": 19,
   "metadata": {},
   "outputs": [],
   "source": [
    "# 단어 번호 : 단어 형태의 딕셔너리를 생성한다.\n",
    "text_data_dict = {}\n",
    "\n",
    "for text, text_id in index_vectorizer.vocabulary_.items():\n",
    "    text_data_dict[text_id] = text"
   ]
  },
  {
   "cell_type": "code",
   "execution_count": 20,
   "metadata": {},
   "outputs": [
    {
     "data": {
      "text/plain": [
       "[(0.7409205533276514, 1017),\n",
       " (0.6166561056628442, 1001),\n",
       " (0.4919714916108256, 1093),\n",
       " (0.43301124016576736, 721),\n",
       " (0.4284004241532582, 1030),\n",
       " (0.42468039084310166, 999),\n",
       " (0.4245107191046603, 2246),\n",
       " (0.3576442448899036, 873),\n",
       " (0.3555472071515358, 2247),\n",
       " (0.353527295546285, 1029),\n",
       " (0.34774651653182537, 2330),\n",
       " (0.34221372731051863, 2613),\n",
       " (0.338436645184621, 2376),\n",
       " (0.3378695631667706, 2403),\n",
       " (0.333499661571251, 2404),\n",
       " (0.3133079946166147, 1388),\n",
       " (0.3010529706680342, 2502),\n",
       " (0.29988312887881974, 2647),\n",
       " (0.28674014996370867, 1920),\n",
       " (0.2754230223630745, 1007)]"
      ]
     },
     "execution_count": 20,
     "metadata": {},
     "output_type": "execute_result"
    }
   ],
   "source": [
    "# 긍정단위 상위 200개\n",
    "coef_pos_index[:20]"
   ]
  },
  {
   "cell_type": "code",
   "execution_count": 21,
   "metadata": {},
   "outputs": [
    {
     "data": {
      "text/plain": [
       "[(-0.4382553820347116, 2082),\n",
       " (-0.4775682749788326, 2198),\n",
       " (-0.5049940960456706, 2289),\n",
       " (-0.5166780316625493, 1720),\n",
       " (-0.5374363970783291, 2371),\n",
       " (-0.5796998339354771, 1608),\n",
       " (-0.5796998339354771, 18),\n",
       " (-0.5804747994290431, 338),\n",
       " (-0.5831336643390982, 1555),\n",
       " (-0.5851684394472948, 24),\n",
       " (-0.6600404847918911, 16),\n",
       " (-0.667645532017591, 2365),\n",
       " (-0.6770251419048888, 1508),\n",
       " (-0.7075829725236282, 2427),\n",
       " (-0.7130337368827411, 901),\n",
       " (-0.7766913643487544, 589),\n",
       " (-0.8198193672569826, 399),\n",
       " (-0.9462753743779084, 2070),\n",
       " (-1.18033042678668, 1309),\n",
       " (-1.3556489705890737, 2069)]"
      ]
     },
     "execution_count": 21,
     "metadata": {},
     "output_type": "execute_result"
    }
   ],
   "source": [
    "# 부정단위 상위 20개\n",
    "coef_pos_index[-20:]"
   ]
  },
  {
   "cell_type": "code",
   "execution_count": 22,
   "metadata": {},
   "outputs": [
    {
     "name": "stdout",
     "output_type": "stream",
     "text": [
      "(0.7409205533276514, '맛있어요/Adjective')\n",
      "(0.6166561056628442, '맛있고/Adjective')\n",
      "(0.4919714916108256, '먹었습니다/Verb')\n",
      "(0.43301124016576736, '도/Josa')\n",
      "(0.4284004241532582, '맛있었어요/Adjective')\n",
      "(0.42468039084310166, '맛있게/Adjective')\n",
      "(0.4245107191046603, '잘/Verb')\n",
      "(0.3576442448899036, '또/Noun')\n",
      "(0.3555472071515358, '잘/VerbPrefix')\n",
      "(0.353527295546285, '맛있었습니다/Adjective')\n",
      "(0.34774651653182537, '정말/Noun')\n",
      "(0.34221372731051863, '최고/Noun')\n",
      "(0.338436645184621, '좋고/Adjective')\n",
      "(0.3378695631667706, '좋았습니다/Adjective')\n",
      "(0.333499661571251, '좋았어요/Adjective')\n",
      "(0.3133079946166147, '분위기/Noun')\n",
      "(0.3010529706680342, '진짜/Noun')\n",
      "(0.29988312887881974, '친절하시고/Adjective')\n",
      "(0.28674014996370867, '역시/Noun')\n",
      "(0.2754230223630745, '맛있는/Adjective')\n",
      "------------------\n",
      "(-0.4382553820347116, '이/Josa')\n",
      "(-0.4775682749788326, '있는데/Adjective')\n",
      "(-0.5049940960456706, '적어요/Verb')\n",
      "(-0.5166780316625493, '안/Noun')\n",
      "(-0.5374363970783291, '종업원/Noun')\n",
      "(-0.5796998339354771, '시끄러워요/Adjective')\n",
      "(-0.5796998339354771, 'ㅠㅠㅠㅠ/KoreanParticle')\n",
      "(-0.5804747994290431, '그/Determiner')\n",
      "(-0.5831336643390982, '손님/Noun')\n",
      "(-0.5851684394472948, '가/Josa')\n",
      "(-0.6600404847918911, 'ㅠㅠ/KoreanParticle')\n",
      "(-0.667645532017591, '좀/Noun')\n",
      "(-0.6770251419048888, '서비스/Noun')\n",
      "(-0.7075829725236282, '주문/Noun')\n",
      "(-0.7130337368827411, '를/Josa')\n",
      "(-0.7766913643487544, '는/Josa')\n",
      "(-0.8198193672569826, '기대이하였음/Verb')\n",
      "(-0.9462753743779084, '을/Josa')\n",
      "(-1.18033042678668, '별로/Noun')\n",
      "(-1.3556489705890737, '은/Josa')\n"
     ]
    }
   ],
   "source": [
    "# coef_pos_index 안에 있는 값들 중 단어 번호를 실제 단어로 변환한다.\n",
    "coef_pos_text = []\n",
    "\n",
    "for value, index in coef_pos_index:\n",
    "    # index에 해당하는 단어를 추출한다.\n",
    "    text = text_data_dict[index]\n",
    "    \n",
    "    # 계수와 단어의 조합으로 만들어 담아준다.\n",
    "    coef_pos_text.append((value, text))\n",
    "    \n",
    "# 상위 20개\n",
    "for text in coef_pos_text[:20] :\n",
    "    print(text)\n",
    "    \n",
    "# 하위 20개\n",
    "print('------------------')\n",
    "for text in coef_pos_text[-20:] :\n",
    "    print(text)"
   ]
  },
  {
   "cell_type": "code",
   "execution_count": null,
   "metadata": {},
   "outputs": [],
   "source": []
  }
 ],
 "metadata": {
  "kernelspec": {
   "display_name": "Python 3",
   "language": "python",
   "name": "python3"
  },
  "language_info": {
   "codemirror_mode": {
    "name": "ipython",
    "version": 3
   },
   "file_extension": ".py",
   "mimetype": "text/x-python",
   "name": "python",
   "nbconvert_exporter": "python",
   "pygments_lexer": "ipython3",
   "version": "3.8.5"
  }
 },
 "nbformat": 4,
 "nbformat_minor": 4
}
