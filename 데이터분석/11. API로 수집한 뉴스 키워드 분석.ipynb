{
 "cells": [
  {
   "cell_type": "code",
   "execution_count": 1,
   "metadata": {},
   "outputs": [],
   "source": [
    "import pandas as pd\n",
    "import numpy as np\n",
    "import matplotlib.pyplot as plt\n",
    "import datetime\n",
    "import seaborn as sns\n",
    "\n",
    "# 그래프 설정\n",
    "# plt.rcParams['font.family'] = 'Malgun Gothic'\n",
    "plt.rcParams['font.family'] = 'AppleGothic'\n",
    "plt.rcParams['font.size'] = 16\n",
    "plt.rcParams['figure.figsize'] = 20, 10\n",
    "plt.rcParams['axes.unicode_minus'] = False"
   ]
  },
  {
   "cell_type": "code",
   "execution_count": 2,
   "metadata": {},
   "outputs": [
    {
     "name": "stdout",
     "output_type": "stream",
     "text": [
      "pygame 2.0.1 (SDL 2.0.14, Python 3.8.5)\n",
      "Hello from the pygame community. https://www.pygame.org/contribute.html\n"
     ]
    }
   ],
   "source": [
    "from konlpy.tag import Okt\n",
    "from collections import Counter\n",
    "import pytagcloud\n",
    "from IPython.display import Image\n",
    "import re"
   ]
  },
  {
   "cell_type": "markdown",
   "metadata": {},
   "source": [
    "### 데이터를 읽어온다."
   ]
  },
  {
   "cell_type": "code",
   "execution_count": 3,
   "metadata": {},
   "outputs": [
    {
     "data": {
      "text/html": [
       "<div>\n",
       "<style scoped>\n",
       "    .dataframe tbody tr th:only-of-type {\n",
       "        vertical-align: middle;\n",
       "    }\n",
       "\n",
       "    .dataframe tbody tr th {\n",
       "        vertical-align: top;\n",
       "    }\n",
       "\n",
       "    .dataframe thead th {\n",
       "        text-align: right;\n",
       "    }\n",
       "</style>\n",
       "<table border=\"1\" class=\"dataframe\">\n",
       "  <thead>\n",
       "    <tr style=\"text-align: right;\">\n",
       "      <th></th>\n",
       "      <th>title</th>\n",
       "      <th>description</th>\n",
       "    </tr>\n",
       "  </thead>\n",
       "  <tbody>\n",
       "    <tr>\n",
       "      <th>0</th>\n",
       "      <td>한국축구 캡틴 &lt;b&gt;손흥민&lt;/b&gt;, 생수 '마신다'에서 만난다</td>\n",
       "      <td>주장 &lt;b&gt;손흥민&lt;/b&gt; 선수가 소속된 프리미어리그 토트넘 홋스퍼 스페셜 패키지를 ...</td>\n",
       "    </tr>\n",
       "    <tr>\n",
       "      <th>1</th>\n",
       "      <td>동아오츠카 생수 '마신다', &lt;b&gt;손흥민&lt;/b&gt; 담은 토트넘 패키지 출시</td>\n",
       "      <td>생수 '마신다'가 &lt;b&gt;손흥민&lt;/b&gt; 선수가 소속된 프리미어리그 토트넘 홋스퍼 스페...</td>\n",
       "    </tr>\n",
       "    <tr>\n",
       "      <th>2</th>\n",
       "      <td>햄스트링에 쓰러진 &lt;b&gt;손흥민&lt;/b&gt;, 토트넘은 먹구름 잔뜩</td>\n",
       "      <td>&lt;b&gt;손흥민&lt;/b&gt;(토트넘)이 중요한 시점에서 부상에 쓰러졌다. 토트넘에 비상이 걸...</td>\n",
       "    </tr>\n",
       "    <tr>\n",
       "      <th>3</th>\n",
       "      <td>'햄스트링 부상' &lt;b&gt;손흥민&lt;/b&gt; 빈자리를 누가 채울까</td>\n",
       "      <td>햄스트링 부상을 당한 &lt;b&gt;손흥민&lt;/b&gt;의 빈자리를 메워야 하는 토트넘이다. &lt;b&gt;...</td>\n",
       "    </tr>\n",
       "    <tr>\n",
       "      <th>4</th>\n",
       "      <td>부상 &lt;b&gt;손흥민&lt;/b&gt;, 한일전 뛰기 어려울 듯</td>\n",
       "      <td>&lt;b&gt;손흥민&lt;/b&gt;(29·토트넘)이 햄스트링 부상으로 당분간 결장할 것으로 예상된다...</td>\n",
       "    </tr>\n",
       "  </tbody>\n",
       "</table>\n",
       "</div>"
      ],
      "text/plain": [
       "                                      title  \\\n",
       "0        한국축구 캡틴 <b>손흥민</b>, 생수 '마신다'에서 만난다   \n",
       "1  동아오츠카 생수 '마신다', <b>손흥민</b> 담은 토트넘 패키지 출시   \n",
       "2         햄스트링에 쓰러진 <b>손흥민</b>, 토트넘은 먹구름 잔뜩   \n",
       "3          '햄스트링 부상' <b>손흥민</b> 빈자리를 누가 채울까   \n",
       "4               부상 <b>손흥민</b>, 한일전 뛰기 어려울 듯   \n",
       "\n",
       "                                         description  \n",
       "0  주장 <b>손흥민</b> 선수가 소속된 프리미어리그 토트넘 홋스퍼 스페셜 패키지를 ...  \n",
       "1  생수 '마신다'가 <b>손흥민</b> 선수가 소속된 프리미어리그 토트넘 홋스퍼 스페...  \n",
       "2  <b>손흥민</b>(토트넘)이 중요한 시점에서 부상에 쓰러졌다. 토트넘에 비상이 걸...  \n",
       "3  햄스트링 부상을 당한 <b>손흥민</b>의 빈자리를 메워야 하는 토트넘이다. <b>...  \n",
       "4  <b>손흥민</b>(29·토트넘)이 햄스트링 부상으로 당분간 결장할 것으로 예상된다...  "
      ]
     },
     "execution_count": 3,
     "metadata": {},
     "output_type": "execute_result"
    }
   ],
   "source": [
    "df = pd.read_csv('son.csv')\n",
    "df.head()"
   ]
  },
  {
   "cell_type": "markdown",
   "metadata": {},
   "source": [
    "### 결측치 확인"
   ]
  },
  {
   "cell_type": "code",
   "execution_count": 4,
   "metadata": {},
   "outputs": [
    {
     "data": {
      "text/plain": [
       "title          0\n",
       "description    1\n",
       "dtype: int64"
      ]
     },
     "execution_count": 4,
     "metadata": {},
     "output_type": "execute_result"
    }
   ],
   "source": [
    "df.isna().sum()"
   ]
  },
  {
   "cell_type": "code",
   "execution_count": 5,
   "metadata": {},
   "outputs": [
    {
     "data": {
      "text/plain": [
       "title          0\n",
       "description    0\n",
       "dtype: int64"
      ]
     },
     "execution_count": 5,
     "metadata": {},
     "output_type": "execute_result"
    }
   ],
   "source": [
    "# 결측치 제거\n",
    "df.dropna(inplace=True)\n",
    "df.isna().sum()"
   ]
  },
  {
   "cell_type": "markdown",
   "metadata": {},
   "source": [
    "### 한글 정제"
   ]
  },
  {
   "cell_type": "code",
   "execution_count": 6,
   "metadata": {},
   "outputs": [],
   "source": [
    "# 한글외의 문자는 모두 제거한다.\n",
    "def text_clearing(text):\n",
    "    # 한글 정규식\n",
    "    hangul = re.compile('[^ ㄱ-ㅣ가-힣]+')\n",
    "    \n",
    "    # 한글외의 모든 문자를 길이가 0인 문자열로 변환한다.\n",
    "    result = hangul.sub('',text)\n",
    "    \n",
    "    return result"
   ]
  },
  {
   "cell_type": "code",
   "execution_count": 7,
   "metadata": {},
   "outputs": [
    {
     "name": "stdout",
     "output_type": "stream",
     "text": [
      "주장 <b>손흥민</b> 선수가 소속된 프리미어리그 토트넘 홋스퍼 스페셜 패키지를 선보인다고 16일 밝혔다. 구단과 공식 라이선스 계약을 통해 제작·공개된 이번 스페셜 패키지는 <b>손흥민</b> 선수와 해리 케인, 개러스 베일, 해리... \n",
      "--------------------------------------------------\n",
      "주장 손흥민 선수가 소속된 프리미어리그 토트넘 홋스퍼 스페셜 패키지를 선보인다고 일 밝혔다 구단과 공식 라이선스 계약을 통해 제작공개된 이번 스페셜 패키지는 손흥민 선수와 해리 케인 개러스 베일 해리 \n"
     ]
    }
   ],
   "source": [
    "# 테스트\n",
    "a1 = df['description'][0]\n",
    "print(a1)\n",
    "print('-'*50)\n",
    "print(text_clearing(a1))"
   ]
  },
  {
   "cell_type": "code",
   "execution_count": 8,
   "metadata": {},
   "outputs": [
    {
     "data": {
      "text/html": [
       "<div>\n",
       "<style scoped>\n",
       "    .dataframe tbody tr th:only-of-type {\n",
       "        vertical-align: middle;\n",
       "    }\n",
       "\n",
       "    .dataframe tbody tr th {\n",
       "        vertical-align: top;\n",
       "    }\n",
       "\n",
       "    .dataframe thead th {\n",
       "        text-align: right;\n",
       "    }\n",
       "</style>\n",
       "<table border=\"1\" class=\"dataframe\">\n",
       "  <thead>\n",
       "    <tr style=\"text-align: right;\">\n",
       "      <th></th>\n",
       "      <th>title</th>\n",
       "      <th>description</th>\n",
       "    </tr>\n",
       "  </thead>\n",
       "  <tbody>\n",
       "    <tr>\n",
       "      <th>0</th>\n",
       "      <td>한국축구 캡틴 손흥민 생수 마신다에서 만난다</td>\n",
       "      <td>주장 손흥민 선수가 소속된 프리미어리그 토트넘 홋스퍼 스페셜 패키지를 선보인다고 일...</td>\n",
       "    </tr>\n",
       "    <tr>\n",
       "      <th>1</th>\n",
       "      <td>동아오츠카 생수 마신다 손흥민 담은 토트넘 패키지 출시</td>\n",
       "      <td>생수 마신다가 손흥민 선수가 소속된 프리미어리그 토트넘 홋스퍼 스페셜 패키지를 선보...</td>\n",
       "    </tr>\n",
       "    <tr>\n",
       "      <th>2</th>\n",
       "      <td>햄스트링에 쓰러진 손흥민 토트넘은 먹구름 잔뜩</td>\n",
       "      <td>손흥민토트넘이 중요한 시점에서 부상에 쓰러졌다 토트넘에 비상이 걸렸다 손흥민은 일 ...</td>\n",
       "    </tr>\n",
       "    <tr>\n",
       "      <th>3</th>\n",
       "      <td>햄스트링 부상 손흥민 빈자리를 누가 채울까</td>\n",
       "      <td>햄스트링 부상을 당한 손흥민의 빈자리를 메워야 하는 토트넘이다 손흥민만큼은 아닐지라...</td>\n",
       "    </tr>\n",
       "    <tr>\n",
       "      <th>4</th>\n",
       "      <td>부상 손흥민 한일전 뛰기 어려울 듯</td>\n",
       "      <td>손흥민토트넘이 햄스트링 부상으로 당분간 결장할 것으로 예상된다 일 열리는 한국과 일...</td>\n",
       "    </tr>\n",
       "  </tbody>\n",
       "</table>\n",
       "</div>"
      ],
      "text/plain": [
       "                            title  \\\n",
       "0        한국축구 캡틴 손흥민 생수 마신다에서 만난다   \n",
       "1  동아오츠카 생수 마신다 손흥민 담은 토트넘 패키지 출시   \n",
       "2       햄스트링에 쓰러진 손흥민 토트넘은 먹구름 잔뜩   \n",
       "3         햄스트링 부상 손흥민 빈자리를 누가 채울까   \n",
       "4             부상 손흥민 한일전 뛰기 어려울 듯   \n",
       "\n",
       "                                         description  \n",
       "0  주장 손흥민 선수가 소속된 프리미어리그 토트넘 홋스퍼 스페셜 패키지를 선보인다고 일...  \n",
       "1  생수 마신다가 손흥민 선수가 소속된 프리미어리그 토트넘 홋스퍼 스페셜 패키지를 선보...  \n",
       "2  손흥민토트넘이 중요한 시점에서 부상에 쓰러졌다 토트넘에 비상이 걸렸다 손흥민은 일 ...  \n",
       "3  햄스트링 부상을 당한 손흥민의 빈자리를 메워야 하는 토트넘이다 손흥민만큼은 아닐지라...  \n",
       "4  손흥민토트넘이 햄스트링 부상으로 당분간 결장할 것으로 예상된다 일 열리는 한국과 일...  "
      ]
     },
     "execution_count": 8,
     "metadata": {},
     "output_type": "execute_result"
    }
   ],
   "source": [
    "# 한글을 정제한다.\n",
    "df['title'] = df['title'].apply(lambda x : text_clearing(x))\n",
    "df['description'] = df['description'].apply(lambda x : text_clearing(x))\n",
    "\n",
    "df.head()"
   ]
  },
  {
   "cell_type": "markdown",
   "metadata": {},
   "source": [
    "### 형태소 분석"
   ]
  },
  {
   "cell_type": "code",
   "execution_count": 9,
   "metadata": {},
   "outputs": [],
   "source": [
    "# 말뭉치 생성 (모든 문장을 하나로 합치는 작업)\n",
    "title_corpus = ''.join(df['title'].tolist())\n",
    "description_corpus = ''.join(df['description'].tolist())\n",
    "\n",
    "# print(title_corpus)\n",
    "# print(description_corpus)"
   ]
  },
  {
   "cell_type": "code",
   "execution_count": 10,
   "metadata": {},
   "outputs": [],
   "source": [
    "# 형태소 분석\n",
    "tagger = Okt()\n",
    "\n",
    "title_nouns = tagger.nouns(title_corpus)\n",
    "description_nouns = tagger.nouns(description_corpus)\n",
    "\n",
    "# print(title_nouns)\n",
    "# print(description_nouns)"
   ]
  },
  {
   "cell_type": "code",
   "execution_count": 11,
   "metadata": {},
   "outputs": [],
   "source": [
    "# 단어들의 빈도수를 구한다.\n",
    "title_count = Counter(title_nouns)\n",
    "description_count = Counter(description_nouns)\n",
    "\n",
    "# print(title_count)\n",
    "# print(description_count)"
   ]
  },
  {
   "cell_type": "markdown",
   "metadata": {},
   "source": [
    "### 키워드 다듬기\n",
    "- 한글자인 데이터 삭제\n",
    "- 불용어 데이터 삭제 (새로운 딕셔너리에 담아주는 작업)"
   ]
  },
  {
   "cell_type": "code",
   "execution_count": 12,
   "metadata": {},
   "outputs": [],
   "source": [
    "# 한글자를 제외한 나머지를 새로운 딕셔너리에 담아준다.\n",
    "title_dict = {}\n",
    "\n",
    "for key in title_count:\n",
    "    if len(key) > 1:\n",
    "        title_dict[key] = title_count[key]\n",
    "        \n",
    "description_dict = {}\n",
    "\n",
    "for key in description_count:\n",
    "    if len(key) > 1:\n",
    "        description_dict[key] = description_count[key]\n",
    "        \n",
    "        \n",
    "remove_title_count = Counter(title_dict)\n",
    "remove_title_description = Counter(description_dict)\n",
    "\n",
    "# print(remove_title_count)\n",
    "# print(remove_title_description)"
   ]
  },
  {
   "cell_type": "code",
   "execution_count": 13,
   "metadata": {},
   "outputs": [],
   "source": [
    "# 불용어 제거\n",
    "\n",
    "# 불용어 데이터 불러오기\n",
    "with open('data10/korean_stopwords.txt', encoding='utf-8') as fp:\n",
    "    stopwords = fp.readlines()\n",
    "    \n",
    "stopword = [x.strip() for x in stopwords]\n",
    "# stopword"
   ]
  },
  {
   "cell_type": "code",
   "execution_count": 14,
   "metadata": {},
   "outputs": [],
   "source": [
    "# 불용어를 제외한 나머지만 담아준다.\n",
    "title_dict = {}\n",
    "\n",
    "for key in remove_title_count:\n",
    "    if key not in stopword:\n",
    "        title_dict[key] = remove_title_count[key]\n",
    "\n",
    "description_dict = {}\n",
    "for key in remove_title_description:\n",
    "    if key not in stopword:\n",
    "        description_dict[key] = remove_title_description[key]\n",
    "        \n",
    "remove_title_count = Counter(title_dict)\n",
    "remove_title_description = Counter(description_dict)"
   ]
  },
  {
   "cell_type": "code",
   "execution_count": 15,
   "metadata": {},
   "outputs": [],
   "source": [
    "# 손흥민 키워드 제거 (손흥민으로 검색했기 때문에)\n",
    "del remove_title_count['손흥민']\n",
    "del remove_title_description['손흥민']"
   ]
  },
  {
   "cell_type": "code",
   "execution_count": 17,
   "metadata": {},
   "outputs": [],
   "source": [
    "# print(remove_title_count)\n",
    "# print(remove_title_description)"
   ]
  },
  {
   "cell_type": "markdown",
   "metadata": {},
   "source": [
    "### 워드 클라우드로 시각화"
   ]
  },
  {
   "cell_type": "code",
   "execution_count": 19,
   "metadata": {},
   "outputs": [
    {
     "ename": "AttributeError",
     "evalue": "Invalid font name. Should be one of Nobile, Old Standard TT, Cantarell, Reenie Beanie, Cuprum, Molengo, Neucha, Philosopher, Yanone Kaffeesatz, Cardo, Neuton, Inconsolata, Crimson Text, Josefin Sans, Droid Sans, Lobster, IM Fell DW Pica, Vollkorn, Tangerine, Coustard, PT Sans Regular",
     "output_type": "error",
     "traceback": [
      "\u001b[0;31m---------------------------------------------------------------------------\u001b[0m",
      "\u001b[0;31mAttributeError\u001b[0m                            Traceback (most recent call last)",
      "\u001b[0;32m<ipython-input-19-555b358c9bed>\u001b[0m in \u001b[0;36m<module>\u001b[0;34m\u001b[0m\n\u001b[1;32m      6\u001b[0m \u001b[0;34m\u001b[0m\u001b[0m\n\u001b[1;32m      7\u001b[0m \u001b[0;31m# 워드 클라우드 이미지를 생성한다.\u001b[0m\u001b[0;34m\u001b[0m\u001b[0;34m\u001b[0m\u001b[0;34m\u001b[0m\u001b[0m\n\u001b[0;32m----> 8\u001b[0;31m pytagcloud.create_tag_image(title_taglist,'son_title.jpg', size=(450,300),\n\u001b[0m\u001b[1;32m      9\u001b[0m                            fontname='AppleGothic', rectangular=False)\n",
      "\u001b[0;32m/opt/anaconda3/lib/python3.8/site-packages/pytagcloud/__init__.py\u001b[0m in \u001b[0;36mcreate_tag_image\u001b[0;34m(tags, output, size, background, layout, fontname, rectangular)\u001b[0m\n\u001b[1;32m    338\u001b[0m         \u001b[0;32mreturn\u001b[0m\u001b[0;34m\u001b[0m\u001b[0;34m\u001b[0m\u001b[0m\n\u001b[1;32m    339\u001b[0m \u001b[0;34m\u001b[0m\u001b[0m\n\u001b[0;32m--> 340\u001b[0;31m     sizeRect, tag_store = _draw_cloud(tags,\n\u001b[0m\u001b[1;32m    341\u001b[0m                                       \u001b[0mlayout\u001b[0m\u001b[0;34m,\u001b[0m\u001b[0;34m\u001b[0m\u001b[0;34m\u001b[0m\u001b[0m\n\u001b[1;32m    342\u001b[0m                                       \u001b[0msize\u001b[0m\u001b[0;34m=\u001b[0m\u001b[0msize\u001b[0m\u001b[0;34m,\u001b[0m\u001b[0;34m\u001b[0m\u001b[0;34m\u001b[0m\u001b[0m\n",
      "\u001b[0;32m/opt/anaconda3/lib/python3.8/site-packages/pytagcloud/__init__.py\u001b[0m in \u001b[0;36m_draw_cloud\u001b[0;34m(tag_list, layout, size, fontname, rectangular)\u001b[0m\n\u001b[1;32m    273\u001b[0m     \u001b[0marea\u001b[0m \u001b[0;34m=\u001b[0m \u001b[0;36m0\u001b[0m\u001b[0;34m\u001b[0m\u001b[0;34m\u001b[0m\u001b[0m\n\u001b[1;32m    274\u001b[0m     \u001b[0;32mfor\u001b[0m \u001b[0mtag\u001b[0m \u001b[0;32min\u001b[0m \u001b[0mtag_list\u001b[0m\u001b[0;34m:\u001b[0m\u001b[0;34m\u001b[0m\u001b[0;34m\u001b[0m\u001b[0m\n\u001b[0;32m--> 275\u001b[0;31m         \u001b[0mtag_sprite\u001b[0m \u001b[0;34m=\u001b[0m \u001b[0mTag\u001b[0m\u001b[0;34m(\u001b[0m\u001b[0mtag\u001b[0m\u001b[0;34m,\u001b[0m \u001b[0;34m(\u001b[0m\u001b[0;36m0\u001b[0m\u001b[0;34m,\u001b[0m \u001b[0;36m0\u001b[0m\u001b[0;34m)\u001b[0m\u001b[0;34m,\u001b[0m \u001b[0mfontname\u001b[0m\u001b[0;34m=\u001b[0m\u001b[0mfontname\u001b[0m\u001b[0;34m)\u001b[0m\u001b[0;34m\u001b[0m\u001b[0;34m\u001b[0m\u001b[0m\n\u001b[0m\u001b[1;32m    276\u001b[0m         \u001b[0marea\u001b[0m \u001b[0;34m+=\u001b[0m \u001b[0mtag_sprite\u001b[0m\u001b[0;34m.\u001b[0m\u001b[0mmask\u001b[0m\u001b[0;34m.\u001b[0m\u001b[0mcount\u001b[0m\u001b[0;34m(\u001b[0m\u001b[0;34m)\u001b[0m\u001b[0;34m\u001b[0m\u001b[0;34m\u001b[0m\u001b[0m\n\u001b[1;32m    277\u001b[0m         \u001b[0mtag_sprites\u001b[0m\u001b[0;34m.\u001b[0m\u001b[0mappend\u001b[0m\u001b[0;34m(\u001b[0m\u001b[0mtag_sprite\u001b[0m\u001b[0;34m)\u001b[0m\u001b[0;34m\u001b[0m\u001b[0;34m\u001b[0m\u001b[0m\n",
      "\u001b[0;32m/opt/anaconda3/lib/python3.8/site-packages/pytagcloud/__init__.py\u001b[0m in \u001b[0;36m__init__\u001b[0;34m(self, tag, initial_position, fontname)\u001b[0m\n\u001b[1;32m     57\u001b[0m         \u001b[0mself\u001b[0m\u001b[0;34m.\u001b[0m\u001b[0mrotation\u001b[0m \u001b[0;34m=\u001b[0m \u001b[0;36m0\u001b[0m\u001b[0;34m\u001b[0m\u001b[0;34m\u001b[0m\u001b[0m\n\u001b[1;32m     58\u001b[0m \u001b[0;34m\u001b[0m\u001b[0m\n\u001b[0;32m---> 59\u001b[0;31m         \u001b[0mself\u001b[0m\u001b[0;34m.\u001b[0m\u001b[0mfont_spec\u001b[0m \u001b[0;34m=\u001b[0m \u001b[0mload_font\u001b[0m\u001b[0;34m(\u001b[0m\u001b[0mfontname\u001b[0m\u001b[0;34m)\u001b[0m\u001b[0;34m\u001b[0m\u001b[0;34m\u001b[0m\u001b[0m\n\u001b[0m\u001b[1;32m     60\u001b[0m         self.font = font.Font(os.path.join(FONT_DIR,\n\u001b[1;32m     61\u001b[0m                                            self.font_spec['ttf']),\n",
      "\u001b[0;32m/opt/anaconda3/lib/python3.8/site-packages/pytagcloud/__init__.py\u001b[0m in \u001b[0;36mload_font\u001b[0;34m(name)\u001b[0m\n\u001b[1;32m     99\u001b[0m         \u001b[0;32mif\u001b[0m \u001b[0mfont\u001b[0m\u001b[0;34m[\u001b[0m\u001b[0;34m'name'\u001b[0m\u001b[0;34m]\u001b[0m \u001b[0;34m==\u001b[0m \u001b[0mname\u001b[0m\u001b[0;34m:\u001b[0m\u001b[0;34m\u001b[0m\u001b[0;34m\u001b[0m\u001b[0m\n\u001b[1;32m    100\u001b[0m             \u001b[0;32mreturn\u001b[0m \u001b[0mfont\u001b[0m\u001b[0;34m\u001b[0m\u001b[0;34m\u001b[0m\u001b[0m\n\u001b[0;32m--> 101\u001b[0;31m     raise AttributeError('Invalid font name. Should be one of %s' % \n\u001b[0m\u001b[1;32m    102\u001b[0m                          \", \".join([f['name'] for f in FONT_CACHE]))\n\u001b[1;32m    103\u001b[0m \u001b[0;34m\u001b[0m\u001b[0m\n",
      "\u001b[0;31mAttributeError\u001b[0m: Invalid font name. Should be one of Nobile, Old Standard TT, Cantarell, Reenie Beanie, Cuprum, Molengo, Neucha, Philosopher, Yanone Kaffeesatz, Cardo, Neuton, Inconsolata, Crimson Text, Josefin Sans, Droid Sans, Lobster, IM Fell DW Pica, Vollkorn, Tangerine, Coustard, PT Sans Regular"
     ]
    }
   ],
   "source": [
    "# title에서 빈도수가 많은 100개의 단어를 추출한다.\n",
    "rank_title_tags = remove_title_count.most_common(100)\n",
    "\n",
    "# 워드 클라우드를 위한 단어사전을 생성한다.\n",
    "title_taglist = pytagcloud.make_tags(rank_title_tags)\n",
    "\n",
    "# 워드 클라우드 이미지를 생성한다.\n",
    "pytagcloud.create_tag_image(title_taglist,'son_title.jpg', size=(450,300),\n",
    "                           fontname='NanumGothic', rectangular=False)"
   ]
  },
  {
   "cell_type": "code",
   "execution_count": null,
   "metadata": {},
   "outputs": [],
   "source": [
    "# title에서 빈도수가 많은 100개의 단어를 추출한다.\n",
    "rank_description_tags = remove_description_count.most_common(100)\n",
    "\n",
    "# 워드 클라우드를 위한 단어사전을 생성한다.\n",
    "description_taglist = pytagcloud.make_tags(rank_description_tags)\n",
    "\n",
    "# 워드 클라우드 이미지를 생성한다.\n",
    "pytagcloud.create_tag_image(description_taglist,'son_description.jpg', size=(450,300),\n",
    "                           fontname='NanumGothic', rectangular=False)"
   ]
  },
  {
   "cell_type": "code",
   "execution_count": null,
   "metadata": {},
   "outputs": [],
   "source": [
    "# 이미지 표시\n",
    "Image(filename='son_title.jpg')"
   ]
  },
  {
   "cell_type": "code",
   "execution_count": 31,
   "metadata": {},
   "outputs": [
    {
     "ename": "TypeError",
     "evalue": "'module' object is not callable",
     "output_type": "error",
     "traceback": [
      "\u001b[0;31m---------------------------------------------------------------------------\u001b[0m",
      "\u001b[0;31mTypeError\u001b[0m                                 Traceback (most recent call last)",
      "\u001b[0;32m<ipython-input-31-f63cbd51bb47>\u001b[0m in \u001b[0;36m<module>\u001b[0;34m\u001b[0m\n\u001b[1;32m      2\u001b[0m \u001b[0;32mimport\u001b[0m \u001b[0mmatplotlib\u001b[0m\u001b[0;34m.\u001b[0m\u001b[0mpyplot\u001b[0m \u001b[0;32mas\u001b[0m \u001b[0mplt\u001b[0m\u001b[0;34m\u001b[0m\u001b[0;34m\u001b[0m\u001b[0m\n\u001b[1;32m      3\u001b[0m \u001b[0;34m\u001b[0m\u001b[0m\n\u001b[0;32m----> 4\u001b[0;31m \u001b[0mwordcloud\u001b[0m \u001b[0;34m=\u001b[0m \u001b[0mwordcloud\u001b[0m\u001b[0;34m(\u001b[0m\u001b[0mfont_path\u001b[0m\u001b[0;34m=\u001b[0m\u001b[0;34m'font/NanumGothic.ttf'\u001b[0m\u001b[0;34m,\u001b[0m \u001b[0mbackground_color\u001b[0m\u001b[0;34m=\u001b[0m\u001b[0;34m'white'\u001b[0m\u001b[0;34m)\u001b[0m\u001b[0;34m.\u001b[0m\u001b[0mgenerate\u001b[0m\u001b[0;34m(\u001b[0m\u001b[0mremove_title_count\u001b[0m\u001b[0;34m)\u001b[0m\u001b[0;34m\u001b[0m\u001b[0;34m\u001b[0m\u001b[0m\n\u001b[0m",
      "\u001b[0;31mTypeError\u001b[0m: 'module' object is not callable"
     ]
    }
   ],
   "source": [
    "import wordcloud\n",
    "import matplotlib.pyplot as plt\n",
    " \n",
    "wordcloud = wordcloud(font_path='font/NanumGothic.ttf', background_color='white').generate(remove_title_count)"
   ]
  }
 ],
 "metadata": {
  "kernelspec": {
   "display_name": "Python 3",
   "language": "python",
   "name": "python3"
  },
  "language_info": {
   "codemirror_mode": {
    "name": "ipython",
    "version": 3
   },
   "file_extension": ".py",
   "mimetype": "text/x-python",
   "name": "python",
   "nbconvert_exporter": "python",
   "pygments_lexer": "ipython3",
   "version": "3.8.5"
  }
 },
 "nbformat": 4,
 "nbformat_minor": 4
}
