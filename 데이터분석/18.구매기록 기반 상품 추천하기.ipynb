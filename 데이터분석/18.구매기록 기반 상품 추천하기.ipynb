{
 "cells": [
  {
   "cell_type": "code",
   "execution_count": 1,
   "metadata": {},
   "outputs": [],
   "source": [
    "import pandas as pd\n",
    "import numpy as np\n",
    "import matplotlib.pyplot as plt\n",
    "\n",
    "import warnings\n",
    "warnings.filterwarnings('ignore')"
   ]
  },
  {
   "cell_type": "markdown",
   "metadata": {},
   "source": [
    "### 데이터 읽어오기"
   ]
  },
  {
   "cell_type": "code",
   "execution_count": 2,
   "metadata": {},
   "outputs": [
    {
     "data": {
      "text/html": [
       "<div>\n",
       "<style scoped>\n",
       "    .dataframe tbody tr th:only-of-type {\n",
       "        vertical-align: middle;\n",
       "    }\n",
       "\n",
       "    .dataframe tbody tr th {\n",
       "        vertical-align: top;\n",
       "    }\n",
       "\n",
       "    .dataframe thead th {\n",
       "        text-align: right;\n",
       "    }\n",
       "</style>\n",
       "<table border=\"1\" class=\"dataframe\">\n",
       "  <thead>\n",
       "    <tr style=\"text-align: right;\">\n",
       "      <th></th>\n",
       "      <th>InvoiceNo</th>\n",
       "      <th>StockCode</th>\n",
       "      <th>Description</th>\n",
       "      <th>Quantity</th>\n",
       "      <th>InvoiceDate</th>\n",
       "      <th>UnitPrice</th>\n",
       "      <th>CustomerID</th>\n",
       "      <th>Country</th>\n",
       "    </tr>\n",
       "  </thead>\n",
       "  <tbody>\n",
       "    <tr>\n",
       "      <th>0</th>\n",
       "      <td>536365</td>\n",
       "      <td>85123A</td>\n",
       "      <td>WHITE HANGING HEART T-LIGHT HOLDER</td>\n",
       "      <td>6</td>\n",
       "      <td>2010-12-01 08:26:00</td>\n",
       "      <td>2.55</td>\n",
       "      <td>17850</td>\n",
       "      <td>United Kingdom</td>\n",
       "    </tr>\n",
       "    <tr>\n",
       "      <th>1</th>\n",
       "      <td>536365</td>\n",
       "      <td>71053</td>\n",
       "      <td>WHITE METAL LANTERN</td>\n",
       "      <td>6</td>\n",
       "      <td>2010-12-01 08:26:00</td>\n",
       "      <td>3.39</td>\n",
       "      <td>17850</td>\n",
       "      <td>United Kingdom</td>\n",
       "    </tr>\n",
       "    <tr>\n",
       "      <th>2</th>\n",
       "      <td>536365</td>\n",
       "      <td>84406B</td>\n",
       "      <td>CREAM CUPID HEARTS COAT HANGER</td>\n",
       "      <td>8</td>\n",
       "      <td>2010-12-01 08:26:00</td>\n",
       "      <td>2.75</td>\n",
       "      <td>17850</td>\n",
       "      <td>United Kingdom</td>\n",
       "    </tr>\n",
       "    <tr>\n",
       "      <th>3</th>\n",
       "      <td>536365</td>\n",
       "      <td>84029G</td>\n",
       "      <td>KNITTED UNION FLAG HOT WATER BOTTLE</td>\n",
       "      <td>6</td>\n",
       "      <td>2010-12-01 08:26:00</td>\n",
       "      <td>3.39</td>\n",
       "      <td>17850</td>\n",
       "      <td>United Kingdom</td>\n",
       "    </tr>\n",
       "    <tr>\n",
       "      <th>4</th>\n",
       "      <td>536365</td>\n",
       "      <td>84029E</td>\n",
       "      <td>RED WOOLLY HOTTIE WHITE HEART.</td>\n",
       "      <td>6</td>\n",
       "      <td>2010-12-01 08:26:00</td>\n",
       "      <td>3.39</td>\n",
       "      <td>17850</td>\n",
       "      <td>United Kingdom</td>\n",
       "    </tr>\n",
       "  </tbody>\n",
       "</table>\n",
       "</div>"
      ],
      "text/plain": [
       "  InvoiceNo StockCode                          Description  Quantity  \\\n",
       "0    536365    85123A   WHITE HANGING HEART T-LIGHT HOLDER         6   \n",
       "1    536365     71053                  WHITE METAL LANTERN         6   \n",
       "2    536365    84406B       CREAM CUPID HEARTS COAT HANGER         8   \n",
       "3    536365    84029G  KNITTED UNION FLAG HOT WATER BOTTLE         6   \n",
       "4    536365    84029E       RED WOOLLY HOTTIE WHITE HEART.         6   \n",
       "\n",
       "          InvoiceDate  UnitPrice CustomerID         Country  \n",
       "0 2010-12-01 08:26:00       2.55      17850  United Kingdom  \n",
       "1 2010-12-01 08:26:00       3.39      17850  United Kingdom  \n",
       "2 2010-12-01 08:26:00       2.75      17850  United Kingdom  \n",
       "3 2010-12-01 08:26:00       3.39      17850  United Kingdom  \n",
       "4 2010-12-01 08:26:00       3.39      17850  United Kingdom  "
      ]
     },
     "execution_count": 2,
     "metadata": {},
     "output_type": "execute_result"
    }
   ],
   "source": [
    "# UnicodeDecodeError가 발생할 경우\n",
    "# 한글이 있으면 : euc-kr\n",
    "# 한글이 없으면 : ISO-8858-1\n",
    "df = pd.read_csv('data10/online_retail.csv',dtype= {'CustomerID':str},encoding='ISO-8859-1')\n",
    "\n",
    "# date 타입으로 변환\n",
    "df['InvoiceDate'] = pd.to_datetime(df['InvoiceDate'], format='%m/%d/%Y %H:%M')\n",
    "df.head()"
   ]
  },
  {
   "cell_type": "code",
   "execution_count": 3,
   "metadata": {},
   "outputs": [
    {
     "name": "stdout",
     "output_type": "stream",
     "text": [
      "<class 'pandas.core.frame.DataFrame'>\n",
      "RangeIndex: 541909 entries, 0 to 541908\n",
      "Data columns (total 8 columns):\n",
      " #   Column       Non-Null Count   Dtype         \n",
      "---  ------       --------------   -----         \n",
      " 0   InvoiceNo    541909 non-null  object        \n",
      " 1   StockCode    541909 non-null  object        \n",
      " 2   Description  540455 non-null  object        \n",
      " 3   Quantity     541909 non-null  int64         \n",
      " 4   InvoiceDate  541909 non-null  datetime64[ns]\n",
      " 5   UnitPrice    541909 non-null  float64       \n",
      " 6   CustomerID   406829 non-null  object        \n",
      " 7   Country      541909 non-null  object        \n",
      "dtypes: datetime64[ns](1), float64(1), int64(1), object(5)\n",
      "memory usage: 33.1+ MB\n"
     ]
    }
   ],
   "source": [
    "df.info()"
   ]
  },
  {
   "cell_type": "code",
   "execution_count": 4,
   "metadata": {},
   "outputs": [
    {
     "data": {
      "text/plain": [
       "InvoiceNo           0\n",
       "StockCode           0\n",
       "Description      1454\n",
       "Quantity            0\n",
       "InvoiceDate         0\n",
       "UnitPrice           0\n",
       "CustomerID     135080\n",
       "Country             0\n",
       "dtype: int64"
      ]
     },
     "execution_count": 4,
     "metadata": {},
     "output_type": "execute_result"
    }
   ],
   "source": [
    "# 결측치 확인\n",
    "df.isna().sum()"
   ]
  },
  {
   "cell_type": "markdown",
   "metadata": {},
   "source": [
    "가장 좋은 처리방법은 제거이나 무조건 좋다고는 할 수 없다. (학습량이 줄어들기 때문)\n",
    "\n",
    "일단 제거 후 학습을 해보고 결과를 확인한다.\n",
    "\n",
    "좋지 않은 결과가 나왔을때는 대체할만한 값을 구해서 넣어본다."
   ]
  },
  {
   "cell_type": "markdown",
   "metadata": {},
   "source": [
    "### 결측치 제거"
   ]
  },
  {
   "cell_type": "code",
   "execution_count": 5,
   "metadata": {},
   "outputs": [
    {
     "data": {
      "text/plain": [
       "InvoiceNo      0\n",
       "StockCode      0\n",
       "Description    0\n",
       "Quantity       0\n",
       "InvoiceDate    0\n",
       "UnitPrice      0\n",
       "CustomerID     0\n",
       "Country        0\n",
       "dtype: int64"
      ]
     },
     "execution_count": 5,
     "metadata": {},
     "output_type": "execute_result"
    }
   ],
   "source": [
    "df.dropna(inplace=True)\n",
    "df.isna().sum()"
   ]
  },
  {
   "cell_type": "markdown",
   "metadata": {},
   "source": [
    "### 이상치 제거"
   ]
  },
  {
   "cell_type": "code",
   "execution_count": 6,
   "metadata": {},
   "outputs": [
    {
     "data": {
      "text/html": [
       "<div>\n",
       "<style scoped>\n",
       "    .dataframe tbody tr th:only-of-type {\n",
       "        vertical-align: middle;\n",
       "    }\n",
       "\n",
       "    .dataframe tbody tr th {\n",
       "        vertical-align: top;\n",
       "    }\n",
       "\n",
       "    .dataframe thead th {\n",
       "        text-align: right;\n",
       "    }\n",
       "</style>\n",
       "<table border=\"1\" class=\"dataframe\">\n",
       "  <thead>\n",
       "    <tr style=\"text-align: right;\">\n",
       "      <th></th>\n",
       "      <th>Quantity</th>\n",
       "      <th>UnitPrice</th>\n",
       "    </tr>\n",
       "  </thead>\n",
       "  <tbody>\n",
       "    <tr>\n",
       "      <th>count</th>\n",
       "      <td>406829.000000</td>\n",
       "      <td>406829.000000</td>\n",
       "    </tr>\n",
       "    <tr>\n",
       "      <th>mean</th>\n",
       "      <td>12.061303</td>\n",
       "      <td>3.460471</td>\n",
       "    </tr>\n",
       "    <tr>\n",
       "      <th>std</th>\n",
       "      <td>248.693370</td>\n",
       "      <td>69.315162</td>\n",
       "    </tr>\n",
       "    <tr>\n",
       "      <th>min</th>\n",
       "      <td>-80995.000000</td>\n",
       "      <td>0.000000</td>\n",
       "    </tr>\n",
       "    <tr>\n",
       "      <th>25%</th>\n",
       "      <td>2.000000</td>\n",
       "      <td>1.250000</td>\n",
       "    </tr>\n",
       "    <tr>\n",
       "      <th>50%</th>\n",
       "      <td>5.000000</td>\n",
       "      <td>1.950000</td>\n",
       "    </tr>\n",
       "    <tr>\n",
       "      <th>75%</th>\n",
       "      <td>12.000000</td>\n",
       "      <td>3.750000</td>\n",
       "    </tr>\n",
       "    <tr>\n",
       "      <th>max</th>\n",
       "      <td>80995.000000</td>\n",
       "      <td>38970.000000</td>\n",
       "    </tr>\n",
       "  </tbody>\n",
       "</table>\n",
       "</div>"
      ],
      "text/plain": [
       "            Quantity      UnitPrice\n",
       "count  406829.000000  406829.000000\n",
       "mean       12.061303       3.460471\n",
       "std       248.693370      69.315162\n",
       "min    -80995.000000       0.000000\n",
       "25%         2.000000       1.250000\n",
       "50%         5.000000       1.950000\n",
       "75%        12.000000       3.750000\n",
       "max     80995.000000   38970.000000"
      ]
     },
     "execution_count": 6,
     "metadata": {},
     "output_type": "execute_result"
    }
   ],
   "source": [
    "df.describe()\n",
    "\n",
    "# Quantity (상품 수량)에 음수가 존재한다.\n",
    "# UnitPrice (상품 가격)에 0이 존재한다."
   ]
  },
  {
   "cell_type": "code",
   "execution_count": 7,
   "metadata": {},
   "outputs": [
    {
     "data": {
      "text/html": [
       "<div>\n",
       "<style scoped>\n",
       "    .dataframe tbody tr th:only-of-type {\n",
       "        vertical-align: middle;\n",
       "    }\n",
       "\n",
       "    .dataframe tbody tr th {\n",
       "        vertical-align: top;\n",
       "    }\n",
       "\n",
       "    .dataframe thead th {\n",
       "        text-align: right;\n",
       "    }\n",
       "</style>\n",
       "<table border=\"1\" class=\"dataframe\">\n",
       "  <thead>\n",
       "    <tr style=\"text-align: right;\">\n",
       "      <th></th>\n",
       "      <th>Quantity</th>\n",
       "      <th>UnitPrice</th>\n",
       "    </tr>\n",
       "  </thead>\n",
       "  <tbody>\n",
       "    <tr>\n",
       "      <th>count</th>\n",
       "      <td>397924.000000</td>\n",
       "      <td>397924.000000</td>\n",
       "    </tr>\n",
       "    <tr>\n",
       "      <th>mean</th>\n",
       "      <td>13.021823</td>\n",
       "      <td>3.116174</td>\n",
       "    </tr>\n",
       "    <tr>\n",
       "      <th>std</th>\n",
       "      <td>180.420210</td>\n",
       "      <td>22.096788</td>\n",
       "    </tr>\n",
       "    <tr>\n",
       "      <th>min</th>\n",
       "      <td>1.000000</td>\n",
       "      <td>0.000000</td>\n",
       "    </tr>\n",
       "    <tr>\n",
       "      <th>25%</th>\n",
       "      <td>2.000000</td>\n",
       "      <td>1.250000</td>\n",
       "    </tr>\n",
       "    <tr>\n",
       "      <th>50%</th>\n",
       "      <td>6.000000</td>\n",
       "      <td>1.950000</td>\n",
       "    </tr>\n",
       "    <tr>\n",
       "      <th>75%</th>\n",
       "      <td>12.000000</td>\n",
       "      <td>3.750000</td>\n",
       "    </tr>\n",
       "    <tr>\n",
       "      <th>max</th>\n",
       "      <td>80995.000000</td>\n",
       "      <td>8142.750000</td>\n",
       "    </tr>\n",
       "  </tbody>\n",
       "</table>\n",
       "</div>"
      ],
      "text/plain": [
       "            Quantity      UnitPrice\n",
       "count  397924.000000  397924.000000\n",
       "mean       13.021823       3.116174\n",
       "std       180.420210      22.096788\n",
       "min         1.000000       0.000000\n",
       "25%         2.000000       1.250000\n",
       "50%         6.000000       1.950000\n",
       "75%        12.000000       3.750000\n",
       "max     80995.000000    8142.750000"
      ]
     },
     "execution_count": 7,
     "metadata": {},
     "output_type": "execute_result"
    }
   ],
   "source": [
    "# 상품 수량이 음수인 데이터를 제거한다.\n",
    "df = df.query('Quantity>0')\n",
    "df.describe()"
   ]
  },
  {
   "cell_type": "code",
   "execution_count": 8,
   "metadata": {},
   "outputs": [
    {
     "data": {
      "text/html": [
       "<div>\n",
       "<style scoped>\n",
       "    .dataframe tbody tr th:only-of-type {\n",
       "        vertical-align: middle;\n",
       "    }\n",
       "\n",
       "    .dataframe tbody tr th {\n",
       "        vertical-align: top;\n",
       "    }\n",
       "\n",
       "    .dataframe thead th {\n",
       "        text-align: right;\n",
       "    }\n",
       "</style>\n",
       "<table border=\"1\" class=\"dataframe\">\n",
       "  <thead>\n",
       "    <tr style=\"text-align: right;\">\n",
       "      <th></th>\n",
       "      <th>Quantity</th>\n",
       "      <th>UnitPrice</th>\n",
       "    </tr>\n",
       "  </thead>\n",
       "  <tbody>\n",
       "    <tr>\n",
       "      <th>count</th>\n",
       "      <td>397884.000000</td>\n",
       "      <td>397884.000000</td>\n",
       "    </tr>\n",
       "    <tr>\n",
       "      <th>mean</th>\n",
       "      <td>12.988238</td>\n",
       "      <td>3.116488</td>\n",
       "    </tr>\n",
       "    <tr>\n",
       "      <th>std</th>\n",
       "      <td>179.331775</td>\n",
       "      <td>22.097877</td>\n",
       "    </tr>\n",
       "    <tr>\n",
       "      <th>min</th>\n",
       "      <td>1.000000</td>\n",
       "      <td>0.001000</td>\n",
       "    </tr>\n",
       "    <tr>\n",
       "      <th>25%</th>\n",
       "      <td>2.000000</td>\n",
       "      <td>1.250000</td>\n",
       "    </tr>\n",
       "    <tr>\n",
       "      <th>50%</th>\n",
       "      <td>6.000000</td>\n",
       "      <td>1.950000</td>\n",
       "    </tr>\n",
       "    <tr>\n",
       "      <th>75%</th>\n",
       "      <td>12.000000</td>\n",
       "      <td>3.750000</td>\n",
       "    </tr>\n",
       "    <tr>\n",
       "      <th>max</th>\n",
       "      <td>80995.000000</td>\n",
       "      <td>8142.750000</td>\n",
       "    </tr>\n",
       "  </tbody>\n",
       "</table>\n",
       "</div>"
      ],
      "text/plain": [
       "            Quantity      UnitPrice\n",
       "count  397884.000000  397884.000000\n",
       "mean       12.988238       3.116488\n",
       "std       179.331775      22.097877\n",
       "min         1.000000       0.001000\n",
       "25%         2.000000       1.250000\n",
       "50%         6.000000       1.950000\n",
       "75%        12.000000       3.750000\n",
       "max     80995.000000    8142.750000"
      ]
     },
     "execution_count": 8,
     "metadata": {},
     "output_type": "execute_result"
    }
   ],
   "source": [
    "# 상품 가격이 0이하인 경우를 제거한다.\n",
    "df = df.query('UnitPrice > 0')\n",
    "df.describe()"
   ]
  },
  {
   "cell_type": "code",
   "execution_count": 9,
   "metadata": {},
   "outputs": [
    {
     "data": {
      "text/plain": [
       "0         85123A\n",
       "1          71053\n",
       "2         84406B\n",
       "3         84029G\n",
       "4         84029E\n",
       "           ...  \n",
       "541904     22613\n",
       "541905     22899\n",
       "541906     23254\n",
       "541907     23255\n",
       "541908     22138\n",
       "Name: StockCode, Length: 397884, dtype: object"
      ]
     },
     "execution_count": 9,
     "metadata": {},
     "output_type": "execute_result"
    }
   ],
   "source": [
    "# 상품코드\n",
    "df['StockCode']"
   ]
  },
  {
   "cell_type": "code",
   "execution_count": 10,
   "metadata": {},
   "outputs": [],
   "source": [
    "# 상품 코드가 숫자로 구성되지 않은 것은 제거한다.\n",
    "# 상품코드가 숫자인 것을 구해서 저장\n",
    "# 숫자 판별 : .isdigit()\n",
    "\n",
    "# 코드가 문자로 구성되어있는 것은 제외하고 저장\n",
    "# any : 하나라도 True이면 True로 판정\n",
    "df['ContaintDigit'] = df['StockCode'].apply(lambda x :any(c.isdigit() for c in x))"
   ]
  },
  {
   "cell_type": "code",
   "execution_count": 11,
   "metadata": {},
   "outputs": [
    {
     "data": {
      "text/html": [
       "<div>\n",
       "<style scoped>\n",
       "    .dataframe tbody tr th:only-of-type {\n",
       "        vertical-align: middle;\n",
       "    }\n",
       "\n",
       "    .dataframe tbody tr th {\n",
       "        vertical-align: top;\n",
       "    }\n",
       "\n",
       "    .dataframe thead th {\n",
       "        text-align: right;\n",
       "    }\n",
       "</style>\n",
       "<table border=\"1\" class=\"dataframe\">\n",
       "  <thead>\n",
       "    <tr style=\"text-align: right;\">\n",
       "      <th></th>\n",
       "      <th>InvoiceNo</th>\n",
       "      <th>StockCode</th>\n",
       "      <th>Description</th>\n",
       "      <th>Quantity</th>\n",
       "      <th>InvoiceDate</th>\n",
       "      <th>UnitPrice</th>\n",
       "      <th>CustomerID</th>\n",
       "      <th>Country</th>\n",
       "      <th>ContaintDigit</th>\n",
       "    </tr>\n",
       "  </thead>\n",
       "  <tbody>\n",
       "    <tr>\n",
       "      <th>0</th>\n",
       "      <td>536365</td>\n",
       "      <td>85123A</td>\n",
       "      <td>WHITE HANGING HEART T-LIGHT HOLDER</td>\n",
       "      <td>6</td>\n",
       "      <td>2010-12-01 08:26:00</td>\n",
       "      <td>2.55</td>\n",
       "      <td>17850</td>\n",
       "      <td>United Kingdom</td>\n",
       "      <td>True</td>\n",
       "    </tr>\n",
       "    <tr>\n",
       "      <th>1</th>\n",
       "      <td>536365</td>\n",
       "      <td>71053</td>\n",
       "      <td>WHITE METAL LANTERN</td>\n",
       "      <td>6</td>\n",
       "      <td>2010-12-01 08:26:00</td>\n",
       "      <td>3.39</td>\n",
       "      <td>17850</td>\n",
       "      <td>United Kingdom</td>\n",
       "      <td>True</td>\n",
       "    </tr>\n",
       "    <tr>\n",
       "      <th>2</th>\n",
       "      <td>536365</td>\n",
       "      <td>84406B</td>\n",
       "      <td>CREAM CUPID HEARTS COAT HANGER</td>\n",
       "      <td>8</td>\n",
       "      <td>2010-12-01 08:26:00</td>\n",
       "      <td>2.75</td>\n",
       "      <td>17850</td>\n",
       "      <td>United Kingdom</td>\n",
       "      <td>True</td>\n",
       "    </tr>\n",
       "    <tr>\n",
       "      <th>3</th>\n",
       "      <td>536365</td>\n",
       "      <td>84029G</td>\n",
       "      <td>KNITTED UNION FLAG HOT WATER BOTTLE</td>\n",
       "      <td>6</td>\n",
       "      <td>2010-12-01 08:26:00</td>\n",
       "      <td>3.39</td>\n",
       "      <td>17850</td>\n",
       "      <td>United Kingdom</td>\n",
       "      <td>True</td>\n",
       "    </tr>\n",
       "    <tr>\n",
       "      <th>4</th>\n",
       "      <td>536365</td>\n",
       "      <td>84029E</td>\n",
       "      <td>RED WOOLLY HOTTIE WHITE HEART.</td>\n",
       "      <td>6</td>\n",
       "      <td>2010-12-01 08:26:00</td>\n",
       "      <td>3.39</td>\n",
       "      <td>17850</td>\n",
       "      <td>United Kingdom</td>\n",
       "      <td>True</td>\n",
       "    </tr>\n",
       "  </tbody>\n",
       "</table>\n",
       "</div>"
      ],
      "text/plain": [
       "  InvoiceNo StockCode                          Description  Quantity  \\\n",
       "0    536365    85123A   WHITE HANGING HEART T-LIGHT HOLDER         6   \n",
       "1    536365     71053                  WHITE METAL LANTERN         6   \n",
       "2    536365    84406B       CREAM CUPID HEARTS COAT HANGER         8   \n",
       "3    536365    84029G  KNITTED UNION FLAG HOT WATER BOTTLE         6   \n",
       "4    536365    84029E       RED WOOLLY HOTTIE WHITE HEART.         6   \n",
       "\n",
       "          InvoiceDate  UnitPrice CustomerID         Country  ContaintDigit  \n",
       "0 2010-12-01 08:26:00       2.55      17850  United Kingdom           True  \n",
       "1 2010-12-01 08:26:00       3.39      17850  United Kingdom           True  \n",
       "2 2010-12-01 08:26:00       2.75      17850  United Kingdom           True  \n",
       "3 2010-12-01 08:26:00       3.39      17850  United Kingdom           True  \n",
       "4 2010-12-01 08:26:00       3.39      17850  United Kingdom           True  "
      ]
     },
     "execution_count": 11,
     "metadata": {},
     "output_type": "execute_result"
    }
   ],
   "source": [
    "df = df.query('ContaintDigit == True' )\n",
    "df.head()"
   ]
  },
  {
   "cell_type": "markdown",
   "metadata": {},
   "source": [
    "### 일자별 거래 데이터 분석"
   ]
  },
  {
   "cell_type": "code",
   "execution_count": 12,
   "metadata": {},
   "outputs": [
    {
     "name": "stdout",
     "output_type": "stream",
     "text": [
      "<bound method Series.min of 0         2010-12-01\n",
      "1         2010-12-01\n",
      "2         2010-12-01\n",
      "3         2010-12-01\n",
      "4         2010-12-01\n",
      "             ...    \n",
      "541904    2011-12-09\n",
      "541905    2011-12-09\n",
      "541906    2011-12-09\n",
      "541907    2011-12-09\n",
      "541908    2011-12-09\n",
      "Name: Date, Length: 396470, dtype: object>\n",
      "<bound method Series.max of 0         2010-12-01\n",
      "1         2010-12-01\n",
      "2         2010-12-01\n",
      "3         2010-12-01\n",
      "4         2010-12-01\n",
      "             ...    \n",
      "541904    2011-12-09\n",
      "541905    2011-12-09\n",
      "541906    2011-12-09\n",
      "541907    2011-12-09\n",
      "541908    2011-12-09\n",
      "Name: Date, Length: 396470, dtype: object>\n"
     ]
    }
   ],
   "source": [
    "# 거래 데이터에서 가장 오래된 데이터와 가장 최신 데이터를 탐색한다.\n",
    "# dt.date : 날짜 데이터만 출력\n",
    "\n",
    "df['Date'] = df['InvoiceDate'].dt.date\n",
    "print(df['Date'].min)\n",
    "print(df['Date'].max)"
   ]
  },
  {
   "cell_type": "code",
   "execution_count": 13,
   "metadata": {},
   "outputs": [
    {
     "data": {
      "text/plain": [
       "Date\n",
       "2010-12-01    24208\n",
       "2010-12-02    31140\n",
       "2010-12-03    11822\n",
       "2010-12-05    16370\n",
       "2010-12-06    16269\n",
       "              ...  \n",
       "2011-12-05    37610\n",
       "2011-12-06    27798\n",
       "2011-12-07    41080\n",
       "2011-12-08    27536\n",
       "2011-12-09    90573\n",
       "Name: Quantity, Length: 305, dtype: int64"
      ]
     },
     "execution_count": 13,
     "metadata": {},
     "output_type": "execute_result"
    }
   ],
   "source": [
    "# 일자별 총 거래 수량을 탐색한다.\n",
    "date_quantity_series = df.groupby('Date')['Quantity'].sum()\n",
    "date_quantity_series"
   ]
  },
  {
   "cell_type": "code",
   "execution_count": 14,
   "metadata": {},
   "outputs": [
    {
     "data": {
      "image/png": "[encoded data removed]",
      "text/plain": [
       "<Figure size 432x288 with 1 Axes>"
      ]
     },
     "metadata": {
      "needs_background": "light"
     },
     "output_type": "display_data"
    }
   ],
   "source": [
    "date_quantity_series.plot()\n",
    "plt.show()"
   ]
  },
  {
   "cell_type": "markdown",
   "metadata": {},
   "source": [
    "연초와 연말에 거래량이 급증한다."
   ]
  },
  {
   "cell_type": "code",
   "execution_count": 15,
   "metadata": {},
   "outputs": [
    {
     "data": {
      "text/plain": [
       "Date\n",
       "2010-12-01    121\n",
       "2010-12-02    136\n",
       "2010-12-03     57\n",
       "2010-12-05     87\n",
       "2010-12-06     94\n",
       "             ... \n",
       "2011-12-05    115\n",
       "2011-12-06    110\n",
       "2011-12-07    103\n",
       "2011-12-08    113\n",
       "2011-12-09     41\n",
       "Name: InvoiceNo, Length: 305, dtype: int64"
      ]
     },
     "execution_count": 15,
     "metadata": {},
     "output_type": "execute_result"
    }
   ],
   "source": [
    "# 일자별 총 거래 횟수를 탐색한다.\n",
    "# InvocieNo가 같은 것은 하나의 거래건으로 보고 Invoice가 다른 것들의 수를 계산한다.\n",
    "# nunique : 개체의 고유 요소 수를 반환, Na값은 제외\n",
    "\n",
    "date_transaction_series = df.groupby('Date')['InvoiceNo'].nunique()\n",
    "date_transaction_series"
   ]
  },
  {
   "cell_type": "code",
   "execution_count": 16,
   "metadata": {},
   "outputs": [
    {
     "data": {
      "text/plain": [
       "<AxesSubplot:xlabel='Date'>"
      ]
     },
     "execution_count": 16,
     "metadata": {},
     "output_type": "execute_result"
    },
    {
     "data": {
      "image/png": "[encoded data removed]",
      "text/plain": [
       "<Figure size 432x288 with 1 Axes>"
      ]
     },
     "metadata": {
      "needs_background": "light"
     },
     "output_type": "display_data"
    }
   ],
   "source": [
    "date_transaction_series.plot()"
   ]
  },
  {
   "cell_type": "markdown",
   "metadata": {},
   "source": [
    "두 그래프를 통해 연초에는 건수는 적지만 구매수량이 많은 것을 확인"
   ]
  },
  {
   "cell_type": "markdown",
   "metadata": {},
   "source": [
    "### 일자별 거래된 상품의 unique한 갯수, 즉 상품 거래 다양성"
   ]
  },
  {
   "cell_type": "code",
   "execution_count": 17,
   "metadata": {
    "scrolled": true
   },
   "outputs": [
    {
     "data": {
      "text/plain": [
       "Date\n",
       "2010-12-01     939\n",
       "2010-12-02     905\n",
       "2010-12-03     671\n",
       "2010-12-05    1140\n",
       "2010-12-06     914\n",
       "              ... \n",
       "2011-12-05    1405\n",
       "2011-12-06    1141\n",
       "2011-12-07    1044\n",
       "2011-12-08    1143\n",
       "2011-12-09     456\n",
       "Name: StockCode, Length: 305, dtype: int64"
      ]
     },
     "execution_count": 17,
     "metadata": {},
     "output_type": "execute_result"
    }
   ],
   "source": [
    "date_unique_item_series = df.groupby('Date')['StockCode'].nunique()\n",
    "date_unique_item_series"
   ]
  },
  {
   "cell_type": "code",
   "execution_count": 18,
   "metadata": {},
   "outputs": [
    {
     "data": {
      "text/plain": [
       "<AxesSubplot:xlabel='Date'>"
      ]
     },
     "execution_count": 18,
     "metadata": {},
     "output_type": "execute_result"
    },
    {
     "data": {
      "image/png": "[encoded data removed]",
      "text/plain": [
       "<Figure size 432x288 with 1 Axes>"
      ]
     },
     "metadata": {
      "needs_background": "light"
     },
     "output_type": "display_data"
    }
   ],
   "source": [
    "date_unique_item_series.plot()"
   ]
  },
  {
   "cell_type": "markdown",
   "metadata": {},
   "source": [
    "### 유저별 구매 패턴 분석"
   ]
  },
  {
   "cell_type": "code",
   "execution_count": 19,
   "metadata": {},
   "outputs": [
    {
     "data": {
      "text/plain": [
       "4334"
      ]
     },
     "execution_count": 19,
     "metadata": {},
     "output_type": "execute_result"
    }
   ],
   "source": [
    "# 총 유저수를 계산하여 출력한다.\n",
    "df['CustomerID'].nunique()"
   ]
  },
  {
   "cell_type": "code",
   "execution_count": 20,
   "metadata": {},
   "outputs": [
    {
     "data": {
      "text/plain": [
       "CustomerID\n",
       "12346     1\n",
       "12347     7\n",
       "12348     4\n",
       "12349     1\n",
       "12350     1\n",
       "         ..\n",
       "18280     1\n",
       "18281     1\n",
       "18282     2\n",
       "18283    16\n",
       "18287     3\n",
       "Name: InvoiceNo, Length: 4334, dtype: int64"
      ]
     },
     "execution_count": 20,
     "metadata": {},
     "output_type": "execute_result"
    }
   ],
   "source": [
    "# 유저별 거래 횟수를 탐색한다.\n",
    "df.groupby('CustomerID')['InvoiceNo'].nunique()"
   ]
  },
  {
   "cell_type": "code",
   "execution_count": 21,
   "metadata": {},
   "outputs": [
    {
     "data": {
      "text/plain": [
       "count    4334.000000\n",
       "mean        4.246654\n",
       "std         7.642535\n",
       "min         1.000000\n",
       "25%         1.000000\n",
       "50%         2.000000\n",
       "75%         5.000000\n",
       "max       206.000000\n",
       "Name: InvoiceNo, dtype: float64"
      ]
     },
     "execution_count": 21,
     "metadata": {},
     "output_type": "execute_result"
    }
   ],
   "source": [
    "# 유저별 거래 횟수를 탐색한다.\n",
    "customer_unique_transaction_series = df.groupby('CustomerID')['InvoiceNo'].nunique()\n",
    "customer_unique_transaction_series.describe()"
   ]
  },
  {
   "cell_type": "code",
   "execution_count": 22,
   "metadata": {},
   "outputs": [
    {
     "data": {
      "image/png": "[encoded data removed]",
      "text/plain": [
       "<Figure size 432x288 with 1 Axes>"
      ]
     },
     "metadata": {
      "needs_background": "light"
     },
     "output_type": "display_data"
    }
   ],
   "source": [
    "plt.boxplot(customer_unique_transaction_series.values)\n",
    "plt.show()"
   ]
  },
  {
   "cell_type": "code",
   "execution_count": 23,
   "metadata": {},
   "outputs": [
    {
     "data": {
      "text/plain": [
       "count    4334.000000\n",
       "mean       61.432856\n",
       "std        85.312937\n",
       "min         1.000000\n",
       "25%        16.000000\n",
       "50%        35.000000\n",
       "75%        77.000000\n",
       "max      1786.000000\n",
       "Name: StockCode, dtype: float64"
      ]
     },
     "execution_count": 23,
     "metadata": {},
     "output_type": "execute_result"
    }
   ],
   "source": [
    "# 유저별 아이템 구매 종류 개수를 탐색한다.\n",
    "customer_unique_item_series = df.groupby('CustomerID')['StockCode'].nunique()\n",
    "customer_unique_item_series.describe()"
   ]
  },
  {
   "cell_type": "code",
   "execution_count": 24,
   "metadata": {},
   "outputs": [
    {
     "data": {
      "image/png": "[encoded data removed]",
      "text/plain": [
       "<Figure size 432x288 with 1 Axes>"
      ]
     },
     "metadata": {
      "needs_background": "light"
     },
     "output_type": "display_data"
    }
   ],
   "source": [
    "plt.boxplot(customer_unique_item_series.values)\n",
    "plt.show()"
   ]
  },
  {
   "cell_type": "markdown",
   "metadata": {},
   "source": [
    "- 총 상품 갯수\n",
    "- 가장 거래가 많은 상품 top 10 검색\n",
    "- 상품별 판매수량 분포 탐색\n",
    "- 거래별 가격 탐색"
   ]
  },
  {
   "cell_type": "code",
   "execution_count": 25,
   "metadata": {},
   "outputs": [
    {
     "data": {
      "text/html": [
       "<div>\n",
       "<style scoped>\n",
       "    .dataframe tbody tr th:only-of-type {\n",
       "        vertical-align: middle;\n",
       "    }\n",
       "\n",
       "    .dataframe tbody tr th {\n",
       "        vertical-align: top;\n",
       "    }\n",
       "\n",
       "    .dataframe thead th {\n",
       "        text-align: right;\n",
       "    }\n",
       "</style>\n",
       "<table border=\"1\" class=\"dataframe\">\n",
       "  <thead>\n",
       "    <tr style=\"text-align: right;\">\n",
       "      <th></th>\n",
       "      <th>InvoiceNo</th>\n",
       "      <th>StockCode</th>\n",
       "      <th>Description</th>\n",
       "      <th>Quantity</th>\n",
       "      <th>InvoiceDate</th>\n",
       "      <th>UnitPrice</th>\n",
       "      <th>CustomerID</th>\n",
       "      <th>Country</th>\n",
       "      <th>ContaintDigit</th>\n",
       "      <th>Date</th>\n",
       "    </tr>\n",
       "  </thead>\n",
       "  <tbody>\n",
       "    <tr>\n",
       "      <th>0</th>\n",
       "      <td>536365</td>\n",
       "      <td>85123A</td>\n",
       "      <td>WHITE HANGING HEART T-LIGHT HOLDER</td>\n",
       "      <td>6</td>\n",
       "      <td>2010-12-01 08:26:00</td>\n",
       "      <td>2.55</td>\n",
       "      <td>17850</td>\n",
       "      <td>United Kingdom</td>\n",
       "      <td>True</td>\n",
       "      <td>2010-12-01</td>\n",
       "    </tr>\n",
       "    <tr>\n",
       "      <th>1</th>\n",
       "      <td>536365</td>\n",
       "      <td>71053</td>\n",
       "      <td>WHITE METAL LANTERN</td>\n",
       "      <td>6</td>\n",
       "      <td>2010-12-01 08:26:00</td>\n",
       "      <td>3.39</td>\n",
       "      <td>17850</td>\n",
       "      <td>United Kingdom</td>\n",
       "      <td>True</td>\n",
       "      <td>2010-12-01</td>\n",
       "    </tr>\n",
       "    <tr>\n",
       "      <th>2</th>\n",
       "      <td>536365</td>\n",
       "      <td>84406B</td>\n",
       "      <td>CREAM CUPID HEARTS COAT HANGER</td>\n",
       "      <td>8</td>\n",
       "      <td>2010-12-01 08:26:00</td>\n",
       "      <td>2.75</td>\n",
       "      <td>17850</td>\n",
       "      <td>United Kingdom</td>\n",
       "      <td>True</td>\n",
       "      <td>2010-12-01</td>\n",
       "    </tr>\n",
       "    <tr>\n",
       "      <th>3</th>\n",
       "      <td>536365</td>\n",
       "      <td>84029G</td>\n",
       "      <td>KNITTED UNION FLAG HOT WATER BOTTLE</td>\n",
       "      <td>6</td>\n",
       "      <td>2010-12-01 08:26:00</td>\n",
       "      <td>3.39</td>\n",
       "      <td>17850</td>\n",
       "      <td>United Kingdom</td>\n",
       "      <td>True</td>\n",
       "      <td>2010-12-01</td>\n",
       "    </tr>\n",
       "    <tr>\n",
       "      <th>4</th>\n",
       "      <td>536365</td>\n",
       "      <td>84029E</td>\n",
       "      <td>RED WOOLLY HOTTIE WHITE HEART.</td>\n",
       "      <td>6</td>\n",
       "      <td>2010-12-01 08:26:00</td>\n",
       "      <td>3.39</td>\n",
       "      <td>17850</td>\n",
       "      <td>United Kingdom</td>\n",
       "      <td>True</td>\n",
       "      <td>2010-12-01</td>\n",
       "    </tr>\n",
       "  </tbody>\n",
       "</table>\n",
       "</div>"
      ],
      "text/plain": [
       "  InvoiceNo StockCode                          Description  Quantity  \\\n",
       "0    536365    85123A   WHITE HANGING HEART T-LIGHT HOLDER         6   \n",
       "1    536365     71053                  WHITE METAL LANTERN         6   \n",
       "2    536365    84406B       CREAM CUPID HEARTS COAT HANGER         8   \n",
       "3    536365    84029G  KNITTED UNION FLAG HOT WATER BOTTLE         6   \n",
       "4    536365    84029E       RED WOOLLY HOTTIE WHITE HEART.         6   \n",
       "\n",
       "          InvoiceDate  UnitPrice CustomerID         Country  ContaintDigit  \\\n",
       "0 2010-12-01 08:26:00       2.55      17850  United Kingdom           True   \n",
       "1 2010-12-01 08:26:00       3.39      17850  United Kingdom           True   \n",
       "2 2010-12-01 08:26:00       2.75      17850  United Kingdom           True   \n",
       "3 2010-12-01 08:26:00       3.39      17850  United Kingdom           True   \n",
       "4 2010-12-01 08:26:00       3.39      17850  United Kingdom           True   \n",
       "\n",
       "         Date  \n",
       "0  2010-12-01  \n",
       "1  2010-12-01  \n",
       "2  2010-12-01  \n",
       "3  2010-12-01  \n",
       "4  2010-12-01  "
      ]
     },
     "execution_count": 25,
     "metadata": {},
     "output_type": "execute_result"
    }
   ],
   "source": [
    "df.head()"
   ]
  },
  {
   "cell_type": "code",
   "execution_count": 26,
   "metadata": {},
   "outputs": [
    {
     "data": {
      "text/plain": [
       "3660"
      ]
     },
     "execution_count": 26,
     "metadata": {},
     "output_type": "execute_result"
    }
   ],
   "source": [
    "# 총 상품 갯수\n",
    "df['StockCode'].nunique()"
   ]
  },
  {
   "cell_type": "code",
   "execution_count": 27,
   "metadata": {},
   "outputs": [
    {
     "data": {
      "text/plain": [
       "StockCode\n",
       "85123A    1978\n",
       "22423     1703\n",
       "85099B    1600\n",
       "47566     1379\n",
       "84879     1375\n",
       "20725     1289\n",
       "22720     1146\n",
       "23203     1080\n",
       "20727     1052\n",
       "22383     1043\n",
       "Name: InvoiceNo, dtype: int64"
      ]
     },
     "execution_count": 27,
     "metadata": {},
     "output_type": "execute_result"
    }
   ],
   "source": [
    "# 가장 거래가 많은 상품 top10\n",
    "a1 = df.groupby('StockCode')['InvoiceNo'].nunique()\n",
    "a2 = a1.sort_values(ascending=False)\n",
    "a2[:10]"
   ]
  },
  {
   "cell_type": "code",
   "execution_count": 28,
   "metadata": {},
   "outputs": [
    {
     "data": {
      "text/plain": [
       "StockCode\n",
       "23843     80995\n",
       "23166     77916\n",
       "84077     54415\n",
       "22197     49183\n",
       "85099B    46181\n",
       "          ...  \n",
       "90024D        1\n",
       "84613C        1\n",
       "20892         1\n",
       "90084         1\n",
       "47503J        1\n",
       "Name: Quantity, Length: 3660, dtype: int64"
      ]
     },
     "execution_count": 28,
     "metadata": {},
     "output_type": "execute_result"
    }
   ],
   "source": [
    "# 상품별 판매수량 분포 탐색\n",
    "df1 = df.groupby('StockCode')['Quantity'].sum()\n",
    "df1.sort_values(ascending=False)"
   ]
  },
  {
   "cell_type": "code",
   "execution_count": 29,
   "metadata": {},
   "outputs": [
    {
     "data": {
      "image/png": "[encoded data removed]",
      "text/plain": [
       "<Figure size 432x288 with 1 Axes>"
      ]
     },
     "metadata": {
      "needs_background": "light"
     },
     "output_type": "display_data"
    }
   ],
   "source": [
    "plt.plot(a1.values)\n",
    "plt.show()"
   ]
  },
  {
   "cell_type": "code",
   "execution_count": 30,
   "metadata": {},
   "outputs": [
    {
     "data": {
      "image/png": "[encoded data removed]",
      "text/plain": [
       "<Figure size 432x288 with 1 Axes>"
      ]
     },
     "metadata": {
      "needs_background": "light"
     },
     "output_type": "display_data"
    }
   ],
   "source": [
    "# 거래별 가격 탐색\n",
    "df['amount'] = df['Quantity'] * df['UnitPrice']\n",
    "a3 = df.groupby('InvoiceNo')['amount'].sum()\n",
    "\n",
    "plt.plot(a3.values)\n",
    "plt.show()\n"
   ]
  },
  {
   "cell_type": "markdown",
   "metadata": {},
   "source": [
    "### 구매패턴 분석을 위해 시계열 기준으로 데이터 분리"
   ]
  },
  {
   "cell_type": "code",
   "execution_count": 31,
   "metadata": {},
   "outputs": [
    {
     "name": "stdout",
     "output_type": "stream",
     "text": [
      "(314902, 11)\n",
      "(81568, 11)\n"
     ]
    }
   ],
   "source": [
    "import datetime\n",
    "\n",
    "# 2011년 11월을 기준으로 하여, 기준 이전과 이후로 데이터를 분리\n",
    "df_year_round = df[df['Date'] < datetime.date(2011, 11, 1)]\n",
    "df_year_end = df[df['Date'] >= datetime.date(2011,11,1)]\n",
    "\n",
    "print(df_year_round.shape)\n",
    "print(df_year_end.shape)"
   ]
  },
  {
   "cell_type": "markdown",
   "metadata": {},
   "source": [
    "### 분리된 데이터에서 구매 패턴 검색\n",
    "- 재구매, 신규 구매 등의 여부"
   ]
  },
  {
   "cell_type": "code",
   "execution_count": 32,
   "metadata": {},
   "outputs": [
    {
     "name": "stdout",
     "output_type": "stream",
     "text": [
      "CustomerID\n",
      "12346                                              {23166}\n",
      "12347    {84969, 85232D, 84625C, 23084, 23421, 22697, 2...\n",
      "12348    {21211, 21982, 22437, 21725, 22616, 84992, 219...\n",
      "12350    {22412, 79066K, 84086C, 22348, 20615, 22557, 2...\n",
      "12352    {22423, 21380, 22120, 22720, 22624, 22701, 220...\n",
      "                               ...                        \n",
      "18280    {22084, 22180, 22467, 22725, 22495, 22358, 824...\n",
      "18281    {23209, 22467, 22716, 23007, 23008, 22028, 22037}\n",
      "18282    {23187, 21108, 21109, 22089, 22424, 23295, 21270}\n",
      "18283    {37447, 22469, 23203, 20724, 22975, 22065, 225...\n",
      "18287    {85039B, 72351B, 22583, 22065, 22807, 23310, 2...\n",
      "Name: StockCode, Length: 3970, dtype: object\n"
     ]
    }
   ],
   "source": [
    "# 11월 이전 데이터에서 구매했던 상품의 셋을 추출한다.\n",
    "# apply(set) : 중복제거\n",
    "customer_item_round_set = df_year_round.groupby('CustomerID')['StockCode'].apply(set)\n",
    "print(customer_item_round_set)"
   ]
  },
  {
   "cell_type": "code",
   "execution_count": 33,
   "metadata": {},
   "outputs": [
    {
     "name": "stdout",
     "output_type": "stream",
     "text": [
      "{'84969': 'old', '85232D': 'old', '84625C': 'old', '23084': 'old', '23421': 'old', '22697': 'old', '22725': 'old', '84992': 'old', '21064': 'old', '22417': 'old', '84559A': 'old', '85178': 'old', '22432': 'old', '47567B': 'old', '20966': 'old', '23174': 'old', '51014C': 'old', '23420': 'old', '23171': 'old', '23297': 'old', '20665': 'old', '23480': 'old', '23146': 'old', '22775': 'old', '22492': 'old', '22371': 'old', '23147': 'old', '20782': 'old', '22773': 'old', '22134': 'old', '85116': 'old', '22698': 'old', '47559B': 'old', '84558A': 'old', '23503': 'old', '23177': 'old', '21041': 'old', '22727': 'old', '22992': 'old', '21791': 'old', '22212': 'old', '23316': 'old', '84559B': 'old', '84997C': 'old', '84997B': 'old', '85167B': 'old', '22945': 'old', '22375': 'old', '23076': 'old', '84991': 'old', '22771': 'old', '22252': 'old', '84997D': 'old', '22621': 'old', '22772': 'old', '21832': 'old', '22726': 'old', '22728': 'old', '23170': 'old', '23175': 'old', '21731': 'old', '47580': 'old', '71477': 'old', '21976': 'old', '16008': 'old', '17021': 'old', '20719': 'old', '23162': 'old', '21035': 'old', '22774': 'old', '22196': 'old', '22494': 'old', '22372': 'old', '22821': 'old', '22550': 'old', '23506': 'old', '22805': 'old', '22423': 'old', '22374': 'old', '22497': 'old', '21636': 'old', '23308': 'old', '22131': 'old', '22699': 'old', '21578': 'old', '23422': 'old', '20780': 'old', '22376': 'old', '21154': 'old', '23508': 'old', '22561': 'old', '21265': 'old', '23172': 'old', '22422': 'old', '21975': 'old', '84625A': 'old', '22729': 'old', '22195': 'old', '21171': 'old', '23173': 'old'}\n"
     ]
    }
   ],
   "source": [
    "# 11월 이전에 구매한 내역은 old라는 단어를 셋팅해준다.\n",
    "customer_item_dict = {}\n",
    "\n",
    "# 11월 이전 구매건 수 만큼 반복한다.\n",
    "for customer_id, stocks in customer_item_round_set.items():\n",
    "#     print(customer_id)\n",
    "#     print(stocks)\n",
    "#     print('------------------')\n",
    "    # 딕셔너리에 담는다.\n",
    "    customer_item_dict[customer_id] = {}\n",
    "    \n",
    "    # 현 구매자가 구매한 물품의 수만큼 반복한다.\n",
    "    for stock_code in stocks:\n",
    "        customer_item_dict[customer_id][stock_code] = 'old'\n",
    "    \n",
    "# 12347번 사용자가 구매한 물품\n",
    "print(customer_item_dict['12347'])"
   ]
  },
  {
   "cell_type": "code",
   "execution_count": 34,
   "metadata": {},
   "outputs": [
    {
     "data": {
      "text/plain": [
       "CustomerID\n",
       "12347    {23508, 21731, 23271, 84625A, 23084, 21064, 23...\n",
       "12349    {22423, 37500, 22720, 22832, 22554, 22070, 225...\n",
       "12352    {21669, 23096, 23367, 22668, 23088, 23089, 233...\n",
       "12356                                       {22423, 21843}\n",
       "12357    {23315, 22947, 22357, 21485, 20679, 23197, 233...\n",
       "                               ...                        \n",
       "18272    {72799C, 72799E, 22965, 23113, 23240, 23494, 2...\n",
       "18273                                             {79302M}\n",
       "18274    {22423, 84988, 22720, 21108, 22851, 23243, 845...\n",
       "18282                  {22423, 23175, 22699, 23174, 22818}\n",
       "18283    {23203, 20724, 22551, 21982, 23294, 23380, 225...\n",
       "Name: StockCode, Length: 1904, dtype: object"
      ]
     },
     "execution_count": 34,
     "metadata": {},
     "output_type": "execute_result"
    }
   ],
   "source": [
    "# 11월 이후 데이터에서 구매하는 상품 셋을 구한다.\n",
    "customer_item_end_set = df_year_end.groupby('CustomerID')['StockCode'].apply(set)\n",
    "customer_item_end_set"
   ]
  },
  {
   "cell_type": "code",
   "execution_count": 35,
   "metadata": {},
   "outputs": [],
   "source": [
    "# 11월 이후에 구매한 고객 수만큼 반복한다.\n",
    "for customer_id, stocks in customer_item_end_set.items():\n",
    "#     print(customer_id)\n",
    "#     print(stocks)\n",
    "#     print('------------------')\n",
    "    \n",
    "    # 11월 이전에 구매한 적이 있는지 확인한다.\n",
    "    if customer_id in customer_item_dict:\n",
    "        # 11월 이후에 구매한 상품들의 수만큼 반복한다.\n",
    "        for stock_code in stocks:\n",
    "            # 11월 이전에 구매한 적이 있다면\n",
    "            if stock_code in customer_item_dict[customer_id]:\n",
    "                customer_item_dict[customer_id][stock_code] = 'both'\n",
    "            # 11월 이전에 구매한 적이 없다면\n",
    "            else:\n",
    "                customer_item_dict[customer_id][stock_code] = 'new'\n",
    "        \n",
    "        \n",
    "    # 11월 이전에 구매내역이 없다면\n",
    "    else:\n",
    "        customer_item_dict[customer_id] = {}\n",
    "        for stock_code in stocks:\n",
    "            customer_item_dict[customer_id][stock_code] = 'new'"
   ]
  },
  {
   "cell_type": "code",
   "execution_count": 36,
   "metadata": {
    "scrolled": true
   },
   "outputs": [
    {
     "data": {
      "text/html": [
       "<div>\n",
       "<style scoped>\n",
       "    .dataframe tbody tr th:only-of-type {\n",
       "        vertical-align: middle;\n",
       "    }\n",
       "\n",
       "    .dataframe tbody tr th {\n",
       "        vertical-align: top;\n",
       "    }\n",
       "\n",
       "    .dataframe thead th {\n",
       "        text-align: right;\n",
       "    }\n",
       "</style>\n",
       "<table border=\"1\" class=\"dataframe\">\n",
       "  <thead>\n",
       "    <tr style=\"text-align: right;\">\n",
       "      <th></th>\n",
       "      <th>CustomerID</th>\n",
       "      <th>old</th>\n",
       "      <th>new</th>\n",
       "      <th>both</th>\n",
       "    </tr>\n",
       "  </thead>\n",
       "  <tbody>\n",
       "    <tr>\n",
       "      <th>0</th>\n",
       "      <td>12346</td>\n",
       "      <td>1</td>\n",
       "      <td>0</td>\n",
       "      <td>0</td>\n",
       "    </tr>\n",
       "    <tr>\n",
       "      <th>1</th>\n",
       "      <td>12347</td>\n",
       "      <td>92</td>\n",
       "      <td>3</td>\n",
       "      <td>8</td>\n",
       "    </tr>\n",
       "    <tr>\n",
       "      <th>2</th>\n",
       "      <td>12348</td>\n",
       "      <td>21</td>\n",
       "      <td>0</td>\n",
       "      <td>0</td>\n",
       "    </tr>\n",
       "    <tr>\n",
       "      <th>3</th>\n",
       "      <td>12350</td>\n",
       "      <td>16</td>\n",
       "      <td>0</td>\n",
       "      <td>0</td>\n",
       "    </tr>\n",
       "    <tr>\n",
       "      <th>4</th>\n",
       "      <td>12352</td>\n",
       "      <td>43</td>\n",
       "      <td>12</td>\n",
       "      <td>2</td>\n",
       "    </tr>\n",
       "  </tbody>\n",
       "</table>\n",
       "</div>"
      ],
      "text/plain": [
       "  CustomerID  old  new  both\n",
       "0      12346    1    0     0\n",
       "1      12347   92    3     8\n",
       "2      12348   21    0     0\n",
       "3      12350   16    0     0\n",
       "4      12352   43   12     2"
      ]
     },
     "execution_count": 36,
     "metadata": {},
     "output_type": "execute_result"
    }
   ],
   "source": [
    "# 각 사용자 별로 old, new, both의 수를 계산해 데이터 프레임으로 생성한다.\n",
    "\n",
    "# 데이터를 담을 딕셔너리\n",
    "a1 = {\n",
    "    'CustomerID' : [],\n",
    "    'old' : [],\n",
    "    'new' : [],\n",
    "    'both' : []\n",
    "}\n",
    "\n",
    "# 위에서 구한 딕셔너리 내의 데이터 수만큼 반복한다.\n",
    "for customer_id in customer_item_dict:\n",
    "    old = 0\n",
    "    new = 0\n",
    "    both = 0\n",
    "    \n",
    "    # 해당 사용자내의 딕셔너리의 데이터를 반복해서 가져온다.\n",
    "    for stock_code in customer_item_dict[customer_id]:\n",
    "        status = customer_item_dict[customer_id][stock_code]\n",
    "        # print(status)\n",
    "        \n",
    "        if status == 'old':\n",
    "            old = old+1\n",
    "        elif status == 'new':\n",
    "            new = new+1\n",
    "        elif status == 'both':\n",
    "            both = both+1\n",
    "    # print(old, new, both)\n",
    "    \n",
    "    # 구한 값을 딕셔너리에 담는다.\n",
    "    a1['CustomerID'].append(customer_id)\n",
    "    a1['old'].append(old)\n",
    "    a1['new'].append(new)\n",
    "    a1['both'].append(both)\n",
    "    \n",
    "# print(a1)\n",
    "\n",
    "# 데이터 프레임 생성\n",
    "df_order_info = pd.DataFrame(a1)\n",
    "df_order_info.head()"
   ]
  },
  {
   "cell_type": "code",
   "execution_count": 37,
   "metadata": {},
   "outputs": [
    {
     "data": {
      "text/plain": [
       "4334"
      ]
     },
     "execution_count": 37,
     "metadata": {},
     "output_type": "execute_result"
    }
   ],
   "source": [
    "# 사용자의 수를 가져온다.\n",
    "df_order_info.shape[0]"
   ]
  },
  {
   "cell_type": "code",
   "execution_count": 38,
   "metadata": {},
   "outputs": [
    {
     "data": {
      "text/plain": [
       "Int64Index([3970, 3971, 3972, 3973, 3974, 3975, 3976, 3977, 3978, 3979,\n",
       "            ...\n",
       "            4324, 4325, 4326, 4327, 4328, 4329, 4330, 4331, 4332, 4333],\n",
       "           dtype='int64', length=364)"
      ]
     },
     "execution_count": 38,
     "metadata": {},
     "output_type": "execute_result"
    }
   ],
   "source": [
    "# 11월 이후에 새롭게 유입된 고객의 번호를 가져온다.\n",
    "df_order_info.query('old == 0 and both == 0').index"
   ]
  },
  {
   "cell_type": "markdown",
   "metadata": {},
   "source": [
    "### 상품 구매 예측"
   ]
  },
  {
   "cell_type": "code",
   "execution_count": 39,
   "metadata": {},
   "outputs": [
    {
     "name": "stdout",
     "output_type": "stream",
     "text": [
      "3970\n",
      "3608\n"
     ]
    }
   ],
   "source": [
    "# 추천 대상 데이터에 포함되는 유저와 삼품의 개수를 출력한다.\n",
    "print(len(df_year_round['CustomerID'].unique()))\n",
    "print(len(df_year_round['StockCode'].unique()))\n"
   ]
  },
  {
   "cell_type": "code",
   "execution_count": 40,
   "metadata": {},
   "outputs": [
    {
     "data": {
      "text/html": [
       "<div>\n",
       "<style scoped>\n",
       "    .dataframe tbody tr th:only-of-type {\n",
       "        vertical-align: middle;\n",
       "    }\n",
       "\n",
       "    .dataframe tbody tr th {\n",
       "        vertical-align: top;\n",
       "    }\n",
       "\n",
       "    .dataframe thead th {\n",
       "        text-align: right;\n",
       "    }\n",
       "</style>\n",
       "<table border=\"1\" class=\"dataframe\">\n",
       "  <thead>\n",
       "    <tr style=\"text-align: right;\">\n",
       "      <th></th>\n",
       "      <th>CustomerID</th>\n",
       "      <th>StockCode</th>\n",
       "      <th>InvoiceNo</th>\n",
       "    </tr>\n",
       "  </thead>\n",
       "  <tbody>\n",
       "    <tr>\n",
       "      <th>0</th>\n",
       "      <td>12346</td>\n",
       "      <td>23166</td>\n",
       "      <td>1</td>\n",
       "    </tr>\n",
       "    <tr>\n",
       "      <th>1</th>\n",
       "      <td>12347</td>\n",
       "      <td>16008</td>\n",
       "      <td>1</td>\n",
       "    </tr>\n",
       "    <tr>\n",
       "      <th>2</th>\n",
       "      <td>12347</td>\n",
       "      <td>17021</td>\n",
       "      <td>1</td>\n",
       "    </tr>\n",
       "    <tr>\n",
       "      <th>3</th>\n",
       "      <td>12347</td>\n",
       "      <td>20665</td>\n",
       "      <td>1</td>\n",
       "    </tr>\n",
       "    <tr>\n",
       "      <th>4</th>\n",
       "      <td>12347</td>\n",
       "      <td>20719</td>\n",
       "      <td>3</td>\n",
       "    </tr>\n",
       "    <tr>\n",
       "      <th>...</th>\n",
       "      <td>...</td>\n",
       "      <td>...</td>\n",
       "      <td>...</td>\n",
       "    </tr>\n",
       "    <tr>\n",
       "      <th>220902</th>\n",
       "      <td>18287</td>\n",
       "      <td>84920</td>\n",
       "      <td>1</td>\n",
       "    </tr>\n",
       "    <tr>\n",
       "      <th>220903</th>\n",
       "      <td>18287</td>\n",
       "      <td>85039A</td>\n",
       "      <td>2</td>\n",
       "    </tr>\n",
       "    <tr>\n",
       "      <th>220904</th>\n",
       "      <td>18287</td>\n",
       "      <td>85039B</td>\n",
       "      <td>2</td>\n",
       "    </tr>\n",
       "    <tr>\n",
       "      <th>220905</th>\n",
       "      <td>18287</td>\n",
       "      <td>85040A</td>\n",
       "      <td>1</td>\n",
       "    </tr>\n",
       "    <tr>\n",
       "      <th>220906</th>\n",
       "      <td>18287</td>\n",
       "      <td>85173</td>\n",
       "      <td>1</td>\n",
       "    </tr>\n",
       "  </tbody>\n",
       "</table>\n",
       "<p>220907 rows × 3 columns</p>\n",
       "</div>"
      ],
      "text/plain": [
       "       CustomerID StockCode  InvoiceNo\n",
       "0           12346     23166          1\n",
       "1           12347     16008          1\n",
       "2           12347     17021          1\n",
       "3           12347     20665          1\n",
       "4           12347     20719          3\n",
       "...           ...       ...        ...\n",
       "220902      18287     84920          1\n",
       "220903      18287    85039A          2\n",
       "220904      18287    85039B          2\n",
       "220905      18287    85040A          1\n",
       "220906      18287     85173          1\n",
       "\n",
       "[220907 rows x 3 columns]"
      ]
     },
     "execution_count": 40,
     "metadata": {},
     "output_type": "execute_result"
    }
   ],
   "source": [
    "# 사용자가 각 상품을 얼마나 구매했는지 값을 가져온다.\n",
    "a1 = df_year_round.groupby(['CustomerID','StockCode'])['InvoiceNo'].nunique()\n",
    "uir_df = a1.reset_index()\n",
    "uir_df"
   ]
  },
  {
   "cell_type": "code",
   "execution_count": 41,
   "metadata": {},
   "outputs": [
    {
     "data": {
      "image/png": "[encoded data removed]",
      "text/plain": [
       "<Figure size 432x288 with 1 Axes>"
      ]
     },
     "metadata": {
      "needs_background": "light"
     },
     "output_type": "display_data"
    }
   ],
   "source": [
    "# 재구매수의 분포를 탐색한다.\n",
    "uir_df['InvoiceNo'].hist(bins='auto', grid=False)\n",
    "plt.show()"
   ]
  },
  {
   "cell_type": "code",
   "execution_count": 42,
   "metadata": {},
   "outputs": [
    {
     "data": {
      "image/png": "[encoded data removed]",
      "text/plain": [
       "<Figure size 432x288 with 1 Axes>"
      ]
     },
     "metadata": {
      "needs_background": "light"
     },
     "output_type": "display_data"
    }
   ],
   "source": [
    "# log 노멀라이징\n",
    "# 값의 \n",
    "a1 = uir_df['InvoiceNo'].apply(lambda x : np.log10(x)+1)\n",
    "a1.hist(bins='auto', grid=False)\n",
    "plt.show()"
   ]
  },
  {
   "cell_type": "code",
   "execution_count": 43,
   "metadata": {},
   "outputs": [
    {
     "data": {
      "text/html": [
       "<div>\n",
       "<style scoped>\n",
       "    .dataframe tbody tr th:only-of-type {\n",
       "        vertical-align: middle;\n",
       "    }\n",
       "\n",
       "    .dataframe tbody tr th {\n",
       "        vertical-align: top;\n",
       "    }\n",
       "\n",
       "    .dataframe thead th {\n",
       "        text-align: right;\n",
       "    }\n",
       "</style>\n",
       "<table border=\"1\" class=\"dataframe\">\n",
       "  <thead>\n",
       "    <tr style=\"text-align: right;\">\n",
       "      <th></th>\n",
       "      <th>CustomerID</th>\n",
       "      <th>StockCode</th>\n",
       "      <th>InvoiceNo</th>\n",
       "      <th>Rating</th>\n",
       "    </tr>\n",
       "  </thead>\n",
       "  <tbody>\n",
       "    <tr>\n",
       "      <th>0</th>\n",
       "      <td>12346</td>\n",
       "      <td>23166</td>\n",
       "      <td>1</td>\n",
       "      <td>1.000000</td>\n",
       "    </tr>\n",
       "    <tr>\n",
       "      <th>1</th>\n",
       "      <td>12347</td>\n",
       "      <td>16008</td>\n",
       "      <td>1</td>\n",
       "      <td>1.000000</td>\n",
       "    </tr>\n",
       "    <tr>\n",
       "      <th>2</th>\n",
       "      <td>12347</td>\n",
       "      <td>17021</td>\n",
       "      <td>1</td>\n",
       "      <td>1.000000</td>\n",
       "    </tr>\n",
       "    <tr>\n",
       "      <th>3</th>\n",
       "      <td>12347</td>\n",
       "      <td>20665</td>\n",
       "      <td>1</td>\n",
       "      <td>1.000000</td>\n",
       "    </tr>\n",
       "    <tr>\n",
       "      <th>4</th>\n",
       "      <td>12347</td>\n",
       "      <td>20719</td>\n",
       "      <td>3</td>\n",
       "      <td>1.477121</td>\n",
       "    </tr>\n",
       "    <tr>\n",
       "      <th>...</th>\n",
       "      <td>...</td>\n",
       "      <td>...</td>\n",
       "      <td>...</td>\n",
       "      <td>...</td>\n",
       "    </tr>\n",
       "    <tr>\n",
       "      <th>220902</th>\n",
       "      <td>18287</td>\n",
       "      <td>84920</td>\n",
       "      <td>1</td>\n",
       "      <td>1.000000</td>\n",
       "    </tr>\n",
       "    <tr>\n",
       "      <th>220903</th>\n",
       "      <td>18287</td>\n",
       "      <td>85039A</td>\n",
       "      <td>2</td>\n",
       "      <td>1.301030</td>\n",
       "    </tr>\n",
       "    <tr>\n",
       "      <th>220904</th>\n",
       "      <td>18287</td>\n",
       "      <td>85039B</td>\n",
       "      <td>2</td>\n",
       "      <td>1.301030</td>\n",
       "    </tr>\n",
       "    <tr>\n",
       "      <th>220905</th>\n",
       "      <td>18287</td>\n",
       "      <td>85040A</td>\n",
       "      <td>1</td>\n",
       "      <td>1.000000</td>\n",
       "    </tr>\n",
       "    <tr>\n",
       "      <th>220906</th>\n",
       "      <td>18287</td>\n",
       "      <td>85173</td>\n",
       "      <td>1</td>\n",
       "      <td>1.000000</td>\n",
       "    </tr>\n",
       "  </tbody>\n",
       "</table>\n",
       "<p>220907 rows × 4 columns</p>\n",
       "</div>"
      ],
      "text/plain": [
       "       CustomerID StockCode  InvoiceNo    Rating\n",
       "0           12346     23166          1  1.000000\n",
       "1           12347     16008          1  1.000000\n",
       "2           12347     17021          1  1.000000\n",
       "3           12347     20665          1  1.000000\n",
       "4           12347     20719          3  1.477121\n",
       "...           ...       ...        ...       ...\n",
       "220902      18287     84920          1  1.000000\n",
       "220903      18287    85039A          2  1.301030\n",
       "220904      18287    85039B          2  1.301030\n",
       "220905      18287    85040A          1  1.000000\n",
       "220906      18287     85173          1  1.000000\n",
       "\n",
       "[220907 rows x 4 columns]"
      ]
     },
     "execution_count": 43,
     "metadata": {},
     "output_type": "execute_result"
    }
   ],
   "source": [
    "# 노멀라이징한 값을 평점으로 사용한다.\n",
    "uir_df['Rating'] = a1\n",
    "uir_df"
   ]
  },
  {
   "cell_type": "code",
   "execution_count": 44,
   "metadata": {},
   "outputs": [
    {
     "name": "stdout",
     "output_type": "stream",
     "text": [
      "1.0\n",
      "2.8195439355418688\n"
     ]
    }
   ],
   "source": [
    "# 평점을 1 ~ 5점 사이로 맞춘다.\n",
    "# 최소값\n",
    "min_value = uir_df['Rating'].min()\n",
    "\n",
    "# 최대값\n",
    "max_value = uir_df['Rating'].max()\n",
    "\n",
    "print(min_value)\n",
    "print(max_value)"
   ]
  },
  {
   "cell_type": "code",
   "execution_count": 45,
   "metadata": {},
   "outputs": [
    {
     "data": {
      "text/html": [
       "<div>\n",
       "<style scoped>\n",
       "    .dataframe tbody tr th:only-of-type {\n",
       "        vertical-align: middle;\n",
       "    }\n",
       "\n",
       "    .dataframe tbody tr th {\n",
       "        vertical-align: top;\n",
       "    }\n",
       "\n",
       "    .dataframe thead th {\n",
       "        text-align: right;\n",
       "    }\n",
       "</style>\n",
       "<table border=\"1\" class=\"dataframe\">\n",
       "  <thead>\n",
       "    <tr style=\"text-align: right;\">\n",
       "      <th></th>\n",
       "      <th>CustomerID</th>\n",
       "      <th>StockCode</th>\n",
       "      <th>InvoiceNo</th>\n",
       "      <th>Rating</th>\n",
       "    </tr>\n",
       "  </thead>\n",
       "  <tbody>\n",
       "    <tr>\n",
       "      <th>0</th>\n",
       "      <td>12346</td>\n",
       "      <td>23166</td>\n",
       "      <td>1</td>\n",
       "      <td>1.000000</td>\n",
       "    </tr>\n",
       "    <tr>\n",
       "      <th>1</th>\n",
       "      <td>12347</td>\n",
       "      <td>16008</td>\n",
       "      <td>1</td>\n",
       "      <td>1.000000</td>\n",
       "    </tr>\n",
       "    <tr>\n",
       "      <th>2</th>\n",
       "      <td>12347</td>\n",
       "      <td>17021</td>\n",
       "      <td>1</td>\n",
       "      <td>1.000000</td>\n",
       "    </tr>\n",
       "    <tr>\n",
       "      <th>3</th>\n",
       "      <td>12347</td>\n",
       "      <td>20665</td>\n",
       "      <td>1</td>\n",
       "      <td>1.000000</td>\n",
       "    </tr>\n",
       "    <tr>\n",
       "      <th>4</th>\n",
       "      <td>12347</td>\n",
       "      <td>20719</td>\n",
       "      <td>3</td>\n",
       "      <td>2.048881</td>\n",
       "    </tr>\n",
       "    <tr>\n",
       "      <th>...</th>\n",
       "      <td>...</td>\n",
       "      <td>...</td>\n",
       "      <td>...</td>\n",
       "      <td>...</td>\n",
       "    </tr>\n",
       "    <tr>\n",
       "      <th>220902</th>\n",
       "      <td>18287</td>\n",
       "      <td>84920</td>\n",
       "      <td>1</td>\n",
       "      <td>1.000000</td>\n",
       "    </tr>\n",
       "    <tr>\n",
       "      <th>220903</th>\n",
       "      <td>18287</td>\n",
       "      <td>85039A</td>\n",
       "      <td>2</td>\n",
       "      <td>1.661770</td>\n",
       "    </tr>\n",
       "    <tr>\n",
       "      <th>220904</th>\n",
       "      <td>18287</td>\n",
       "      <td>85039B</td>\n",
       "      <td>2</td>\n",
       "      <td>1.661770</td>\n",
       "    </tr>\n",
       "    <tr>\n",
       "      <th>220905</th>\n",
       "      <td>18287</td>\n",
       "      <td>85040A</td>\n",
       "      <td>1</td>\n",
       "      <td>1.000000</td>\n",
       "    </tr>\n",
       "    <tr>\n",
       "      <th>220906</th>\n",
       "      <td>18287</td>\n",
       "      <td>85173</td>\n",
       "      <td>1</td>\n",
       "      <td>1.000000</td>\n",
       "    </tr>\n",
       "  </tbody>\n",
       "</table>\n",
       "<p>220907 rows × 4 columns</p>\n",
       "</div>"
      ],
      "text/plain": [
       "       CustomerID StockCode  InvoiceNo    Rating\n",
       "0           12346     23166          1  1.000000\n",
       "1           12347     16008          1  1.000000\n",
       "2           12347     17021          1  1.000000\n",
       "3           12347     20665          1  1.000000\n",
       "4           12347     20719          3  2.048881\n",
       "...           ...       ...        ...       ...\n",
       "220902      18287     84920          1  1.000000\n",
       "220903      18287    85039A          2  1.661770\n",
       "220904      18287    85039B          2  1.661770\n",
       "220905      18287    85040A          1  1.000000\n",
       "220906      18287     85173          1  1.000000\n",
       "\n",
       "[220907 rows x 4 columns]"
      ]
     },
     "execution_count": 45,
     "metadata": {},
     "output_type": "execute_result"
    }
   ],
   "source": [
    "# 평점을 계산한다.\n",
    "uir_df['Rating'] = ((uir_df['Rating'] - min_value) / (max_value - min_value) * 4) + 1\n",
    "uir_df"
   ]
  },
  {
   "cell_type": "code",
   "execution_count": 46,
   "metadata": {},
   "outputs": [
    {
     "data": {
      "text/plain": [
       "count    220907.000000\n",
       "mean          1.189098\n",
       "std           0.411273\n",
       "min           1.000000\n",
       "25%           1.000000\n",
       "50%           1.000000\n",
       "75%           1.000000\n",
       "max           5.000000\n",
       "Name: Rating, dtype: float64"
      ]
     },
     "execution_count": 46,
     "metadata": {},
     "output_type": "execute_result"
    }
   ],
   "source": [
    "uir_df['Rating'].describe()"
   ]
  },
  {
   "cell_type": "code",
   "execution_count": 47,
   "metadata": {},
   "outputs": [
    {
     "data": {
      "image/png": "[encoded data removed]",
      "text/plain": [
       "<Figure size 432x288 with 1 Axes>"
      ]
     },
     "metadata": {
      "needs_background": "light"
     },
     "output_type": "display_data"
    }
   ],
   "source": [
    "uir_df['Rating'].hist(bins='auto', grid=False)\n",
    "plt.show()"
   ]
  },
  {
   "cell_type": "markdown",
   "metadata": {},
   "source": [
    "### 학습한다."
   ]
  },
  {
   "cell_type": "code",
   "execution_count": 48,
   "metadata": {},
   "outputs": [
    {
     "data": {
      "text/html": [
       "<div>\n",
       "<style scoped>\n",
       "    .dataframe tbody tr th:only-of-type {\n",
       "        vertical-align: middle;\n",
       "    }\n",
       "\n",
       "    .dataframe tbody tr th {\n",
       "        vertical-align: top;\n",
       "    }\n",
       "\n",
       "    .dataframe thead th {\n",
       "        text-align: right;\n",
       "    }\n",
       "</style>\n",
       "<table border=\"1\" class=\"dataframe\">\n",
       "  <thead>\n",
       "    <tr style=\"text-align: right;\">\n",
       "      <th></th>\n",
       "      <th>CustomerID</th>\n",
       "      <th>StockCode</th>\n",
       "      <th>Rating</th>\n",
       "    </tr>\n",
       "  </thead>\n",
       "  <tbody>\n",
       "    <tr>\n",
       "      <th>0</th>\n",
       "      <td>12346</td>\n",
       "      <td>23166</td>\n",
       "      <td>1.000000</td>\n",
       "    </tr>\n",
       "    <tr>\n",
       "      <th>1</th>\n",
       "      <td>12347</td>\n",
       "      <td>16008</td>\n",
       "      <td>1.000000</td>\n",
       "    </tr>\n",
       "    <tr>\n",
       "      <th>2</th>\n",
       "      <td>12347</td>\n",
       "      <td>17021</td>\n",
       "      <td>1.000000</td>\n",
       "    </tr>\n",
       "    <tr>\n",
       "      <th>3</th>\n",
       "      <td>12347</td>\n",
       "      <td>20665</td>\n",
       "      <td>1.000000</td>\n",
       "    </tr>\n",
       "    <tr>\n",
       "      <th>4</th>\n",
       "      <td>12347</td>\n",
       "      <td>20719</td>\n",
       "      <td>2.048881</td>\n",
       "    </tr>\n",
       "  </tbody>\n",
       "</table>\n",
       "</div>"
      ],
      "text/plain": [
       "  CustomerID StockCode    Rating\n",
       "0      12346     23166  1.000000\n",
       "1      12347     16008  1.000000\n",
       "2      12347     17021  1.000000\n",
       "3      12347     20665  1.000000\n",
       "4      12347     20719  2.048881"
      ]
     },
     "execution_count": 48,
     "metadata": {},
     "output_type": "execute_result"
    }
   ],
   "source": [
    "# SVD 모델 학습을 위한 데이터셋을 생성한다.\n",
    "uir_df = uir_df[['CustomerID', 'StockCode','Rating']]\n",
    "uir_df.head()"
   ]
  },
  {
   "cell_type": "code",
   "execution_count": 49,
   "metadata": {},
   "outputs": [],
   "source": [
    "import time\n",
    "from surprise import SVD, Dataset, Reader, accuracy\n",
    "from surprise.model_selection import train_test_split"
   ]
  },
  {
   "cell_type": "code",
   "execution_count": 50,
   "metadata": {},
   "outputs": [
    {
     "data": {
      "text/plain": [
       "<surprise.dataset.DatasetAutoFolds at 0x2579b473dc0>"
      ]
     },
     "execution_count": 50,
     "metadata": {},
     "output_type": "execute_result"
    }
   ],
   "source": [
    "# SVD 라이브러리를 사용하기 위한 학습 데이터를 생성한다.\n",
    "# 대략적인 성능을 알아보기 위해 8:2로 구성한다.\n",
    "reader = Reader(rating_scale=(1,5))\n",
    "data = Dataset.load_from_df(uir_df[['CustomerID', 'StockCode','Rating']],reader)\n",
    "data"
   ]
  },
  {
   "cell_type": "code",
   "execution_count": 51,
   "metadata": {},
   "outputs": [],
   "source": [
    "# 학습과 검증 데이터로 나눈다,\n",
    "train_data, test_data = train_test_split(data, test_size=0.2)"
   ]
  },
  {
   "cell_type": "code",
   "execution_count": 52,
   "metadata": {},
   "outputs": [
    {
     "name": "stdout",
     "output_type": "stream",
     "text": [
      "총 학습시간 : 23.77540636062622\n"
     ]
    }
   ],
   "source": [
    "# SVD 모델을 학습한다.\n",
    "# 시작시간\n",
    "train_start = time.time()\n",
    "\n",
    "# 모델 생성\n",
    "model = SVD(n_factors=8, lr_all=0.005, reg_all = 0.02, n_epochs=200)\n",
    "\n",
    "# 학습\n",
    "model.fit(train_data)\n",
    "\n",
    "# 종료시간\n",
    "train_end = time.time()\n",
    "\n",
    "print(f'총 학습시간 : {train_end - train_start}')"
   ]
  },
  {
   "cell_type": "code",
   "execution_count": 53,
   "metadata": {},
   "outputs": [
    {
     "name": "stdout",
     "output_type": "stream",
     "text": [
      "RMSE: 0.3337\n"
     ]
    },
    {
     "data": {
      "text/plain": [
       "0.333744186964896"
      ]
     },
     "execution_count": 53,
     "metadata": {},
     "output_type": "execute_result"
    }
   ],
   "source": [
    "# 예측 정확도를 확인힌다.\n",
    "pred = model.test(test_data)\n",
    "\n",
    "# 정확도를 확인힌다.\n",
    "accuracy.rmse(pred)"
   ]
  },
  {
   "cell_type": "code",
   "execution_count": 54,
   "metadata": {},
   "outputs": [
    {
     "data": {
      "text/plain": [
       "<surprise.prediction_algorithms.matrix_factorization.SVD at 0x2579b274b50>"
      ]
     },
     "execution_count": 54,
     "metadata": {},
     "output_type": "execute_result"
    }
   ],
   "source": [
    "# 11월 이전 전체를 full trainset으로 하여 학습한다.\n",
    "reader = Reader(rating_scale=(1,5))\n",
    "data = Dataset.load_from_df(uir_df[['CustomerID', 'StockCode','Rating']],reader)\n",
    "train_data = data.build_full_trainset()\n",
    "\n",
    "# 학습\n",
    "model = SVD(n_factors=8, lr_all=0.005, reg_all = 0.02, n_epochs=200)\n",
    "model.fit(train_data)"
   ]
  },
  {
   "cell_type": "markdown",
   "metadata": {},
   "source": [
    "### 상품 추천 시뮬레이션\n",
    "- 이전에 구매하지 않았던 상품 추천\n",
    "- 이전에 구매했던 상품 다시 추천\n",
    "- 전체 상품을 대상으로 하여 추천"
   ]
  },
  {
   "cell_type": "markdown",
   "metadata": {},
   "source": [
    "#### 이전에 구매하지 않았던 상품 추천"
   ]
  },
  {
   "cell_type": "code",
   "execution_count": 68,
   "metadata": {},
   "outputs": [],
   "source": [
    "# 이전에 구매하지 않았던 상품 추천\n",
    "test_data = train_data.build_anti_testset()\n",
    "target_user_pred = model.test(test_data)\n",
    "# target_user_pred"
   ]
  },
  {
   "cell_type": "code",
   "execution_count": 69,
   "metadata": {},
   "outputs": [],
   "source": [
    "# 위에서 얻은 결과를 딕셔너리 형태로 만든다.\n",
    "new_order_pred_dict = {}\n",
    "\n",
    "for customer_id, stock_code, _, pred_rating, _ in target_user_pred:\n",
    "#     print(customer_id, stock_code, pred_rating)\n",
    "#     print('-'*40)\n",
    "\n",
    "    # 사용자 id가 딕셔너리에 이미 있다면\n",
    "    if customer_id in new_order_pred_dict:\n",
    "        # 해당 상품이 이미 저장되어 있다면 pass\n",
    "        if stock_code in new_order_pred_dict[customer_id]:\n",
    "            pass\n",
    "        # 해당상품이 사용에 없다면 저장\n",
    "        else:\n",
    "            new_order_pred_dict[customer_id]\n",
    "    \n",
    "    \n",
    "    # 사용자 id가 딕셔너리에 없다면\n",
    "    else:\n",
    "        new_order_pred_dict[customer_id] = {}\n",
    "        new_order_pred_dict[customer_id][stock_code] = pred_rating"
   ]
  },
  {
   "cell_type": "code",
   "execution_count": 70,
   "metadata": {},
   "outputs": [
    {
     "data": {
      "text/plain": [
       "\"{'12346': {'16008': 1}, '12347': {'23166': 1.341878930911489}, '12348': {'23166': 1}, '12350': {'23166': 1}, '12352': {'23166': 1.1447169016933039}, '12353': {'23166': 1.0779478681342853}, '12354': {'23166': 1}, '12355': {'23166': 1}, '12356': {'23166': 1.0488209803594146}, '12358': {'23166': 1}\""
      ]
     },
     "execution_count": 70,
     "metadata": {},
     "output_type": "execute_result"
    }
   ],
   "source": [
    "# 내용이 너무 많아 문자열로 변환해서 일부분만 확인해보기\n",
    "str(new_order_pred_dict)[:296]"
   ]
  },
  {
   "cell_type": "code",
   "execution_count": 66,
   "metadata": {},
   "outputs": [],
   "source": [
    "# 사용자의 수만큼 반복한다.\n",
    "for customer_id in new_order_pred_dict:\n",
    "    # 해당 사용자에 대한 정보를 가져온다.\n",
    "    a1 = new_order_pred_dict[customer_id]\n",
    "    \n",
    "    # 가져온 정보를 Series로 생성한다,\n",
    "    a2 = pd.Series(a1)\n",
    "    \n",
    "    # 예측 평점을 기준으로 내림 차순 정렬한다.\n",
    "    a3 = a2.sort_values(ascending=False)\n",
    "    \n",
    "    # 상위 5개만 가져와 출력한다.\n",
    "    # print(f'{customer_id} : {a3[:5].index.tolist()}')"
   ]
  },
  {
   "cell_type": "markdown",
   "metadata": {},
   "source": [
    "#### 이전에 구매했던 상품 추천"
   ]
  },
  {
   "cell_type": "code",
   "execution_count": 72,
   "metadata": {},
   "outputs": [],
   "source": [
    "# 이전에 구매했던 상품을 대상으로 예측한다.\n",
    "test_data = train_data.build_testset()\n",
    "target_user_predictions = model.test(test_data)\n"
   ]
  },
  {
   "cell_type": "code",
   "execution_count": 73,
   "metadata": {},
   "outputs": [],
   "source": [
    "# 위에서 얻은 결과를 딕셔너리 행태로 만든다..\n",
    "new_order_prediction_dict = {}\n",
    "\n",
    "for customer_id, stock_code, _, prediction_rating, _ in target_user_predictions :\n",
    "    # print(customer_id, stock_code, prediction_rating)\n",
    "    # 사용자 id가 딕셔너리에 이미 있다면\n",
    "    if customer_id in new_order_prediction_dict :\n",
    "        # 해당 상품이 이미 저장되어 있다면 pass\n",
    "        if stock_code in new_order_prediction_dict[customer_id] :\n",
    "            pass\n",
    "        else :\n",
    "            # 해당 상품이 해당 사용에 없다면 저장한다.\n",
    "            new_order_prediction_dict[customer_id][stock_code] = prediction_rating\n",
    "    # 사용자 id가 딕셔너리에 없다면\n",
    "    else :\n",
    "        new_order_prediction_dict[customer_id] = {}\n",
    "        new_order_prediction_dict[customer_id][stock_code] = prediction_rating\n"
   ]
  },
  {
   "cell_type": "code",
   "execution_count": 74,
   "metadata": {},
   "outputs": [
    {
     "data": {
      "text/plain": [
       "\"{'12346': {'23166': 1.041701004824016}, '12347': {'16008': 1.2548492938308997, '17021': 1, '20665': 1.1010507883866758, '20719': 1.7728387678064115, '20780': 1.044987893718041, '20782': 1.1829342195601227, '20966': 1, '21035': 1.3758748156129137, '21041': 1.8039369241545067, '21064': 1.3294742873781\""
      ]
     },
     "execution_count": 74,
     "metadata": {},
     "output_type": "execute_result"
    }
   ],
   "source": [
    "str(new_order_prediction_dict)[:300]\n"
   ]
  },
  {
   "cell_type": "code",
   "execution_count": 77,
   "metadata": {},
   "outputs": [],
   "source": [
    "# 사용자의 수만큼 반복한다.\n",
    "for customer_id in new_order_prediction_dict:\n",
    "    # 해당 사용자에 대한 정보를 가져온다.\n",
    "    a1 = new_order_prediction_dict[customer_id]\n",
    "    \n",
    "    # 가져온 정보를 Series로 생성한다,\n",
    "    a2 = pd.Series(a1)\n",
    "    \n",
    "    # 예측 평점을 기준으로 내림 차순 정렬한다.\n",
    "    a3 = a2.sort_values(ascending=False)\n",
    "    \n",
    "    # 상위 5개만 가져와 출력한다.\n",
    "    # print(f'{customer_id} : {a3[:5].index.tolist()}')"
   ]
  },
  {
   "cell_type": "code",
   "execution_count": null,
   "metadata": {},
   "outputs": [],
   "source": []
  }
 ],
 "metadata": {
  "kernelspec": {
   "display_name": "Python 3",
   "language": "python",
   "name": "python3"
  },
  "language_info": {
   "codemirror_mode": {
    "name": "ipython",
    "version": 3
   },
   "file_extension": ".py",
   "mimetype": "text/x-python",
   "name": "python",
   "nbconvert_exporter": "python",
   "pygments_lexer": "ipython3",
   "version": "3.8.5"
  }
 },
 "nbformat": 4,
 "nbformat_minor": 4
}
