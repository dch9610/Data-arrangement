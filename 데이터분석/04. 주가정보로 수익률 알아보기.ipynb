{
 "cells": [
  {
   "cell_type": "code",
   "execution_count": 1,
   "metadata": {},
   "outputs": [],
   "source": [
    "import pandas as pd\n",
    "import matplotlib.pyplot as plt\n",
    "from pandas_datareader import data\n",
    "import datetime\n",
    "import seaborn as sns"
   ]
  },
  {
   "cell_type": "code",
   "execution_count": 2,
   "metadata": {},
   "outputs": [],
   "source": [
    "# 그래프 설정\n",
    "plt.rcParams['font.family'] = 'Malgun Gothic'\n",
    "# plt.rcParams['font.family'] = 'AppleGothic'\n",
    "plt.rcParams['font.size'] = 16\n",
    "plt.rcParams['figure.figsize'] = 20, 10\n",
    "plt.rcParams['axes.unicode_minus'] = False"
   ]
  },
  {
   "cell_type": "code",
   "execution_count": 3,
   "metadata": {},
   "outputs": [],
   "source": [
    "# 시작날짜\n",
    "start = datetime.datetime(2010,1,1)\n",
    "\n",
    "# 종료날짜\n",
    "end = datetime.datetime(2020,12,31)"
   ]
  },
  {
   "cell_type": "code",
   "execution_count": 4,
   "metadata": {},
   "outputs": [
    {
     "data": {
      "text/html": [
       "<div>\n",
       "<style scoped>\n",
       "    .dataframe tbody tr th:only-of-type {\n",
       "        vertical-align: middle;\n",
       "    }\n",
       "\n",
       "    .dataframe tbody tr th {\n",
       "        vertical-align: top;\n",
       "    }\n",
       "\n",
       "    .dataframe thead th {\n",
       "        text-align: right;\n",
       "    }\n",
       "</style>\n",
       "<table border=\"1\" class=\"dataframe\">\n",
       "  <thead>\n",
       "    <tr style=\"text-align: right;\">\n",
       "      <th></th>\n",
       "      <th>High</th>\n",
       "      <th>Low</th>\n",
       "      <th>Open</th>\n",
       "      <th>Close</th>\n",
       "      <th>Volume</th>\n",
       "      <th>Adj Close</th>\n",
       "    </tr>\n",
       "    <tr>\n",
       "      <th>Date</th>\n",
       "      <th></th>\n",
       "      <th></th>\n",
       "      <th></th>\n",
       "      <th></th>\n",
       "      <th></th>\n",
       "      <th></th>\n",
       "    </tr>\n",
       "  </thead>\n",
       "  <tbody>\n",
       "    <tr>\n",
       "      <th>2010-01-04</th>\n",
       "      <td>16180.0</td>\n",
       "      <td>16000.0</td>\n",
       "      <td>16060.0</td>\n",
       "      <td>16180.0</td>\n",
       "      <td>11950800.0</td>\n",
       "      <td>13192.374023</td>\n",
       "    </tr>\n",
       "    <tr>\n",
       "      <th>2010-01-05</th>\n",
       "      <td>16580.0</td>\n",
       "      <td>16300.0</td>\n",
       "      <td>16520.0</td>\n",
       "      <td>16440.0</td>\n",
       "      <td>27925850.0</td>\n",
       "      <td>13404.367188</td>\n",
       "    </tr>\n",
       "    <tr>\n",
       "      <th>2010-01-06</th>\n",
       "      <td>16820.0</td>\n",
       "      <td>16520.0</td>\n",
       "      <td>16580.0</td>\n",
       "      <td>16820.0</td>\n",
       "      <td>22948850.0</td>\n",
       "      <td>13714.202148</td>\n",
       "    </tr>\n",
       "    <tr>\n",
       "      <th>2010-01-07</th>\n",
       "      <td>16820.0</td>\n",
       "      <td>16260.0</td>\n",
       "      <td>16820.0</td>\n",
       "      <td>16260.0</td>\n",
       "      <td>22107950.0</td>\n",
       "      <td>13257.604492</td>\n",
       "    </tr>\n",
       "    <tr>\n",
       "      <th>2010-01-08</th>\n",
       "      <td>16420.0</td>\n",
       "      <td>16120.0</td>\n",
       "      <td>16400.0</td>\n",
       "      <td>16420.0</td>\n",
       "      <td>14777550.0</td>\n",
       "      <td>13388.059570</td>\n",
       "    </tr>\n",
       "    <tr>\n",
       "      <th>...</th>\n",
       "      <td>...</td>\n",
       "      <td>...</td>\n",
       "      <td>...</td>\n",
       "      <td>...</td>\n",
       "      <td>...</td>\n",
       "      <td>...</td>\n",
       "    </tr>\n",
       "    <tr>\n",
       "      <th>2020-12-23</th>\n",
       "      <td>74000.0</td>\n",
       "      <td>72300.0</td>\n",
       "      <td>72400.0</td>\n",
       "      <td>73900.0</td>\n",
       "      <td>19411326.0</td>\n",
       "      <td>72085.835938</td>\n",
       "    </tr>\n",
       "    <tr>\n",
       "      <th>2020-12-24</th>\n",
       "      <td>78800.0</td>\n",
       "      <td>74000.0</td>\n",
       "      <td>74100.0</td>\n",
       "      <td>77800.0</td>\n",
       "      <td>32502870.0</td>\n",
       "      <td>75890.093750</td>\n",
       "    </tr>\n",
       "    <tr>\n",
       "      <th>2020-12-28</th>\n",
       "      <td>80100.0</td>\n",
       "      <td>78200.0</td>\n",
       "      <td>79000.0</td>\n",
       "      <td>78700.0</td>\n",
       "      <td>40085044.0</td>\n",
       "      <td>76768.000000</td>\n",
       "    </tr>\n",
       "    <tr>\n",
       "      <th>2020-12-29</th>\n",
       "      <td>78900.0</td>\n",
       "      <td>77300.0</td>\n",
       "      <td>78800.0</td>\n",
       "      <td>78300.0</td>\n",
       "      <td>30339449.0</td>\n",
       "      <td>78300.000000</td>\n",
       "    </tr>\n",
       "    <tr>\n",
       "      <th>2020-12-30</th>\n",
       "      <td>81300.0</td>\n",
       "      <td>77300.0</td>\n",
       "      <td>77400.0</td>\n",
       "      <td>81000.0</td>\n",
       "      <td>29417421.0</td>\n",
       "      <td>81000.000000</td>\n",
       "    </tr>\n",
       "  </tbody>\n",
       "</table>\n",
       "<p>2708 rows × 6 columns</p>\n",
       "</div>"
      ],
      "text/plain": [
       "               High      Low     Open    Close      Volume     Adj Close\n",
       "Date                                                                    \n",
       "2010-01-04  16180.0  16000.0  16060.0  16180.0  11950800.0  13192.374023\n",
       "2010-01-05  16580.0  16300.0  16520.0  16440.0  27925850.0  13404.367188\n",
       "2010-01-06  16820.0  16520.0  16580.0  16820.0  22948850.0  13714.202148\n",
       "2010-01-07  16820.0  16260.0  16820.0  16260.0  22107950.0  13257.604492\n",
       "2010-01-08  16420.0  16120.0  16400.0  16420.0  14777550.0  13388.059570\n",
       "...             ...      ...      ...      ...         ...           ...\n",
       "2020-12-23  74000.0  72300.0  72400.0  73900.0  19411326.0  72085.835938\n",
       "2020-12-24  78800.0  74000.0  74100.0  77800.0  32502870.0  75890.093750\n",
       "2020-12-28  80100.0  78200.0  79000.0  78700.0  40085044.0  76768.000000\n",
       "2020-12-29  78900.0  77300.0  78800.0  78300.0  30339449.0  78300.000000\n",
       "2020-12-30  81300.0  77300.0  77400.0  81000.0  29417421.0  81000.000000\n",
       "\n",
       "[2708 rows x 6 columns]"
      ]
     },
     "execution_count": 4,
     "metadata": {},
     "output_type": "execute_result"
    }
   ],
   "source": [
    "# 삼성전자 주식 데이터를 가져온다.\n",
    "slb = data.DataReader('005930.KS', 'yahoo', start, end)\n",
    "slb"
   ]
  },
  {
   "cell_type": "code",
   "execution_count": 5,
   "metadata": {},
   "outputs": [],
   "source": [
    "# 파일로 저장\n",
    "slb.to_csv('ss_stock.csv')"
   ]
  },
  {
   "cell_type": "code",
   "execution_count": null,
   "metadata": {},
   "outputs": [],
   "source": []
  },
  {
   "cell_type": "code",
   "execution_count": null,
   "metadata": {},
   "outputs": [],
   "source": []
  },
  {
   "cell_type": "code",
   "execution_count": null,
   "metadata": {},
   "outputs": [],
   "source": []
  },
  {
   "cell_type": "code",
   "execution_count": null,
   "metadata": {},
   "outputs": [],
   "source": []
  },
  {
   "cell_type": "code",
   "execution_count": null,
   "metadata": {},
   "outputs": [],
   "source": []
  },
  {
   "cell_type": "markdown",
   "metadata": {},
   "source": [
    "#### Obj 타입을 date 타입으로 변환"
   ]
  },
  {
   "cell_type": "code",
   "execution_count": 6,
   "metadata": {},
   "outputs": [
    {
     "data": {
      "text/html": [
       "<div>\n",
       "<style scoped>\n",
       "    .dataframe tbody tr th:only-of-type {\n",
       "        vertical-align: middle;\n",
       "    }\n",
       "\n",
       "    .dataframe tbody tr th {\n",
       "        vertical-align: top;\n",
       "    }\n",
       "\n",
       "    .dataframe thead th {\n",
       "        text-align: right;\n",
       "    }\n",
       "</style>\n",
       "<table border=\"1\" class=\"dataframe\">\n",
       "  <thead>\n",
       "    <tr style=\"text-align: right;\">\n",
       "      <th></th>\n",
       "      <th>High</th>\n",
       "      <th>Low</th>\n",
       "      <th>Open</th>\n",
       "      <th>Close</th>\n",
       "      <th>Volume</th>\n",
       "      <th>Adj Close</th>\n",
       "    </tr>\n",
       "    <tr>\n",
       "      <th>Date</th>\n",
       "      <th></th>\n",
       "      <th></th>\n",
       "      <th></th>\n",
       "      <th></th>\n",
       "      <th></th>\n",
       "      <th></th>\n",
       "    </tr>\n",
       "  </thead>\n",
       "  <tbody>\n",
       "    <tr>\n",
       "      <th>2010-01-04</th>\n",
       "      <td>16180.0</td>\n",
       "      <td>16000.0</td>\n",
       "      <td>16060.0</td>\n",
       "      <td>16180.0</td>\n",
       "      <td>11950800.0</td>\n",
       "      <td>13192.374023</td>\n",
       "    </tr>\n",
       "    <tr>\n",
       "      <th>2010-01-05</th>\n",
       "      <td>16580.0</td>\n",
       "      <td>16300.0</td>\n",
       "      <td>16520.0</td>\n",
       "      <td>16440.0</td>\n",
       "      <td>27925850.0</td>\n",
       "      <td>13404.367188</td>\n",
       "    </tr>\n",
       "    <tr>\n",
       "      <th>2010-01-06</th>\n",
       "      <td>16820.0</td>\n",
       "      <td>16520.0</td>\n",
       "      <td>16580.0</td>\n",
       "      <td>16820.0</td>\n",
       "      <td>22948850.0</td>\n",
       "      <td>13714.202148</td>\n",
       "    </tr>\n",
       "    <tr>\n",
       "      <th>2010-01-07</th>\n",
       "      <td>16820.0</td>\n",
       "      <td>16260.0</td>\n",
       "      <td>16820.0</td>\n",
       "      <td>16260.0</td>\n",
       "      <td>22107950.0</td>\n",
       "      <td>13257.604492</td>\n",
       "    </tr>\n",
       "    <tr>\n",
       "      <th>2010-01-08</th>\n",
       "      <td>16420.0</td>\n",
       "      <td>16120.0</td>\n",
       "      <td>16400.0</td>\n",
       "      <td>16420.0</td>\n",
       "      <td>14777550.0</td>\n",
       "      <td>13388.059570</td>\n",
       "    </tr>\n",
       "  </tbody>\n",
       "</table>\n",
       "</div>"
      ],
      "text/plain": [
       "               High      Low     Open    Close      Volume     Adj Close\n",
       "Date                                                                    \n",
       "2010-01-04  16180.0  16000.0  16060.0  16180.0  11950800.0  13192.374023\n",
       "2010-01-05  16580.0  16300.0  16520.0  16440.0  27925850.0  13404.367188\n",
       "2010-01-06  16820.0  16520.0  16580.0  16820.0  22948850.0  13714.202148\n",
       "2010-01-07  16820.0  16260.0  16820.0  16260.0  22107950.0  13257.604492\n",
       "2010-01-08  16420.0  16120.0  16400.0  16420.0  14777550.0  13388.059570"
      ]
     },
     "execution_count": 6,
     "metadata": {},
     "output_type": "execute_result"
    }
   ],
   "source": [
    "# index_col : 해당 컬럼을 인덱스로 지정\n",
    "cel = pd.read_csv(\"data/ss_stock.csv\", index_col='Date')\n",
    "cel.head()"
   ]
  },
  {
   "cell_type": "code",
   "execution_count": 7,
   "metadata": {},
   "outputs": [
    {
     "data": {
      "text/plain": [
       "Index(['2010-01-04', '2010-01-05', '2010-01-06', '2010-01-07', '2010-01-08',\n",
       "       '2010-01-11', '2010-01-12', '2010-01-13', '2010-01-14', '2010-01-15',\n",
       "       ...\n",
       "       '2020-12-16', '2020-12-17', '2020-12-18', '2020-12-21', '2020-12-22',\n",
       "       '2020-12-23', '2020-12-24', '2020-12-28', '2020-12-29', '2020-12-30'],\n",
       "      dtype='object', name='Date', length=2708)"
      ]
     },
     "execution_count": 7,
     "metadata": {},
     "output_type": "execute_result"
    }
   ],
   "source": [
    "# 인덱스의 데이터 타입 확인\n",
    "cel.index"
   ]
  },
  {
   "cell_type": "code",
   "execution_count": 8,
   "metadata": {},
   "outputs": [
    {
     "name": "stdout",
     "output_type": "stream",
     "text": [
      "<class 'pandas.core.frame.DataFrame'>\n",
      "Index: 2708 entries, 2010-01-04 to 2020-12-30\n",
      "Data columns (total 6 columns):\n",
      " #   Column     Non-Null Count  Dtype  \n",
      "---  ------     --------------  -----  \n",
      " 0   High       2708 non-null   float64\n",
      " 1   Low        2708 non-null   float64\n",
      " 2   Open       2708 non-null   float64\n",
      " 3   Close      2708 non-null   float64\n",
      " 4   Volume     2708 non-null   float64\n",
      " 5   Adj Close  2708 non-null   float64\n",
      "dtypes: float64(6)\n",
      "memory usage: 148.1+ KB\n"
     ]
    }
   ],
   "source": [
    "# 컬럼들의 데이터 타입을 확인한다.\n",
    "cel.info()"
   ]
  },
  {
   "cell_type": "code",
   "execution_count": 9,
   "metadata": {
    "scrolled": false
   },
   "outputs": [
    {
     "data": {
      "text/plain": [
       "DatetimeIndex(['2010-01-04', '2010-01-05', '2010-01-06', '2010-01-07',\n",
       "               '2010-01-08', '2010-01-11', '2010-01-12', '2010-01-13',\n",
       "               '2010-01-14', '2010-01-15',\n",
       "               ...\n",
       "               '2020-12-16', '2020-12-17', '2020-12-18', '2020-12-21',\n",
       "               '2020-12-22', '2020-12-23', '2020-12-24', '2020-12-28',\n",
       "               '2020-12-29', '2020-12-30'],\n",
       "              dtype='datetime64[ns]', name='Date', length=2708, freq=None)"
      ]
     },
     "execution_count": 9,
     "metadata": {},
     "output_type": "execute_result"
    }
   ],
   "source": [
    "# 인덱스를 날짜 타입으로 변환화여 다시 설정한다.\n",
    "\n",
    "cel.index = pd.to_datetime(cel.index, format='%Y-%m-%d')\n",
    "cel.index"
   ]
  },
  {
   "cell_type": "markdown",
   "metadata": {},
   "source": [
    "#### 문자열 형태로 되어 있는 date를 date 타입으로 변환하는 람다식"
   ]
  },
  {
   "cell_type": "code",
   "execution_count": 10,
   "metadata": {},
   "outputs": [
    {
     "data": {
      "text/plain": [
       "<function __main__.<lambda>(x)>"
      ]
     },
     "execution_count": 10,
     "metadata": {},
     "output_type": "execute_result"
    }
   ],
   "source": [
    "parser = lambda x : pd.datetime.strptime(x,'%Y-%m-%d')\n",
    "parser"
   ]
  },
  {
   "cell_type": "code",
   "execution_count": 11,
   "metadata": {},
   "outputs": [
    {
     "name": "stderr",
     "output_type": "stream",
     "text": [
      "<ipython-input-10-45afe7946c0c>:1: FutureWarning: The pandas.datetime class is deprecated and will be removed from pandas in a future version. Import from datetime module instead.\n",
      "  parser = lambda x : pd.datetime.strptime(x,'%Y-%m-%d')\n"
     ]
    },
    {
     "data": {
      "text/plain": [
       "DatetimeIndex(['2010-01-04', '2010-01-05', '2010-01-06', '2010-01-07',\n",
       "               '2010-01-08', '2010-01-11', '2010-01-12', '2010-01-13',\n",
       "               '2010-01-14', '2010-01-15',\n",
       "               ...\n",
       "               '2020-12-16', '2020-12-17', '2020-12-18', '2020-12-21',\n",
       "               '2020-12-22', '2020-12-23', '2020-12-24', '2020-12-28',\n",
       "               '2020-12-29', '2020-12-30'],\n",
       "              dtype='datetime64[ns]', name='Date', length=2708, freq=None)"
      ]
     },
     "execution_count": 11,
     "metadata": {},
     "output_type": "execute_result"
    }
   ],
   "source": [
    "# date_parser : 읽어올때부터 만든 람다식을 이용해 date 타입으로 읽어올수 있음\n",
    "cel2 = pd.read_csv('data/ss_stock.csv', index_col = \"Date\", date_parser = parser)\n",
    "cel2.index"
   ]
  },
  {
   "cell_type": "markdown",
   "metadata": {},
   "source": [
    "### 주식 데이터 확인"
   ]
  },
  {
   "cell_type": "code",
   "execution_count": 12,
   "metadata": {},
   "outputs": [
    {
     "name": "stdout",
     "output_type": "stream",
     "text": [
      "<class 'pandas.core.frame.DataFrame'>\n",
      "DatetimeIndex: 2708 entries, 2010-01-04 to 2020-12-30\n",
      "Data columns (total 6 columns):\n",
      " #   Column     Non-Null Count  Dtype  \n",
      "---  ------     --------------  -----  \n",
      " 0   High       2708 non-null   float64\n",
      " 1   Low        2708 non-null   float64\n",
      " 2   Open       2708 non-null   float64\n",
      " 3   Close      2708 non-null   float64\n",
      " 4   Volume     2708 non-null   float64\n",
      " 5   Adj Close  2708 non-null   float64\n",
      "dtypes: float64(6)\n",
      "memory usage: 148.1 KB\n"
     ]
    }
   ],
   "source": [
    "# 데이터 프레임의 요약정보 확인\n",
    "cel.info()"
   ]
  },
  {
   "cell_type": "code",
   "execution_count": 13,
   "metadata": {},
   "outputs": [
    {
     "data": {
      "text/plain": [
       "High         0\n",
       "Low          0\n",
       "Open         0\n",
       "Close        0\n",
       "Volume       0\n",
       "Adj Close    0\n",
       "dtype: int64"
      ]
     },
     "execution_count": 13,
     "metadata": {},
     "output_type": "execute_result"
    }
   ],
   "source": [
    "# 결측치 확인\n",
    "cel.isna().sum()"
   ]
  },
  {
   "cell_type": "markdown",
   "metadata": {},
   "source": [
    "### 일별 수익률 계산"
   ]
  },
  {
   "cell_type": "code",
   "execution_count": 14,
   "metadata": {},
   "outputs": [
    {
     "data": {
      "text/plain": [
       "Date\n",
       "2010-01-04         NaN\n",
       "2010-01-05    0.016069\n",
       "2010-01-06    0.023114\n",
       "2010-01-07   -0.033294\n",
       "2010-01-08    0.009840\n",
       "                ...   \n",
       "2020-12-23    0.022130\n",
       "2020-12-24    0.052774\n",
       "2020-12-28    0.011568\n",
       "2020-12-29   -0.005083\n",
       "2020-12-30    0.034483\n",
       "Name: Close, Length: 2708, dtype: float64"
      ]
     },
     "execution_count": 14,
     "metadata": {},
     "output_type": "execute_result"
    }
   ],
   "source": [
    "# 전 로우의 데이터와 비교하여 결과를 출력\n",
    "cel_daily = cel.Close.pct_change()\n",
    "cel_daily"
   ]
  },
  {
   "cell_type": "code",
   "execution_count": 15,
   "metadata": {},
   "outputs": [
    {
     "data": {
      "text/plain": [
       "1250"
      ]
     },
     "execution_count": 15,
     "metadata": {},
     "output_type": "execute_result"
    }
   ],
   "source": [
    "# 수익률이 0미만인 데이터의 수를 구한다.\n",
    "# 주가가 떨어진것 (주식가격이 전날에 비해 - 인 경우)\n",
    "a1 = cel_daily < 0\n",
    "a1.sum()"
   ]
  },
  {
   "cell_type": "markdown",
   "metadata": {},
   "source": [
    "삼성전자 주가는 총 2708일 중 1250일이 하락하였다."
   ]
  },
  {
   "cell_type": "markdown",
   "metadata": {},
   "source": [
    "### 종가 금액만 추출\n",
    "- 장 마감 금액 (당일 최종가격)"
   ]
  },
  {
   "cell_type": "code",
   "execution_count": 16,
   "metadata": {},
   "outputs": [
    {
     "data": {
      "text/plain": [
       "Date\n",
       "2010-01-04    16180.0\n",
       "2010-01-05    16440.0\n",
       "2010-01-06    16820.0\n",
       "2010-01-07    16260.0\n",
       "2010-01-08    16420.0\n",
       "               ...   \n",
       "2020-12-23    73900.0\n",
       "2020-12-24    77800.0\n",
       "2020-12-28    78700.0\n",
       "2020-12-29    78300.0\n",
       "2020-12-30    81000.0\n",
       "Name: Close, Length: 2708, dtype: float64"
      ]
     },
     "execution_count": 16,
     "metadata": {},
     "output_type": "execute_result"
    }
   ],
   "source": [
    "cel_close = cel['Close']\n",
    "cel_close"
   ]
  },
  {
   "cell_type": "code",
   "execution_count": 17,
   "metadata": {},
   "outputs": [
    {
     "data": {
      "text/plain": [
       "count     2708.000000\n",
       "mean     33107.289513\n",
       "std      13460.387890\n",
       "min      13600.000000\n",
       "10%      16860.000000\n",
       "50%      28180.000000\n",
       "90%      51900.000000\n",
       "max      81000.000000\n",
       "Name: Close, dtype: float64"
      ]
     },
     "execution_count": 17,
     "metadata": {},
     "output_type": "execute_result"
    }
   ],
   "source": [
    "# 종가 금액의 요약 통계 정보를 확인한다.\n",
    "# percentiles=[0.1,0.9] : 10% , 90%의 값을 보여준다.\n",
    "\n",
    "cel_des = cel_close.describe(percentiles=[0.1,0.9])\n",
    "cel_des"
   ]
  },
  {
   "cell_type": "code",
   "execution_count": 18,
   "metadata": {},
   "outputs": [
    {
     "data": {
      "image/png": "[encoded data removed]",
      "text/plain": [
       "<Figure size 1440x720 with 1 Axes>"
      ]
     },
     "metadata": {
      "needs_background": "light"
     },
     "output_type": "display_data"
    }
   ],
   "source": [
    "# 그래프를 통해 극단치 확인\n",
    "\n",
    "cel_close.plot.box()\n",
    "plt.show()"
   ]
  },
  {
   "cell_type": "markdown",
   "metadata": {},
   "source": [
    "### 데이터 시각화"
   ]
  },
  {
   "cell_type": "markdown",
   "metadata": {},
   "source": [
    "#### 종가 금액에 대해 그래프를 그린다.\n",
    "- 색은 검정색\n",
    "- x축은 일자, y축은 금액으로 처리"
   ]
  },
  {
   "cell_type": "code",
   "execution_count": 19,
   "metadata": {},
   "outputs": [
    {
     "data": {
      "image/png": "[encoded data removed]",
      "text/plain": [
       "<Figure size 1440x720 with 1 Axes>"
      ]
     },
     "metadata": {
      "needs_background": "light"
     },
     "output_type": "display_data"
    }
   ],
   "source": [
    "cel_close.plot(color='black')\n",
    "plt.show()"
   ]
  },
  {
   "cell_type": "markdown",
   "metadata": {},
   "source": [
    "#### 특정 범위를 벗어나는 그래프의 색을 다르게 표시한다.\n",
    "- 하나의 별도 그래프를 그려서 별도의 모양과 색을 처리한다."
   ]
  },
  {
   "cell_type": "code",
   "execution_count": 20,
   "metadata": {},
   "outputs": [
    {
     "data": {
      "text/plain": [
       "count     2708.000000\n",
       "mean     33107.289513\n",
       "std      13460.387890\n",
       "min      13600.000000\n",
       "10%      16860.000000\n",
       "50%      28180.000000\n",
       "90%      51900.000000\n",
       "max      81000.000000\n",
       "Name: Close, dtype: float64"
      ]
     },
     "execution_count": 20,
     "metadata": {},
     "output_type": "execute_result"
    }
   ],
   "source": [
    "cel_des = cel_close.describe(percentiles=[0.1,0.9])\n",
    "cel_des"
   ]
  },
  {
   "cell_type": "code",
   "execution_count": 21,
   "metadata": {},
   "outputs": [
    {
     "data": {
      "text/plain": [
       "Date\n",
       "2010-01-04     True\n",
       "2010-01-05     True\n",
       "2010-01-06     True\n",
       "2010-01-07     True\n",
       "2010-01-08     True\n",
       "              ...  \n",
       "2020-12-23    False\n",
       "2020-12-24    False\n",
       "2020-12-28    False\n",
       "2020-12-29    False\n",
       "2020-12-30    False\n",
       "Name: Close, Length: 2708, dtype: bool"
      ]
     },
     "execution_count": 21,
     "metadata": {},
     "output_type": "execute_result"
    }
   ],
   "source": [
    "# 10% 이하의 값들\n",
    "a1 = cel_close < cel_des.loc['10%']\n",
    "a1"
   ]
  },
  {
   "cell_type": "code",
   "execution_count": 22,
   "metadata": {},
   "outputs": [
    {
     "data": {
      "text/plain": [
       "Date\n",
       "2010-01-04    False\n",
       "2010-01-05    False\n",
       "2010-01-06    False\n",
       "2010-01-07    False\n",
       "2010-01-08    False\n",
       "              ...  \n",
       "2020-12-23     True\n",
       "2020-12-24     True\n",
       "2020-12-28     True\n",
       "2020-12-29     True\n",
       "2020-12-30     True\n",
       "Name: Close, Length: 2708, dtype: bool"
      ]
     },
     "execution_count": 22,
     "metadata": {},
     "output_type": "execute_result"
    }
   ],
   "source": [
    "# 90% 초과 값\n",
    "a2 = cel_close > cel_des.loc['90%']\n",
    "a2"
   ]
  },
  {
   "cell_type": "code",
   "execution_count": 23,
   "metadata": {},
   "outputs": [
    {
     "data": {
      "text/plain": [
       "Date\n",
       "2010-01-04    16180.0\n",
       "2010-01-05    16440.0\n",
       "2010-01-06    16820.0\n",
       "2010-01-07    16260.0\n",
       "2010-01-08    16420.0\n",
       "               ...   \n",
       "2020-12-23    73900.0\n",
       "2020-12-24    77800.0\n",
       "2020-12-28    78700.0\n",
       "2020-12-29    78300.0\n",
       "2020-12-30    81000.0\n",
       "Name: Close, Length: 539, dtype: float64"
      ]
     },
     "execution_count": 23,
     "metadata": {},
     "output_type": "execute_result"
    }
   ],
   "source": [
    "# 10% 미만, 90% 초과인 것들을 동시에 가져온다.\n",
    "cel_top_bottom = cel_close[(a1 | a2)]\n",
    "cel_top_bottom"
   ]
  },
  {
   "cell_type": "code",
   "execution_count": 24,
   "metadata": {},
   "outputs": [
    {
     "data": {
      "image/png": "[encoded data removed]",
      "text/plain": [
       "<Figure size 1440x720 with 1 Axes>"
      ]
     },
     "metadata": {
      "needs_background": "light"
     },
     "output_type": "display_data"
    }
   ],
   "source": [
    "# 시각화 한다.\n",
    "cel_top_bottom.plot(style = ' ', marker='.', color='blue' )\n",
    "plt.show()"
   ]
  },
  {
   "cell_type": "markdown",
   "metadata": {},
   "source": [
    "### 그래프 내에 하이라이트 선 그리기\n",
    "- 상위(90%), 하위(10%) 선을 그리기 위해 상위와 하위의 x축 일자를 가져온다"
   ]
  },
  {
   "cell_type": "code",
   "execution_count": 25,
   "metadata": {},
   "outputs": [
    {
     "data": {
      "text/plain": [
       "Date\n",
       "2010-01-04    True\n",
       "2010-01-05    True\n",
       "2010-01-06    True\n",
       "2010-01-07    True\n",
       "2010-01-08    True\n",
       "              ... \n",
       "2020-12-23    True\n",
       "2020-12-24    True\n",
       "2020-12-28    True\n",
       "2020-12-29    True\n",
       "2020-12-30    True\n",
       "Name: Close, Length: 2708, dtype: bool"
      ]
     },
     "execution_count": 25,
     "metadata": {},
     "output_type": "execute_result"
    }
   ],
   "source": [
    "# 10% 이하의 값들\n",
    "a1 = cel_close < cel_des.loc['10%']\n",
    "a2 = cel_close > cel_des.loc['90%']\n",
    "criteria = a1 | a2\n",
    "criteria"
   ]
  },
  {
   "cell_type": "code",
   "execution_count": 26,
   "metadata": {},
   "outputs": [
    {
     "data": {
      "text/plain": [
       "DatetimeIndex(['2010-01-04', '2010-01-05', '2010-01-06', '2010-01-07',\n",
       "               '2010-01-08', '2010-01-11', '2010-01-12', '2010-01-13',\n",
       "               '2010-01-14', '2010-01-15',\n",
       "               ...\n",
       "               '2020-12-16', '2020-12-17', '2020-12-18', '2020-12-21',\n",
       "               '2020-12-22', '2020-12-23', '2020-12-24', '2020-12-28',\n",
       "               '2020-12-29', '2020-12-30'],\n",
       "              dtype='datetime64[ns]', name='Date', length=2708, freq=None)"
      ]
     },
     "execution_count": 26,
     "metadata": {},
     "output_type": "execute_result"
    }
   ],
   "source": [
    "criteria.index"
   ]
  },
  {
   "cell_type": "code",
   "execution_count": 27,
   "metadata": {},
   "outputs": [
    {
     "data": {
      "image/png": "[encoded data removed]",
      "text/plain": [
       "<Figure size 1440x720 with 1 Axes>"
      ]
     },
     "metadata": {
      "needs_background": "light"
     },
     "output_type": "display_data"
    }
   ],
   "source": [
    "# 선을 그리기 위해 y축을 10%, 90%의 위치를 지정하고 x축의 시작점과 종료점으로 셋팅\n",
    "\n",
    "plt.hlines(y=[cel_des.loc['10%'], cel_des.loc['90%']],\n",
    "          xmin = criteria.index[2], xmax=criteria.index[-1],\n",
    "          color='red')\n",
    "plt.show()"
   ]
  },
  {
   "cell_type": "markdown",
   "metadata": {},
   "source": [
    "### 위에서 그렸던 그래프 3가지를 겹쳐서 그린다.\n",
    "\n"
   ]
  },
  {
   "cell_type": "code",
   "execution_count": 28,
   "metadata": {},
   "outputs": [
    {
     "data": {
      "image/png": "[encoded data removed]",
      "text/plain": [
       "<Figure size 1440x720 with 1 Axes>"
      ]
     },
     "metadata": {
      "needs_background": "light"
     },
     "output_type": "display_data"
    }
   ],
   "source": [
    "# 종가 그래프\n",
    "cel_close.plot(color='black')\n",
    "\n",
    "# 상위와 하위 지점에 점을 찍는다.\n",
    "cel_top_bottom.plot(style=' ',marker='o', ms=4,color='red')\n",
    "\n",
    "# 10%, 90% 위치에 하일라이트 선을 그린다.\n",
    "# xmin, xmax => 시작 날짜와 끝 날짜로 설정\n",
    "plt.hlines(y=[cel_des.loc['10%'], cel_des.loc['90%']],\n",
    "          xmin=criteria.index[0], xmax=criteria.index[-1], color='blue')\n",
    "plt.show()"
   ]
  },
  {
   "cell_type": "markdown",
   "metadata": {},
   "source": [
    "### 수익률 비교"
   ]
  },
  {
   "cell_type": "code",
   "execution_count": 29,
   "metadata": {},
   "outputs": [
    {
     "data": {
      "text/plain": [
       "Date\n",
       "2010-01-04    16180.0\n",
       "2010-01-05    16440.0\n",
       "2010-01-06    16820.0\n",
       "2010-01-07    16260.0\n",
       "2010-01-08    16420.0\n",
       "Name: Close, dtype: float64"
      ]
     },
     "execution_count": 29,
     "metadata": {},
     "output_type": "execute_result"
    }
   ],
   "source": [
    "# 수익률 비교하기\n",
    "# pct_change : 현재 로우와 직전 로우간의 % 변화율 계산\n",
    "cel['Close'].head()"
   ]
  },
  {
   "cell_type": "code",
   "execution_count": 30,
   "metadata": {},
   "outputs": [
    {
     "data": {
      "text/plain": [
       "0.016069"
      ]
     },
     "execution_count": 30,
     "metadata": {},
     "output_type": "execute_result"
    }
   ],
   "source": [
    "# 첫번째와 두번째의 차이를 구해본다.\n",
    "round((cel['Close'][1] - cel['Close'][0]) / cel.Close[0], 6)"
   ]
  },
  {
   "cell_type": "markdown",
   "metadata": {},
   "source": [
    "### 결측치 처리"
   ]
  },
  {
   "cell_type": "code",
   "execution_count": 31,
   "metadata": {},
   "outputs": [
    {
     "data": {
      "text/plain": [
       "Date\n",
       "2010-01-04         NaN\n",
       "2010-01-05    0.016069\n",
       "2010-01-06    0.023114\n",
       "2010-01-07   -0.033294\n",
       "2010-01-08    0.009840\n",
       "                ...   \n",
       "2020-12-23    0.022130\n",
       "2020-12-24    0.052774\n",
       "2020-12-28    0.011568\n",
       "2020-12-29   -0.005083\n",
       "2020-12-30    0.034483\n",
       "Name: Close, Length: 2708, dtype: float64"
      ]
     },
     "execution_count": 31,
     "metadata": {},
     "output_type": "execute_result"
    }
   ],
   "source": [
    "cel_pct_change = cel.Close.pct_change()\n",
    "cel_pct_change"
   ]
  },
  {
   "cell_type": "code",
   "execution_count": 32,
   "metadata": {},
   "outputs": [
    {
     "data": {
      "text/plain": [
       "1"
      ]
     },
     "execution_count": 32,
     "metadata": {},
     "output_type": "execute_result"
    }
   ],
   "source": [
    "# 결측치 확인\n",
    "cel_pct_change.isna().sum()"
   ]
  },
  {
   "cell_type": "code",
   "execution_count": 33,
   "metadata": {},
   "outputs": [
    {
     "data": {
      "text/plain": [
       "0"
      ]
     },
     "execution_count": 33,
     "metadata": {},
     "output_type": "execute_result"
    }
   ],
   "source": [
    "# 결측치 처리\n",
    "cel_pct_change = cel_pct_change.dropna()\n",
    "cel_pct_change.isna().sum()"
   ]
  },
  {
   "cell_type": "markdown",
   "metadata": {},
   "source": [
    "### 수익률에 대한 히스토그램"
   ]
  },
  {
   "cell_type": "code",
   "execution_count": 34,
   "metadata": {
    "scrolled": false
   },
   "outputs": [
    {
     "data": {
      "image/png": "[encoded data removed]",
      "text/plain": [
       "<Figure size 1440x720 with 1 Axes>"
      ]
     },
     "metadata": {
      "needs_background": "light"
     },
     "output_type": "display_data"
    }
   ],
   "source": [
    "cel_pct_change.hist(bins=100)\n",
    "plt.show()"
   ]
  },
  {
   "cell_type": "markdown",
   "metadata": {},
   "source": [
    "### 그래프 확인\n",
    "\n",
    "- 선 -> 변화패턴 확인 (회귀)\n",
    "- 산점 -> 분포 확인 (분류)\n",
    "- 막대 -> 양비교 \n",
    "- 파이 -> 비율비교\n",
    "- 히스토그램 -> 값들의 개수 비교\n",
    "- 박스 -> 극단치 확인\n",
    "-히트맵 -> 상관관계 비교"
   ]
  },
  {
   "cell_type": "markdown",
   "metadata": {},
   "source": [
    "히스토그램 그래프를 통해 지속적으로 값이 증가한다는 것을 알수 있음"
   ]
  },
  {
   "cell_type": "markdown",
   "metadata": {},
   "source": [
    "### 통계량 보기"
   ]
  },
  {
   "cell_type": "markdown",
   "metadata": {},
   "source": [
    "### 첨도 (Kurtosis) : 분포의 꼬리부분의 길이와 중앙부분의 뽀족함에 대한 정보를 제공하는 통계량\n",
    "- 첨도는 잘 정의된 통계량이 아니기 때문에 논란의 여지가 있는 통계량이다.\n",
    "- 정규분포의 첨도는 0이다. (정규분포는 3의 값이 나오지만, 첨도를 0으로 만들기위해 3을 빼준다.)\n",
    "- 첨도가 0보다 크면 정규분포보다 긴 꼬리를 가지고, 분포가 중앙 부분에 덜 집중 되어있다. 변화량이 크다 (뾰족하다)\n",
    "- 첨도가 0보다 작으면 짧은꼬리를 가지고 분포가 중앙 부분에 더 집중되어있다. 변화량이 작다. (둥그렇다)"
   ]
  },
  {
   "cell_type": "code",
   "execution_count": 35,
   "metadata": {},
   "outputs": [
    {
     "data": {
      "text/plain": [
       "1.5544292402894202"
      ]
     },
     "execution_count": 35,
     "metadata": {},
     "output_type": "execute_result"
    }
   ],
   "source": [
    "cel_daily.kurt()"
   ]
  },
  {
   "cell_type": "code",
   "execution_count": 36,
   "metadata": {
    "scrolled": true
   },
   "outputs": [
    {
     "data": {
      "image/png": "[encoded data removed]",
      "text/plain": [
       "<Figure size 1440x720 with 1 Axes>"
      ]
     },
     "metadata": {
      "needs_background": "light"
     },
     "output_type": "display_data"
    }
   ],
   "source": [
    "cel_daily.plot.hist(bins=30)\n",
    "plt.show()"
   ]
  },
  {
   "cell_type": "markdown",
   "metadata": {},
   "source": [
    "### 왜도\n",
    "- 분포의 비대칭 정도를 나타내는 통계이다.\n",
    "- 분포가 완전 대칭인 경우에는 왜도가 0이다.\n",
    "- 왼쪽으로 긴 꼬리를 가지면 왜도는 음수이고, 오른쪽으로 긴 꼬리를 가지면 왜도는 양수이다.\n",
    "- 비대칭 정도가 심할수록 왜도의 절대값이 증가한다."
   ]
  },
  {
   "cell_type": "code",
   "execution_count": 37,
   "metadata": {},
   "outputs": [
    {
     "data": {
      "text/plain": [
       "0.1538558051136132"
      ]
     },
     "execution_count": 37,
     "metadata": {},
     "output_type": "execute_result"
    }
   ],
   "source": [
    "cel_daily.skew()\n",
    "\n",
    "# 양수의 값을 가지므로 오른쪽으로 긴꼬리를 가진다."
   ]
  },
  {
   "cell_type": "code",
   "execution_count": 38,
   "metadata": {},
   "outputs": [
    {
     "data": {
      "image/png": "[encoded data removed]",
      "text/plain": [
       "<Figure size 1440x720 with 1 Axes>"
      ]
     },
     "metadata": {
      "needs_background": "light"
     },
     "output_type": "display_data"
    }
   ],
   "source": [
    "cel_daily.plot.hist(bins=30)\n",
    "plt.show()"
   ]
  }
 ],
 "metadata": {
  "kernelspec": {
   "display_name": "Python 3",
   "language": "python",
   "name": "python3"
  },
  "language_info": {
   "codemirror_mode": {
    "name": "ipython",
    "version": 3
   },
   "file_extension": ".py",
   "mimetype": "text/x-python",
   "name": "python",
   "nbconvert_exporter": "python",
   "pygments_lexer": "ipython3",
   "version": "3.8.5"
  }
 },
 "nbformat": 4,
 "nbformat_minor": 4
}
