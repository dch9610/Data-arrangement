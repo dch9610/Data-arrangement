{
 "cells": [
  {
   "cell_type": "code",
   "execution_count": 1,
   "metadata": {
    "scrolled": true
   },
   "outputs": [],
   "source": [
    "import os\n",
    "import glob\n",
    "import shutil\n",
    "import numpy as np\n",
    "\n",
    "import warnings\n",
    "warnings.filterwarnings('ignore')"
   ]
  },
  {
   "cell_type": "code",
   "execution_count": 2,
   "metadata": {},
   "outputs": [],
   "source": [
    "# 랜덤 시드\n",
    "np.random.seed(2016)"
   ]
  },
  {
   "cell_type": "code",
   "execution_count": 3,
   "metadata": {},
   "outputs": [],
   "source": [
    "# 원본 데이터root_path\n",
    "r_path = 'data/101_ObjectCategories'"
   ]
  },
  {
   "cell_type": "code",
   "execution_count": 4,
   "metadata": {},
   "outputs": [],
   "source": [
    "# 이미지들이 배치될 폴더의 이름\n",
    "o_path = 'data/Caltech-101'"
   ]
  },
  {
   "cell_type": "code",
   "execution_count": 5,
   "metadata": {},
   "outputs": [
    {
     "data": {
      "text/plain": [
       "array(['data/101_ObjectCategories\\\\BACKGROUND_Google\\\\image_0001.jpg',\n",
       "       'data/101_ObjectCategories\\\\BACKGROUND_Google\\\\image_0002.jpg',\n",
       "       'data/101_ObjectCategories\\\\BACKGROUND_Google\\\\image_0003.jpg',\n",
       "       ..., 'data/101_ObjectCategories\\\\yin_yang\\\\image_0058.jpg',\n",
       "       'data/101_ObjectCategories\\\\yin_yang\\\\image_0059.jpg',\n",
       "       'data/101_ObjectCategories\\\\yin_yang\\\\image_0060.jpg'],\n",
       "      dtype='<U58')"
      ]
     },
     "execution_count": 5,
     "metadata": {},
     "output_type": "execute_result"
    }
   ],
   "source": [
    "# 읽어올 파일 목록을 만든다.\n",
    "path = f'{r_path}/*/*.jpg'\n",
    "# glob.glob(path)\n",
    "files = sorted(glob.glob(path))\n",
    "files = np.array(files)\n",
    "files"
   ]
  },
  {
   "cell_type": "code",
   "execution_count": 6,
   "metadata": {},
   "outputs": [],
   "source": [
    "# 결과 데이터 레이블(폴더이름)\n",
    "use_labels = ['airplanes', 'Motorbikes', 'Faces_easy', \n",
    "              'watch', 'Leopards', 'bonsai']\n",
    "\n",
    "\n",
    "# 각 레이블 별 이미지 개수를 담을 리스트\n",
    "labels_count = [0, 0, 0, 0, 0, 0]"
   ]
  },
  {
   "cell_type": "code",
   "execution_count": 7,
   "metadata": {},
   "outputs": [],
   "source": [
    "# 학습, 평가, 테스트에 사용할 이미지 건수\n",
    "train_nums = [80, 80, 44, 24, 20, 13]\n",
    "valid_nums = [80, 80, 44, 24, 20, 13]\n",
    "test_nums = [640, 638, 348, 191, 160, 102]"
   ]
  },
  {
   "cell_type": "code",
   "execution_count": 8,
   "metadata": {},
   "outputs": [],
   "source": [
    "for i in range(0, len(use_labels)):\n",
    "    # 폴더가 존재하지 않으면 만든다.\n",
    "    if not os.path.exists(f'{o_path}/train_org/{i}'):\n",
    "        os.makedirs(f'{o_path}/train_org/{i}')\n",
    "    \n",
    "    if not os.path.exists(f'{o_path}/test/{i}'):\n",
    "        os.makedirs(f'{o_path}/test/{i}')"
   ]
  },
  {
   "cell_type": "code",
   "execution_count": 9,
   "metadata": {
    "scrolled": true
   },
   "outputs": [
    {
     "name": "stdout",
     "output_type": "stream",
     "text": [
      "복사 완료\n"
     ]
    }
   ],
   "source": [
    "# 파일 수 만큼 처리\n",
    "for f1 in files :\n",
    "    # 파일이름을 가져온다.\n",
    "    filename = os.path.basename(f1)\n",
    "    # print(filename)\n",
    "    \n",
    "    # 파일들이 들어 있는 폴더의 이름을 가져온다.\n",
    "    a1 = os.path.split(f1)\n",
    "    a2 = os.path.split(a1[0])\n",
    "    parent_dir = a2[1]\n",
    "    # print(parent_dir)\n",
    "    \n",
    "    # 위에서 구한 폴더 이름이 우리가 사용하고자 하는 폴더(use_labels)\n",
    "    # 에 포함되어 있는 것만 추출해 복사한다.\n",
    "    if parent_dir in use_labels :\n",
    "        # 폴더 이름이 use_labels에서 몇번째 인지 확인한다.\n",
    "        ind = use_labels.index(parent_dir)\n",
    "        # print(ind)\n",
    "        \n",
    "        # 해당 폴더의 이미지 수 개수를 가져온다.\n",
    "        num = labels_count[ind]\n",
    "        valid_num = valid_nums[ind]\n",
    "        test_num = test_nums[ind]\n",
    "        \n",
    "        # 아직 복사할 이미지가 남았다면..\n",
    "        # 학습용과 검증용 이미지 복사\n",
    "        if num < train_nums[ind] + valid_nums[ind] :\n",
    "            # 복사한다\n",
    "            cp_path = f'{o_path}/train_org/{ind}'\n",
    "            shutil.copy(f1, cp_path)\n",
    "            \n",
    "        # 테스트용 이미지 복사\n",
    "        else :\n",
    "            cp_path = f'{o_path}/test/{ind}'\n",
    "            shutil.copy(f1, cp_path)\n",
    "        \n",
    "        # 복사한 이미지수를 증가시킨다.\n",
    "        labels_count[ind] += 1\n",
    "        \n",
    "    else :\n",
    "        # 사용할 레이블과 폴더이름이 다르면 건너뛴다.\n",
    "        continue\n",
    "        \n",
    "print('복사 완료')"
   ]
  },
  {
   "cell_type": "code",
   "execution_count": 10,
   "metadata": {},
   "outputs": [
    {
     "name": "stdout",
     "output_type": "stream",
     "text": [
      "복사완료\n"
     ]
    }
   ],
   "source": [
    "# train 데이터를 train, valid 로 나눈다.\n",
    "# 홀드아웃의 수 만큼(2회) 반복한다.\n",
    "for ho in range(0, 2) :\n",
    "    # 만약 폴더가 존재하지 않으면 생성한다.\n",
    "    for ii in range(0, len(use_labels)) :\n",
    "        if not os.path.exists(f'{o_path}/train/{ho}/{ii}') :\n",
    "            os.makedirs(f'{o_path}/train/{ho}/{ii}')\n",
    "        if not os.path.exists(f'{o_path}/valid/{ho}/{ii}') :\n",
    "            os.makedirs(f'{o_path}/valid/{ho}/{ii}')\n",
    "            \n",
    "        # 데이터를 읽어들인다.\n",
    "        # 경로를 train_org폴더안에 숫자폴더 내의 모든 이미지파일로..\n",
    "        path = f'{o_path}/train_org/{ii}/*.jpg'\n",
    "        # 해당 경로의 이미지 파일 목록을 가져온다.\n",
    "        files = sorted(glob.glob(path))\n",
    "        # 경로를 ndarray로 생성한다.\n",
    "        files = np.array(files)\n",
    "        # 파일의 순서를 나타내는 인덱스를 랜덤하게 섞어 준다\n",
    "        perm = np.random.permutation(len(files))\n",
    "        # 파일목록을 랜덤하게 섞어준다.\n",
    "        random_train = files[perm]\n",
    "        # 학습용과 검증용 파일 목록으로 나눈다.\n",
    "        train_files = random_train[:train_nums[ii]]\n",
    "        valid_files = random_train[train_nums[ii]:]\n",
    "        \n",
    "        # train 데이터 복사\n",
    "        for file in train_files :\n",
    "            # 파일의 이름을 가져온다.\n",
    "            filename = os.path.basename(file)\n",
    "            # 경로를 생성한다.\n",
    "            p_dir = os.path.split(os.path.split(file)[0])[1]\n",
    "            # 복사한다.\n",
    "            shutil.copy(file, f'{o_path}/train/{ho}/{int(p_dir)}')\n",
    "            \n",
    "        # valid 데이터 복사\n",
    "        for file in valid_files :\n",
    "            # 파일의 이름을 가져온다.\n",
    "            filename = os.path.basename(file)\n",
    "            # 경로를 생성한다.\n",
    "            p_dir = os.path.split(os.path.split(file)[0])[1]\n",
    "            # 복사한다.\n",
    "            shutil.copy(file, f'{o_path}/valid/{ho}/{int(p_dir)}')\n",
    "            \n",
    "print('복사완료')"
   ]
  },
  {
   "cell_type": "code",
   "execution_count": 11,
   "metadata": {},
   "outputs": [],
   "source": [
    "# 레이블이 담겨져 있는 파일을 생성한다.\n",
    "str = '0:airplanes,1:Motorbikes,2:Faces_easy,3:watch,4:Leopards,5:bonsai'\n",
    "with open(f'{o_path}/label.csv', 'w') as fp :\n",
    "    fp.write(str)\n",
    "\n",
    "# Yolo 용\n",
    "# 데이터 베치용 root_path\n",
    "\n",
    "yolo_path = 'data/Yolo'\n",
    "if not os.path.exists(f'{yolo_path}/train/') :\n",
    "    os.makedirs(f'{yolo_path}/train/')\n",
    "if not os.path.exists(f'{yolo_path}/test/') :\n",
    "    os.makedirs(f'{yolo_path}/test/')\n"
   ]
  }
 ],
 "metadata": {
  "kernelspec": {
   "display_name": "Python 3",
   "language": "python",
   "name": "python3"
  },
  "language_info": {
   "codemirror_mode": {
    "name": "ipython",
    "version": 3
   },
   "file_extension": ".py",
   "mimetype": "text/x-python",
   "name": "python",
   "nbconvert_exporter": "python",
   "pygments_lexer": "ipython3",
   "version": "3.8.5"
  }
 },
 "nbformat": 4,
 "nbformat_minor": 4
}
