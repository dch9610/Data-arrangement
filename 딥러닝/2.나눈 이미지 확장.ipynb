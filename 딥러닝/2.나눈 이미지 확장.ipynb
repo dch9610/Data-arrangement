{
 "cells": [
  {
   "cell_type": "code",
   "execution_count": 1,
   "metadata": {},
   "outputs": [],
   "source": [
    "from datetime import datetime\n",
    "from glob import glob\n",
    "import os\n",
    "import shutil\n",
    "import numpy as np\n",
    "import skimage.io\n",
    "import skimage.transform\n",
    "from skimage.transform import AffineTransform\n",
    "from skimage.transform import warp\n",
    "from skimage.transform import resize\n",
    "from skimage.transform import SimilarityTransform"
   ]
  },
  {
   "cell_type": "code",
   "execution_count": 2,
   "metadata": {},
   "outputs": [],
   "source": [
    "# 경로\n",
    "\n",
    "# 메인경로\n",
    "path_root = 'data/Caltech-101'\n",
    "\n",
    "# train_org 모든 폴더와 파일을 삭제한다.\n",
    "shutil.rmtree('data/Caltech-101/train_org/')\n",
    "\n",
    "# train 폴더를 train_org로 변경한다.\n",
    "os.rename('data/Caltech-101/train', 'data/Caltech-101/train_org')\n",
    "\n",
    "# valid 폴더를 train_org로 변경한다.\n",
    "os.rename('data/Caltech-101/valid', 'data/Caltech-101/valid_org')\n",
    "\n",
    "# test 폴더를 test_org로 변경한다.\n",
    "os.rename('data/Caltech-101/test', 'data/Caltech-101/test_org')\n"
   ]
  },
  {
   "cell_type": "code",
   "execution_count": 3,
   "metadata": {},
   "outputs": [],
   "source": [
    "# 변환된 이미지가 담길 폴더를 생성한다.\n",
    "if not os.path.exists('data/Caltech-101/train/all'):\n",
    "    os.makedirs('data/Caltech-101/train/all')\n",
    "    \n",
    "if not os.path.exists('data/Caltech-101/valid/all'):\n",
    "    os.makedirs('data/Caltech-101/valid/all')\n",
    "\n",
    "if not os.path.exists('data/Caltech-101/test/all'):\n",
    "    os.makedirs('data/Caltech-101/test/all')"
   ]
  },
  {
   "cell_type": "code",
   "execution_count": 4,
   "metadata": {},
   "outputs": [],
   "source": [
    "# 홀드아웃용 폴더\n",
    "for ho in range(0,2):\n",
    "    for aug in range(5):\n",
    "            if not os.path.exists(f'data/Caltech-101/train/{ho}/{aug}'):\n",
    "                os.makedirs(f'data/Caltech-101/train/{ho}/{aug}')\n",
    "\n",
    "            if not os.path.exists(f'data/Caltech-101/valid/{ho}/{aug}'):\n",
    "                os.makedirs(f'data/Caltech-101/valid/{ho}/{aug}')\n",
    "\n",
    "            if not os.path.exists(f'data/Caltech-101/test/{ho}/{aug}'):\n",
    "                os.makedirs(f'data/Caltech-101/test/{ho}/{aug}')"
   ]
  },
  {
   "cell_type": "code",
   "execution_count": 5,
   "metadata": {},
   "outputs": [],
   "source": [
    "# 데이터 변환을 위한 옵션값들\n",
    "augmentation_params = {\n",
    "    # 확장/축소 (가로세로 비율은 고정)\n",
    "    'zoom_range' : (1,1),\n",
    "    # 회전각도\n",
    "    'rotation_range' : (-15,15),\n",
    "    # 밀어 당기기\n",
    "    'shear_range' : (-20,20),\n",
    "    # 평행이동\n",
    "    'translation_range' : (-30,30),\n",
    "    # 반전\n",
    "    'do_flip' : False,\n",
    "    # 늘리기/ 줄이기 (가로세로 비율은 고정하지 않음)\n",
    "    'allow_stretch' : 1.3\n",
    "}"
   ]
  },
  {
   "cell_type": "code",
   "execution_count": 6,
   "metadata": {},
   "outputs": [],
   "source": [
    "# 이미지 파일을 읽어오는 함수\n",
    "def load(paths_train):\n",
    "    # 이미지 데이터를 담을 리스트\n",
    "    images = []\n",
    "    # 이미지 이름\n",
    "    imagenames = []\n",
    "    # 결과종류\n",
    "    labels = []\n",
    "    \n",
    "    # 파일의 수만큼 반복한다.\n",
    "    for i, path in enumerate(paths_train):\n",
    "        # 이미지를 읽어온다.\n",
    "        a1 = skimage.io.imread(path)\n",
    "        # 이미지를 224, 224 픽셀로 변환한다.\n",
    "        image = resize(a1, (244,244))\n",
    "        # 이미지 파일 이름을 가져온다.\n",
    "        imagename = os.path.basename(path)\n",
    "        # 결과 인덱스값\n",
    "        label = os.path.basename(os.path.dirname(path))\n",
    "        \n",
    "        # print(image)\n",
    "        # print(imagename)\n",
    "        # print(label)\n",
    "\n",
    "        # 리스트에 담는다.\n",
    "        images.append(image)\n",
    "        imagenames.append(imagename)\n",
    "        labels.append(label)\n",
    "        \n",
    "    return images, imagenames, labels"
   ]
  },
  {
   "cell_type": "code",
   "execution_count": 8,
   "metadata": {},
   "outputs": [],
   "source": [
    "# 이미지 워핑 : 이미지를 찌그러뜨린다.\n",
    "def fast_warp (img, tf, output_shape=(50,50), mode='constant', order=1):\n",
    "    m = tf.params\n",
    "    a1 = warp(img, m, output_shape=output_shape, mode=mode, order=order)\n",
    "    return a1"
   ]
  },
  {
   "cell_type": "code",
   "execution_count": 16,
   "metadata": {},
   "outputs": [],
   "source": [
    "# 중앙점 위치를 이동시킨다.\n",
    "def build_centering_transform(image_shape, target_shape=(50,50)):\n",
    "    # 이차원 이미지 데이터라면\n",
    "    if len(image_shape) == 2:\n",
    "        rows, cols = image_shape\n",
    "    \n",
    "    # 컬러이미지\n",
    "    else:\n",
    "        rows, cols, _ = image_shape\n",
    "        \n",
    "    # 결과 데이터 가로 세로\n",
    "    trows, tcols = target_shape\n",
    "    \n",
    "    # 이동한다.\n",
    "    shift_x = (cols - tcols) / 2.0\n",
    "    shift_y = (cols - tcols) / 2.0\n",
    "    \n",
    "    a1 = SimilarityTransform(translation=(shift_x, shift_y))\n",
    "    return a1"
   ]
  },
  {
   "cell_type": "code",
   "execution_count": 10,
   "metadata": {},
   "outputs": [],
   "source": [
    "# 중앙점을 타켓이미지 임의 위치로 이동시킨다.\n",
    "def build_center_uncenter_transform(image_shape):\n",
    "    center_shift = np.array([image_shape[1], image_shape[0]]) / 2.0 - 0.5\n",
    "    tform_uncenter = SimilarityTransform(translation=-center_shift)\n",
    "    tform_center = SimilarityTransform(translation=center_shift)\n",
    "    return tform_uncenter, tform_center"
   ]
  },
  {
   "cell_type": "code",
   "execution_count": 13,
   "metadata": {},
   "outputs": [],
   "source": [
    "# 이미지 확대 축소, 회전, 반전 등등\n",
    "def build_transform(zoom=(1.0,1.0), rot=0, shear=0, trans=(0,0), flip=False):\n",
    "    # 반전\n",
    "    if flip:\n",
    "        shear += 180\n",
    "        rot += 180\n",
    "    \n",
    "    # 변환 각도를 라디언 값으로 변환한다.\n",
    "    r_rad = np.deg2rad(rot)\n",
    "    s_rad = np.deg2rad(shear)\n",
    "    \n",
    "    # 변환한다.\n",
    "    tform_augment = AffineTransform(scale = (1/zoom[0], 1/zoom[1]),\n",
    "                                            rotation = r_red, shear=s_red,\n",
    "                                            translation=trans)\n",
    "    return tform_augment"
   ]
  },
  {
   "cell_type": "code",
   "execution_count": 15,
   "metadata": {},
   "outputs": [],
   "source": [
    "# 랜덤 변형\n",
    "def random_transform(zoom_range, rotation_range, shear_range,\n",
    "                    translation_range, do_flip=True, allow_stretch=False,\n",
    "                    rng = np.random):\n",
    "    # 이동 값\n",
    "    shift_x = rng.uniform(*translation_range)\n",
    "    shift_y = rng.uniform(*translation_range)\n",
    "    translation = (shift_x, shift_y)\n",
    "    \n",
    "    # 회전값\n",
    "    rotation_range = rng.uniform(*rotation_range)\n",
    "    \n",
    "    # 밀기값\n",
    "    shear = rng.uniform(*shear_range)\n",
    "    \n",
    "    # do_flip(반전여부)가 True라면\n",
    "    if do_flip:\n",
    "        flip = (rng.randint(2)>0)\n",
    "    else:\n",
    "        flip = False\n",
    "        \n",
    "    # 확대 축소값\n",
    "    log_zoom_range = [np.log(z) for z in zoom_range]\n",
    "    \n",
    "    # 위에서 구한 확대 축소값을 기반으로 확대 축소를 수행한다.\n",
    "    # allow_stretch에 실수값이 들어올 경우 (확대 축소도를 정했을 경우)\n",
    "    if isinstance(allow_stretch, float):\n",
    "        # 확대 축소값을 구한다.\n",
    "        log_stretch_range = [-np.log(allow_stretch), np.log(allow_stretch)]\n",
    "        # 확대 축소 비율을 구한다.\n",
    "        zoom = np.exp(rng.uniform(*log_zoom_range))\n",
    "        # 늘리기 비율\n",
    "        stretch = np.exp(rng.uniform(*log_stretch_range))\n",
    "        # 늘릴 크기 값을 구한다.\n",
    "        z_x = zoom * stretch\n",
    "        z_y = zoom / stretch\n",
    "    \n",
    "    # allow_stretch에 True를 전달한 경우\n",
    "    elif: \n",
    "        z_x = np.exp(rng.uniform(*log_zoom_range))\n",
    "        z_y = np.exp(rng.uniform(*log_zoom_range))\n",
    "        \n",
    "    # allow_stretch에 False를 전달한 경우\n",
    "    else:\n",
    "        z_x = z_y = np.exp(ran.uniform(*log_zoom_range))\n",
    "        \n",
    "    # 변환 작업을 한다.\n",
    "    a1 = build_transform((z_x, z_y), rotation, shear, translation, flip)\n",
    "    return a1"
   ]
  },
  {
   "cell_type": "code",
   "execution_count": 17,
   "metadata": {},
   "outputs": [],
   "source": [
    "# 위에서 만든 함수들을 모두 호출하는 함수\n",
    "def perturb(img, augmentation_params, t_shape=(50,50), rng = np.random):\n",
    "    tf_centering = build_centering_transform(img.shape, t_shape)\n",
    "    tf_center, tf_uncenter = build_center_uncenter_transform(img, shape)\n",
    "    tf_aug = random_transform(rng =rng, **augmentation_params)\n",
    "    tf_aug = tf_uncenter + tf_aug + tf_center\n",
    "    tf_aug = tf_centering + tf_aug\n",
    "    warp_one = fast_warp(img,tf_aug, output_shape=t_shape, mode='constant')\n",
    "    return warp_one.astype('float32')\n",
    "    "
   ]
  },
  {
   "cell_type": "code",
   "execution_count": null,
   "metadata": {},
   "outputs": [],
   "source": []
  },
  {
   "cell_type": "code",
   "execution_count": null,
   "metadata": {},
   "outputs": [],
   "source": []
  },
  {
   "cell_type": "code",
   "execution_count": 7,
   "metadata": {},
   "outputs": [
    {
     "data": {
      "text/plain": [
       "['image_0004.jpg',\n",
       " 'image_0007.jpg',\n",
       " 'image_0009.jpg',\n",
       " 'image_0010.jpg',\n",
       " 'image_0013.jpg']"
      ]
     },
     "execution_count": 7,
     "metadata": {},
     "output_type": "execute_result"
    }
   ],
   "source": [
    "paths_train = sorted(glob(f'{path_root}/train_org/0/*/*.jpg'))\n",
    "images, imagenames, labels = load(paths_train)\n",
    "imagenames[:5]"
   ]
  },
  {
   "cell_type": "code",
   "execution_count": null,
   "metadata": {},
   "outputs": [],
   "source": []
  }
 ],
 "metadata": {
  "kernelspec": {
   "display_name": "Python 3",
   "language": "python",
   "name": "python3"
  },
  "language_info": {
   "codemirror_mode": {
    "name": "ipython",
    "version": 3
   },
   "file_extension": ".py",
   "mimetype": "text/x-python",
   "name": "python",
   "nbconvert_exporter": "python",
   "pygments_lexer": "ipython3",
   "version": "3.8.5"
  }
 },
 "nbformat": 4,
 "nbformat_minor": 4
}
