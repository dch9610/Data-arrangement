{
 "cells": [
  {
   "cell_type": "markdown",
   "id": "8238b73f",
   "metadata": {},
   "source": [
    "### 조건부 확률\n",
    "- B가 주어졌을 때 사건 A의 조건부 확률 "
   ]
  },
  {
   "cell_type": "markdown",
   "id": "3552b747",
   "metadata": {},
   "source": [
    "### 베이즈 정리 종류\n",
    "- 가우시안 : 설명변수가 연속형인 경우\n",
    "- 다항분포 : 설명변수가 범주형인 경우\n",
    "- 베르누이 : 설명변수가 이분형인 경우\n",
    "\n"
   ]
  },
  {
   "cell_type": "markdown",
   "id": "18389b87",
   "metadata": {},
   "source": [
    "## 실습"
   ]
  },
  {
   "cell_type": "markdown",
   "id": "9eee3f58",
   "metadata": {},
   "source": [
    "### 1. 가우시안 나이브 베이즈"
   ]
  },
  {
   "cell_type": "markdown",
   "id": "4a5ef16d",
   "metadata": {},
   "source": [
    "데이터, 모듈 불러오기"
   ]
  },
  {
   "cell_type": "code",
   "execution_count": 1,
   "id": "36ea04a3",
   "metadata": {},
   "outputs": [],
   "source": [
    "from sklearn import datasets\n",
    "from sklearn.naive_bayes import GaussianNB\n",
    "import pandas as pd"
   ]
  },
  {
   "cell_type": "code",
   "execution_count": 4,
   "id": "82cac924",
   "metadata": {},
   "outputs": [],
   "source": [
    "iris = datasets.load_iris()\n",
    "df_X = pd.DataFrame(iris['data'])\n",
    "df_Y = pd.DataFrame(iris['target'])"
   ]
  },
  {
   "cell_type": "markdown",
   "id": "ab4f6d09",
   "metadata": {},
   "source": [
    "- 모델 피팅"
   ]
  },
  {
   "cell_type": "code",
   "execution_count": 18,
   "id": "4880ffaa",
   "metadata": {},
   "outputs": [],
   "source": [
    "gnb = GaussianNB()\n",
    "fitted = gnb.fit(iris.data, iris.target)\n",
    "y_pred = fitted.predict(iris.data)"
   ]
  },
  {
   "cell_type": "code",
   "execution_count": 19,
   "id": "193175e1",
   "metadata": {},
   "outputs": [
    {
     "data": {
      "text/plain": [
       "array([[  0.        , -38.72865809, -56.71097803],\n",
       "       [  0.        , -41.37603426, -59.01694707],\n",
       "       [  0.        , -38.76127568, -56.4811533 ],\n",
       "       [  0.        , -42.23775063, -58.80806896]])"
      ]
     },
     "execution_count": 19,
     "metadata": {},
     "output_type": "execute_result"
    }
   ],
   "source": [
    "# 1,2,3,4는 0일 나올 것이다.\n",
    "fitted.predict_log_proba(iris.data)[[1,2,3,4]]"
   ]
  },
  {
   "cell_type": "code",
   "execution_count": 21,
   "id": "6ec3de76",
   "metadata": {},
   "outputs": [
    {
     "data": {
      "text/plain": [
       "array([0, 0, 0, 0])"
      ]
     },
     "execution_count": 21,
     "metadata": {},
     "output_type": "execute_result"
    }
   ],
   "source": [
    "y_pred[[1,2,3,4]]"
   ]
  },
  {
   "cell_type": "markdown",
   "id": "21b1faca",
   "metadata": {},
   "source": [
    "- Confusion matrix 구하기"
   ]
  },
  {
   "cell_type": "code",
   "execution_count": 22,
   "id": "1200b78f",
   "metadata": {},
   "outputs": [],
   "source": [
    "from sklearn.metrics import confusion_matrix"
   ]
  },
  {
   "cell_type": "code",
   "execution_count": 25,
   "id": "8a9ba0d9",
   "metadata": {},
   "outputs": [
    {
     "data": {
      "text/plain": [
       "array([[50,  0,  0],\n",
       "       [ 0, 47,  3],\n",
       "       [ 0,  3, 47]], dtype=int64)"
      ]
     },
     "execution_count": 25,
     "metadata": {},
     "output_type": "execute_result"
    }
   ],
   "source": [
    "confusion_matrix(iris.target, y_pred)"
   ]
  },
  {
   "cell_type": "markdown",
   "id": "14bfb4fa",
   "metadata": {},
   "source": [
    "- Prior 설정하기\n",
    "    - 많이 나올꺼 같은 범주에 수치를 높게 주면 잘 맞춘다.?"
   ]
  },
  {
   "cell_type": "code",
   "execution_count": 29,
   "id": "2e3223eb",
   "metadata": {},
   "outputs": [
    {
     "data": {
      "text/plain": [
       "array([[50,  0,  0],\n",
       "       [ 0, 33, 17],\n",
       "       [ 0,  0, 50]], dtype=int64)"
      ]
     },
     "execution_count": 29,
     "metadata": {},
     "output_type": "execute_result"
    }
   ],
   "source": [
    "# 범주 수만큼 설정\n",
    "gnb2 = GaussianNB(priors = [1/100,1/100,98/100])\n",
    "fitted2 = gnb2.fit(iris.data, iris.target)\n",
    "y_pred2 = fitted2.predict(iris.data)\n",
    "confusion_matrix(iris.target, y_pred2)"
   ]
  },
  {
   "cell_type": "code",
   "execution_count": 30,
   "id": "03fe02f0",
   "metadata": {},
   "outputs": [
    {
     "data": {
      "text/plain": [
       "array([[50,  0,  0],\n",
       "       [ 0, 50,  0],\n",
       "       [ 0, 14, 36]], dtype=int64)"
      ]
     },
     "execution_count": 30,
     "metadata": {},
     "output_type": "execute_result"
    }
   ],
   "source": [
    "# 범주 수만큼 설정\n",
    "gnb2 = GaussianNB(priors = [1/100,98/100,1/100])\n",
    "fitted2 = gnb2.fit(iris.data, iris.target)\n",
    "y_pred2 = fitted2.predict(iris.data)\n",
    "confusion_matrix(iris.target, y_pred2)"
   ]
  },
  {
   "cell_type": "markdown",
   "id": "5b9ca1b5",
   "metadata": {},
   "source": [
    "### 2. 다항분포 나이브 베이즈"
   ]
  },
  {
   "cell_type": "code",
   "execution_count": 33,
   "id": "5439552b",
   "metadata": {},
   "outputs": [],
   "source": [
    "from sklearn.naive_bayes import MultinomialNB"
   ]
  },
  {
   "cell_type": "code",
   "execution_count": 34,
   "id": "ec47aae9",
   "metadata": {},
   "outputs": [],
   "source": [
    "import numpy as np"
   ]
  },
  {
   "cell_type": "code",
   "execution_count": 39,
   "id": "794a55e5",
   "metadata": {},
   "outputs": [],
   "source": [
    "# 0 ~ 4 까지 2차원 배열 생성 \n",
    "X = np.random.randint(5, size = (6,100))\n",
    "Y = np.array([1,2,3,4,5,6])"
   ]
  },
  {
   "cell_type": "markdown",
   "id": "689348e8",
   "metadata": {},
   "source": [
    "- 모델생성"
   ]
  },
  {
   "cell_type": "code",
   "execution_count": 44,
   "id": "d87ad990",
   "metadata": {},
   "outputs": [],
   "source": [
    "clf = MultinomialNB()\n",
    "clf_fitted = clf.fit(X,Y)"
   ]
  },
  {
   "cell_type": "code",
   "execution_count": 79,
   "id": "77c8deac",
   "metadata": {},
   "outputs": [
    {
     "data": {
      "text/plain": [
       "array([[-77.69047352, -98.61691664,   0.        , -75.51354133,\n",
       "        -76.61198072, -85.50130482]])"
      ]
     },
     "execution_count": 79,
     "metadata": {},
     "output_type": "execute_result"
    }
   ],
   "source": [
    "clf_fitted.predict_log_proba(X[[2]])"
   ]
  },
  {
   "cell_type": "markdown",
   "id": "322e054f",
   "metadata": {},
   "source": [
    "- proir 변경해보기"
   ]
  },
  {
   "cell_type": "code",
   "execution_count": 68,
   "id": "3943376b",
   "metadata": {},
   "outputs": [],
   "source": [
    "# prior의 값을 높게 준 쪽으로 값으로 나온다.\n",
    "clf2 = MultinomialNB(class_prior=[0.1,0.1,0.002,0.1,0.1,0.8])\n",
    "clf_fitted2 = clf2.fit(X,Y)"
   ]
  },
  {
   "cell_type": "code",
   "execution_count": 80,
   "id": "c922f101",
   "metadata": {},
   "outputs": [
    {
     "data": {
      "text/plain": [
       "array([[-73.77845051, -94.70489364,   0.        , -71.60151833,\n",
       "        -72.69995771, -79.50984028]])"
      ]
     },
     "execution_count": 80,
     "metadata": {},
     "output_type": "execute_result"
    }
   ],
   "source": [
    "clf_fitted2.predict_log_proba(X[[2]])"
   ]
  }
 ],
 "metadata": {
  "kernelspec": {
   "display_name": "Python 3",
   "language": "python",
   "name": "python3"
  },
  "language_info": {
   "codemirror_mode": {
    "name": "ipython",
    "version": 3
   },
   "file_extension": ".py",
   "mimetype": "text/x-python",
   "name": "python",
   "nbconvert_exporter": "python",
   "pygments_lexer": "ipython3",
   "version": "3.8.8"
  }
 },
 "nbformat": 4,
 "nbformat_minor": 5
}
