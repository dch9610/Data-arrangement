{
 "metadata": {
  "language_info": {
   "codemirror_mode": {
    "name": "ipython",
    "version": 3
   },
   "file_extension": ".py",
   "mimetype": "text/x-python",
   "name": "python",
   "nbconvert_exporter": "python",
   "pygments_lexer": "ipython3",
   "version": "3.7.6-final"
  },
  "orig_nbformat": 2,
  "kernelspec": {
   "name": "python3",
   "display_name": "Python 3",
   "language": "python"
  }
 },
 "nbformat": 4,
 "nbformat_minor": 2,
 "cells": [
  {
   "cell_type": "code",
   "execution_count": 1,
   "metadata": {},
   "outputs": [],
   "source": [
    "import pandas as pd\n",
    "import numpy as np\n",
    "import seaborn as sns\n",
    "\n",
    "from sklearn.datasets import load_boston, load_iris\n",
    "from sklearn.linear_model import LinearRegression,Ridge\n",
    "from sklearn.linear_model import Lasso, ElasticNet,SGDRegressor\n",
    "from sklearn.preprocessing import PolynomialFeatures\n",
    "from sklearn.pipeline import make_pipeline\n",
    "from sklearn.preprocessing import MinMaxScaler, StandardScaler\n",
    "\n",
    "\n",
    "from sklearn.model_selection import train_test_split\n",
    "from sklearn.model_selection import GridSearchCV\n",
    "from sklearn.model_selection import cross_val_score\n",
    "from sklearn.neural_network import MLPRegressor # 딥러닝 neural_network\n",
    "from sklearn.metrics import r2_score# 선형 모델(Linear Models)\n",
    "\n",
    "import mglearn\n",
    "import matplotlib.pyplot as plt\n",
    "import matplotlib\n",
    "matplotlib.rcParams['font.family']='Malgun Gothic'\n",
    "matplotlib.rcParams['axes.unicode_minus'] = False\n",
    "\n",
    "import warnings\n",
    "warnings.simplefilter('ignore')"
   ]
  },
  {
   "source": [
    "## 데이터 불러오기"
   ],
   "cell_type": "markdown",
   "metadata": {}
  },
  {
   "cell_type": "code",
   "execution_count": 2,
   "metadata": {},
   "outputs": [
    {
     "output_type": "execute_result",
     "data": {
      "text/plain": [
       "     가격    년식   종류    연비   마력    토크   연료  하이브리드   배기량    중량 변속기\n",
       "0  1885  2015  준중형  11.8  172  21.0  가솔린      0  1999  1300  자동\n",
       "1  2190  2015  준중형  12.3  204  27.0  가솔린      0  1591  1300  자동\n",
       "2  1135  2015   소형  15.0  100  13.6  가솔린      0  1368  1035  수동\n",
       "3  1645  2014   소형  14.0  140  17.0  가솔린      0  1591  1090  자동\n",
       "4  1960  2015   대형   9.6  175  46.0   디젤      0  2497  1990  자동"
      ],
      "text/html": "<div>\n<style scoped>\n    .dataframe tbody tr th:only-of-type {\n        vertical-align: middle;\n    }\n\n    .dataframe tbody tr th {\n        vertical-align: top;\n    }\n\n    .dataframe thead th {\n        text-align: right;\n    }\n</style>\n<table border=\"1\" class=\"dataframe\">\n  <thead>\n    <tr style=\"text-align: right;\">\n      <th></th>\n      <th>가격</th>\n      <th>년식</th>\n      <th>종류</th>\n      <th>연비</th>\n      <th>마력</th>\n      <th>토크</th>\n      <th>연료</th>\n      <th>하이브리드</th>\n      <th>배기량</th>\n      <th>중량</th>\n      <th>변속기</th>\n    </tr>\n  </thead>\n  <tbody>\n    <tr>\n      <th>0</th>\n      <td>1885</td>\n      <td>2015</td>\n      <td>준중형</td>\n      <td>11.8</td>\n      <td>172</td>\n      <td>21.0</td>\n      <td>가솔린</td>\n      <td>0</td>\n      <td>1999</td>\n      <td>1300</td>\n      <td>자동</td>\n    </tr>\n    <tr>\n      <th>1</th>\n      <td>2190</td>\n      <td>2015</td>\n      <td>준중형</td>\n      <td>12.3</td>\n      <td>204</td>\n      <td>27.0</td>\n      <td>가솔린</td>\n      <td>0</td>\n      <td>1591</td>\n      <td>1300</td>\n      <td>자동</td>\n    </tr>\n    <tr>\n      <th>2</th>\n      <td>1135</td>\n      <td>2015</td>\n      <td>소형</td>\n      <td>15.0</td>\n      <td>100</td>\n      <td>13.6</td>\n      <td>가솔린</td>\n      <td>0</td>\n      <td>1368</td>\n      <td>1035</td>\n      <td>수동</td>\n    </tr>\n    <tr>\n      <th>3</th>\n      <td>1645</td>\n      <td>2014</td>\n      <td>소형</td>\n      <td>14.0</td>\n      <td>140</td>\n      <td>17.0</td>\n      <td>가솔린</td>\n      <td>0</td>\n      <td>1591</td>\n      <td>1090</td>\n      <td>자동</td>\n    </tr>\n    <tr>\n      <th>4</th>\n      <td>1960</td>\n      <td>2015</td>\n      <td>대형</td>\n      <td>9.6</td>\n      <td>175</td>\n      <td>46.0</td>\n      <td>디젤</td>\n      <td>0</td>\n      <td>2497</td>\n      <td>1990</td>\n      <td>자동</td>\n    </tr>\n  </tbody>\n</table>\n</div>"
     },
     "metadata": {},
     "execution_count": 2
    }
   ],
   "source": [
    "train_df = pd.read_excel('../data/hyundaiCar.xlsx', sheet_name= 'train')\n",
    "train_df.head()"
   ]
  },
  {
   "cell_type": "code",
   "execution_count": 3,
   "metadata": {},
   "outputs": [
    {
     "output_type": "execute_result",
     "data": {
      "text/plain": [
       "     가격    년식  종류    연비   마력    토크   연료  하이브리드   배기량    중량 변속기\n",
       "0  1915  2015  대형   6.8  159  23.0  LPG      0  2359  1935  수동\n",
       "1  1164  2012  소형  13.3  108  13.9  가솔린      0  1396  1035  자동\n",
       "2  2817  2015  중형  14.4  184  41.0   디젤      0  1995  1792  자동\n",
       "3  2160  2015  대형  10.9  175  46.0   디젤      0  2497  2210  수동\n",
       "4  1915  2015  대형   6.4  159  23.0  LPG      0  2359  1935  자동"
      ],
      "text/html": "<div>\n<style scoped>\n    .dataframe tbody tr th:only-of-type {\n        vertical-align: middle;\n    }\n\n    .dataframe tbody tr th {\n        vertical-align: top;\n    }\n\n    .dataframe thead th {\n        text-align: right;\n    }\n</style>\n<table border=\"1\" class=\"dataframe\">\n  <thead>\n    <tr style=\"text-align: right;\">\n      <th></th>\n      <th>가격</th>\n      <th>년식</th>\n      <th>종류</th>\n      <th>연비</th>\n      <th>마력</th>\n      <th>토크</th>\n      <th>연료</th>\n      <th>하이브리드</th>\n      <th>배기량</th>\n      <th>중량</th>\n      <th>변속기</th>\n    </tr>\n  </thead>\n  <tbody>\n    <tr>\n      <th>0</th>\n      <td>1915</td>\n      <td>2015</td>\n      <td>대형</td>\n      <td>6.8</td>\n      <td>159</td>\n      <td>23.0</td>\n      <td>LPG</td>\n      <td>0</td>\n      <td>2359</td>\n      <td>1935</td>\n      <td>수동</td>\n    </tr>\n    <tr>\n      <th>1</th>\n      <td>1164</td>\n      <td>2012</td>\n      <td>소형</td>\n      <td>13.3</td>\n      <td>108</td>\n      <td>13.9</td>\n      <td>가솔린</td>\n      <td>0</td>\n      <td>1396</td>\n      <td>1035</td>\n      <td>자동</td>\n    </tr>\n    <tr>\n      <th>2</th>\n      <td>2817</td>\n      <td>2015</td>\n      <td>중형</td>\n      <td>14.4</td>\n      <td>184</td>\n      <td>41.0</td>\n      <td>디젤</td>\n      <td>0</td>\n      <td>1995</td>\n      <td>1792</td>\n      <td>자동</td>\n    </tr>\n    <tr>\n      <th>3</th>\n      <td>2160</td>\n      <td>2015</td>\n      <td>대형</td>\n      <td>10.9</td>\n      <td>175</td>\n      <td>46.0</td>\n      <td>디젤</td>\n      <td>0</td>\n      <td>2497</td>\n      <td>2210</td>\n      <td>수동</td>\n    </tr>\n    <tr>\n      <th>4</th>\n      <td>1915</td>\n      <td>2015</td>\n      <td>대형</td>\n      <td>6.4</td>\n      <td>159</td>\n      <td>23.0</td>\n      <td>LPG</td>\n      <td>0</td>\n      <td>2359</td>\n      <td>1935</td>\n      <td>자동</td>\n    </tr>\n  </tbody>\n</table>\n</div>"
     },
     "metadata": {},
     "execution_count": 3
    }
   ],
   "source": [
    "test_df = pd.read_excel('../data/hyundaiCar.xlsx', sheet_name='test')\n",
    "test_df.head()"
   ]
  },
  {
   "source": [
    "## 가격을 라벨데이터로 지정"
   ],
   "cell_type": "markdown",
   "metadata": {}
  },
  {
   "cell_type": "code",
   "execution_count": 4,
   "metadata": {},
   "outputs": [
    {
     "output_type": "stream",
     "name": "stdout",
     "text": [
      "(71, 10) (71,)\n"
     ]
    }
   ],
   "source": [
    "x_train = train_df.iloc[:,1:]\n",
    "y_train = train_df['가격']\n",
    "\n",
    "print(x_train.shape, y_train.shape)"
   ]
  },
  {
   "cell_type": "code",
   "execution_count": 5,
   "metadata": {},
   "outputs": [
    {
     "output_type": "stream",
     "name": "stdout",
     "text": [
      "(31, 10) (31,)\n"
     ]
    }
   ],
   "source": [
    "x_test = test_df.iloc[:,1:]\n",
    "y_test = test_df['가격']\n",
    "\n",
    "print(x_test.shape, y_test.shape)"
   ]
  },
  {
   "source": [
    "## 문자열 Encoding\n",
    "- Label Encoding\n",
    "- OneHot Encoding"
   ],
   "cell_type": "markdown",
   "metadata": {}
  },
  {
   "cell_type": "code",
   "execution_count": 6,
   "metadata": {},
   "outputs": [],
   "source": [
    "from sklearn.preprocessing import OneHotEncoder,LabelEncoder"
   ]
  },
  {
   "cell_type": "code",
   "execution_count": 7,
   "metadata": {},
   "outputs": [
    {
     "output_type": "stream",
     "name": "stdout",
     "text": [
      "<class 'pandas.core.frame.DataFrame'>\nRangeIndex: 71 entries, 0 to 70\nData columns (total 10 columns):\n #   Column  Non-Null Count  Dtype  \n---  ------  --------------  -----  \n 0   년식      71 non-null     int64  \n 1   종류      71 non-null     object \n 2   연비      71 non-null     float64\n 3   마력      71 non-null     int64  \n 4   토크      71 non-null     float64\n 5   연료      71 non-null     object \n 6   하이브리드   71 non-null     int64  \n 7   배기량     71 non-null     int64  \n 8   중량      71 non-null     int64  \n 9   변속기     71 non-null     object \ndtypes: float64(2), int64(5), object(3)\nmemory usage: 4.8+ KB\n"
     ]
    }
   ],
   "source": [
    "x_train.info()"
   ]
  },
  {
   "source": [
    "### Label_Encoder"
   ],
   "cell_type": "markdown",
   "metadata": {}
  },
  {
   "cell_type": "code",
   "execution_count": 8,
   "metadata": {},
   "outputs": [
    {
     "output_type": "execute_result",
     "data": {
      "text/plain": [
       "array([2, 2, 1, 1, 0, 3, 3, 1, 3, 1, 2, 3, 2, 0, 1, 0, 0, 0, 3, 0, 0, 3,\n",
       "       2, 0, 3, 3, 3, 1, 1, 2, 0, 0, 0, 0, 1, 0, 2, 0, 2, 1, 1, 1, 0, 0,\n",
       "       0, 2, 1, 0, 2, 1, 3, 3, 0, 2, 2, 0, 3, 2, 0, 0, 2, 0, 1, 0, 0, 1,\n",
       "       3, 1, 2, 3, 0])"
      ]
     },
     "metadata": {},
     "execution_count": 8
    }
   ],
   "source": [
    "lbl = LabelEncoder()\n",
    "x_trainLabel = lbl.fit_transform(x_train['종류'])\n",
    "x_trainLabel"
   ]
  },
  {
   "cell_type": "code",
   "execution_count": 9,
   "metadata": {},
   "outputs": [
    {
     "output_type": "stream",
     "name": "stdout",
     "text": [
      "['대형' '소형' '준중형' '중형']\n[0 1 2 3]\n"
     ]
    }
   ],
   "source": [
    "# 순서대로 인코딩됨\n",
    "# ex) 대형 : 0, 소형 : 1, ...\n",
    "\n",
    "print(lbl.classes_)\n",
    "print(lbl.transform(['대형', '소형', '준중형', '중형']))"
   ]
  },
  {
   "source": [
    "### OneHot_Encoder\n",
    "- 0과 1로만 인코딩"
   ],
   "cell_type": "markdown",
   "metadata": {}
  },
  {
   "cell_type": "code",
   "execution_count": 10,
   "metadata": {},
   "outputs": [
    {
     "output_type": "execute_result",
     "data": {
      "text/plain": [
       "<71x4 sparse matrix of type '<class 'numpy.float64'>'\n",
       "\twith 71 stored elements in Compressed Sparse Row format>"
      ]
     },
     "metadata": {},
     "execution_count": 10
    }
   ],
   "source": [
    "oneH = OneHotEncoder()\n",
    "x_trainOne = oneH.fit_transform(x_train['종류'].values.reshape(-1,1))\n",
    "x_trainOne"
   ]
  },
  {
   "cell_type": "code",
   "execution_count": 11,
   "metadata": {},
   "outputs": [
    {
     "output_type": "stream",
     "name": "stdout",
     "text": [
      "[array(['대형', '소형', '준중형', '중형'], dtype=object)]\n[[0. 0. 1. 0.]\n [0. 0. 1. 0.]\n [0. 1. 0. 0.]\n [0. 1. 0. 0.]\n [1. 0. 0. 0.]]\n"
     ]
    }
   ],
   "source": [
    "# ex) 대형    [1. 0. 0. 0.], 소형 [0. 1. 0. 0.]\n",
    "#     준중형  [0. 0. 1. 0.],  중형 [0. 0. 0. 1.]\n",
    "print(oneH.categories_)\n",
    "print(x_trainOne.toarray()[:5])"
   ]
  },
  {
   "source": [
    "## 판다스 dummy\n",
    "- 문자로 되어있는 데이터를 숫자로 만들어줌"
   ],
   "cell_type": "markdown",
   "metadata": {}
  },
  {
   "cell_type": "code",
   "execution_count": 12,
   "metadata": {},
   "outputs": [
    {
     "output_type": "execute_result",
     "data": {
      "text/plain": [
       "   대형  소형  준중형  중형\n",
       "0   0   0    1   0\n",
       "1   0   0    1   0\n",
       "2   0   1    0   0\n",
       "3   0   1    0   0\n",
       "4   1   0    0   0"
      ],
      "text/html": "<div>\n<style scoped>\n    .dataframe tbody tr th:only-of-type {\n        vertical-align: middle;\n    }\n\n    .dataframe tbody tr th {\n        vertical-align: top;\n    }\n\n    .dataframe thead th {\n        text-align: right;\n    }\n</style>\n<table border=\"1\" class=\"dataframe\">\n  <thead>\n    <tr style=\"text-align: right;\">\n      <th></th>\n      <th>대형</th>\n      <th>소형</th>\n      <th>준중형</th>\n      <th>중형</th>\n    </tr>\n  </thead>\n  <tbody>\n    <tr>\n      <th>0</th>\n      <td>0</td>\n      <td>0</td>\n      <td>1</td>\n      <td>0</td>\n    </tr>\n    <tr>\n      <th>1</th>\n      <td>0</td>\n      <td>0</td>\n      <td>1</td>\n      <td>0</td>\n    </tr>\n    <tr>\n      <th>2</th>\n      <td>0</td>\n      <td>1</td>\n      <td>0</td>\n      <td>0</td>\n    </tr>\n    <tr>\n      <th>3</th>\n      <td>0</td>\n      <td>1</td>\n      <td>0</td>\n      <td>0</td>\n    </tr>\n    <tr>\n      <th>4</th>\n      <td>1</td>\n      <td>0</td>\n      <td>0</td>\n      <td>0</td>\n    </tr>\n  </tbody>\n</table>\n</div>"
     },
     "metadata": {},
     "execution_count": 12
    }
   ],
   "source": [
    "pd.get_dummies(x_train['종류']).head()"
   ]
  },
  {
   "cell_type": "code",
   "execution_count": 13,
   "metadata": {},
   "outputs": [
    {
     "output_type": "execute_result",
     "data": {
      "text/plain": [
       "     년식    연비   마력    토크  하이브리드   배기량    중량  종류_대형  종류_소형  종류_준중형  종류_중형  \\\n",
       "0  2015  11.8  172  21.0      0  1999  1300      0      0       1      0   \n",
       "1  2015  12.3  204  27.0      0  1591  1300      0      0       1      0   \n",
       "2  2015  15.0  100  13.6      0  1368  1035      0      1       0      0   \n",
       "3  2014  14.0  140  17.0      0  1591  1090      0      1       0      0   \n",
       "4  2015   9.6  175  46.0      0  2497  1990      1      0       0      0   \n",
       "\n",
       "   연료_LPG  연료_가솔린  연료_디젤  변속기_수동  변속기_자동  \n",
       "0       0       1      0       0       1  \n",
       "1       0       1      0       0       1  \n",
       "2       0       1      0       1       0  \n",
       "3       0       1      0       0       1  \n",
       "4       0       0      1       0       1  "
      ],
      "text/html": "<div>\n<style scoped>\n    .dataframe tbody tr th:only-of-type {\n        vertical-align: middle;\n    }\n\n    .dataframe tbody tr th {\n        vertical-align: top;\n    }\n\n    .dataframe thead th {\n        text-align: right;\n    }\n</style>\n<table border=\"1\" class=\"dataframe\">\n  <thead>\n    <tr style=\"text-align: right;\">\n      <th></th>\n      <th>년식</th>\n      <th>연비</th>\n      <th>마력</th>\n      <th>토크</th>\n      <th>하이브리드</th>\n      <th>배기량</th>\n      <th>중량</th>\n      <th>종류_대형</th>\n      <th>종류_소형</th>\n      <th>종류_준중형</th>\n      <th>종류_중형</th>\n      <th>연료_LPG</th>\n      <th>연료_가솔린</th>\n      <th>연료_디젤</th>\n      <th>변속기_수동</th>\n      <th>변속기_자동</th>\n    </tr>\n  </thead>\n  <tbody>\n    <tr>\n      <th>0</th>\n      <td>2015</td>\n      <td>11.8</td>\n      <td>172</td>\n      <td>21.0</td>\n      <td>0</td>\n      <td>1999</td>\n      <td>1300</td>\n      <td>0</td>\n      <td>0</td>\n      <td>1</td>\n      <td>0</td>\n      <td>0</td>\n      <td>1</td>\n      <td>0</td>\n      <td>0</td>\n      <td>1</td>\n    </tr>\n    <tr>\n      <th>1</th>\n      <td>2015</td>\n      <td>12.3</td>\n      <td>204</td>\n      <td>27.0</td>\n      <td>0</td>\n      <td>1591</td>\n      <td>1300</td>\n      <td>0</td>\n      <td>0</td>\n      <td>1</td>\n      <td>0</td>\n      <td>0</td>\n      <td>1</td>\n      <td>0</td>\n      <td>0</td>\n      <td>1</td>\n    </tr>\n    <tr>\n      <th>2</th>\n      <td>2015</td>\n      <td>15.0</td>\n      <td>100</td>\n      <td>13.6</td>\n      <td>0</td>\n      <td>1368</td>\n      <td>1035</td>\n      <td>0</td>\n      <td>1</td>\n      <td>0</td>\n      <td>0</td>\n      <td>0</td>\n      <td>1</td>\n      <td>0</td>\n      <td>1</td>\n      <td>0</td>\n    </tr>\n    <tr>\n      <th>3</th>\n      <td>2014</td>\n      <td>14.0</td>\n      <td>140</td>\n      <td>17.0</td>\n      <td>0</td>\n      <td>1591</td>\n      <td>1090</td>\n      <td>0</td>\n      <td>1</td>\n      <td>0</td>\n      <td>0</td>\n      <td>0</td>\n      <td>1</td>\n      <td>0</td>\n      <td>0</td>\n      <td>1</td>\n    </tr>\n    <tr>\n      <th>4</th>\n      <td>2015</td>\n      <td>9.6</td>\n      <td>175</td>\n      <td>46.0</td>\n      <td>0</td>\n      <td>2497</td>\n      <td>1990</td>\n      <td>1</td>\n      <td>0</td>\n      <td>0</td>\n      <td>0</td>\n      <td>0</td>\n      <td>0</td>\n      <td>1</td>\n      <td>0</td>\n      <td>1</td>\n    </tr>\n  </tbody>\n</table>\n</div>"
     },
     "metadata": {},
     "execution_count": 13
    }
   ],
   "source": [
    "pd.get_dummies(x_train).head()"
   ]
  },
  {
   "cell_type": "code",
   "execution_count": 14,
   "metadata": {},
   "outputs": [
    {
     "output_type": "execute_result",
     "data": {
      "text/plain": [
       "     년식   종류    연비   마력    토크  하이브리드   배기량    중량  연료_LPG  연료_가솔린  연료_디젤  \\\n",
       "0  2015  준중형  11.8  172  21.0      0  1999  1300       0       1      0   \n",
       "1  2015  준중형  12.3  204  27.0      0  1591  1300       0       1      0   \n",
       "2  2015   소형  15.0  100  13.6      0  1368  1035       0       1      0   \n",
       "3  2014   소형  14.0  140  17.0      0  1591  1090       0       1      0   \n",
       "4  2015   대형   9.6  175  46.0      0  2497  1990       0       0      1   \n",
       "\n",
       "   변속기_수동  변속기_자동  \n",
       "0       0       1  \n",
       "1       0       1  \n",
       "2       1       0  \n",
       "3       0       1  \n",
       "4       0       1  "
      ],
      "text/html": "<div>\n<style scoped>\n    .dataframe tbody tr th:only-of-type {\n        vertical-align: middle;\n    }\n\n    .dataframe tbody tr th {\n        vertical-align: top;\n    }\n\n    .dataframe thead th {\n        text-align: right;\n    }\n</style>\n<table border=\"1\" class=\"dataframe\">\n  <thead>\n    <tr style=\"text-align: right;\">\n      <th></th>\n      <th>년식</th>\n      <th>종류</th>\n      <th>연비</th>\n      <th>마력</th>\n      <th>토크</th>\n      <th>하이브리드</th>\n      <th>배기량</th>\n      <th>중량</th>\n      <th>연료_LPG</th>\n      <th>연료_가솔린</th>\n      <th>연료_디젤</th>\n      <th>변속기_수동</th>\n      <th>변속기_자동</th>\n    </tr>\n  </thead>\n  <tbody>\n    <tr>\n      <th>0</th>\n      <td>2015</td>\n      <td>준중형</td>\n      <td>11.8</td>\n      <td>172</td>\n      <td>21.0</td>\n      <td>0</td>\n      <td>1999</td>\n      <td>1300</td>\n      <td>0</td>\n      <td>1</td>\n      <td>0</td>\n      <td>0</td>\n      <td>1</td>\n    </tr>\n    <tr>\n      <th>1</th>\n      <td>2015</td>\n      <td>준중형</td>\n      <td>12.3</td>\n      <td>204</td>\n      <td>27.0</td>\n      <td>0</td>\n      <td>1591</td>\n      <td>1300</td>\n      <td>0</td>\n      <td>1</td>\n      <td>0</td>\n      <td>0</td>\n      <td>1</td>\n    </tr>\n    <tr>\n      <th>2</th>\n      <td>2015</td>\n      <td>소형</td>\n      <td>15.0</td>\n      <td>100</td>\n      <td>13.6</td>\n      <td>0</td>\n      <td>1368</td>\n      <td>1035</td>\n      <td>0</td>\n      <td>1</td>\n      <td>0</td>\n      <td>1</td>\n      <td>0</td>\n    </tr>\n    <tr>\n      <th>3</th>\n      <td>2014</td>\n      <td>소형</td>\n      <td>14.0</td>\n      <td>140</td>\n      <td>17.0</td>\n      <td>0</td>\n      <td>1591</td>\n      <td>1090</td>\n      <td>0</td>\n      <td>1</td>\n      <td>0</td>\n      <td>0</td>\n      <td>1</td>\n    </tr>\n    <tr>\n      <th>4</th>\n      <td>2015</td>\n      <td>대형</td>\n      <td>9.6</td>\n      <td>175</td>\n      <td>46.0</td>\n      <td>0</td>\n      <td>2497</td>\n      <td>1990</td>\n      <td>0</td>\n      <td>0</td>\n      <td>1</td>\n      <td>0</td>\n      <td>1</td>\n    </tr>\n  </tbody>\n</table>\n</div>"
     },
     "metadata": {},
     "execution_count": 14
    }
   ],
   "source": [
    "# 특정컬럼만 지정가능\n",
    "pd.get_dummies(x_train, columns=['연료','변속기']).head()"
   ]
  },
  {
   "cell_type": "code",
   "execution_count": 15,
   "metadata": {},
   "outputs": [
    {
     "output_type": "execute_result",
     "data": {
      "text/plain": [
       "     년식   종류    연비   마력    토크  하이브리드   배기량    중량  연료_LPG  연료_가솔린  연료_디젤  \\\n",
       "0  2015  준중형  11.8  172  21.0      0  1999  1300       0       1      0   \n",
       "1  2015  준중형  12.3  204  27.0      0  1591  1300       0       1      0   \n",
       "2  2015   소형  15.0  100  13.6      0  1368  1035       0       1      0   \n",
       "3  2014   소형  14.0  140  17.0      0  1591  1090       0       1      0   \n",
       "4  2015   대형   9.6  175  46.0      0  2497  1990       0       0      1   \n",
       "\n",
       "   변속기_수동  변속기_자동  \n",
       "0       0       1  \n",
       "1       0       1  \n",
       "2       1       0  \n",
       "3       0       1  \n",
       "4       0       1  "
      ],
      "text/html": "<div>\n<style scoped>\n    .dataframe tbody tr th:only-of-type {\n        vertical-align: middle;\n    }\n\n    .dataframe tbody tr th {\n        vertical-align: top;\n    }\n\n    .dataframe thead th {\n        text-align: right;\n    }\n</style>\n<table border=\"1\" class=\"dataframe\">\n  <thead>\n    <tr style=\"text-align: right;\">\n      <th></th>\n      <th>년식</th>\n      <th>종류</th>\n      <th>연비</th>\n      <th>마력</th>\n      <th>토크</th>\n      <th>하이브리드</th>\n      <th>배기량</th>\n      <th>중량</th>\n      <th>연료_LPG</th>\n      <th>연료_가솔린</th>\n      <th>연료_디젤</th>\n      <th>변속기_수동</th>\n      <th>변속기_자동</th>\n    </tr>\n  </thead>\n  <tbody>\n    <tr>\n      <th>0</th>\n      <td>2015</td>\n      <td>준중형</td>\n      <td>11.8</td>\n      <td>172</td>\n      <td>21.0</td>\n      <td>0</td>\n      <td>1999</td>\n      <td>1300</td>\n      <td>0</td>\n      <td>1</td>\n      <td>0</td>\n      <td>0</td>\n      <td>1</td>\n    </tr>\n    <tr>\n      <th>1</th>\n      <td>2015</td>\n      <td>준중형</td>\n      <td>12.3</td>\n      <td>204</td>\n      <td>27.0</td>\n      <td>0</td>\n      <td>1591</td>\n      <td>1300</td>\n      <td>0</td>\n      <td>1</td>\n      <td>0</td>\n      <td>0</td>\n      <td>1</td>\n    </tr>\n    <tr>\n      <th>2</th>\n      <td>2015</td>\n      <td>소형</td>\n      <td>15.0</td>\n      <td>100</td>\n      <td>13.6</td>\n      <td>0</td>\n      <td>1368</td>\n      <td>1035</td>\n      <td>0</td>\n      <td>1</td>\n      <td>0</td>\n      <td>1</td>\n      <td>0</td>\n    </tr>\n    <tr>\n      <th>3</th>\n      <td>2014</td>\n      <td>소형</td>\n      <td>14.0</td>\n      <td>140</td>\n      <td>17.0</td>\n      <td>0</td>\n      <td>1591</td>\n      <td>1090</td>\n      <td>0</td>\n      <td>1</td>\n      <td>0</td>\n      <td>0</td>\n      <td>1</td>\n    </tr>\n    <tr>\n      <th>4</th>\n      <td>2015</td>\n      <td>대형</td>\n      <td>9.6</td>\n      <td>175</td>\n      <td>46.0</td>\n      <td>0</td>\n      <td>2497</td>\n      <td>1990</td>\n      <td>0</td>\n      <td>0</td>\n      <td>1</td>\n      <td>0</td>\n      <td>1</td>\n    </tr>\n  </tbody>\n</table>\n</div>"
     },
     "metadata": {},
     "execution_count": 15
    }
   ],
   "source": [
    "pd.get_dummies(x_train, columns=['연료','변속기'], sparse=True).head()"
   ]
  },
  {
   "source": [
    "## Repalce"
   ],
   "cell_type": "markdown",
   "metadata": {}
  },
  {
   "cell_type": "code",
   "execution_count": 16,
   "metadata": {},
   "outputs": [
    {
     "output_type": "execute_result",
     "data": {
      "text/plain": [
       "0    2\n",
       "1    2\n",
       "2    3\n",
       "3    3\n",
       "4    0\n",
       "Name: 종류, dtype: int64"
      ]
     },
     "metadata": {},
     "execution_count": 16
    }
   ],
   "source": [
    "x_train['종류'].replace(['대형', '중형', '준중형', '소형'],\n",
    "                        [0,1,2,3]).head()"
   ]
  },
  {
   "source": [
    "## Make_Column_Transformer"
   ],
   "cell_type": "markdown",
   "metadata": {}
  },
  {
   "source": [
    "from sklearn.compose import make_column_transformer"
   ],
   "cell_type": "code",
   "metadata": {},
   "execution_count": 17,
   "outputs": []
  },
  {
   "cell_type": "code",
   "execution_count": 18,
   "metadata": {},
   "outputs": [
    {
     "output_type": "stream",
     "name": "stdout",
     "text": [
      "<class 'pandas.core.frame.DataFrame'>\nRangeIndex: 71 entries, 0 to 70\nData columns (total 10 columns):\n #   Column  Non-Null Count  Dtype  \n---  ------  --------------  -----  \n 0   년식      71 non-null     int64  \n 1   종류      71 non-null     object \n 2   연비      71 non-null     float64\n 3   마력      71 non-null     int64  \n 4   토크      71 non-null     float64\n 5   연료      71 non-null     object \n 6   하이브리드   71 non-null     int64  \n 7   배기량     71 non-null     int64  \n 8   중량      71 non-null     int64  \n 9   변속기     71 non-null     object \ndtypes: float64(2), int64(5), object(3)\nmemory usage: 4.8+ KB\n"
     ]
    }
   ],
   "source": [
    "x_train.info()"
   ]
  },
  {
   "cell_type": "code",
   "execution_count": 19,
   "metadata": {},
   "outputs": [],
   "source": [
    "myt = make_column_transformer( (OneHotEncoder(), ['종류','연료','변속기']) )"
   ]
  },
  {
   "cell_type": "code",
   "execution_count": 20,
   "metadata": {},
   "outputs": [
    {
     "output_type": "execute_result",
     "data": {
      "text/plain": [
       "array([[0., 0., 1., 0., 0., 1., 0., 0., 1.],\n",
       "       [0., 0., 1., 0., 0., 1., 0., 0., 1.],\n",
       "       [0., 1., 0., 0., 0., 1., 0., 1., 0.],\n",
       "       [0., 1., 0., 0., 0., 1., 0., 0., 1.],\n",
       "       [1., 0., 0., 0., 0., 0., 1., 0., 1.]])"
      ]
     },
     "metadata": {},
     "execution_count": 20
    }
   ],
   "source": [
    "# 종류 4개    , 연료 3개, 변속기 2개\n",
    "# [0, 0, 1, 0,  0, 0, 1,  0, 1]\n",
    "result = myt.fit_transform(x_train)\n",
    "result[:5]"
   ]
  },
  {
   "source": [
    "## 학습"
   ],
   "cell_type": "markdown",
   "metadata": {}
  },
  {
   "cell_type": "code",
   "execution_count": 21,
   "metadata": {},
   "outputs": [],
   "source": [
    "# model = make_pipeline(myt, Ridge(alpha=1))\n",
    "# gridS.fit(x_train, y_train)"
   ]
  },
  {
   "cell_type": "code",
   "execution_count": 24,
   "metadata": {},
   "outputs": [
    {
     "output_type": "stream",
     "name": "stdout",
     "text": [
      "{'ridge__alpha': 17}\n0.32523885169886174\n"
     ]
    }
   ],
   "source": [
    "model = make_pipeline(myt, StandardScaler(), Ridge())\n",
    "\n",
    "# 최적의 파라미터를 찾기 위해 GridSearch 사용\n",
    "# 모델__파라미터 : 해당 모델에 파라미터이다. ex) ridge_alpha\n",
    "param_value = {'ridge__alpha':[i for i in range(-100,100)]}\n",
    "gridS = GridSearchCV(model, param_grid=param_value, scoring='r2')\n",
    "gridS.fit(x_train, y_train)\n",
    "\n",
    "print(gridS.best_params_)\n",
    "print(gridS.best_score_)"
   ]
  },
  {
   "cell_type": "code",
   "execution_count": 25,
   "metadata": {},
   "outputs": [
    {
     "output_type": "execute_result",
     "data": {
      "text/plain": [
       "array([1949.12313244, 1803.10780468, 2740.1113921 , 2561.48761855,\n",
       "       2526.03150809, 1265.69806703, 1538.10595615, 2561.48761855,\n",
       "       2115.0143318 , 2075.5156938 , 3277.52112975, 3277.52112975,\n",
       "       1265.69806703, 2115.0143318 , 3675.80573186,  688.78969137,\n",
       "       1538.10595615, 1803.10780468, 1803.10780468, 2075.5156938 ,\n",
       "       1226.19942903, 2075.5156938 , 3675.80573186, 2652.42406946,\n",
       "       2652.42406946, 2652.42406946, 3675.80573186, 2561.48761855,\n",
       "       3138.3959942 , 1803.10780468, 2163.20301645])"
      ]
     },
     "metadata": {},
     "execution_count": 25
    }
   ],
   "source": [
    "# 예측값을 그대로 줘도 가능 gridS를 통해 변환과 정규화를 진행\n",
    "gridS.best_estimator_.predict(x_test)"
   ]
  },
  {
   "cell_type": "code",
   "execution_count": 33,
   "metadata": {},
   "outputs": [
    {
     "output_type": "execute_result",
     "data": {
      "text/plain": [
       "array([1949.12313244])"
      ]
     },
     "metadata": {},
     "execution_count": 33
    }
   ],
   "source": [
    "a = [2015,'대형',6.8,159,23,'LPG',0,2359,1935,'수동']\n",
    "b = pd.DataFrame(a).T\n",
    "x_train.iloc[0:1]\n",
    "b.columns = x_train.columns # 문자열변환이 인식할수 있게끔 컬럼설정\n",
    "gridS.predict(b)"
   ]
  }
 ]
}